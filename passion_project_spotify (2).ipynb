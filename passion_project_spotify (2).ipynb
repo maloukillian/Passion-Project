{
 "cells": [
  {
   "cell_type": "code",
   "execution_count": 91,
   "id": "79fd8154-d48f-4a7e-b088-781f36f9a26e",
   "metadata": {},
   "outputs": [
    {
     "data": {
      "text/html": [
       "<div>\n",
       "<style scoped>\n",
       "    .dataframe tbody tr th:only-of-type {\n",
       "        vertical-align: middle;\n",
       "    }\n",
       "\n",
       "    .dataframe tbody tr th {\n",
       "        vertical-align: top;\n",
       "    }\n",
       "\n",
       "    .dataframe thead th {\n",
       "        text-align: right;\n",
       "    }\n",
       "</style>\n",
       "<table border=\"1\" class=\"dataframe\">\n",
       "  <thead>\n",
       "    <tr style=\"text-align: right;\">\n",
       "      <th></th>\n",
       "      <th>track_name</th>\n",
       "      <th>artist(s)_name</th>\n",
       "      <th>artist_count</th>\n",
       "      <th>released_year</th>\n",
       "      <th>released_month</th>\n",
       "      <th>released_day</th>\n",
       "      <th>in_spotify_playlists</th>\n",
       "      <th>in_spotify_charts</th>\n",
       "      <th>streams</th>\n",
       "      <th>in_apple_playlists</th>\n",
       "      <th>...</th>\n",
       "      <th>bpm</th>\n",
       "      <th>key</th>\n",
       "      <th>mode</th>\n",
       "      <th>danceability_%</th>\n",
       "      <th>valence_%</th>\n",
       "      <th>energy_%</th>\n",
       "      <th>acousticness_%</th>\n",
       "      <th>instrumentalness_%</th>\n",
       "      <th>liveness_%</th>\n",
       "      <th>speechiness_%</th>\n",
       "    </tr>\n",
       "  </thead>\n",
       "  <tbody>\n",
       "    <tr>\n",
       "      <th>0</th>\n",
       "      <td>Seven (feat. Latto) (Explicit Ver.)</td>\n",
       "      <td>Latto, Jung Kook</td>\n",
       "      <td>2</td>\n",
       "      <td>2023</td>\n",
       "      <td>7</td>\n",
       "      <td>14</td>\n",
       "      <td>553</td>\n",
       "      <td>147</td>\n",
       "      <td>141381703</td>\n",
       "      <td>43</td>\n",
       "      <td>...</td>\n",
       "      <td>125</td>\n",
       "      <td>B</td>\n",
       "      <td>Major</td>\n",
       "      <td>80</td>\n",
       "      <td>89</td>\n",
       "      <td>83</td>\n",
       "      <td>31</td>\n",
       "      <td>0</td>\n",
       "      <td>8</td>\n",
       "      <td>4</td>\n",
       "    </tr>\n",
       "    <tr>\n",
       "      <th>1</th>\n",
       "      <td>LALA</td>\n",
       "      <td>Myke Towers</td>\n",
       "      <td>1</td>\n",
       "      <td>2023</td>\n",
       "      <td>3</td>\n",
       "      <td>23</td>\n",
       "      <td>1474</td>\n",
       "      <td>48</td>\n",
       "      <td>133716286</td>\n",
       "      <td>48</td>\n",
       "      <td>...</td>\n",
       "      <td>92</td>\n",
       "      <td>C#</td>\n",
       "      <td>Major</td>\n",
       "      <td>71</td>\n",
       "      <td>61</td>\n",
       "      <td>74</td>\n",
       "      <td>7</td>\n",
       "      <td>0</td>\n",
       "      <td>10</td>\n",
       "      <td>4</td>\n",
       "    </tr>\n",
       "    <tr>\n",
       "      <th>2</th>\n",
       "      <td>vampire</td>\n",
       "      <td>Olivia Rodrigo</td>\n",
       "      <td>1</td>\n",
       "      <td>2023</td>\n",
       "      <td>6</td>\n",
       "      <td>30</td>\n",
       "      <td>1397</td>\n",
       "      <td>113</td>\n",
       "      <td>140003974</td>\n",
       "      <td>94</td>\n",
       "      <td>...</td>\n",
       "      <td>138</td>\n",
       "      <td>F</td>\n",
       "      <td>Major</td>\n",
       "      <td>51</td>\n",
       "      <td>32</td>\n",
       "      <td>53</td>\n",
       "      <td>17</td>\n",
       "      <td>0</td>\n",
       "      <td>31</td>\n",
       "      <td>6</td>\n",
       "    </tr>\n",
       "    <tr>\n",
       "      <th>3</th>\n",
       "      <td>Cruel Summer</td>\n",
       "      <td>Taylor Swift</td>\n",
       "      <td>1</td>\n",
       "      <td>2019</td>\n",
       "      <td>8</td>\n",
       "      <td>23</td>\n",
       "      <td>7858</td>\n",
       "      <td>100</td>\n",
       "      <td>800840817</td>\n",
       "      <td>116</td>\n",
       "      <td>...</td>\n",
       "      <td>170</td>\n",
       "      <td>A</td>\n",
       "      <td>Major</td>\n",
       "      <td>55</td>\n",
       "      <td>58</td>\n",
       "      <td>72</td>\n",
       "      <td>11</td>\n",
       "      <td>0</td>\n",
       "      <td>11</td>\n",
       "      <td>15</td>\n",
       "    </tr>\n",
       "    <tr>\n",
       "      <th>4</th>\n",
       "      <td>WHERE SHE GOES</td>\n",
       "      <td>Bad Bunny</td>\n",
       "      <td>1</td>\n",
       "      <td>2023</td>\n",
       "      <td>5</td>\n",
       "      <td>18</td>\n",
       "      <td>3133</td>\n",
       "      <td>50</td>\n",
       "      <td>303236322</td>\n",
       "      <td>84</td>\n",
       "      <td>...</td>\n",
       "      <td>144</td>\n",
       "      <td>A</td>\n",
       "      <td>Minor</td>\n",
       "      <td>65</td>\n",
       "      <td>23</td>\n",
       "      <td>80</td>\n",
       "      <td>14</td>\n",
       "      <td>63</td>\n",
       "      <td>11</td>\n",
       "      <td>6</td>\n",
       "    </tr>\n",
       "    <tr>\n",
       "      <th>...</th>\n",
       "      <td>...</td>\n",
       "      <td>...</td>\n",
       "      <td>...</td>\n",
       "      <td>...</td>\n",
       "      <td>...</td>\n",
       "      <td>...</td>\n",
       "      <td>...</td>\n",
       "      <td>...</td>\n",
       "      <td>...</td>\n",
       "      <td>...</td>\n",
       "      <td>...</td>\n",
       "      <td>...</td>\n",
       "      <td>...</td>\n",
       "      <td>...</td>\n",
       "      <td>...</td>\n",
       "      <td>...</td>\n",
       "      <td>...</td>\n",
       "      <td>...</td>\n",
       "      <td>...</td>\n",
       "      <td>...</td>\n",
       "      <td>...</td>\n",
       "    </tr>\n",
       "    <tr>\n",
       "      <th>948</th>\n",
       "      <td>My Mind &amp; Me</td>\n",
       "      <td>Selena Gomez</td>\n",
       "      <td>1</td>\n",
       "      <td>2022</td>\n",
       "      <td>11</td>\n",
       "      <td>3</td>\n",
       "      <td>953</td>\n",
       "      <td>0</td>\n",
       "      <td>91473363</td>\n",
       "      <td>61</td>\n",
       "      <td>...</td>\n",
       "      <td>144</td>\n",
       "      <td>A</td>\n",
       "      <td>Major</td>\n",
       "      <td>60</td>\n",
       "      <td>24</td>\n",
       "      <td>39</td>\n",
       "      <td>57</td>\n",
       "      <td>0</td>\n",
       "      <td>8</td>\n",
       "      <td>3</td>\n",
       "    </tr>\n",
       "    <tr>\n",
       "      <th>949</th>\n",
       "      <td>Bigger Than The Whole Sky</td>\n",
       "      <td>Taylor Swift</td>\n",
       "      <td>1</td>\n",
       "      <td>2022</td>\n",
       "      <td>10</td>\n",
       "      <td>21</td>\n",
       "      <td>1180</td>\n",
       "      <td>0</td>\n",
       "      <td>121871870</td>\n",
       "      <td>4</td>\n",
       "      <td>...</td>\n",
       "      <td>166</td>\n",
       "      <td>F#</td>\n",
       "      <td>Major</td>\n",
       "      <td>42</td>\n",
       "      <td>7</td>\n",
       "      <td>24</td>\n",
       "      <td>83</td>\n",
       "      <td>1</td>\n",
       "      <td>12</td>\n",
       "      <td>6</td>\n",
       "    </tr>\n",
       "    <tr>\n",
       "      <th>950</th>\n",
       "      <td>A Veces (feat. Feid)</td>\n",
       "      <td>Feid, Paulo Londra</td>\n",
       "      <td>2</td>\n",
       "      <td>2022</td>\n",
       "      <td>11</td>\n",
       "      <td>3</td>\n",
       "      <td>573</td>\n",
       "      <td>0</td>\n",
       "      <td>73513683</td>\n",
       "      <td>2</td>\n",
       "      <td>...</td>\n",
       "      <td>92</td>\n",
       "      <td>C#</td>\n",
       "      <td>Major</td>\n",
       "      <td>80</td>\n",
       "      <td>81</td>\n",
       "      <td>67</td>\n",
       "      <td>4</td>\n",
       "      <td>0</td>\n",
       "      <td>8</td>\n",
       "      <td>6</td>\n",
       "    </tr>\n",
       "    <tr>\n",
       "      <th>951</th>\n",
       "      <td>En La De Ella</td>\n",
       "      <td>Feid, Sech, Jhayco</td>\n",
       "      <td>3</td>\n",
       "      <td>2022</td>\n",
       "      <td>10</td>\n",
       "      <td>20</td>\n",
       "      <td>1320</td>\n",
       "      <td>0</td>\n",
       "      <td>133895612</td>\n",
       "      <td>29</td>\n",
       "      <td>...</td>\n",
       "      <td>97</td>\n",
       "      <td>C#</td>\n",
       "      <td>Major</td>\n",
       "      <td>82</td>\n",
       "      <td>67</td>\n",
       "      <td>77</td>\n",
       "      <td>8</td>\n",
       "      <td>0</td>\n",
       "      <td>12</td>\n",
       "      <td>5</td>\n",
       "    </tr>\n",
       "    <tr>\n",
       "      <th>952</th>\n",
       "      <td>Alone</td>\n",
       "      <td>Burna Boy</td>\n",
       "      <td>1</td>\n",
       "      <td>2022</td>\n",
       "      <td>11</td>\n",
       "      <td>4</td>\n",
       "      <td>782</td>\n",
       "      <td>2</td>\n",
       "      <td>96007391</td>\n",
       "      <td>27</td>\n",
       "      <td>...</td>\n",
       "      <td>90</td>\n",
       "      <td>E</td>\n",
       "      <td>Minor</td>\n",
       "      <td>61</td>\n",
       "      <td>32</td>\n",
       "      <td>67</td>\n",
       "      <td>15</td>\n",
       "      <td>0</td>\n",
       "      <td>11</td>\n",
       "      <td>5</td>\n",
       "    </tr>\n",
       "  </tbody>\n",
       "</table>\n",
       "<p>953 rows × 24 columns</p>\n",
       "</div>"
      ],
      "text/plain": [
       "                              track_name      artist(s)_name  artist_count  \\\n",
       "0    Seven (feat. Latto) (Explicit Ver.)    Latto, Jung Kook             2   \n",
       "1                                   LALA         Myke Towers             1   \n",
       "2                                vampire      Olivia Rodrigo             1   \n",
       "3                           Cruel Summer        Taylor Swift             1   \n",
       "4                         WHERE SHE GOES           Bad Bunny             1   \n",
       "..                                   ...                 ...           ...   \n",
       "948                         My Mind & Me        Selena Gomez             1   \n",
       "949            Bigger Than The Whole Sky        Taylor Swift             1   \n",
       "950                 A Veces (feat. Feid)  Feid, Paulo Londra             2   \n",
       "951                        En La De Ella  Feid, Sech, Jhayco             3   \n",
       "952                                Alone           Burna Boy             1   \n",
       "\n",
       "     released_year  released_month  released_day  in_spotify_playlists  \\\n",
       "0             2023               7            14                   553   \n",
       "1             2023               3            23                  1474   \n",
       "2             2023               6            30                  1397   \n",
       "3             2019               8            23                  7858   \n",
       "4             2023               5            18                  3133   \n",
       "..             ...             ...           ...                   ...   \n",
       "948           2022              11             3                   953   \n",
       "949           2022              10            21                  1180   \n",
       "950           2022              11             3                   573   \n",
       "951           2022              10            20                  1320   \n",
       "952           2022              11             4                   782   \n",
       "\n",
       "     in_spotify_charts    streams  in_apple_playlists  ...  bpm key   mode  \\\n",
       "0                  147  141381703                  43  ...  125   B  Major   \n",
       "1                   48  133716286                  48  ...   92  C#  Major   \n",
       "2                  113  140003974                  94  ...  138   F  Major   \n",
       "3                  100  800840817                 116  ...  170   A  Major   \n",
       "4                   50  303236322                  84  ...  144   A  Minor   \n",
       "..                 ...        ...                 ...  ...  ...  ..    ...   \n",
       "948                  0   91473363                  61  ...  144   A  Major   \n",
       "949                  0  121871870                   4  ...  166  F#  Major   \n",
       "950                  0   73513683                   2  ...   92  C#  Major   \n",
       "951                  0  133895612                  29  ...   97  C#  Major   \n",
       "952                  2   96007391                  27  ...   90   E  Minor   \n",
       "\n",
       "    danceability_%  valence_% energy_% acousticness_%  instrumentalness_%  \\\n",
       "0               80         89       83             31                   0   \n",
       "1               71         61       74              7                   0   \n",
       "2               51         32       53             17                   0   \n",
       "3               55         58       72             11                   0   \n",
       "4               65         23       80             14                  63   \n",
       "..             ...        ...      ...            ...                 ...   \n",
       "948             60         24       39             57                   0   \n",
       "949             42          7       24             83                   1   \n",
       "950             80         81       67              4                   0   \n",
       "951             82         67       77              8                   0   \n",
       "952             61         32       67             15                   0   \n",
       "\n",
       "     liveness_%  speechiness_%  \n",
       "0             8              4  \n",
       "1            10              4  \n",
       "2            31              6  \n",
       "3            11             15  \n",
       "4            11              6  \n",
       "..          ...            ...  \n",
       "948           8              3  \n",
       "949          12              6  \n",
       "950           8              6  \n",
       "951          12              5  \n",
       "952          11              5  \n",
       "\n",
       "[953 rows x 24 columns]"
      ]
     },
     "execution_count": 91,
     "metadata": {},
     "output_type": "execute_result"
    }
   ],
   "source": [
    "import pandas as pd \n",
    "import plotly.express as px\n",
    "df = pd.read_csv('./spotify-2023.csv', encoding='latin1')\n",
    "df\n"
   ]
  },
  {
   "cell_type": "code",
   "execution_count": 92,
   "id": "abbf2dc9-4186-49e2-8d50-b68dddf063c2",
   "metadata": {},
   "outputs": [
    {
     "data": {
      "text/plain": [
       "(953, 24)"
      ]
     },
     "execution_count": 92,
     "metadata": {},
     "output_type": "execute_result"
    }
   ],
   "source": [
    "df.shape"
   ]
  },
  {
   "cell_type": "code",
   "execution_count": 93,
   "id": "7b6df61a-20d7-41e4-991c-fddbd5d528e5",
   "metadata": {},
   "outputs": [
    {
     "data": {
      "text/plain": [
       "<bound method NDFrame.describe of                               track_name      artist(s)_name  artist_count  \\\n",
       "0    Seven (feat. Latto) (Explicit Ver.)    Latto, Jung Kook             2   \n",
       "1                                   LALA         Myke Towers             1   \n",
       "2                                vampire      Olivia Rodrigo             1   \n",
       "3                           Cruel Summer        Taylor Swift             1   \n",
       "4                         WHERE SHE GOES           Bad Bunny             1   \n",
       "..                                   ...                 ...           ...   \n",
       "948                         My Mind & Me        Selena Gomez             1   \n",
       "949            Bigger Than The Whole Sky        Taylor Swift             1   \n",
       "950                 A Veces (feat. Feid)  Feid, Paulo Londra             2   \n",
       "951                        En La De Ella  Feid, Sech, Jhayco             3   \n",
       "952                                Alone           Burna Boy             1   \n",
       "\n",
       "     released_year  released_month  released_day  in_spotify_playlists  \\\n",
       "0             2023               7            14                   553   \n",
       "1             2023               3            23                  1474   \n",
       "2             2023               6            30                  1397   \n",
       "3             2019               8            23                  7858   \n",
       "4             2023               5            18                  3133   \n",
       "..             ...             ...           ...                   ...   \n",
       "948           2022              11             3                   953   \n",
       "949           2022              10            21                  1180   \n",
       "950           2022              11             3                   573   \n",
       "951           2022              10            20                  1320   \n",
       "952           2022              11             4                   782   \n",
       "\n",
       "     in_spotify_charts    streams  in_apple_playlists  ...  bpm key   mode  \\\n",
       "0                  147  141381703                  43  ...  125   B  Major   \n",
       "1                   48  133716286                  48  ...   92  C#  Major   \n",
       "2                  113  140003974                  94  ...  138   F  Major   \n",
       "3                  100  800840817                 116  ...  170   A  Major   \n",
       "4                   50  303236322                  84  ...  144   A  Minor   \n",
       "..                 ...        ...                 ...  ...  ...  ..    ...   \n",
       "948                  0   91473363                  61  ...  144   A  Major   \n",
       "949                  0  121871870                   4  ...  166  F#  Major   \n",
       "950                  0   73513683                   2  ...   92  C#  Major   \n",
       "951                  0  133895612                  29  ...   97  C#  Major   \n",
       "952                  2   96007391                  27  ...   90   E  Minor   \n",
       "\n",
       "    danceability_%  valence_% energy_% acousticness_%  instrumentalness_%  \\\n",
       "0               80         89       83             31                   0   \n",
       "1               71         61       74              7                   0   \n",
       "2               51         32       53             17                   0   \n",
       "3               55         58       72             11                   0   \n",
       "4               65         23       80             14                  63   \n",
       "..             ...        ...      ...            ...                 ...   \n",
       "948             60         24       39             57                   0   \n",
       "949             42          7       24             83                   1   \n",
       "950             80         81       67              4                   0   \n",
       "951             82         67       77              8                   0   \n",
       "952             61         32       67             15                   0   \n",
       "\n",
       "     liveness_%  speechiness_%  \n",
       "0             8              4  \n",
       "1            10              4  \n",
       "2            31              6  \n",
       "3            11             15  \n",
       "4            11              6  \n",
       "..          ...            ...  \n",
       "948           8              3  \n",
       "949          12              6  \n",
       "950           8              6  \n",
       "951          12              5  \n",
       "952          11              5  \n",
       "\n",
       "[953 rows x 24 columns]>"
      ]
     },
     "execution_count": 93,
     "metadata": {},
     "output_type": "execute_result"
    }
   ],
   "source": [
    "df.describe"
   ]
  },
  {
   "cell_type": "raw",
   "id": "89c0c40a-8d3d-42e4-80b6-14f975e05395",
   "metadata": {},
   "source": [
    "remove rows with missing columns / cleaning data "
   ]
  },
  {
   "cell_type": "code",
   "execution_count": 94,
   "id": "fc6c09c7-fca0-4f6f-92e6-582a5391ea02",
   "metadata": {},
   "outputs": [
    {
     "data": {
      "text/plain": [
       "<bound method NDFrame.head of                               track_name      artist(s)_name  artist_count  \\\n",
       "0    Seven (feat. Latto) (Explicit Ver.)    Latto, Jung Kook             2   \n",
       "1                                   LALA         Myke Towers             1   \n",
       "2                                vampire      Olivia Rodrigo             1   \n",
       "3                           Cruel Summer        Taylor Swift             1   \n",
       "4                         WHERE SHE GOES           Bad Bunny             1   \n",
       "..                                   ...                 ...           ...   \n",
       "948                         My Mind & Me        Selena Gomez             1   \n",
       "949            Bigger Than The Whole Sky        Taylor Swift             1   \n",
       "950                 A Veces (feat. Feid)  Feid, Paulo Londra             2   \n",
       "951                        En La De Ella  Feid, Sech, Jhayco             3   \n",
       "952                                Alone           Burna Boy             1   \n",
       "\n",
       "     released_year  released_month  released_day  in_spotify_playlists  \\\n",
       "0             2023               7            14                   553   \n",
       "1             2023               3            23                  1474   \n",
       "2             2023               6            30                  1397   \n",
       "3             2019               8            23                  7858   \n",
       "4             2023               5            18                  3133   \n",
       "..             ...             ...           ...                   ...   \n",
       "948           2022              11             3                   953   \n",
       "949           2022              10            21                  1180   \n",
       "950           2022              11             3                   573   \n",
       "951           2022              10            20                  1320   \n",
       "952           2022              11             4                   782   \n",
       "\n",
       "     in_spotify_charts    streams  in_apple_playlists  ...  bpm key   mode  \\\n",
       "0                  147  141381703                  43  ...  125   B  Major   \n",
       "1                   48  133716286                  48  ...   92  C#  Major   \n",
       "2                  113  140003974                  94  ...  138   F  Major   \n",
       "3                  100  800840817                 116  ...  170   A  Major   \n",
       "4                   50  303236322                  84  ...  144   A  Minor   \n",
       "..                 ...        ...                 ...  ...  ...  ..    ...   \n",
       "948                  0   91473363                  61  ...  144   A  Major   \n",
       "949                  0  121871870                   4  ...  166  F#  Major   \n",
       "950                  0   73513683                   2  ...   92  C#  Major   \n",
       "951                  0  133895612                  29  ...   97  C#  Major   \n",
       "952                  2   96007391                  27  ...   90   E  Minor   \n",
       "\n",
       "    danceability_%  valence_% energy_% acousticness_%  instrumentalness_%  \\\n",
       "0               80         89       83             31                   0   \n",
       "1               71         61       74              7                   0   \n",
       "2               51         32       53             17                   0   \n",
       "3               55         58       72             11                   0   \n",
       "4               65         23       80             14                  63   \n",
       "..             ...        ...      ...            ...                 ...   \n",
       "948             60         24       39             57                   0   \n",
       "949             42          7       24             83                   1   \n",
       "950             80         81       67              4                   0   \n",
       "951             82         67       77              8                   0   \n",
       "952             61         32       67             15                   0   \n",
       "\n",
       "     liveness_%  speechiness_%  \n",
       "0             8              4  \n",
       "1            10              4  \n",
       "2            31              6  \n",
       "3            11             15  \n",
       "4            11              6  \n",
       "..          ...            ...  \n",
       "948           8              3  \n",
       "949          12              6  \n",
       "950           8              6  \n",
       "951          12              5  \n",
       "952          11              5  \n",
       "\n",
       "[858 rows x 24 columns]>"
      ]
     },
     "execution_count": 94,
     "metadata": {},
     "output_type": "execute_result"
    }
   ],
   "source": [
    "df = df.dropna(subset=['key'])\n",
    "df.head"
   ]
  },
  {
   "cell_type": "markdown",
   "id": "c0773785-309f-4874-bbda-0cb4db8f4567",
   "metadata": {},
   "source": [
    "rename_artists = {'artist(s)_name': 'artist'}\n",
    "df.rename(columns=rename_artists, inplace=True)\n",
    "df.head()"
   ]
  },
  {
   "cell_type": "code",
   "execution_count": 90,
   "id": "575916ca-ad5b-40a5-a2a2-203e78ebc2bd",
   "metadata": {
    "scrolled": true
   },
   "outputs": [
    {
     "name": "stdout",
     "output_type": "stream",
     "text": [
      "     track_name  artist  artist_count  released_year  released_month  \\\n",
      "0         False   False         False          False           False   \n",
      "1         False   False         False          False           False   \n",
      "2         False   False         False          False           False   \n",
      "3         False   False         False          False           False   \n",
      "4         False   False         False          False           False   \n",
      "..          ...     ...           ...            ...             ...   \n",
      "948       False   False         False          False           False   \n",
      "949       False   False         False          False           False   \n",
      "950       False   False         False          False           False   \n",
      "951       False   False         False          False           False   \n",
      "952       False   False         False          False           False   \n",
      "\n",
      "     released_day  in_spotify_playlists  in_spotify_charts  streams  \\\n",
      "0           False                 False              False    False   \n",
      "1           False                 False              False    False   \n",
      "2           False                 False              False    False   \n",
      "3           False                 False              False    False   \n",
      "4           False                 False              False    False   \n",
      "..            ...                   ...                ...      ...   \n",
      "948         False                 False              False    False   \n",
      "949         False                 False              False    False   \n",
      "950         False                 False              False    False   \n",
      "951         False                 False              False    False   \n",
      "952         False                 False              False    False   \n",
      "\n",
      "     in_apple_playlists  ...    bpm    key   mode  danceability_%  valence_%  \\\n",
      "0                 False  ...  False  False  False           False      False   \n",
      "1                 False  ...  False  False  False           False      False   \n",
      "2                 False  ...  False  False  False           False      False   \n",
      "3                 False  ...  False  False  False           False      False   \n",
      "4                 False  ...  False  False  False           False      False   \n",
      "..                  ...  ...    ...    ...    ...             ...        ...   \n",
      "948               False  ...  False  False  False           False      False   \n",
      "949               False  ...  False  False  False           False      False   \n",
      "950               False  ...  False  False  False           False      False   \n",
      "951               False  ...  False  False  False           False      False   \n",
      "952               False  ...  False  False  False           False      False   \n",
      "\n",
      "     energy_%  acousticness_%  instrumentalness_%  liveness_%  speechiness_%  \n",
      "0       False           False               False       False          False  \n",
      "1       False           False               False       False          False  \n",
      "2       False           False               False       False          False  \n",
      "3       False           False               False       False          False  \n",
      "4       False           False               False       False          False  \n",
      "..        ...             ...                 ...         ...            ...  \n",
      "948     False           False               False       False          False  \n",
      "949     False           False               False       False          False  \n",
      "950     False           False               False       False          False  \n",
      "951     False           False               False       False          False  \n",
      "952     False           False               False       False          False  \n",
      "\n",
      "[817 rows x 24 columns]\n"
     ]
    }
   ],
   "source": [
    "nan_values = df.isna()\n",
    "print(nan_values)"
   ]
  },
  {
   "cell_type": "markdown",
   "id": "391fcbdd-23cf-4886-9f6f-33bdf750125c",
   "metadata": {},
   "source": [
    "top_stats = ['track_name', 'streams', 'bpm','key','mode','danceability_%','valence_%','energy_%','acousticness_%', 'instrumentalness_%','liveness_%','speechiness_%']\n",
    "df_top_stats = df[top_stats]\n",
    "df_top_stats.head()"
   ]
  },
  {
   "cell_type": "code",
   "execution_count": 95,
   "id": "36f510e9-ab7e-4f25-9668-f21036be0a3f",
   "metadata": {},
   "outputs": [],
   "source": [
    "df = df.dropna(subset=['key'])\n",
    "df.dropna(inplace=True)"
   ]
  },
  {
   "cell_type": "code",
   "execution_count": 96,
   "id": "8eca6864-257a-4cca-9641-acf164518621",
   "metadata": {},
   "outputs": [],
   "source": [
    "df['streams'] = pd.to_numeric(df['streams'], errors='coerce')"
   ]
  },
  {
   "cell_type": "code",
   "execution_count": 97,
   "id": "255e06e6-96e1-4ab9-affc-92d72ba1fcb0",
   "metadata": {},
   "outputs": [
    {
     "name": "stdout",
     "output_type": "stream",
     "text": [
      "<class 'pandas.core.frame.DataFrame'>\n",
      "Index: 817 entries, 0 to 952\n",
      "Data columns (total 24 columns):\n",
      " #   Column                Non-Null Count  Dtype  \n",
      "---  ------                --------------  -----  \n",
      " 0   track_name            817 non-null    object \n",
      " 1   artist(s)_name        817 non-null    object \n",
      " 2   artist_count          817 non-null    int64  \n",
      " 3   released_year         817 non-null    int64  \n",
      " 4   released_month        817 non-null    int64  \n",
      " 5   released_day          817 non-null    int64  \n",
      " 6   in_spotify_playlists  817 non-null    int64  \n",
      " 7   in_spotify_charts     817 non-null    int64  \n",
      " 8   streams               816 non-null    float64\n",
      " 9   in_apple_playlists    817 non-null    int64  \n",
      " 10  in_apple_charts       817 non-null    int64  \n",
      " 11  in_deezer_playlists   817 non-null    object \n",
      " 12  in_deezer_charts      817 non-null    int64  \n",
      " 13  in_shazam_charts      817 non-null    object \n",
      " 14  bpm                   817 non-null    int64  \n",
      " 15  key                   817 non-null    object \n",
      " 16  mode                  817 non-null    object \n",
      " 17  danceability_%        817 non-null    int64  \n",
      " 18  valence_%             817 non-null    int64  \n",
      " 19  energy_%              817 non-null    int64  \n",
      " 20  acousticness_%        817 non-null    int64  \n",
      " 21  instrumentalness_%    817 non-null    int64  \n",
      " 22  liveness_%            817 non-null    int64  \n",
      " 23  speechiness_%         817 non-null    int64  \n",
      "dtypes: float64(1), int64(17), object(6)\n",
      "memory usage: 159.6+ KB\n"
     ]
    }
   ],
   "source": [
    "df.info()"
   ]
  },
  {
   "cell_type": "code",
   "execution_count": 98,
   "id": "36a4e644-a513-4b32-a6c2-93cfc0811664",
   "metadata": {},
   "outputs": [
    {
     "data": {
      "text/plain": [
       "Index(['track_name', 'artist(s)_name', 'artist_count', 'released_year',\n",
       "       'released_month', 'released_day', 'in_spotify_playlists',\n",
       "       'in_spotify_charts', 'streams', 'in_apple_playlists', 'in_apple_charts',\n",
       "       'in_deezer_playlists', 'in_deezer_charts', 'in_shazam_charts', 'bpm',\n",
       "       'key', 'mode', 'danceability_%', 'valence_%', 'energy_%',\n",
       "       'acousticness_%', 'instrumentalness_%', 'liveness_%', 'speechiness_%'],\n",
       "      dtype='object')"
      ]
     },
     "execution_count": 98,
     "metadata": {},
     "output_type": "execute_result"
    }
   ],
   "source": [
    "df.columns"
   ]
  },
  {
   "cell_type": "markdown",
   "id": "94020cab-4433-44f1-b5d4-4fc7be89d396",
   "metadata": {},
   "source": [
    "View Top Columns"
   ]
  },
  {
   "cell_type": "code",
   "execution_count": 99,
   "id": "5216b758-df3d-4dab-a41c-3841cbf8742c",
   "metadata": {},
   "outputs": [
    {
     "data": {
      "text/html": [
       "<div>\n",
       "<style scoped>\n",
       "    .dataframe tbody tr th:only-of-type {\n",
       "        vertical-align: middle;\n",
       "    }\n",
       "\n",
       "    .dataframe tbody tr th {\n",
       "        vertical-align: top;\n",
       "    }\n",
       "\n",
       "    .dataframe thead th {\n",
       "        text-align: right;\n",
       "    }\n",
       "</style>\n",
       "<table border=\"1\" class=\"dataframe\">\n",
       "  <thead>\n",
       "    <tr style=\"text-align: right;\">\n",
       "      <th></th>\n",
       "      <th>track_name</th>\n",
       "      <th>streams</th>\n",
       "      <th>bpm</th>\n",
       "      <th>key</th>\n",
       "      <th>mode</th>\n",
       "      <th>danceability_%</th>\n",
       "      <th>valence_%</th>\n",
       "      <th>energy_%</th>\n",
       "      <th>acousticness_%</th>\n",
       "      <th>instrumentalness_%</th>\n",
       "      <th>liveness_%</th>\n",
       "      <th>speechiness_%</th>\n",
       "    </tr>\n",
       "  </thead>\n",
       "  <tbody>\n",
       "    <tr>\n",
       "      <th>0</th>\n",
       "      <td>Seven (feat. Latto) (Explicit Ver.)</td>\n",
       "      <td>141381703.0</td>\n",
       "      <td>125</td>\n",
       "      <td>B</td>\n",
       "      <td>Major</td>\n",
       "      <td>80</td>\n",
       "      <td>89</td>\n",
       "      <td>83</td>\n",
       "      <td>31</td>\n",
       "      <td>0</td>\n",
       "      <td>8</td>\n",
       "      <td>4</td>\n",
       "    </tr>\n",
       "    <tr>\n",
       "      <th>1</th>\n",
       "      <td>LALA</td>\n",
       "      <td>133716286.0</td>\n",
       "      <td>92</td>\n",
       "      <td>C#</td>\n",
       "      <td>Major</td>\n",
       "      <td>71</td>\n",
       "      <td>61</td>\n",
       "      <td>74</td>\n",
       "      <td>7</td>\n",
       "      <td>0</td>\n",
       "      <td>10</td>\n",
       "      <td>4</td>\n",
       "    </tr>\n",
       "    <tr>\n",
       "      <th>2</th>\n",
       "      <td>vampire</td>\n",
       "      <td>140003974.0</td>\n",
       "      <td>138</td>\n",
       "      <td>F</td>\n",
       "      <td>Major</td>\n",
       "      <td>51</td>\n",
       "      <td>32</td>\n",
       "      <td>53</td>\n",
       "      <td>17</td>\n",
       "      <td>0</td>\n",
       "      <td>31</td>\n",
       "      <td>6</td>\n",
       "    </tr>\n",
       "    <tr>\n",
       "      <th>3</th>\n",
       "      <td>Cruel Summer</td>\n",
       "      <td>800840817.0</td>\n",
       "      <td>170</td>\n",
       "      <td>A</td>\n",
       "      <td>Major</td>\n",
       "      <td>55</td>\n",
       "      <td>58</td>\n",
       "      <td>72</td>\n",
       "      <td>11</td>\n",
       "      <td>0</td>\n",
       "      <td>11</td>\n",
       "      <td>15</td>\n",
       "    </tr>\n",
       "    <tr>\n",
       "      <th>4</th>\n",
       "      <td>WHERE SHE GOES</td>\n",
       "      <td>303236322.0</td>\n",
       "      <td>144</td>\n",
       "      <td>A</td>\n",
       "      <td>Minor</td>\n",
       "      <td>65</td>\n",
       "      <td>23</td>\n",
       "      <td>80</td>\n",
       "      <td>14</td>\n",
       "      <td>63</td>\n",
       "      <td>11</td>\n",
       "      <td>6</td>\n",
       "    </tr>\n",
       "  </tbody>\n",
       "</table>\n",
       "</div>"
      ],
      "text/plain": [
       "                            track_name      streams  bpm key   mode  \\\n",
       "0  Seven (feat. Latto) (Explicit Ver.)  141381703.0  125   B  Major   \n",
       "1                                 LALA  133716286.0   92  C#  Major   \n",
       "2                              vampire  140003974.0  138   F  Major   \n",
       "3                         Cruel Summer  800840817.0  170   A  Major   \n",
       "4                       WHERE SHE GOES  303236322.0  144   A  Minor   \n",
       "\n",
       "   danceability_%  valence_%  energy_%  acousticness_%  instrumentalness_%  \\\n",
       "0              80         89        83              31                   0   \n",
       "1              71         61        74               7                   0   \n",
       "2              51         32        53              17                   0   \n",
       "3              55         58        72              11                   0   \n",
       "4              65         23        80              14                  63   \n",
       "\n",
       "   liveness_%  speechiness_%  \n",
       "0           8              4  \n",
       "1          10              4  \n",
       "2          31              6  \n",
       "3          11             15  \n",
       "4          11              6  "
      ]
     },
     "execution_count": 99,
     "metadata": {},
     "output_type": "execute_result"
    }
   ],
   "source": [
    "top_stats = ['track_name', 'streams', 'bpm','key','mode','danceability_%','valence_%','energy_%','acousticness_%', 'instrumentalness_%','liveness_%','speechiness_%']\n",
    "df_top_stats = df[top_stats]\n",
    "df_top_stats.head()"
   ]
  },
  {
   "cell_type": "code",
   "execution_count": 100,
   "id": "72906c06-abd4-4cfa-97d2-285831228262",
   "metadata": {},
   "outputs": [],
   "source": [
    "df_features = df.head()\n",
    "df_features = pd.get_dummies(df_features, columns=['key','mode'],prefix = ['key','mode']) "
   ]
  },
  {
   "cell_type": "markdown",
   "id": "58d5285c-2c60-4d48-8f49-796c2e6dbab6",
   "metadata": {},
   "source": [
    "Show top"
   ]
  },
  {
   "cell_type": "code",
   "execution_count": 101,
   "id": "18830f58-a5d7-473e-9c86-9dd6bb9b7d3a",
   "metadata": {},
   "outputs": [
    {
     "data": {
      "text/html": [
       "<div>\n",
       "<style scoped>\n",
       "    .dataframe tbody tr th:only-of-type {\n",
       "        vertical-align: middle;\n",
       "    }\n",
       "\n",
       "    .dataframe tbody tr th {\n",
       "        vertical-align: top;\n",
       "    }\n",
       "\n",
       "    .dataframe thead th {\n",
       "        text-align: right;\n",
       "    }\n",
       "</style>\n",
       "<table border=\"1\" class=\"dataframe\">\n",
       "  <thead>\n",
       "    <tr style=\"text-align: right;\">\n",
       "      <th></th>\n",
       "      <th>track_name</th>\n",
       "      <th>artist(s)_name</th>\n",
       "      <th>artist_count</th>\n",
       "      <th>released_year</th>\n",
       "      <th>released_month</th>\n",
       "      <th>released_day</th>\n",
       "      <th>in_spotify_playlists</th>\n",
       "      <th>in_spotify_charts</th>\n",
       "      <th>streams</th>\n",
       "      <th>in_apple_playlists</th>\n",
       "      <th>...</th>\n",
       "      <th>acousticness_%</th>\n",
       "      <th>instrumentalness_%</th>\n",
       "      <th>liveness_%</th>\n",
       "      <th>speechiness_%</th>\n",
       "      <th>key_A</th>\n",
       "      <th>key_B</th>\n",
       "      <th>key_C#</th>\n",
       "      <th>key_F</th>\n",
       "      <th>mode_Major</th>\n",
       "      <th>mode_Minor</th>\n",
       "    </tr>\n",
       "  </thead>\n",
       "  <tbody>\n",
       "    <tr>\n",
       "      <th>0</th>\n",
       "      <td>Seven (feat. Latto) (Explicit Ver.)</td>\n",
       "      <td>Latto, Jung Kook</td>\n",
       "      <td>2</td>\n",
       "      <td>2023</td>\n",
       "      <td>7</td>\n",
       "      <td>14</td>\n",
       "      <td>553</td>\n",
       "      <td>147</td>\n",
       "      <td>141381703.0</td>\n",
       "      <td>43</td>\n",
       "      <td>...</td>\n",
       "      <td>31</td>\n",
       "      <td>0</td>\n",
       "      <td>8</td>\n",
       "      <td>4</td>\n",
       "      <td>False</td>\n",
       "      <td>True</td>\n",
       "      <td>False</td>\n",
       "      <td>False</td>\n",
       "      <td>True</td>\n",
       "      <td>False</td>\n",
       "    </tr>\n",
       "    <tr>\n",
       "      <th>1</th>\n",
       "      <td>LALA</td>\n",
       "      <td>Myke Towers</td>\n",
       "      <td>1</td>\n",
       "      <td>2023</td>\n",
       "      <td>3</td>\n",
       "      <td>23</td>\n",
       "      <td>1474</td>\n",
       "      <td>48</td>\n",
       "      <td>133716286.0</td>\n",
       "      <td>48</td>\n",
       "      <td>...</td>\n",
       "      <td>7</td>\n",
       "      <td>0</td>\n",
       "      <td>10</td>\n",
       "      <td>4</td>\n",
       "      <td>False</td>\n",
       "      <td>False</td>\n",
       "      <td>True</td>\n",
       "      <td>False</td>\n",
       "      <td>True</td>\n",
       "      <td>False</td>\n",
       "    </tr>\n",
       "    <tr>\n",
       "      <th>2</th>\n",
       "      <td>vampire</td>\n",
       "      <td>Olivia Rodrigo</td>\n",
       "      <td>1</td>\n",
       "      <td>2023</td>\n",
       "      <td>6</td>\n",
       "      <td>30</td>\n",
       "      <td>1397</td>\n",
       "      <td>113</td>\n",
       "      <td>140003974.0</td>\n",
       "      <td>94</td>\n",
       "      <td>...</td>\n",
       "      <td>17</td>\n",
       "      <td>0</td>\n",
       "      <td>31</td>\n",
       "      <td>6</td>\n",
       "      <td>False</td>\n",
       "      <td>False</td>\n",
       "      <td>False</td>\n",
       "      <td>True</td>\n",
       "      <td>True</td>\n",
       "      <td>False</td>\n",
       "    </tr>\n",
       "    <tr>\n",
       "      <th>3</th>\n",
       "      <td>Cruel Summer</td>\n",
       "      <td>Taylor Swift</td>\n",
       "      <td>1</td>\n",
       "      <td>2019</td>\n",
       "      <td>8</td>\n",
       "      <td>23</td>\n",
       "      <td>7858</td>\n",
       "      <td>100</td>\n",
       "      <td>800840817.0</td>\n",
       "      <td>116</td>\n",
       "      <td>...</td>\n",
       "      <td>11</td>\n",
       "      <td>0</td>\n",
       "      <td>11</td>\n",
       "      <td>15</td>\n",
       "      <td>True</td>\n",
       "      <td>False</td>\n",
       "      <td>False</td>\n",
       "      <td>False</td>\n",
       "      <td>True</td>\n",
       "      <td>False</td>\n",
       "    </tr>\n",
       "    <tr>\n",
       "      <th>4</th>\n",
       "      <td>WHERE SHE GOES</td>\n",
       "      <td>Bad Bunny</td>\n",
       "      <td>1</td>\n",
       "      <td>2023</td>\n",
       "      <td>5</td>\n",
       "      <td>18</td>\n",
       "      <td>3133</td>\n",
       "      <td>50</td>\n",
       "      <td>303236322.0</td>\n",
       "      <td>84</td>\n",
       "      <td>...</td>\n",
       "      <td>14</td>\n",
       "      <td>63</td>\n",
       "      <td>11</td>\n",
       "      <td>6</td>\n",
       "      <td>True</td>\n",
       "      <td>False</td>\n",
       "      <td>False</td>\n",
       "      <td>False</td>\n",
       "      <td>False</td>\n",
       "      <td>True</td>\n",
       "    </tr>\n",
       "  </tbody>\n",
       "</table>\n",
       "<p>5 rows × 28 columns</p>\n",
       "</div>"
      ],
      "text/plain": [
       "                            track_name    artist(s)_name  artist_count  \\\n",
       "0  Seven (feat. Latto) (Explicit Ver.)  Latto, Jung Kook             2   \n",
       "1                                 LALA       Myke Towers             1   \n",
       "2                              vampire    Olivia Rodrigo             1   \n",
       "3                         Cruel Summer      Taylor Swift             1   \n",
       "4                       WHERE SHE GOES         Bad Bunny             1   \n",
       "\n",
       "   released_year  released_month  released_day  in_spotify_playlists  \\\n",
       "0           2023               7            14                   553   \n",
       "1           2023               3            23                  1474   \n",
       "2           2023               6            30                  1397   \n",
       "3           2019               8            23                  7858   \n",
       "4           2023               5            18                  3133   \n",
       "\n",
       "   in_spotify_charts      streams  in_apple_playlists  ...  acousticness_%  \\\n",
       "0                147  141381703.0                  43  ...              31   \n",
       "1                 48  133716286.0                  48  ...               7   \n",
       "2                113  140003974.0                  94  ...              17   \n",
       "3                100  800840817.0                 116  ...              11   \n",
       "4                 50  303236322.0                  84  ...              14   \n",
       "\n",
       "  instrumentalness_%  liveness_% speechiness_%  key_A  key_B  key_C#  key_F  \\\n",
       "0                  0           8             4  False   True   False  False   \n",
       "1                  0          10             4  False  False    True  False   \n",
       "2                  0          31             6  False  False   False   True   \n",
       "3                  0          11            15   True  False   False  False   \n",
       "4                 63          11             6   True  False   False  False   \n",
       "\n",
       "   mode_Major  mode_Minor  \n",
       "0        True       False  \n",
       "1        True       False  \n",
       "2        True       False  \n",
       "3        True       False  \n",
       "4       False        True  \n",
       "\n",
       "[5 rows x 28 columns]"
      ]
     },
     "execution_count": 101,
     "metadata": {},
     "output_type": "execute_result"
    }
   ],
   "source": [
    "df_features.head()"
   ]
  },
  {
   "cell_type": "markdown",
   "id": "35e90de1-9039-4424-9cbf-7461031be907",
   "metadata": {},
   "source": [
    "Rename Columns "
   ]
  },
  {
   "cell_type": "code",
   "execution_count": 102,
   "id": "f05c7c1f-d9a3-49eb-8f05-544b522e1f02",
   "metadata": {},
   "outputs": [
    {
     "data": {
      "text/html": [
       "<div>\n",
       "<style scoped>\n",
       "    .dataframe tbody tr th:only-of-type {\n",
       "        vertical-align: middle;\n",
       "    }\n",
       "\n",
       "    .dataframe tbody tr th {\n",
       "        vertical-align: top;\n",
       "    }\n",
       "\n",
       "    .dataframe thead th {\n",
       "        text-align: right;\n",
       "    }\n",
       "</style>\n",
       "<table border=\"1\" class=\"dataframe\">\n",
       "  <thead>\n",
       "    <tr style=\"text-align: right;\">\n",
       "      <th></th>\n",
       "      <th>song</th>\n",
       "      <th>artist(s)_name</th>\n",
       "      <th>artist_count</th>\n",
       "      <th>released_year</th>\n",
       "      <th>released_month</th>\n",
       "      <th>released_day</th>\n",
       "      <th>in_spotify_playlists</th>\n",
       "      <th>in_spotify_charts</th>\n",
       "      <th>streams</th>\n",
       "      <th>in_apple_playlists</th>\n",
       "      <th>...</th>\n",
       "      <th>acousticness</th>\n",
       "      <th>instrumentalness</th>\n",
       "      <th>liveness</th>\n",
       "      <th>speechiness</th>\n",
       "      <th>key_A</th>\n",
       "      <th>key_B</th>\n",
       "      <th>key_C#</th>\n",
       "      <th>key_F</th>\n",
       "      <th>mode_Major</th>\n",
       "      <th>mode_Minor</th>\n",
       "    </tr>\n",
       "  </thead>\n",
       "  <tbody>\n",
       "    <tr>\n",
       "      <th>0</th>\n",
       "      <td>Seven (feat. Latto) (Explicit Ver.)</td>\n",
       "      <td>Latto, Jung Kook</td>\n",
       "      <td>2</td>\n",
       "      <td>2023</td>\n",
       "      <td>7</td>\n",
       "      <td>14</td>\n",
       "      <td>553</td>\n",
       "      <td>147</td>\n",
       "      <td>141381703.0</td>\n",
       "      <td>43</td>\n",
       "      <td>...</td>\n",
       "      <td>31</td>\n",
       "      <td>0</td>\n",
       "      <td>8</td>\n",
       "      <td>4</td>\n",
       "      <td>False</td>\n",
       "      <td>True</td>\n",
       "      <td>False</td>\n",
       "      <td>False</td>\n",
       "      <td>True</td>\n",
       "      <td>False</td>\n",
       "    </tr>\n",
       "    <tr>\n",
       "      <th>1</th>\n",
       "      <td>LALA</td>\n",
       "      <td>Myke Towers</td>\n",
       "      <td>1</td>\n",
       "      <td>2023</td>\n",
       "      <td>3</td>\n",
       "      <td>23</td>\n",
       "      <td>1474</td>\n",
       "      <td>48</td>\n",
       "      <td>133716286.0</td>\n",
       "      <td>48</td>\n",
       "      <td>...</td>\n",
       "      <td>7</td>\n",
       "      <td>0</td>\n",
       "      <td>10</td>\n",
       "      <td>4</td>\n",
       "      <td>False</td>\n",
       "      <td>False</td>\n",
       "      <td>True</td>\n",
       "      <td>False</td>\n",
       "      <td>True</td>\n",
       "      <td>False</td>\n",
       "    </tr>\n",
       "    <tr>\n",
       "      <th>2</th>\n",
       "      <td>vampire</td>\n",
       "      <td>Olivia Rodrigo</td>\n",
       "      <td>1</td>\n",
       "      <td>2023</td>\n",
       "      <td>6</td>\n",
       "      <td>30</td>\n",
       "      <td>1397</td>\n",
       "      <td>113</td>\n",
       "      <td>140003974.0</td>\n",
       "      <td>94</td>\n",
       "      <td>...</td>\n",
       "      <td>17</td>\n",
       "      <td>0</td>\n",
       "      <td>31</td>\n",
       "      <td>6</td>\n",
       "      <td>False</td>\n",
       "      <td>False</td>\n",
       "      <td>False</td>\n",
       "      <td>True</td>\n",
       "      <td>True</td>\n",
       "      <td>False</td>\n",
       "    </tr>\n",
       "    <tr>\n",
       "      <th>3</th>\n",
       "      <td>Cruel Summer</td>\n",
       "      <td>Taylor Swift</td>\n",
       "      <td>1</td>\n",
       "      <td>2019</td>\n",
       "      <td>8</td>\n",
       "      <td>23</td>\n",
       "      <td>7858</td>\n",
       "      <td>100</td>\n",
       "      <td>800840817.0</td>\n",
       "      <td>116</td>\n",
       "      <td>...</td>\n",
       "      <td>11</td>\n",
       "      <td>0</td>\n",
       "      <td>11</td>\n",
       "      <td>15</td>\n",
       "      <td>True</td>\n",
       "      <td>False</td>\n",
       "      <td>False</td>\n",
       "      <td>False</td>\n",
       "      <td>True</td>\n",
       "      <td>False</td>\n",
       "    </tr>\n",
       "    <tr>\n",
       "      <th>4</th>\n",
       "      <td>WHERE SHE GOES</td>\n",
       "      <td>Bad Bunny</td>\n",
       "      <td>1</td>\n",
       "      <td>2023</td>\n",
       "      <td>5</td>\n",
       "      <td>18</td>\n",
       "      <td>3133</td>\n",
       "      <td>50</td>\n",
       "      <td>303236322.0</td>\n",
       "      <td>84</td>\n",
       "      <td>...</td>\n",
       "      <td>14</td>\n",
       "      <td>63</td>\n",
       "      <td>11</td>\n",
       "      <td>6</td>\n",
       "      <td>True</td>\n",
       "      <td>False</td>\n",
       "      <td>False</td>\n",
       "      <td>False</td>\n",
       "      <td>False</td>\n",
       "      <td>True</td>\n",
       "    </tr>\n",
       "  </tbody>\n",
       "</table>\n",
       "<p>5 rows × 28 columns</p>\n",
       "</div>"
      ],
      "text/plain": [
       "                                  song    artist(s)_name  artist_count  \\\n",
       "0  Seven (feat. Latto) (Explicit Ver.)  Latto, Jung Kook             2   \n",
       "1                                 LALA       Myke Towers             1   \n",
       "2                              vampire    Olivia Rodrigo             1   \n",
       "3                         Cruel Summer      Taylor Swift             1   \n",
       "4                       WHERE SHE GOES         Bad Bunny             1   \n",
       "\n",
       "   released_year  released_month  released_day  in_spotify_playlists  \\\n",
       "0           2023               7            14                   553   \n",
       "1           2023               3            23                  1474   \n",
       "2           2023               6            30                  1397   \n",
       "3           2019               8            23                  7858   \n",
       "4           2023               5            18                  3133   \n",
       "\n",
       "   in_spotify_charts      streams  in_apple_playlists  ...  acousticness  \\\n",
       "0                147  141381703.0                  43  ...            31   \n",
       "1                 48  133716286.0                  48  ...             7   \n",
       "2                113  140003974.0                  94  ...            17   \n",
       "3                100  800840817.0                 116  ...            11   \n",
       "4                 50  303236322.0                  84  ...            14   \n",
       "\n",
       "  instrumentalness  liveness speechiness  key_A  key_B  key_C#  key_F  \\\n",
       "0                0         8           4  False   True   False  False   \n",
       "1                0        10           4  False  False    True  False   \n",
       "2                0        31           6  False  False   False   True   \n",
       "3                0        11          15   True  False   False  False   \n",
       "4               63        11           6   True  False   False  False   \n",
       "\n",
       "   mode_Major  mode_Minor  \n",
       "0        True       False  \n",
       "1        True       False  \n",
       "2        True       False  \n",
       "3        True       False  \n",
       "4       False        True  \n",
       "\n",
       "[5 rows x 28 columns]"
      ]
     },
     "execution_count": 102,
     "metadata": {},
     "output_type": "execute_result"
    }
   ],
   "source": [
    "rename_col = {'danceability_%': 'danceability',\n",
    "              'valence_%': 'valence',\n",
    "              'energy_%': 'energy',\n",
    "              'acousticness_%': 'acousticness',\n",
    "              'instrumentalness_%': 'instrumentalness',\n",
    "              'liveness_%': 'liveness',\n",
    "              'speechiness_%': 'speechiness',\n",
    "              'track_name': 'song'\n",
    "             }\n",
    "df_features.rename(columns=rename_col, inplace=True)\n",
    "df_features.head()\n"
   ]
  },
  {
   "cell_type": "markdown",
   "id": "c5066739-ecb6-4c25-93ac-5544608278d1",
   "metadata": {},
   "source": [
    "Data Analysis !!"
   ]
  },
  {
   "cell_type": "code",
   "execution_count": 104,
   "id": "9656ae92-c8d4-452f-9dc9-322c389b4012",
   "metadata": {},
   "outputs": [
    {
     "name": "stdout",
     "output_type": "stream",
     "text": [
      "      artist(s)_name  appearance_count\n",
      "0       Taylor Swift                29\n",
      "1                SZA                17\n",
      "2          Bad Bunny                16\n",
      "3         The Weeknd                15\n",
      "4     Kendrick Lamar                12\n",
      "5       Harry Styles                12\n",
      "6      Morgan Wallen                 9\n",
      "7               Feid                 8\n",
      "8   Drake, 21 Savage                 7\n",
      "9                BTS                 7\n",
      "10        Ed Sheeran                 7\n",
      "11          NewJeans                 6\n",
      "12    Olivia Rodrigo                 5\n",
      "13          Labrinth                 5\n",
      "14            Eminem                 4\n",
      "15         Mï¿½ï¿½ne                 4\n",
      "16             Drake                 4\n",
      "17          Doja Cat                 4\n",
      "18             Adele                 4\n",
      "19      Shawn Mendes                 3\n"
     ]
    }
   ],
   "source": [
    "import matplotlib.pyplot as plt\n",
    "artist_appearances = df['artist(s)_name'].value_counts().reset_index()\n",
    "artist_appearances.columns = ['artist(s)_name', 'appearance_count']\n",
    "top_20_artists = artist_appearances.head(20)\n",
    "print(top_20_artists)\n"
   ]
  },
  {
   "cell_type": "markdown",
   "id": "009b7e01-52ea-4e90-a973-61c4ad07a169",
   "metadata": {},
   "source": [
    "Top 15 Artists "
   ]
  },
  {
   "cell_type": "code",
   "execution_count": 105,
   "id": "44e27628-ee17-4173-b033-5fc5644d1c0c",
   "metadata": {},
   "outputs": [
    {
     "data": {
      "image/png": "[encoded data removed]",
      "text/plain": [
       "<Figure size 1200x800 with 1 Axes>"
      ]
     },
     "metadata": {},
     "output_type": "display_data"
    }
   ],
   "source": [
    "plt.figure(figsize = (12,8))\n",
    "plt.barh(top_20_artists['artist(s)_name'],top_20_artists['appearance_count'],color='powderblue')\n",
    "plt.xlabel('Song Count')\n",
    "plt.ylabel('Artist Name')\n",
    "plt.title('Top 20 Spotify Artists of 2023 by Streams')\n",
    "plt.gca().invert_yaxis()\n",
    "plt.tight_layout\n",
    "plt.show()"
   ]
  },
  {
   "cell_type": "code",
   "execution_count": 106,
   "id": "12e08a5e-06ed-4112-8103-1e56d1876a59",
   "metadata": {},
   "outputs": [
    {
     "data": {
      "text/html": [
       "<div>\n",
       "<style scoped>\n",
       "    .dataframe tbody tr th:only-of-type {\n",
       "        vertical-align: middle;\n",
       "    }\n",
       "\n",
       "    .dataframe tbody tr th {\n",
       "        vertical-align: top;\n",
       "    }\n",
       "\n",
       "    .dataframe thead th {\n",
       "        text-align: right;\n",
       "    }\n",
       "</style>\n",
       "<table border=\"1\" class=\"dataframe\">\n",
       "  <thead>\n",
       "    <tr style=\"text-align: right;\">\n",
       "      <th></th>\n",
       "      <th>artist(s)_name</th>\n",
       "      <th>artist_count</th>\n",
       "      <th>released_year</th>\n",
       "      <th>released_month</th>\n",
       "      <th>released_day</th>\n",
       "      <th>in_spotify_playlists</th>\n",
       "      <th>in_spotify_charts</th>\n",
       "      <th>streams</th>\n",
       "      <th>in_apple_playlists</th>\n",
       "      <th>in_apple_charts</th>\n",
       "      <th>...</th>\n",
       "      <th>acousticness</th>\n",
       "      <th>instrumentalness</th>\n",
       "      <th>liveness</th>\n",
       "      <th>speechiness</th>\n",
       "      <th>key_A</th>\n",
       "      <th>key_B</th>\n",
       "      <th>key_C#</th>\n",
       "      <th>key_F</th>\n",
       "      <th>mode_Major</th>\n",
       "      <th>mode_Minor</th>\n",
       "    </tr>\n",
       "  </thead>\n",
       "  <tbody>\n",
       "    <tr>\n",
       "      <th>0</th>\n",
       "      <td>Latto, Jung Kook</td>\n",
       "      <td>2</td>\n",
       "      <td>2023</td>\n",
       "      <td>7</td>\n",
       "      <td>14</td>\n",
       "      <td>553</td>\n",
       "      <td>147</td>\n",
       "      <td>141381703.0</td>\n",
       "      <td>43</td>\n",
       "      <td>263</td>\n",
       "      <td>...</td>\n",
       "      <td>31</td>\n",
       "      <td>0</td>\n",
       "      <td>8</td>\n",
       "      <td>4</td>\n",
       "      <td>False</td>\n",
       "      <td>True</td>\n",
       "      <td>False</td>\n",
       "      <td>False</td>\n",
       "      <td>True</td>\n",
       "      <td>False</td>\n",
       "    </tr>\n",
       "    <tr>\n",
       "      <th>1</th>\n",
       "      <td>Myke Towers</td>\n",
       "      <td>1</td>\n",
       "      <td>2023</td>\n",
       "      <td>3</td>\n",
       "      <td>23</td>\n",
       "      <td>1474</td>\n",
       "      <td>48</td>\n",
       "      <td>133716286.0</td>\n",
       "      <td>48</td>\n",
       "      <td>126</td>\n",
       "      <td>...</td>\n",
       "      <td>7</td>\n",
       "      <td>0</td>\n",
       "      <td>10</td>\n",
       "      <td>4</td>\n",
       "      <td>False</td>\n",
       "      <td>False</td>\n",
       "      <td>True</td>\n",
       "      <td>False</td>\n",
       "      <td>True</td>\n",
       "      <td>False</td>\n",
       "    </tr>\n",
       "    <tr>\n",
       "      <th>2</th>\n",
       "      <td>Olivia Rodrigo</td>\n",
       "      <td>1</td>\n",
       "      <td>2023</td>\n",
       "      <td>6</td>\n",
       "      <td>30</td>\n",
       "      <td>1397</td>\n",
       "      <td>113</td>\n",
       "      <td>140003974.0</td>\n",
       "      <td>94</td>\n",
       "      <td>207</td>\n",
       "      <td>...</td>\n",
       "      <td>17</td>\n",
       "      <td>0</td>\n",
       "      <td>31</td>\n",
       "      <td>6</td>\n",
       "      <td>False</td>\n",
       "      <td>False</td>\n",
       "      <td>False</td>\n",
       "      <td>True</td>\n",
       "      <td>True</td>\n",
       "      <td>False</td>\n",
       "    </tr>\n",
       "    <tr>\n",
       "      <th>3</th>\n",
       "      <td>Taylor Swift</td>\n",
       "      <td>1</td>\n",
       "      <td>2019</td>\n",
       "      <td>8</td>\n",
       "      <td>23</td>\n",
       "      <td>7858</td>\n",
       "      <td>100</td>\n",
       "      <td>800840817.0</td>\n",
       "      <td>116</td>\n",
       "      <td>207</td>\n",
       "      <td>...</td>\n",
       "      <td>11</td>\n",
       "      <td>0</td>\n",
       "      <td>11</td>\n",
       "      <td>15</td>\n",
       "      <td>True</td>\n",
       "      <td>False</td>\n",
       "      <td>False</td>\n",
       "      <td>False</td>\n",
       "      <td>True</td>\n",
       "      <td>False</td>\n",
       "    </tr>\n",
       "    <tr>\n",
       "      <th>4</th>\n",
       "      <td>Bad Bunny</td>\n",
       "      <td>1</td>\n",
       "      <td>2023</td>\n",
       "      <td>5</td>\n",
       "      <td>18</td>\n",
       "      <td>3133</td>\n",
       "      <td>50</td>\n",
       "      <td>303236322.0</td>\n",
       "      <td>84</td>\n",
       "      <td>133</td>\n",
       "      <td>...</td>\n",
       "      <td>14</td>\n",
       "      <td>63</td>\n",
       "      <td>11</td>\n",
       "      <td>6</td>\n",
       "      <td>True</td>\n",
       "      <td>False</td>\n",
       "      <td>False</td>\n",
       "      <td>False</td>\n",
       "      <td>False</td>\n",
       "      <td>True</td>\n",
       "    </tr>\n",
       "  </tbody>\n",
       "</table>\n",
       "<p>5 rows × 27 columns</p>\n",
       "</div>"
      ],
      "text/plain": [
       "     artist(s)_name  artist_count  released_year  released_month  \\\n",
       "0  Latto, Jung Kook             2           2023               7   \n",
       "1       Myke Towers             1           2023               3   \n",
       "2    Olivia Rodrigo             1           2023               6   \n",
       "3      Taylor Swift             1           2019               8   \n",
       "4         Bad Bunny             1           2023               5   \n",
       "\n",
       "   released_day  in_spotify_playlists  in_spotify_charts      streams  \\\n",
       "0            14                   553                147  141381703.0   \n",
       "1            23                  1474                 48  133716286.0   \n",
       "2            30                  1397                113  140003974.0   \n",
       "3            23                  7858                100  800840817.0   \n",
       "4            18                  3133                 50  303236322.0   \n",
       "\n",
       "   in_apple_playlists  in_apple_charts  ... acousticness  instrumentalness  \\\n",
       "0                  43              263  ...           31                 0   \n",
       "1                  48              126  ...            7                 0   \n",
       "2                  94              207  ...           17                 0   \n",
       "3                 116              207  ...           11                 0   \n",
       "4                  84              133  ...           14                63   \n",
       "\n",
       "  liveness  speechiness  key_A  key_B  key_C#  key_F  mode_Major  mode_Minor  \n",
       "0        8            4  False   True   False  False        True       False  \n",
       "1       10            4  False  False    True  False        True       False  \n",
       "2       31            6  False  False   False   True        True       False  \n",
       "3       11           15   True  False   False  False        True       False  \n",
       "4       11            6   True  False   False  False       False        True  \n",
       "\n",
       "[5 rows x 27 columns]"
      ]
     },
     "execution_count": 106,
     "metadata": {},
     "output_type": "execute_result"
    }
   ],
   "source": [
    "df_analysis = df_features.drop(columns=['song'])\n",
    "df_analysis.head()"
   ]
  },
  {
   "cell_type": "code",
   "execution_count": 117,
   "id": "048be479-8ae2-4e57-a117-98013bde10af",
   "metadata": {},
   "outputs": [
    {
     "data": {
      "text/html": [
       "<div>\n",
       "<style scoped>\n",
       "    .dataframe tbody tr th:only-of-type {\n",
       "        vertical-align: middle;\n",
       "    }\n",
       "\n",
       "    .dataframe tbody tr th {\n",
       "        vertical-align: top;\n",
       "    }\n",
       "\n",
       "    .dataframe thead th {\n",
       "        text-align: right;\n",
       "    }\n",
       "</style>\n",
       "<table border=\"1\" class=\"dataframe\">\n",
       "  <thead>\n",
       "    <tr style=\"text-align: right;\">\n",
       "      <th></th>\n",
       "      <th>track_name</th>\n",
       "      <th>artist(s)_name</th>\n",
       "      <th>artist_count</th>\n",
       "      <th>released_year</th>\n",
       "      <th>released_month</th>\n",
       "      <th>released_day</th>\n",
       "      <th>in_spotify_playlists</th>\n",
       "      <th>in_spotify_charts</th>\n",
       "      <th>streams</th>\n",
       "      <th>in_apple_playlists</th>\n",
       "      <th>...</th>\n",
       "      <th>bpm</th>\n",
       "      <th>key</th>\n",
       "      <th>mode</th>\n",
       "      <th>danceability_%</th>\n",
       "      <th>valence_%</th>\n",
       "      <th>energy_%</th>\n",
       "      <th>acousticness_%</th>\n",
       "      <th>instrumentalness_%</th>\n",
       "      <th>liveness_%</th>\n",
       "      <th>speechiness_%</th>\n",
       "    </tr>\n",
       "  </thead>\n",
       "  <tbody>\n",
       "    <tr>\n",
       "      <th>186</th>\n",
       "      <td>Pink + White</td>\n",
       "      <td>Frank Ocean</td>\n",
       "      <td>1</td>\n",
       "      <td>2016</td>\n",
       "      <td>8</td>\n",
       "      <td>20</td>\n",
       "      <td>21574</td>\n",
       "      <td>30</td>\n",
       "      <td>806397070.0</td>\n",
       "      <td>112</td>\n",
       "      <td>...</td>\n",
       "      <td>160</td>\n",
       "      <td>A</td>\n",
       "      <td>Major</td>\n",
       "      <td>54</td>\n",
       "      <td>54</td>\n",
       "      <td>55</td>\n",
       "      <td>67</td>\n",
       "      <td>0</td>\n",
       "      <td>42</td>\n",
       "      <td>11</td>\n",
       "    </tr>\n",
       "    <tr>\n",
       "      <th>657</th>\n",
       "      <td>Lost</td>\n",
       "      <td>Frank Ocean</td>\n",
       "      <td>1</td>\n",
       "      <td>2012</td>\n",
       "      <td>1</td>\n",
       "      <td>1</td>\n",
       "      <td>29499</td>\n",
       "      <td>11</td>\n",
       "      <td>822239726.0</td>\n",
       "      <td>124</td>\n",
       "      <td>...</td>\n",
       "      <td>123</td>\n",
       "      <td>A#</td>\n",
       "      <td>Minor</td>\n",
       "      <td>91</td>\n",
       "      <td>49</td>\n",
       "      <td>61</td>\n",
       "      <td>3</td>\n",
       "      <td>0</td>\n",
       "      <td>17</td>\n",
       "      <td>22</td>\n",
       "    </tr>\n",
       "  </tbody>\n",
       "</table>\n",
       "<p>2 rows × 24 columns</p>\n",
       "</div>"
      ],
      "text/plain": [
       "       track_name artist(s)_name  artist_count  released_year  released_month  \\\n",
       "186  Pink + White    Frank Ocean             1           2016               8   \n",
       "657          Lost    Frank Ocean             1           2012               1   \n",
       "\n",
       "     released_day  in_spotify_playlists  in_spotify_charts      streams  \\\n",
       "186            20                 21574                 30  806397070.0   \n",
       "657             1                 29499                 11  822239726.0   \n",
       "\n",
       "     in_apple_playlists  ...  bpm key   mode danceability_%  valence_%  \\\n",
       "186                 112  ...  160   A  Major             54         54   \n",
       "657                 124  ...  123  A#  Minor             91         49   \n",
       "\n",
       "    energy_% acousticness_%  instrumentalness_%  liveness_%  speechiness_%  \n",
       "186       55             67                   0          42             11  \n",
       "657       61              3                   0          17             22  \n",
       "\n",
       "[2 rows x 24 columns]"
      ]
     },
     "execution_count": 117,
     "metadata": {},
     "output_type": "execute_result"
    }
   ],
   "source": [
    "def get_discography(artist):\n",
    "    discography = df.loc[df[\"artist(s)_name\"]== artist]\n",
    "    return discography\n",
    "\n",
    "search = get_discography('Frank Ocean')\n",
    "search"
   ]
  },
  {
   "cell_type": "code",
   "execution_count": 109,
   "id": "32375cab-467e-4edf-8cf0-7aac8755f40c",
   "metadata": {},
   "outputs": [
    {
     "data": {
      "application/vnd.plotly.v1+json": {
       "config": {
        "plotlyServerURL": "https://plot.ly"
       },
       "data": [
        {
         "hovertemplate": "danceability=%{marker.color}<br>streams=%{y}<extra></extra>",
         "legendgroup": "",
         "marker": {
          "color": [
           80,
           71,
           51,
           55,
           65
          ],
          "coloraxis": "coloraxis",
          "symbol": "circle"
         },
         "mode": "markers",
         "name": "",
         "orientation": "v",
         "showlegend": false,
         "type": "scatter",
         "x": [
          80,
          71,
          51,
          55,
          65
         ],
         "xaxis": "x",
         "y": [
          141381703,
          133716286,
          140003974,
          800840817,
          303236322
         ],
         "yaxis": "y"
        }
       ],
       "layout": {
        "autosize": true,
        "coloraxis": {
         "colorbar": {
          "title": {
           "text": "danceability"
          }
         },
         "colorscale": [
          [
           0,
           "#440154"
          ],
          [
           0.1111111111111111,
           "#482878"
          ],
          [
           0.2222222222222222,
           "#3e4989"
          ],
          [
           0.3333333333333333,
           "#31688e"
          ],
          [
           0.4444444444444444,
           "#26828e"
          ],
          [
           0.5555555555555556,
           "#1f9e89"
          ],
          [
           0.6666666666666666,
           "#35b779"
          ],
          [
           0.7777777777777778,
           "#6ece58"
          ],
          [
           0.8888888888888888,
           "#b5de2b"
          ],
          [
           1,
           "#fde725"
          ]
         ]
        },
        "legend": {
         "tracegroupgap": 0
        },
        "template": {
         "data": {
          "bar": [
           {
            "error_x": {
             "color": "#2a3f5f"
            },
            "error_y": {
             "color": "#2a3f5f"
            },
            "marker": {
             "line": {
              "color": "white",
              "width": 0.5
             },
             "pattern": {
              "fillmode": "overlay",
              "size": 10,
              "solidity": 0.2
             }
            },
            "type": "bar"
           }
          ],
          "barpolar": [
           {
            "marker": {
             "line": {
              "color": "white",
              "width": 0.5
             },
             "pattern": {
              "fillmode": "overlay",
              "size": 10,
              "solidity": 0.2
             }
            },
            "type": "barpolar"
           }
          ],
          "carpet": [
           {
            "aaxis": {
             "endlinecolor": "#2a3f5f",
             "gridcolor": "#C8D4E3",
             "linecolor": "#C8D4E3",
             "minorgridcolor": "#C8D4E3",
             "startlinecolor": "#2a3f5f"
            },
            "baxis": {
             "endlinecolor": "#2a3f5f",
             "gridcolor": "#C8D4E3",
             "linecolor": "#C8D4E3",
             "minorgridcolor": "#C8D4E3",
             "startlinecolor": "#2a3f5f"
            },
            "type": "carpet"
           }
          ],
          "choropleth": [
           {
            "colorbar": {
             "outlinewidth": 0,
             "ticks": ""
            },
            "type": "choropleth"
           }
          ],
          "contour": [
           {
            "colorbar": {
             "outlinewidth": 0,
             "ticks": ""
            },
            "colorscale": [
             [
              0,
              "#0d0887"
             ],
             [
              0.1111111111111111,
              "#46039f"
             ],
             [
              0.2222222222222222,
              "#7201a8"
             ],
             [
              0.3333333333333333,
              "#9c179e"
             ],
             [
              0.4444444444444444,
              "#bd3786"
             ],
             [
              0.5555555555555556,
              "#d8576b"
             ],
             [
              0.6666666666666666,
              "#ed7953"
             ],
             [
              0.7777777777777778,
              "#fb9f3a"
             ],
             [
              0.8888888888888888,
              "#fdca26"
             ],
             [
              1,
              "#f0f921"
             ]
            ],
            "type": "contour"
           }
          ],
          "contourcarpet": [
           {
            "colorbar": {
             "outlinewidth": 0,
             "ticks": ""
            },
            "type": "contourcarpet"
           }
          ],
          "heatmap": [
           {
            "colorbar": {
             "outlinewidth": 0,
             "ticks": ""
            },
            "colorscale": [
             [
              0,
              "#0d0887"
             ],
             [
              0.1111111111111111,
              "#46039f"
             ],
             [
              0.2222222222222222,
              "#7201a8"
             ],
             [
              0.3333333333333333,
              "#9c179e"
             ],
             [
              0.4444444444444444,
              "#bd3786"
             ],
             [
              0.5555555555555556,
              "#d8576b"
             ],
             [
              0.6666666666666666,
              "#ed7953"
             ],
             [
              0.7777777777777778,
              "#fb9f3a"
             ],
             [
              0.8888888888888888,
              "#fdca26"
             ],
             [
              1,
              "#f0f921"
             ]
            ],
            "type": "heatmap"
           }
          ],
          "heatmapgl": [
           {
            "colorbar": {
             "outlinewidth": 0,
             "ticks": ""
            },
            "colorscale": [
             [
              0,
              "#0d0887"
             ],
             [
              0.1111111111111111,
              "#46039f"
             ],
             [
              0.2222222222222222,
              "#7201a8"
             ],
             [
              0.3333333333333333,
              "#9c179e"
             ],
             [
              0.4444444444444444,
              "#bd3786"
             ],
             [
              0.5555555555555556,
              "#d8576b"
             ],
             [
              0.6666666666666666,
              "#ed7953"
             ],
             [
              0.7777777777777778,
              "#fb9f3a"
             ],
             [
              0.8888888888888888,
              "#fdca26"
             ],
             [
              1,
              "#f0f921"
             ]
            ],
            "type": "heatmapgl"
           }
          ],
          "histogram": [
           {
            "marker": {
             "pattern": {
              "fillmode": "overlay",
              "size": 10,
              "solidity": 0.2
             }
            },
            "type": "histogram"
           }
          ],
          "histogram2d": [
           {
            "colorbar": {
             "outlinewidth": 0,
             "ticks": ""
            },
            "colorscale": [
             [
              0,
              "#0d0887"
             ],
             [
              0.1111111111111111,
              "#46039f"
             ],
             [
              0.2222222222222222,
              "#7201a8"
             ],
             [
              0.3333333333333333,
              "#9c179e"
             ],
             [
              0.4444444444444444,
              "#bd3786"
             ],
             [
              0.5555555555555556,
              "#d8576b"
             ],
             [
              0.6666666666666666,
              "#ed7953"
             ],
             [
              0.7777777777777778,
              "#fb9f3a"
             ],
             [
              0.8888888888888888,
              "#fdca26"
             ],
             [
              1,
              "#f0f921"
             ]
            ],
            "type": "histogram2d"
           }
          ],
          "histogram2dcontour": [
           {
            "colorbar": {
             "outlinewidth": 0,
             "ticks": ""
            },
            "colorscale": [
             [
              0,
              "#0d0887"
             ],
             [
              0.1111111111111111,
              "#46039f"
             ],
             [
              0.2222222222222222,
              "#7201a8"
             ],
             [
              0.3333333333333333,
              "#9c179e"
             ],
             [
              0.4444444444444444,
              "#bd3786"
             ],
             [
              0.5555555555555556,
              "#d8576b"
             ],
             [
              0.6666666666666666,
              "#ed7953"
             ],
             [
              0.7777777777777778,
              "#fb9f3a"
             ],
             [
              0.8888888888888888,
              "#fdca26"
             ],
             [
              1,
              "#f0f921"
             ]
            ],
            "type": "histogram2dcontour"
           }
          ],
          "mesh3d": [
           {
            "colorbar": {
             "outlinewidth": 0,
             "ticks": ""
            },
            "type": "mesh3d"
           }
          ],
          "parcoords": [
           {
            "line": {
             "colorbar": {
              "outlinewidth": 0,
              "ticks": ""
             }
            },
            "type": "parcoords"
           }
          ],
          "pie": [
           {
            "automargin": true,
            "type": "pie"
           }
          ],
          "scatter": [
           {
            "fillpattern": {
             "fillmode": "overlay",
             "size": 10,
             "solidity": 0.2
            },
            "type": "scatter"
           }
          ],
          "scatter3d": [
           {
            "line": {
             "colorbar": {
              "outlinewidth": 0,
              "ticks": ""
             }
            },
            "marker": {
             "colorbar": {
              "outlinewidth": 0,
              "ticks": ""
             }
            },
            "type": "scatter3d"
           }
          ],
          "scattercarpet": [
           {
            "marker": {
             "colorbar": {
              "outlinewidth": 0,
              "ticks": ""
             }
            },
            "type": "scattercarpet"
           }
          ],
          "scattergeo": [
           {
            "marker": {
             "colorbar": {
              "outlinewidth": 0,
              "ticks": ""
             }
            },
            "type": "scattergeo"
           }
          ],
          "scattergl": [
           {
            "marker": {
             "colorbar": {
              "outlinewidth": 0,
              "ticks": ""
             }
            },
            "type": "scattergl"
           }
          ],
          "scattermapbox": [
           {
            "marker": {
             "colorbar": {
              "outlinewidth": 0,
              "ticks": ""
             }
            },
            "type": "scattermapbox"
           }
          ],
          "scatterpolar": [
           {
            "marker": {
             "colorbar": {
              "outlinewidth": 0,
              "ticks": ""
             }
            },
            "type": "scatterpolar"
           }
          ],
          "scatterpolargl": [
           {
            "marker": {
             "colorbar": {
              "outlinewidth": 0,
              "ticks": ""
             }
            },
            "type": "scatterpolargl"
           }
          ],
          "scatterternary": [
           {
            "marker": {
             "colorbar": {
              "outlinewidth": 0,
              "ticks": ""
             }
            },
            "type": "scatterternary"
           }
          ],
          "surface": [
           {
            "colorbar": {
             "outlinewidth": 0,
             "ticks": ""
            },
            "colorscale": [
             [
              0,
              "#0d0887"
             ],
             [
              0.1111111111111111,
              "#46039f"
             ],
             [
              0.2222222222222222,
              "#7201a8"
             ],
             [
              0.3333333333333333,
              "#9c179e"
             ],
             [
              0.4444444444444444,
              "#bd3786"
             ],
             [
              0.5555555555555556,
              "#d8576b"
             ],
             [
              0.6666666666666666,
              "#ed7953"
             ],
             [
              0.7777777777777778,
              "#fb9f3a"
             ],
             [
              0.8888888888888888,
              "#fdca26"
             ],
             [
              1,
              "#f0f921"
             ]
            ],
            "type": "surface"
           }
          ],
          "table": [
           {
            "cells": {
             "fill": {
              "color": "#EBF0F8"
             },
             "line": {
              "color": "white"
             }
            },
            "header": {
             "fill": {
              "color": "#C8D4E3"
             },
             "line": {
              "color": "white"
             }
            },
            "type": "table"
           }
          ]
         },
         "layout": {
          "annotationdefaults": {
           "arrowcolor": "#2a3f5f",
           "arrowhead": 0,
           "arrowwidth": 1
          },
          "autotypenumbers": "strict",
          "coloraxis": {
           "colorbar": {
            "outlinewidth": 0,
            "ticks": ""
           }
          },
          "colorscale": {
           "diverging": [
            [
             0,
             "#8e0152"
            ],
            [
             0.1,
             "#c51b7d"
            ],
            [
             0.2,
             "#de77ae"
            ],
            [
             0.3,
             "#f1b6da"
            ],
            [
             0.4,
             "#fde0ef"
            ],
            [
             0.5,
             "#f7f7f7"
            ],
            [
             0.6,
             "#e6f5d0"
            ],
            [
             0.7,
             "#b8e186"
            ],
            [
             0.8,
             "#7fbc41"
            ],
            [
             0.9,
             "#4d9221"
            ],
            [
             1,
             "#276419"
            ]
           ],
           "sequential": [
            [
             0,
             "#0d0887"
            ],
            [
             0.1111111111111111,
             "#46039f"
            ],
            [
             0.2222222222222222,
             "#7201a8"
            ],
            [
             0.3333333333333333,
             "#9c179e"
            ],
            [
             0.4444444444444444,
             "#bd3786"
            ],
            [
             0.5555555555555556,
             "#d8576b"
            ],
            [
             0.6666666666666666,
             "#ed7953"
            ],
            [
             0.7777777777777778,
             "#fb9f3a"
            ],
            [
             0.8888888888888888,
             "#fdca26"
            ],
            [
             1,
             "#f0f921"
            ]
           ],
           "sequentialminus": [
            [
             0,
             "#0d0887"
            ],
            [
             0.1111111111111111,
             "#46039f"
            ],
            [
             0.2222222222222222,
             "#7201a8"
            ],
            [
             0.3333333333333333,
             "#9c179e"
            ],
            [
             0.4444444444444444,
             "#bd3786"
            ],
            [
             0.5555555555555556,
             "#d8576b"
            ],
            [
             0.6666666666666666,
             "#ed7953"
            ],
            [
             0.7777777777777778,
             "#fb9f3a"
            ],
            [
             0.8888888888888888,
             "#fdca26"
            ],
            [
             1,
             "#f0f921"
            ]
           ]
          },
          "colorway": [
           "#636efa",
           "#EF553B",
           "#00cc96",
           "#ab63fa",
           "#FFA15A",
           "#19d3f3",
           "#FF6692",
           "#B6E880",
           "#FF97FF",
           "#FECB52"
          ],
          "font": {
           "color": "#2a3f5f"
          },
          "geo": {
           "bgcolor": "white",
           "lakecolor": "white",
           "landcolor": "white",
           "showlakes": true,
           "showland": true,
           "subunitcolor": "#C8D4E3"
          },
          "hoverlabel": {
           "align": "left"
          },
          "hovermode": "closest",
          "mapbox": {
           "style": "light"
          },
          "paper_bgcolor": "white",
          "plot_bgcolor": "white",
          "polar": {
           "angularaxis": {
            "gridcolor": "#EBF0F8",
            "linecolor": "#EBF0F8",
            "ticks": ""
           },
           "bgcolor": "white",
           "radialaxis": {
            "gridcolor": "#EBF0F8",
            "linecolor": "#EBF0F8",
            "ticks": ""
           }
          },
          "scene": {
           "xaxis": {
            "backgroundcolor": "white",
            "gridcolor": "#DFE8F3",
            "gridwidth": 2,
            "linecolor": "#EBF0F8",
            "showbackground": true,
            "ticks": "",
            "zerolinecolor": "#EBF0F8"
           },
           "yaxis": {
            "backgroundcolor": "white",
            "gridcolor": "#DFE8F3",
            "gridwidth": 2,
            "linecolor": "#EBF0F8",
            "showbackground": true,
            "ticks": "",
            "zerolinecolor": "#EBF0F8"
           },
           "zaxis": {
            "backgroundcolor": "white",
            "gridcolor": "#DFE8F3",
            "gridwidth": 2,
            "linecolor": "#EBF0F8",
            "showbackground": true,
            "ticks": "",
            "zerolinecolor": "#EBF0F8"
           }
          },
          "shapedefaults": {
           "line": {
            "color": "#2a3f5f"
           }
          },
          "ternary": {
           "aaxis": {
            "gridcolor": "#DFE8F3",
            "linecolor": "#A2B1C6",
            "ticks": ""
           },
           "baxis": {
            "gridcolor": "#DFE8F3",
            "linecolor": "#A2B1C6",
            "ticks": ""
           },
           "bgcolor": "white",
           "caxis": {
            "gridcolor": "#DFE8F3",
            "linecolor": "#A2B1C6",
            "ticks": ""
           }
          },
          "title": {
           "x": 0.05
          },
          "xaxis": {
           "automargin": true,
           "gridcolor": "#EBF0F8",
           "linecolor": "#EBF0F8",
           "ticks": "",
           "title": {
            "standoff": 15
           },
           "zerolinecolor": "#EBF0F8",
           "zerolinewidth": 2
          },
          "yaxis": {
           "automargin": true,
           "gridcolor": "#EBF0F8",
           "linecolor": "#EBF0F8",
           "ticks": "",
           "title": {
            "standoff": 15
           },
           "zerolinecolor": "#EBF0F8",
           "zerolinewidth": 2
          }
         }
        },
        "title": {
         "text": "Streams vs. Danceability"
        },
        "xaxis": {
         "anchor": "y",
         "autorange": false,
         "domain": [
          0,
          1
         ],
         "range": [
          54.98652842431937,
          56.21378191564395
         ],
         "title": {
          "text": "danceability"
         },
         "type": "linear"
        },
        "yaxis": {
         "anchor": "x",
         "autorange": false,
         "domain": [
          0,
          1
         ],
         "range": [
          497672928.64558053,
          804247955.836519
         ],
         "title": {
          "text": "streams"
         },
         "type": "linear"
        }
       }
      },
      "image/png": "[encoded data removed]",
      "text/html": [
       "<div>                            <div id=\"338d7665-7796-47e5-9a32-c14df52a34f5\" class=\"plotly-graph-div\" style=\"height:525px; width:100%;\"></div>            <script type=\"text/javascript\">                require([\"plotly\"], function(Plotly) {                    window.PLOTLYENV=window.PLOTLYENV || {};                                    if (document.getElementById(\"338d7665-7796-47e5-9a32-c14df52a34f5\")) {                    Plotly.newPlot(                        \"338d7665-7796-47e5-9a32-c14df52a34f5\",                        [{\"hovertemplate\":\"danceability=%{marker.color}\\u003cbr\\u003estreams=%{y}\\u003cextra\\u003e\\u003c\\u002fextra\\u003e\",\"legendgroup\":\"\",\"marker\":{\"color\":[80,71,51,55,65],\"coloraxis\":\"coloraxis\",\"symbol\":\"circle\"},\"mode\":\"markers\",\"name\":\"\",\"orientation\":\"v\",\"showlegend\":false,\"x\":[80,71,51,55,65],\"xaxis\":\"x\",\"y\":[141381703.0,133716286.0,140003974.0,800840817.0,303236322.0],\"yaxis\":\"y\",\"type\":\"scatter\"}],                        {\"template\":{\"data\":{\"barpolar\":[{\"marker\":{\"line\":{\"color\":\"white\",\"width\":0.5},\"pattern\":{\"fillmode\":\"overlay\",\"size\":10,\"solidity\":0.2}},\"type\":\"barpolar\"}],\"bar\":[{\"error_x\":{\"color\":\"#2a3f5f\"},\"error_y\":{\"color\":\"#2a3f5f\"},\"marker\":{\"line\":{\"color\":\"white\",\"width\":0.5},\"pattern\":{\"fillmode\":\"overlay\",\"size\":10,\"solidity\":0.2}},\"type\":\"bar\"}],\"carpet\":[{\"aaxis\":{\"endlinecolor\":\"#2a3f5f\",\"gridcolor\":\"#C8D4E3\",\"linecolor\":\"#C8D4E3\",\"minorgridcolor\":\"#C8D4E3\",\"startlinecolor\":\"#2a3f5f\"},\"baxis\":{\"endlinecolor\":\"#2a3f5f\",\"gridcolor\":\"#C8D4E3\",\"linecolor\":\"#C8D4E3\",\"minorgridcolor\":\"#C8D4E3\",\"startlinecolor\":\"#2a3f5f\"},\"type\":\"carpet\"}],\"choropleth\":[{\"colorbar\":{\"outlinewidth\":0,\"ticks\":\"\"},\"type\":\"choropleth\"}],\"contourcarpet\":[{\"colorbar\":{\"outlinewidth\":0,\"ticks\":\"\"},\"type\":\"contourcarpet\"}],\"contour\":[{\"colorbar\":{\"outlinewidth\":0,\"ticks\":\"\"},\"colorscale\":[[0.0,\"#0d0887\"],[0.1111111111111111,\"#46039f\"],[0.2222222222222222,\"#7201a8\"],[0.3333333333333333,\"#9c179e\"],[0.4444444444444444,\"#bd3786\"],[0.5555555555555556,\"#d8576b\"],[0.6666666666666666,\"#ed7953\"],[0.7777777777777778,\"#fb9f3a\"],[0.8888888888888888,\"#fdca26\"],[1.0,\"#f0f921\"]],\"type\":\"contour\"}],\"heatmapgl\":[{\"colorbar\":{\"outlinewidth\":0,\"ticks\":\"\"},\"colorscale\":[[0.0,\"#0d0887\"],[0.1111111111111111,\"#46039f\"],[0.2222222222222222,\"#7201a8\"],[0.3333333333333333,\"#9c179e\"],[0.4444444444444444,\"#bd3786\"],[0.5555555555555556,\"#d8576b\"],[0.6666666666666666,\"#ed7953\"],[0.7777777777777778,\"#fb9f3a\"],[0.8888888888888888,\"#fdca26\"],[1.0,\"#f0f921\"]],\"type\":\"heatmapgl\"}],\"heatmap\":[{\"colorbar\":{\"outlinewidth\":0,\"ticks\":\"\"},\"colorscale\":[[0.0,\"#0d0887\"],[0.1111111111111111,\"#46039f\"],[0.2222222222222222,\"#7201a8\"],[0.3333333333333333,\"#9c179e\"],[0.4444444444444444,\"#bd3786\"],[0.5555555555555556,\"#d8576b\"],[0.6666666666666666,\"#ed7953\"],[0.7777777777777778,\"#fb9f3a\"],[0.8888888888888888,\"#fdca26\"],[1.0,\"#f0f921\"]],\"type\":\"heatmap\"}],\"histogram2dcontour\":[{\"colorbar\":{\"outlinewidth\":0,\"ticks\":\"\"},\"colorscale\":[[0.0,\"#0d0887\"],[0.1111111111111111,\"#46039f\"],[0.2222222222222222,\"#7201a8\"],[0.3333333333333333,\"#9c179e\"],[0.4444444444444444,\"#bd3786\"],[0.5555555555555556,\"#d8576b\"],[0.6666666666666666,\"#ed7953\"],[0.7777777777777778,\"#fb9f3a\"],[0.8888888888888888,\"#fdca26\"],[1.0,\"#f0f921\"]],\"type\":\"histogram2dcontour\"}],\"histogram2d\":[{\"colorbar\":{\"outlinewidth\":0,\"ticks\":\"\"},\"colorscale\":[[0.0,\"#0d0887\"],[0.1111111111111111,\"#46039f\"],[0.2222222222222222,\"#7201a8\"],[0.3333333333333333,\"#9c179e\"],[0.4444444444444444,\"#bd3786\"],[0.5555555555555556,\"#d8576b\"],[0.6666666666666666,\"#ed7953\"],[0.7777777777777778,\"#fb9f3a\"],[0.8888888888888888,\"#fdca26\"],[1.0,\"#f0f921\"]],\"type\":\"histogram2d\"}],\"histogram\":[{\"marker\":{\"pattern\":{\"fillmode\":\"overlay\",\"size\":10,\"solidity\":0.2}},\"type\":\"histogram\"}],\"mesh3d\":[{\"colorbar\":{\"outlinewidth\":0,\"ticks\":\"\"},\"type\":\"mesh3d\"}],\"parcoords\":[{\"line\":{\"colorbar\":{\"outlinewidth\":0,\"ticks\":\"\"}},\"type\":\"parcoords\"}],\"pie\":[{\"automargin\":true,\"type\":\"pie\"}],\"scatter3d\":[{\"line\":{\"colorbar\":{\"outlinewidth\":0,\"ticks\":\"\"}},\"marker\":{\"colorbar\":{\"outlinewidth\":0,\"ticks\":\"\"}},\"type\":\"scatter3d\"}],\"scattercarpet\":[{\"marker\":{\"colorbar\":{\"outlinewidth\":0,\"ticks\":\"\"}},\"type\":\"scattercarpet\"}],\"scattergeo\":[{\"marker\":{\"colorbar\":{\"outlinewidth\":0,\"ticks\":\"\"}},\"type\":\"scattergeo\"}],\"scattergl\":[{\"marker\":{\"colorbar\":{\"outlinewidth\":0,\"ticks\":\"\"}},\"type\":\"scattergl\"}],\"scattermapbox\":[{\"marker\":{\"colorbar\":{\"outlinewidth\":0,\"ticks\":\"\"}},\"type\":\"scattermapbox\"}],\"scatterpolargl\":[{\"marker\":{\"colorbar\":{\"outlinewidth\":0,\"ticks\":\"\"}},\"type\":\"scatterpolargl\"}],\"scatterpolar\":[{\"marker\":{\"colorbar\":{\"outlinewidth\":0,\"ticks\":\"\"}},\"type\":\"scatterpolar\"}],\"scatter\":[{\"fillpattern\":{\"fillmode\":\"overlay\",\"size\":10,\"solidity\":0.2},\"type\":\"scatter\"}],\"scatterternary\":[{\"marker\":{\"colorbar\":{\"outlinewidth\":0,\"ticks\":\"\"}},\"type\":\"scatterternary\"}],\"surface\":[{\"colorbar\":{\"outlinewidth\":0,\"ticks\":\"\"},\"colorscale\":[[0.0,\"#0d0887\"],[0.1111111111111111,\"#46039f\"],[0.2222222222222222,\"#7201a8\"],[0.3333333333333333,\"#9c179e\"],[0.4444444444444444,\"#bd3786\"],[0.5555555555555556,\"#d8576b\"],[0.6666666666666666,\"#ed7953\"],[0.7777777777777778,\"#fb9f3a\"],[0.8888888888888888,\"#fdca26\"],[1.0,\"#f0f921\"]],\"type\":\"surface\"}],\"table\":[{\"cells\":{\"fill\":{\"color\":\"#EBF0F8\"},\"line\":{\"color\":\"white\"}},\"header\":{\"fill\":{\"color\":\"#C8D4E3\"},\"line\":{\"color\":\"white\"}},\"type\":\"table\"}]},\"layout\":{\"annotationdefaults\":{\"arrowcolor\":\"#2a3f5f\",\"arrowhead\":0,\"arrowwidth\":1},\"autotypenumbers\":\"strict\",\"coloraxis\":{\"colorbar\":{\"outlinewidth\":0,\"ticks\":\"\"}},\"colorscale\":{\"diverging\":[[0,\"#8e0152\"],[0.1,\"#c51b7d\"],[0.2,\"#de77ae\"],[0.3,\"#f1b6da\"],[0.4,\"#fde0ef\"],[0.5,\"#f7f7f7\"],[0.6,\"#e6f5d0\"],[0.7,\"#b8e186\"],[0.8,\"#7fbc41\"],[0.9,\"#4d9221\"],[1,\"#276419\"]],\"sequential\":[[0.0,\"#0d0887\"],[0.1111111111111111,\"#46039f\"],[0.2222222222222222,\"#7201a8\"],[0.3333333333333333,\"#9c179e\"],[0.4444444444444444,\"#bd3786\"],[0.5555555555555556,\"#d8576b\"],[0.6666666666666666,\"#ed7953\"],[0.7777777777777778,\"#fb9f3a\"],[0.8888888888888888,\"#fdca26\"],[1.0,\"#f0f921\"]],\"sequentialminus\":[[0.0,\"#0d0887\"],[0.1111111111111111,\"#46039f\"],[0.2222222222222222,\"#7201a8\"],[0.3333333333333333,\"#9c179e\"],[0.4444444444444444,\"#bd3786\"],[0.5555555555555556,\"#d8576b\"],[0.6666666666666666,\"#ed7953\"],[0.7777777777777778,\"#fb9f3a\"],[0.8888888888888888,\"#fdca26\"],[1.0,\"#f0f921\"]]},\"colorway\":[\"#636efa\",\"#EF553B\",\"#00cc96\",\"#ab63fa\",\"#FFA15A\",\"#19d3f3\",\"#FF6692\",\"#B6E880\",\"#FF97FF\",\"#FECB52\"],\"font\":{\"color\":\"#2a3f5f\"},\"geo\":{\"bgcolor\":\"white\",\"lakecolor\":\"white\",\"landcolor\":\"white\",\"showlakes\":true,\"showland\":true,\"subunitcolor\":\"#C8D4E3\"},\"hoverlabel\":{\"align\":\"left\"},\"hovermode\":\"closest\",\"mapbox\":{\"style\":\"light\"},\"paper_bgcolor\":\"white\",\"plot_bgcolor\":\"white\",\"polar\":{\"angularaxis\":{\"gridcolor\":\"#EBF0F8\",\"linecolor\":\"#EBF0F8\",\"ticks\":\"\"},\"bgcolor\":\"white\",\"radialaxis\":{\"gridcolor\":\"#EBF0F8\",\"linecolor\":\"#EBF0F8\",\"ticks\":\"\"}},\"scene\":{\"xaxis\":{\"backgroundcolor\":\"white\",\"gridcolor\":\"#DFE8F3\",\"gridwidth\":2,\"linecolor\":\"#EBF0F8\",\"showbackground\":true,\"ticks\":\"\",\"zerolinecolor\":\"#EBF0F8\"},\"yaxis\":{\"backgroundcolor\":\"white\",\"gridcolor\":\"#DFE8F3\",\"gridwidth\":2,\"linecolor\":\"#EBF0F8\",\"showbackground\":true,\"ticks\":\"\",\"zerolinecolor\":\"#EBF0F8\"},\"zaxis\":{\"backgroundcolor\":\"white\",\"gridcolor\":\"#DFE8F3\",\"gridwidth\":2,\"linecolor\":\"#EBF0F8\",\"showbackground\":true,\"ticks\":\"\",\"zerolinecolor\":\"#EBF0F8\"}},\"shapedefaults\":{\"line\":{\"color\":\"#2a3f5f\"}},\"ternary\":{\"aaxis\":{\"gridcolor\":\"#DFE8F3\",\"linecolor\":\"#A2B1C6\",\"ticks\":\"\"},\"baxis\":{\"gridcolor\":\"#DFE8F3\",\"linecolor\":\"#A2B1C6\",\"ticks\":\"\"},\"bgcolor\":\"white\",\"caxis\":{\"gridcolor\":\"#DFE8F3\",\"linecolor\":\"#A2B1C6\",\"ticks\":\"\"}},\"title\":{\"x\":0.05},\"xaxis\":{\"automargin\":true,\"gridcolor\":\"#EBF0F8\",\"linecolor\":\"#EBF0F8\",\"ticks\":\"\",\"title\":{\"standoff\":15},\"zerolinecolor\":\"#EBF0F8\",\"zerolinewidth\":2},\"yaxis\":{\"automargin\":true,\"gridcolor\":\"#EBF0F8\",\"linecolor\":\"#EBF0F8\",\"ticks\":\"\",\"title\":{\"standoff\":15},\"zerolinecolor\":\"#EBF0F8\",\"zerolinewidth\":2}}},\"xaxis\":{\"anchor\":\"y\",\"domain\":[0.0,1.0],\"title\":{\"text\":\"danceability\"}},\"yaxis\":{\"anchor\":\"x\",\"domain\":[0.0,1.0],\"title\":{\"text\":\"streams\"}},\"coloraxis\":{\"colorbar\":{\"title\":{\"text\":\"danceability\"}},\"colorscale\":[[0.0,\"#440154\"],[0.1111111111111111,\"#482878\"],[0.2222222222222222,\"#3e4989\"],[0.3333333333333333,\"#31688e\"],[0.4444444444444444,\"#26828e\"],[0.5555555555555556,\"#1f9e89\"],[0.6666666666666666,\"#35b779\"],[0.7777777777777778,\"#6ece58\"],[0.8888888888888888,\"#b5de2b\"],[1.0,\"#fde725\"]]},\"legend\":{\"tracegroupgap\":0},\"title\":{\"text\":\"Streams vs. Danceability\"}},                        {\"responsive\": true}                    ).then(function(){\n",
       "                            \n",
       "var gd = document.getElementById('338d7665-7796-47e5-9a32-c14df52a34f5');\n",
       "var x = new MutationObserver(function (mutations, observer) {{\n",
       "        var display = window.getComputedStyle(gd).display;\n",
       "        if (!display || display === 'none') {{\n",
       "            console.log([gd, 'removed!']);\n",
       "            Plotly.purge(gd);\n",
       "            observer.disconnect();\n",
       "        }}\n",
       "}});\n",
       "\n",
       "// Listen for the removal of the full notebook cells\n",
       "var notebookContainer = gd.closest('#notebook-container');\n",
       "if (notebookContainer) {{\n",
       "    x.observe(notebookContainer, {childList: true});\n",
       "}}\n",
       "\n",
       "// Listen for the clearing of the current output cell\n",
       "var outputEl = gd.closest('.output');\n",
       "if (outputEl) {{\n",
       "    x.observe(outputEl, {childList: true});\n",
       "}}\n",
       "\n",
       "                        })                };                });            </script>        </div>"
      ]
     },
     "metadata": {},
     "output_type": "display_data"
    }
   ],
   "source": [
    "px.scatter(df_features, x='danceability', y='streams',color = 'danceability', \n",
    "           color_continuous_scale=px.colors.sequential.Viridis,template='plotly_white',\n",
    "           title = \"Streams vs. Danceability\")"
   ]
  },
  {
   "cell_type": "code",
   "execution_count": 110,
   "id": "384852b2-0782-4ec9-8b6a-932c8e47f856",
   "metadata": {},
   "outputs": [
    {
     "data": {
      "application/vnd.plotly.v1+json": {
       "config": {
        "plotlyServerURL": "https://plot.ly"
       },
       "data": [
        {
         "hovertemplate": "speechiness=%{x}<br>streams=%{y}<br>danceability=%{marker.color}<extra></extra>",
         "legendgroup": "",
         "marker": {
          "color": [
           80,
           71,
           51,
           55,
           65
          ],
          "coloraxis": "coloraxis",
          "symbol": "circle"
         },
         "mode": "markers",
         "name": "",
         "orientation": "v",
         "showlegend": false,
         "type": "scatter",
         "x": [
          4,
          4,
          6,
          15,
          6
         ],
         "xaxis": "x",
         "y": [
          141381703,
          133716286,
          140003974,
          800840817,
          303236322
         ],
         "yaxis": "y"
        }
       ],
       "layout": {
        "autosize": true,
        "coloraxis": {
         "colorbar": {
          "title": {
           "text": "danceability"
          }
         },
         "colorscale": [
          [
           0,
           "#440154"
          ],
          [
           0.1111111111111111,
           "#482878"
          ],
          [
           0.2222222222222222,
           "#3e4989"
          ],
          [
           0.3333333333333333,
           "#31688e"
          ],
          [
           0.4444444444444444,
           "#26828e"
          ],
          [
           0.5555555555555556,
           "#1f9e89"
          ],
          [
           0.6666666666666666,
           "#35b779"
          ],
          [
           0.7777777777777778,
           "#6ece58"
          ],
          [
           0.8888888888888888,
           "#b5de2b"
          ],
          [
           1,
           "#fde725"
          ]
         ]
        },
        "legend": {
         "tracegroupgap": 0
        },
        "template": {
         "data": {
          "bar": [
           {
            "error_x": {
             "color": "#2a3f5f"
            },
            "error_y": {
             "color": "#2a3f5f"
            },
            "marker": {
             "line": {
              "color": "white",
              "width": 0.5
             },
             "pattern": {
              "fillmode": "overlay",
              "size": 10,
              "solidity": 0.2
             }
            },
            "type": "bar"
           }
          ],
          "barpolar": [
           {
            "marker": {
             "line": {
              "color": "white",
              "width": 0.5
             },
             "pattern": {
              "fillmode": "overlay",
              "size": 10,
              "solidity": 0.2
             }
            },
            "type": "barpolar"
           }
          ],
          "carpet": [
           {
            "aaxis": {
             "endlinecolor": "#2a3f5f",
             "gridcolor": "#C8D4E3",
             "linecolor": "#C8D4E3",
             "minorgridcolor": "#C8D4E3",
             "startlinecolor": "#2a3f5f"
            },
            "baxis": {
             "endlinecolor": "#2a3f5f",
             "gridcolor": "#C8D4E3",
             "linecolor": "#C8D4E3",
             "minorgridcolor": "#C8D4E3",
             "startlinecolor": "#2a3f5f"
            },
            "type": "carpet"
           }
          ],
          "choropleth": [
           {
            "colorbar": {
             "outlinewidth": 0,
             "ticks": ""
            },
            "type": "choropleth"
           }
          ],
          "contour": [
           {
            "colorbar": {
             "outlinewidth": 0,
             "ticks": ""
            },
            "colorscale": [
             [
              0,
              "#0d0887"
             ],
             [
              0.1111111111111111,
              "#46039f"
             ],
             [
              0.2222222222222222,
              "#7201a8"
             ],
             [
              0.3333333333333333,
              "#9c179e"
             ],
             [
              0.4444444444444444,
              "#bd3786"
             ],
             [
              0.5555555555555556,
              "#d8576b"
             ],
             [
              0.6666666666666666,
              "#ed7953"
             ],
             [
              0.7777777777777778,
              "#fb9f3a"
             ],
             [
              0.8888888888888888,
              "#fdca26"
             ],
             [
              1,
              "#f0f921"
             ]
            ],
            "type": "contour"
           }
          ],
          "contourcarpet": [
           {
            "colorbar": {
             "outlinewidth": 0,
             "ticks": ""
            },
            "type": "contourcarpet"
           }
          ],
          "heatmap": [
           {
            "colorbar": {
             "outlinewidth": 0,
             "ticks": ""
            },
            "colorscale": [
             [
              0,
              "#0d0887"
             ],
             [
              0.1111111111111111,
              "#46039f"
             ],
             [
              0.2222222222222222,
              "#7201a8"
             ],
             [
              0.3333333333333333,
              "#9c179e"
             ],
             [
              0.4444444444444444,
              "#bd3786"
             ],
             [
              0.5555555555555556,
              "#d8576b"
             ],
             [
              0.6666666666666666,
              "#ed7953"
             ],
             [
              0.7777777777777778,
              "#fb9f3a"
             ],
             [
              0.8888888888888888,
              "#fdca26"
             ],
             [
              1,
              "#f0f921"
             ]
            ],
            "type": "heatmap"
           }
          ],
          "heatmapgl": [
           {
            "colorbar": {
             "outlinewidth": 0,
             "ticks": ""
            },
            "colorscale": [
             [
              0,
              "#0d0887"
             ],
             [
              0.1111111111111111,
              "#46039f"
             ],
             [
              0.2222222222222222,
              "#7201a8"
             ],
             [
              0.3333333333333333,
              "#9c179e"
             ],
             [
              0.4444444444444444,
              "#bd3786"
             ],
             [
              0.5555555555555556,
              "#d8576b"
             ],
             [
              0.6666666666666666,
              "#ed7953"
             ],
             [
              0.7777777777777778,
              "#fb9f3a"
             ],
             [
              0.8888888888888888,
              "#fdca26"
             ],
             [
              1,
              "#f0f921"
             ]
            ],
            "type": "heatmapgl"
           }
          ],
          "histogram": [
           {
            "marker": {
             "pattern": {
              "fillmode": "overlay",
              "size": 10,
              "solidity": 0.2
             }
            },
            "type": "histogram"
           }
          ],
          "histogram2d": [
           {
            "colorbar": {
             "outlinewidth": 0,
             "ticks": ""
            },
            "colorscale": [
             [
              0,
              "#0d0887"
             ],
             [
              0.1111111111111111,
              "#46039f"
             ],
             [
              0.2222222222222222,
              "#7201a8"
             ],
             [
              0.3333333333333333,
              "#9c179e"
             ],
             [
              0.4444444444444444,
              "#bd3786"
             ],
             [
              0.5555555555555556,
              "#d8576b"
             ],
             [
              0.6666666666666666,
              "#ed7953"
             ],
             [
              0.7777777777777778,
              "#fb9f3a"
             ],
             [
              0.8888888888888888,
              "#fdca26"
             ],
             [
              1,
              "#f0f921"
             ]
            ],
            "type": "histogram2d"
           }
          ],
          "histogram2dcontour": [
           {
            "colorbar": {
             "outlinewidth": 0,
             "ticks": ""
            },
            "colorscale": [
             [
              0,
              "#0d0887"
             ],
             [
              0.1111111111111111,
              "#46039f"
             ],
             [
              0.2222222222222222,
              "#7201a8"
             ],
             [
              0.3333333333333333,
              "#9c179e"
             ],
             [
              0.4444444444444444,
              "#bd3786"
             ],
             [
              0.5555555555555556,
              "#d8576b"
             ],
             [
              0.6666666666666666,
              "#ed7953"
             ],
             [
              0.7777777777777778,
              "#fb9f3a"
             ],
             [
              0.8888888888888888,
              "#fdca26"
             ],
             [
              1,
              "#f0f921"
             ]
            ],
            "type": "histogram2dcontour"
           }
          ],
          "mesh3d": [
           {
            "colorbar": {
             "outlinewidth": 0,
             "ticks": ""
            },
            "type": "mesh3d"
           }
          ],
          "parcoords": [
           {
            "line": {
             "colorbar": {
              "outlinewidth": 0,
              "ticks": ""
             }
            },
            "type": "parcoords"
           }
          ],
          "pie": [
           {
            "automargin": true,
            "type": "pie"
           }
          ],
          "scatter": [
           {
            "fillpattern": {
             "fillmode": "overlay",
             "size": 10,
             "solidity": 0.2
            },
            "type": "scatter"
           }
          ],
          "scatter3d": [
           {
            "line": {
             "colorbar": {
              "outlinewidth": 0,
              "ticks": ""
             }
            },
            "marker": {
             "colorbar": {
              "outlinewidth": 0,
              "ticks": ""
             }
            },
            "type": "scatter3d"
           }
          ],
          "scattercarpet": [
           {
            "marker": {
             "colorbar": {
              "outlinewidth": 0,
              "ticks": ""
             }
            },
            "type": "scattercarpet"
           }
          ],
          "scattergeo": [
           {
            "marker": {
             "colorbar": {
              "outlinewidth": 0,
              "ticks": ""
             }
            },
            "type": "scattergeo"
           }
          ],
          "scattergl": [
           {
            "marker": {
             "colorbar": {
              "outlinewidth": 0,
              "ticks": ""
             }
            },
            "type": "scattergl"
           }
          ],
          "scattermapbox": [
           {
            "marker": {
             "colorbar": {
              "outlinewidth": 0,
              "ticks": ""
             }
            },
            "type": "scattermapbox"
           }
          ],
          "scatterpolar": [
           {
            "marker": {
             "colorbar": {
              "outlinewidth": 0,
              "ticks": ""
             }
            },
            "type": "scatterpolar"
           }
          ],
          "scatterpolargl": [
           {
            "marker": {
             "colorbar": {
              "outlinewidth": 0,
              "ticks": ""
             }
            },
            "type": "scatterpolargl"
           }
          ],
          "scatterternary": [
           {
            "marker": {
             "colorbar": {
              "outlinewidth": 0,
              "ticks": ""
             }
            },
            "type": "scatterternary"
           }
          ],
          "surface": [
           {
            "colorbar": {
             "outlinewidth": 0,
             "ticks": ""
            },
            "colorscale": [
             [
              0,
              "#0d0887"
             ],
             [
              0.1111111111111111,
              "#46039f"
             ],
             [
              0.2222222222222222,
              "#7201a8"
             ],
             [
              0.3333333333333333,
              "#9c179e"
             ],
             [
              0.4444444444444444,
              "#bd3786"
             ],
             [
              0.5555555555555556,
              "#d8576b"
             ],
             [
              0.6666666666666666,
              "#ed7953"
             ],
             [
              0.7777777777777778,
              "#fb9f3a"
             ],
             [
              0.8888888888888888,
              "#fdca26"
             ],
             [
              1,
              "#f0f921"
             ]
            ],
            "type": "surface"
           }
          ],
          "table": [
           {
            "cells": {
             "fill": {
              "color": "#EBF0F8"
             },
             "line": {
              "color": "white"
             }
            },
            "header": {
             "fill": {
              "color": "#C8D4E3"
             },
             "line": {
              "color": "white"
             }
            },
            "type": "table"
           }
          ]
         },
         "layout": {
          "annotationdefaults": {
           "arrowcolor": "#2a3f5f",
           "arrowhead": 0,
           "arrowwidth": 1
          },
          "autotypenumbers": "strict",
          "coloraxis": {
           "colorbar": {
            "outlinewidth": 0,
            "ticks": ""
           }
          },
          "colorscale": {
           "diverging": [
            [
             0,
             "#8e0152"
            ],
            [
             0.1,
             "#c51b7d"
            ],
            [
             0.2,
             "#de77ae"
            ],
            [
             0.3,
             "#f1b6da"
            ],
            [
             0.4,
             "#fde0ef"
            ],
            [
             0.5,
             "#f7f7f7"
            ],
            [
             0.6,
             "#e6f5d0"
            ],
            [
             0.7,
             "#b8e186"
            ],
            [
             0.8,
             "#7fbc41"
            ],
            [
             0.9,
             "#4d9221"
            ],
            [
             1,
             "#276419"
            ]
           ],
           "sequential": [
            [
             0,
             "#0d0887"
            ],
            [
             0.1111111111111111,
             "#46039f"
            ],
            [
             0.2222222222222222,
             "#7201a8"
            ],
            [
             0.3333333333333333,
             "#9c179e"
            ],
            [
             0.4444444444444444,
             "#bd3786"
            ],
            [
             0.5555555555555556,
             "#d8576b"
            ],
            [
             0.6666666666666666,
             "#ed7953"
            ],
            [
             0.7777777777777778,
             "#fb9f3a"
            ],
            [
             0.8888888888888888,
             "#fdca26"
            ],
            [
             1,
             "#f0f921"
            ]
           ],
           "sequentialminus": [
            [
             0,
             "#0d0887"
            ],
            [
             0.1111111111111111,
             "#46039f"
            ],
            [
             0.2222222222222222,
             "#7201a8"
            ],
            [
             0.3333333333333333,
             "#9c179e"
            ],
            [
             0.4444444444444444,
             "#bd3786"
            ],
            [
             0.5555555555555556,
             "#d8576b"
            ],
            [
             0.6666666666666666,
             "#ed7953"
            ],
            [
             0.7777777777777778,
             "#fb9f3a"
            ],
            [
             0.8888888888888888,
             "#fdca26"
            ],
            [
             1,
             "#f0f921"
            ]
           ]
          },
          "colorway": [
           "#636efa",
           "#EF553B",
           "#00cc96",
           "#ab63fa",
           "#FFA15A",
           "#19d3f3",
           "#FF6692",
           "#B6E880",
           "#FF97FF",
           "#FECB52"
          ],
          "font": {
           "color": "#2a3f5f"
          },
          "geo": {
           "bgcolor": "white",
           "lakecolor": "white",
           "landcolor": "white",
           "showlakes": true,
           "showland": true,
           "subunitcolor": "#C8D4E3"
          },
          "hoverlabel": {
           "align": "left"
          },
          "hovermode": "closest",
          "mapbox": {
           "style": "light"
          },
          "paper_bgcolor": "white",
          "plot_bgcolor": "white",
          "polar": {
           "angularaxis": {
            "gridcolor": "#EBF0F8",
            "linecolor": "#EBF0F8",
            "ticks": ""
           },
           "bgcolor": "white",
           "radialaxis": {
            "gridcolor": "#EBF0F8",
            "linecolor": "#EBF0F8",
            "ticks": ""
           }
          },
          "scene": {
           "xaxis": {
            "backgroundcolor": "white",
            "gridcolor": "#DFE8F3",
            "gridwidth": 2,
            "linecolor": "#EBF0F8",
            "showbackground": true,
            "ticks": "",
            "zerolinecolor": "#EBF0F8"
           },
           "yaxis": {
            "backgroundcolor": "white",
            "gridcolor": "#DFE8F3",
            "gridwidth": 2,
            "linecolor": "#EBF0F8",
            "showbackground": true,
            "ticks": "",
            "zerolinecolor": "#EBF0F8"
           },
           "zaxis": {
            "backgroundcolor": "white",
            "gridcolor": "#DFE8F3",
            "gridwidth": 2,
            "linecolor": "#EBF0F8",
            "showbackground": true,
            "ticks": "",
            "zerolinecolor": "#EBF0F8"
           }
          },
          "shapedefaults": {
           "line": {
            "color": "#2a3f5f"
           }
          },
          "ternary": {
           "aaxis": {
            "gridcolor": "#DFE8F3",
            "linecolor": "#A2B1C6",
            "ticks": ""
           },
           "baxis": {
            "gridcolor": "#DFE8F3",
            "linecolor": "#A2B1C6",
            "ticks": ""
           },
           "bgcolor": "white",
           "caxis": {
            "gridcolor": "#DFE8F3",
            "linecolor": "#A2B1C6",
            "ticks": ""
           }
          },
          "title": {
           "x": 0.05
          },
          "xaxis": {
           "automargin": true,
           "gridcolor": "#EBF0F8",
           "linecolor": "#EBF0F8",
           "ticks": "",
           "title": {
            "standoff": 15
           },
           "zerolinecolor": "#EBF0F8",
           "zerolinewidth": 2
          },
          "yaxis": {
           "automargin": true,
           "gridcolor": "#EBF0F8",
           "linecolor": "#EBF0F8",
           "ticks": "",
           "title": {
            "standoff": 15
           },
           "zerolinecolor": "#EBF0F8",
           "zerolinewidth": 2
          }
         }
        },
        "title": {
         "text": "Streams vs. Speechiness"
        },
        "xaxis": {
         "anchor": "y",
         "autorange": true,
         "domain": [
          0,
          1
         ],
         "range": [
          3.3242347298631683,
          15.675765270136832
         ],
         "title": {
          "text": "speechiness"
         },
         "type": "linear"
        },
        "yaxis": {
         "anchor": "x",
         "autorange": true,
         "domain": [
          0,
          1
         ],
         "range": [
          78662319.84951457,
          855894783.1504854
         ],
         "title": {
          "text": "streams"
         },
         "type": "linear"
        }
       }
      },
      "image/png": "[encoded data removed]",
      "text/html": [
       "<div>                            <div id=\"55a8b56e-04df-41bc-b015-c43c39dcae74\" class=\"plotly-graph-div\" style=\"height:525px; width:100%;\"></div>            <script type=\"text/javascript\">                require([\"plotly\"], function(Plotly) {                    window.PLOTLYENV=window.PLOTLYENV || {};                                    if (document.getElementById(\"55a8b56e-04df-41bc-b015-c43c39dcae74\")) {                    Plotly.newPlot(                        \"55a8b56e-04df-41bc-b015-c43c39dcae74\",                        [{\"hovertemplate\":\"speechiness=%{x}\\u003cbr\\u003estreams=%{y}\\u003cbr\\u003edanceability=%{marker.color}\\u003cextra\\u003e\\u003c\\u002fextra\\u003e\",\"legendgroup\":\"\",\"marker\":{\"color\":[80,71,51,55,65],\"coloraxis\":\"coloraxis\",\"symbol\":\"circle\"},\"mode\":\"markers\",\"name\":\"\",\"orientation\":\"v\",\"showlegend\":false,\"x\":[4,4,6,15,6],\"xaxis\":\"x\",\"y\":[141381703.0,133716286.0,140003974.0,800840817.0,303236322.0],\"yaxis\":\"y\",\"type\":\"scatter\"}],                        {\"template\":{\"data\":{\"barpolar\":[{\"marker\":{\"line\":{\"color\":\"white\",\"width\":0.5},\"pattern\":{\"fillmode\":\"overlay\",\"size\":10,\"solidity\":0.2}},\"type\":\"barpolar\"}],\"bar\":[{\"error_x\":{\"color\":\"#2a3f5f\"},\"error_y\":{\"color\":\"#2a3f5f\"},\"marker\":{\"line\":{\"color\":\"white\",\"width\":0.5},\"pattern\":{\"fillmode\":\"overlay\",\"size\":10,\"solidity\":0.2}},\"type\":\"bar\"}],\"carpet\":[{\"aaxis\":{\"endlinecolor\":\"#2a3f5f\",\"gridcolor\":\"#C8D4E3\",\"linecolor\":\"#C8D4E3\",\"minorgridcolor\":\"#C8D4E3\",\"startlinecolor\":\"#2a3f5f\"},\"baxis\":{\"endlinecolor\":\"#2a3f5f\",\"gridcolor\":\"#C8D4E3\",\"linecolor\":\"#C8D4E3\",\"minorgridcolor\":\"#C8D4E3\",\"startlinecolor\":\"#2a3f5f\"},\"type\":\"carpet\"}],\"choropleth\":[{\"colorbar\":{\"outlinewidth\":0,\"ticks\":\"\"},\"type\":\"choropleth\"}],\"contourcarpet\":[{\"colorbar\":{\"outlinewidth\":0,\"ticks\":\"\"},\"type\":\"contourcarpet\"}],\"contour\":[{\"colorbar\":{\"outlinewidth\":0,\"ticks\":\"\"},\"colorscale\":[[0.0,\"#0d0887\"],[0.1111111111111111,\"#46039f\"],[0.2222222222222222,\"#7201a8\"],[0.3333333333333333,\"#9c179e\"],[0.4444444444444444,\"#bd3786\"],[0.5555555555555556,\"#d8576b\"],[0.6666666666666666,\"#ed7953\"],[0.7777777777777778,\"#fb9f3a\"],[0.8888888888888888,\"#fdca26\"],[1.0,\"#f0f921\"]],\"type\":\"contour\"}],\"heatmapgl\":[{\"colorbar\":{\"outlinewidth\":0,\"ticks\":\"\"},\"colorscale\":[[0.0,\"#0d0887\"],[0.1111111111111111,\"#46039f\"],[0.2222222222222222,\"#7201a8\"],[0.3333333333333333,\"#9c179e\"],[0.4444444444444444,\"#bd3786\"],[0.5555555555555556,\"#d8576b\"],[0.6666666666666666,\"#ed7953\"],[0.7777777777777778,\"#fb9f3a\"],[0.8888888888888888,\"#fdca26\"],[1.0,\"#f0f921\"]],\"type\":\"heatmapgl\"}],\"heatmap\":[{\"colorbar\":{\"outlinewidth\":0,\"ticks\":\"\"},\"colorscale\":[[0.0,\"#0d0887\"],[0.1111111111111111,\"#46039f\"],[0.2222222222222222,\"#7201a8\"],[0.3333333333333333,\"#9c179e\"],[0.4444444444444444,\"#bd3786\"],[0.5555555555555556,\"#d8576b\"],[0.6666666666666666,\"#ed7953\"],[0.7777777777777778,\"#fb9f3a\"],[0.8888888888888888,\"#fdca26\"],[1.0,\"#f0f921\"]],\"type\":\"heatmap\"}],\"histogram2dcontour\":[{\"colorbar\":{\"outlinewidth\":0,\"ticks\":\"\"},\"colorscale\":[[0.0,\"#0d0887\"],[0.1111111111111111,\"#46039f\"],[0.2222222222222222,\"#7201a8\"],[0.3333333333333333,\"#9c179e\"],[0.4444444444444444,\"#bd3786\"],[0.5555555555555556,\"#d8576b\"],[0.6666666666666666,\"#ed7953\"],[0.7777777777777778,\"#fb9f3a\"],[0.8888888888888888,\"#fdca26\"],[1.0,\"#f0f921\"]],\"type\":\"histogram2dcontour\"}],\"histogram2d\":[{\"colorbar\":{\"outlinewidth\":0,\"ticks\":\"\"},\"colorscale\":[[0.0,\"#0d0887\"],[0.1111111111111111,\"#46039f\"],[0.2222222222222222,\"#7201a8\"],[0.3333333333333333,\"#9c179e\"],[0.4444444444444444,\"#bd3786\"],[0.5555555555555556,\"#d8576b\"],[0.6666666666666666,\"#ed7953\"],[0.7777777777777778,\"#fb9f3a\"],[0.8888888888888888,\"#fdca26\"],[1.0,\"#f0f921\"]],\"type\":\"histogram2d\"}],\"histogram\":[{\"marker\":{\"pattern\":{\"fillmode\":\"overlay\",\"size\":10,\"solidity\":0.2}},\"type\":\"histogram\"}],\"mesh3d\":[{\"colorbar\":{\"outlinewidth\":0,\"ticks\":\"\"},\"type\":\"mesh3d\"}],\"parcoords\":[{\"line\":{\"colorbar\":{\"outlinewidth\":0,\"ticks\":\"\"}},\"type\":\"parcoords\"}],\"pie\":[{\"automargin\":true,\"type\":\"pie\"}],\"scatter3d\":[{\"line\":{\"colorbar\":{\"outlinewidth\":0,\"ticks\":\"\"}},\"marker\":{\"colorbar\":{\"outlinewidth\":0,\"ticks\":\"\"}},\"type\":\"scatter3d\"}],\"scattercarpet\":[{\"marker\":{\"colorbar\":{\"outlinewidth\":0,\"ticks\":\"\"}},\"type\":\"scattercarpet\"}],\"scattergeo\":[{\"marker\":{\"colorbar\":{\"outlinewidth\":0,\"ticks\":\"\"}},\"type\":\"scattergeo\"}],\"scattergl\":[{\"marker\":{\"colorbar\":{\"outlinewidth\":0,\"ticks\":\"\"}},\"type\":\"scattergl\"}],\"scattermapbox\":[{\"marker\":{\"colorbar\":{\"outlinewidth\":0,\"ticks\":\"\"}},\"type\":\"scattermapbox\"}],\"scatterpolargl\":[{\"marker\":{\"colorbar\":{\"outlinewidth\":0,\"ticks\":\"\"}},\"type\":\"scatterpolargl\"}],\"scatterpolar\":[{\"marker\":{\"colorbar\":{\"outlinewidth\":0,\"ticks\":\"\"}},\"type\":\"scatterpolar\"}],\"scatter\":[{\"fillpattern\":{\"fillmode\":\"overlay\",\"size\":10,\"solidity\":0.2},\"type\":\"scatter\"}],\"scatterternary\":[{\"marker\":{\"colorbar\":{\"outlinewidth\":0,\"ticks\":\"\"}},\"type\":\"scatterternary\"}],\"surface\":[{\"colorbar\":{\"outlinewidth\":0,\"ticks\":\"\"},\"colorscale\":[[0.0,\"#0d0887\"],[0.1111111111111111,\"#46039f\"],[0.2222222222222222,\"#7201a8\"],[0.3333333333333333,\"#9c179e\"],[0.4444444444444444,\"#bd3786\"],[0.5555555555555556,\"#d8576b\"],[0.6666666666666666,\"#ed7953\"],[0.7777777777777778,\"#fb9f3a\"],[0.8888888888888888,\"#fdca26\"],[1.0,\"#f0f921\"]],\"type\":\"surface\"}],\"table\":[{\"cells\":{\"fill\":{\"color\":\"#EBF0F8\"},\"line\":{\"color\":\"white\"}},\"header\":{\"fill\":{\"color\":\"#C8D4E3\"},\"line\":{\"color\":\"white\"}},\"type\":\"table\"}]},\"layout\":{\"annotationdefaults\":{\"arrowcolor\":\"#2a3f5f\",\"arrowhead\":0,\"arrowwidth\":1},\"autotypenumbers\":\"strict\",\"coloraxis\":{\"colorbar\":{\"outlinewidth\":0,\"ticks\":\"\"}},\"colorscale\":{\"diverging\":[[0,\"#8e0152\"],[0.1,\"#c51b7d\"],[0.2,\"#de77ae\"],[0.3,\"#f1b6da\"],[0.4,\"#fde0ef\"],[0.5,\"#f7f7f7\"],[0.6,\"#e6f5d0\"],[0.7,\"#b8e186\"],[0.8,\"#7fbc41\"],[0.9,\"#4d9221\"],[1,\"#276419\"]],\"sequential\":[[0.0,\"#0d0887\"],[0.1111111111111111,\"#46039f\"],[0.2222222222222222,\"#7201a8\"],[0.3333333333333333,\"#9c179e\"],[0.4444444444444444,\"#bd3786\"],[0.5555555555555556,\"#d8576b\"],[0.6666666666666666,\"#ed7953\"],[0.7777777777777778,\"#fb9f3a\"],[0.8888888888888888,\"#fdca26\"],[1.0,\"#f0f921\"]],\"sequentialminus\":[[0.0,\"#0d0887\"],[0.1111111111111111,\"#46039f\"],[0.2222222222222222,\"#7201a8\"],[0.3333333333333333,\"#9c179e\"],[0.4444444444444444,\"#bd3786\"],[0.5555555555555556,\"#d8576b\"],[0.6666666666666666,\"#ed7953\"],[0.7777777777777778,\"#fb9f3a\"],[0.8888888888888888,\"#fdca26\"],[1.0,\"#f0f921\"]]},\"colorway\":[\"#636efa\",\"#EF553B\",\"#00cc96\",\"#ab63fa\",\"#FFA15A\",\"#19d3f3\",\"#FF6692\",\"#B6E880\",\"#FF97FF\",\"#FECB52\"],\"font\":{\"color\":\"#2a3f5f\"},\"geo\":{\"bgcolor\":\"white\",\"lakecolor\":\"white\",\"landcolor\":\"white\",\"showlakes\":true,\"showland\":true,\"subunitcolor\":\"#C8D4E3\"},\"hoverlabel\":{\"align\":\"left\"},\"hovermode\":\"closest\",\"mapbox\":{\"style\":\"light\"},\"paper_bgcolor\":\"white\",\"plot_bgcolor\":\"white\",\"polar\":{\"angularaxis\":{\"gridcolor\":\"#EBF0F8\",\"linecolor\":\"#EBF0F8\",\"ticks\":\"\"},\"bgcolor\":\"white\",\"radialaxis\":{\"gridcolor\":\"#EBF0F8\",\"linecolor\":\"#EBF0F8\",\"ticks\":\"\"}},\"scene\":{\"xaxis\":{\"backgroundcolor\":\"white\",\"gridcolor\":\"#DFE8F3\",\"gridwidth\":2,\"linecolor\":\"#EBF0F8\",\"showbackground\":true,\"ticks\":\"\",\"zerolinecolor\":\"#EBF0F8\"},\"yaxis\":{\"backgroundcolor\":\"white\",\"gridcolor\":\"#DFE8F3\",\"gridwidth\":2,\"linecolor\":\"#EBF0F8\",\"showbackground\":true,\"ticks\":\"\",\"zerolinecolor\":\"#EBF0F8\"},\"zaxis\":{\"backgroundcolor\":\"white\",\"gridcolor\":\"#DFE8F3\",\"gridwidth\":2,\"linecolor\":\"#EBF0F8\",\"showbackground\":true,\"ticks\":\"\",\"zerolinecolor\":\"#EBF0F8\"}},\"shapedefaults\":{\"line\":{\"color\":\"#2a3f5f\"}},\"ternary\":{\"aaxis\":{\"gridcolor\":\"#DFE8F3\",\"linecolor\":\"#A2B1C6\",\"ticks\":\"\"},\"baxis\":{\"gridcolor\":\"#DFE8F3\",\"linecolor\":\"#A2B1C6\",\"ticks\":\"\"},\"bgcolor\":\"white\",\"caxis\":{\"gridcolor\":\"#DFE8F3\",\"linecolor\":\"#A2B1C6\",\"ticks\":\"\"}},\"title\":{\"x\":0.05},\"xaxis\":{\"automargin\":true,\"gridcolor\":\"#EBF0F8\",\"linecolor\":\"#EBF0F8\",\"ticks\":\"\",\"title\":{\"standoff\":15},\"zerolinecolor\":\"#EBF0F8\",\"zerolinewidth\":2},\"yaxis\":{\"automargin\":true,\"gridcolor\":\"#EBF0F8\",\"linecolor\":\"#EBF0F8\",\"ticks\":\"\",\"title\":{\"standoff\":15},\"zerolinecolor\":\"#EBF0F8\",\"zerolinewidth\":2}}},\"xaxis\":{\"anchor\":\"y\",\"domain\":[0.0,1.0],\"title\":{\"text\":\"speechiness\"}},\"yaxis\":{\"anchor\":\"x\",\"domain\":[0.0,1.0],\"title\":{\"text\":\"streams\"}},\"coloraxis\":{\"colorbar\":{\"title\":{\"text\":\"danceability\"}},\"colorscale\":[[0.0,\"#440154\"],[0.1111111111111111,\"#482878\"],[0.2222222222222222,\"#3e4989\"],[0.3333333333333333,\"#31688e\"],[0.4444444444444444,\"#26828e\"],[0.5555555555555556,\"#1f9e89\"],[0.6666666666666666,\"#35b779\"],[0.7777777777777778,\"#6ece58\"],[0.8888888888888888,\"#b5de2b\"],[1.0,\"#fde725\"]]},\"legend\":{\"tracegroupgap\":0},\"title\":{\"text\":\"Streams vs. Speechiness\"}},                        {\"responsive\": true}                    ).then(function(){\n",
       "                            \n",
       "var gd = document.getElementById('55a8b56e-04df-41bc-b015-c43c39dcae74');\n",
       "var x = new MutationObserver(function (mutations, observer) {{\n",
       "        var display = window.getComputedStyle(gd).display;\n",
       "        if (!display || display === 'none') {{\n",
       "            console.log([gd, 'removed!']);\n",
       "            Plotly.purge(gd);\n",
       "            observer.disconnect();\n",
       "        }}\n",
       "}});\n",
       "\n",
       "// Listen for the removal of the full notebook cells\n",
       "var notebookContainer = gd.closest('#notebook-container');\n",
       "if (notebookContainer) {{\n",
       "    x.observe(notebookContainer, {childList: true});\n",
       "}}\n",
       "\n",
       "// Listen for the clearing of the current output cell\n",
       "var outputEl = gd.closest('.output');\n",
       "if (outputEl) {{\n",
       "    x.observe(outputEl, {childList: true});\n",
       "}}\n",
       "\n",
       "                        })                };                });            </script>        </div>"
      ]
     },
     "metadata": {},
     "output_type": "display_data"
    }
   ],
   "source": [
    "px.scatter(df_features, x='speechiness', y='streams',color = 'danceability', \n",
    "           color_continuous_scale=px.colors.sequential.Viridis,template='plotly_white',\n",
    "           title = \"Streams vs. Speechiness\")"
   ]
  },
  {
   "cell_type": "markdown",
   "id": "43531878-693d-479c-83d1-4af0d1febff2",
   "metadata": {},
   "source": [
    "-->  Values between 0.33 and 0.66 indicate that the track may contain both music and speech, including rap music"
   ]
  },
  {
   "cell_type": "code",
   "execution_count": 111,
   "id": "1d99aac7-fcd7-41b0-8cdf-b2a4cf1f67f4",
   "metadata": {},
   "outputs": [
    {
     "data": {
      "application/vnd.plotly.v1+json": {
       "config": {
        "plotlyServerURL": "https://plot.ly"
       },
       "data": [
        {
         "hovertemplate": "liveness=%{x}<br>streams=%{y}<br>danceability=%{marker.color}<extra></extra>",
         "legendgroup": "",
         "marker": {
          "color": [
           80,
           71,
           51,
           55,
           65
          ],
          "coloraxis": "coloraxis",
          "symbol": "circle"
         },
         "mode": "markers",
         "name": "",
         "orientation": "v",
         "showlegend": false,
         "type": "scatter",
         "x": [
          8,
          10,
          31,
          11,
          11
         ],
         "xaxis": "x",
         "y": [
          141381703,
          133716286,
          140003974,
          800840817,
          303236322
         ],
         "yaxis": "y"
        }
       ],
       "layout": {
        "autosize": true,
        "coloraxis": {
         "colorbar": {
          "title": {
           "text": "danceability"
          }
         },
         "colorscale": [
          [
           0,
           "#440154"
          ],
          [
           0.1111111111111111,
           "#482878"
          ],
          [
           0.2222222222222222,
           "#3e4989"
          ],
          [
           0.3333333333333333,
           "#31688e"
          ],
          [
           0.4444444444444444,
           "#26828e"
          ],
          [
           0.5555555555555556,
           "#1f9e89"
          ],
          [
           0.6666666666666666,
           "#35b779"
          ],
          [
           0.7777777777777778,
           "#6ece58"
          ],
          [
           0.8888888888888888,
           "#b5de2b"
          ],
          [
           1,
           "#fde725"
          ]
         ]
        },
        "legend": {
         "tracegroupgap": 0
        },
        "template": {
         "data": {
          "bar": [
           {
            "error_x": {
             "color": "#2a3f5f"
            },
            "error_y": {
             "color": "#2a3f5f"
            },
            "marker": {
             "line": {
              "color": "white",
              "width": 0.5
             },
             "pattern": {
              "fillmode": "overlay",
              "size": 10,
              "solidity": 0.2
             }
            },
            "type": "bar"
           }
          ],
          "barpolar": [
           {
            "marker": {
             "line": {
              "color": "white",
              "width": 0.5
             },
             "pattern": {
              "fillmode": "overlay",
              "size": 10,
              "solidity": 0.2
             }
            },
            "type": "barpolar"
           }
          ],
          "carpet": [
           {
            "aaxis": {
             "endlinecolor": "#2a3f5f",
             "gridcolor": "#C8D4E3",
             "linecolor": "#C8D4E3",
             "minorgridcolor": "#C8D4E3",
             "startlinecolor": "#2a3f5f"
            },
            "baxis": {
             "endlinecolor": "#2a3f5f",
             "gridcolor": "#C8D4E3",
             "linecolor": "#C8D4E3",
             "minorgridcolor": "#C8D4E3",
             "startlinecolor": "#2a3f5f"
            },
            "type": "carpet"
           }
          ],
          "choropleth": [
           {
            "colorbar": {
             "outlinewidth": 0,
             "ticks": ""
            },
            "type": "choropleth"
           }
          ],
          "contour": [
           {
            "colorbar": {
             "outlinewidth": 0,
             "ticks": ""
            },
            "colorscale": [
             [
              0,
              "#0d0887"
             ],
             [
              0.1111111111111111,
              "#46039f"
             ],
             [
              0.2222222222222222,
              "#7201a8"
             ],
             [
              0.3333333333333333,
              "#9c179e"
             ],
             [
              0.4444444444444444,
              "#bd3786"
             ],
             [
              0.5555555555555556,
              "#d8576b"
             ],
             [
              0.6666666666666666,
              "#ed7953"
             ],
             [
              0.7777777777777778,
              "#fb9f3a"
             ],
             [
              0.8888888888888888,
              "#fdca26"
             ],
             [
              1,
              "#f0f921"
             ]
            ],
            "type": "contour"
           }
          ],
          "contourcarpet": [
           {
            "colorbar": {
             "outlinewidth": 0,
             "ticks": ""
            },
            "type": "contourcarpet"
           }
          ],
          "heatmap": [
           {
            "colorbar": {
             "outlinewidth": 0,
             "ticks": ""
            },
            "colorscale": [
             [
              0,
              "#0d0887"
             ],
             [
              0.1111111111111111,
              "#46039f"
             ],
             [
              0.2222222222222222,
              "#7201a8"
             ],
             [
              0.3333333333333333,
              "#9c179e"
             ],
             [
              0.4444444444444444,
              "#bd3786"
             ],
             [
              0.5555555555555556,
              "#d8576b"
             ],
             [
              0.6666666666666666,
              "#ed7953"
             ],
             [
              0.7777777777777778,
              "#fb9f3a"
             ],
             [
              0.8888888888888888,
              "#fdca26"
             ],
             [
              1,
              "#f0f921"
             ]
            ],
            "type": "heatmap"
           }
          ],
          "heatmapgl": [
           {
            "colorbar": {
             "outlinewidth": 0,
             "ticks": ""
            },
            "colorscale": [
             [
              0,
              "#0d0887"
             ],
             [
              0.1111111111111111,
              "#46039f"
             ],
             [
              0.2222222222222222,
              "#7201a8"
             ],
             [
              0.3333333333333333,
              "#9c179e"
             ],
             [
              0.4444444444444444,
              "#bd3786"
             ],
             [
              0.5555555555555556,
              "#d8576b"
             ],
             [
              0.6666666666666666,
              "#ed7953"
             ],
             [
              0.7777777777777778,
              "#fb9f3a"
             ],
             [
              0.8888888888888888,
              "#fdca26"
             ],
             [
              1,
              "#f0f921"
             ]
            ],
            "type": "heatmapgl"
           }
          ],
          "histogram": [
           {
            "marker": {
             "pattern": {
              "fillmode": "overlay",
              "size": 10,
              "solidity": 0.2
             }
            },
            "type": "histogram"
           }
          ],
          "histogram2d": [
           {
            "colorbar": {
             "outlinewidth": 0,
             "ticks": ""
            },
            "colorscale": [
             [
              0,
              "#0d0887"
             ],
             [
              0.1111111111111111,
              "#46039f"
             ],
             [
              0.2222222222222222,
              "#7201a8"
             ],
             [
              0.3333333333333333,
              "#9c179e"
             ],
             [
              0.4444444444444444,
              "#bd3786"
             ],
             [
              0.5555555555555556,
              "#d8576b"
             ],
             [
              0.6666666666666666,
              "#ed7953"
             ],
             [
              0.7777777777777778,
              "#fb9f3a"
             ],
             [
              0.8888888888888888,
              "#fdca26"
             ],
             [
              1,
              "#f0f921"
             ]
            ],
            "type": "histogram2d"
           }
          ],
          "histogram2dcontour": [
           {
            "colorbar": {
             "outlinewidth": 0,
             "ticks": ""
            },
            "colorscale": [
             [
              0,
              "#0d0887"
             ],
             [
              0.1111111111111111,
              "#46039f"
             ],
             [
              0.2222222222222222,
              "#7201a8"
             ],
             [
              0.3333333333333333,
              "#9c179e"
             ],
             [
              0.4444444444444444,
              "#bd3786"
             ],
             [
              0.5555555555555556,
              "#d8576b"
             ],
             [
              0.6666666666666666,
              "#ed7953"
             ],
             [
              0.7777777777777778,
              "#fb9f3a"
             ],
             [
              0.8888888888888888,
              "#fdca26"
             ],
             [
              1,
              "#f0f921"
             ]
            ],
            "type": "histogram2dcontour"
           }
          ],
          "mesh3d": [
           {
            "colorbar": {
             "outlinewidth": 0,
             "ticks": ""
            },
            "type": "mesh3d"
           }
          ],
          "parcoords": [
           {
            "line": {
             "colorbar": {
              "outlinewidth": 0,
              "ticks": ""
             }
            },
            "type": "parcoords"
           }
          ],
          "pie": [
           {
            "automargin": true,
            "type": "pie"
           }
          ],
          "scatter": [
           {
            "fillpattern": {
             "fillmode": "overlay",
             "size": 10,
             "solidity": 0.2
            },
            "type": "scatter"
           }
          ],
          "scatter3d": [
           {
            "line": {
             "colorbar": {
              "outlinewidth": 0,
              "ticks": ""
             }
            },
            "marker": {
             "colorbar": {
              "outlinewidth": 0,
              "ticks": ""
             }
            },
            "type": "scatter3d"
           }
          ],
          "scattercarpet": [
           {
            "marker": {
             "colorbar": {
              "outlinewidth": 0,
              "ticks": ""
             }
            },
            "type": "scattercarpet"
           }
          ],
          "scattergeo": [
           {
            "marker": {
             "colorbar": {
              "outlinewidth": 0,
              "ticks": ""
             }
            },
            "type": "scattergeo"
           }
          ],
          "scattergl": [
           {
            "marker": {
             "colorbar": {
              "outlinewidth": 0,
              "ticks": ""
             }
            },
            "type": "scattergl"
           }
          ],
          "scattermapbox": [
           {
            "marker": {
             "colorbar": {
              "outlinewidth": 0,
              "ticks": ""
             }
            },
            "type": "scattermapbox"
           }
          ],
          "scatterpolar": [
           {
            "marker": {
             "colorbar": {
              "outlinewidth": 0,
              "ticks": ""
             }
            },
            "type": "scatterpolar"
           }
          ],
          "scatterpolargl": [
           {
            "marker": {
             "colorbar": {
              "outlinewidth": 0,
              "ticks": ""
             }
            },
            "type": "scatterpolargl"
           }
          ],
          "scatterternary": [
           {
            "marker": {
             "colorbar": {
              "outlinewidth": 0,
              "ticks": ""
             }
            },
            "type": "scatterternary"
           }
          ],
          "surface": [
           {
            "colorbar": {
             "outlinewidth": 0,
             "ticks": ""
            },
            "colorscale": [
             [
              0,
              "#0d0887"
             ],
             [
              0.1111111111111111,
              "#46039f"
             ],
             [
              0.2222222222222222,
              "#7201a8"
             ],
             [
              0.3333333333333333,
              "#9c179e"
             ],
             [
              0.4444444444444444,
              "#bd3786"
             ],
             [
              0.5555555555555556,
              "#d8576b"
             ],
             [
              0.6666666666666666,
              "#ed7953"
             ],
             [
              0.7777777777777778,
              "#fb9f3a"
             ],
             [
              0.8888888888888888,
              "#fdca26"
             ],
             [
              1,
              "#f0f921"
             ]
            ],
            "type": "surface"
           }
          ],
          "table": [
           {
            "cells": {
             "fill": {
              "color": "#EBF0F8"
             },
             "line": {
              "color": "white"
             }
            },
            "header": {
             "fill": {
              "color": "#C8D4E3"
             },
             "line": {
              "color": "white"
             }
            },
            "type": "table"
           }
          ]
         },
         "layout": {
          "annotationdefaults": {
           "arrowcolor": "#2a3f5f",
           "arrowhead": 0,
           "arrowwidth": 1
          },
          "autotypenumbers": "strict",
          "coloraxis": {
           "colorbar": {
            "outlinewidth": 0,
            "ticks": ""
           }
          },
          "colorscale": {
           "diverging": [
            [
             0,
             "#8e0152"
            ],
            [
             0.1,
             "#c51b7d"
            ],
            [
             0.2,
             "#de77ae"
            ],
            [
             0.3,
             "#f1b6da"
            ],
            [
             0.4,
             "#fde0ef"
            ],
            [
             0.5,
             "#f7f7f7"
            ],
            [
             0.6,
             "#e6f5d0"
            ],
            [
             0.7,
             "#b8e186"
            ],
            [
             0.8,
             "#7fbc41"
            ],
            [
             0.9,
             "#4d9221"
            ],
            [
             1,
             "#276419"
            ]
           ],
           "sequential": [
            [
             0,
             "#0d0887"
            ],
            [
             0.1111111111111111,
             "#46039f"
            ],
            [
             0.2222222222222222,
             "#7201a8"
            ],
            [
             0.3333333333333333,
             "#9c179e"
            ],
            [
             0.4444444444444444,
             "#bd3786"
            ],
            [
             0.5555555555555556,
             "#d8576b"
            ],
            [
             0.6666666666666666,
             "#ed7953"
            ],
            [
             0.7777777777777778,
             "#fb9f3a"
            ],
            [
             0.8888888888888888,
             "#fdca26"
            ],
            [
             1,
             "#f0f921"
            ]
           ],
           "sequentialminus": [
            [
             0,
             "#0d0887"
            ],
            [
             0.1111111111111111,
             "#46039f"
            ],
            [
             0.2222222222222222,
             "#7201a8"
            ],
            [
             0.3333333333333333,
             "#9c179e"
            ],
            [
             0.4444444444444444,
             "#bd3786"
            ],
            [
             0.5555555555555556,
             "#d8576b"
            ],
            [
             0.6666666666666666,
             "#ed7953"
            ],
            [
             0.7777777777777778,
             "#fb9f3a"
            ],
            [
             0.8888888888888888,
             "#fdca26"
            ],
            [
             1,
             "#f0f921"
            ]
           ]
          },
          "colorway": [
           "#636efa",
           "#EF553B",
           "#00cc96",
           "#ab63fa",
           "#FFA15A",
           "#19d3f3",
           "#FF6692",
           "#B6E880",
           "#FF97FF",
           "#FECB52"
          ],
          "font": {
           "color": "#2a3f5f"
          },
          "geo": {
           "bgcolor": "white",
           "lakecolor": "white",
           "landcolor": "white",
           "showlakes": true,
           "showland": true,
           "subunitcolor": "#C8D4E3"
          },
          "hoverlabel": {
           "align": "left"
          },
          "hovermode": "closest",
          "mapbox": {
           "style": "light"
          },
          "paper_bgcolor": "white",
          "plot_bgcolor": "white",
          "polar": {
           "angularaxis": {
            "gridcolor": "#EBF0F8",
            "linecolor": "#EBF0F8",
            "ticks": ""
           },
           "bgcolor": "white",
           "radialaxis": {
            "gridcolor": "#EBF0F8",
            "linecolor": "#EBF0F8",
            "ticks": ""
           }
          },
          "scene": {
           "xaxis": {
            "backgroundcolor": "white",
            "gridcolor": "#DFE8F3",
            "gridwidth": 2,
            "linecolor": "#EBF0F8",
            "showbackground": true,
            "ticks": "",
            "zerolinecolor": "#EBF0F8"
           },
           "yaxis": {
            "backgroundcolor": "white",
            "gridcolor": "#DFE8F3",
            "gridwidth": 2,
            "linecolor": "#EBF0F8",
            "showbackground": true,
            "ticks": "",
            "zerolinecolor": "#EBF0F8"
           },
           "zaxis": {
            "backgroundcolor": "white",
            "gridcolor": "#DFE8F3",
            "gridwidth": 2,
            "linecolor": "#EBF0F8",
            "showbackground": true,
            "ticks": "",
            "zerolinecolor": "#EBF0F8"
           }
          },
          "shapedefaults": {
           "line": {
            "color": "#2a3f5f"
           }
          },
          "ternary": {
           "aaxis": {
            "gridcolor": "#DFE8F3",
            "linecolor": "#A2B1C6",
            "ticks": ""
           },
           "baxis": {
            "gridcolor": "#DFE8F3",
            "linecolor": "#A2B1C6",
            "ticks": ""
           },
           "bgcolor": "white",
           "caxis": {
            "gridcolor": "#DFE8F3",
            "linecolor": "#A2B1C6",
            "ticks": ""
           }
          },
          "title": {
           "x": 0.05
          },
          "xaxis": {
           "automargin": true,
           "gridcolor": "#EBF0F8",
           "linecolor": "#EBF0F8",
           "ticks": "",
           "title": {
            "standoff": 15
           },
           "zerolinecolor": "#EBF0F8",
           "zerolinewidth": 2
          },
          "yaxis": {
           "automargin": true,
           "gridcolor": "#EBF0F8",
           "linecolor": "#EBF0F8",
           "ticks": "",
           "title": {
            "standoff": 15
           },
           "zerolinecolor": "#EBF0F8",
           "zerolinewidth": 2
          }
         }
        },
        "title": {
         "text": "Liveness vs. Energy"
        },
        "xaxis": {
         "anchor": "y",
         "autorange": true,
         "domain": [
          0,
          1
         ],
         "range": [
          6.587036253350261,
          32.41296374664974
         ],
         "title": {
          "text": "liveness"
         },
         "type": "linear"
        },
        "yaxis": {
         "anchor": "x",
         "autorange": true,
         "domain": [
          0,
          1
         ],
         "range": [
          78662319.84951457,
          855894783.1504854
         ],
         "title": {
          "text": "streams"
         },
         "type": "linear"
        }
       }
      },
      "image/png": "[encoded data removed]",
      "text/html": [
       "<div>                            <div id=\"f258cfe9-4d55-4d55-a463-323c5d2540ff\" class=\"plotly-graph-div\" style=\"height:525px; width:100%;\"></div>            <script type=\"text/javascript\">                require([\"plotly\"], function(Plotly) {                    window.PLOTLYENV=window.PLOTLYENV || {};                                    if (document.getElementById(\"f258cfe9-4d55-4d55-a463-323c5d2540ff\")) {                    Plotly.newPlot(                        \"f258cfe9-4d55-4d55-a463-323c5d2540ff\",                        [{\"hovertemplate\":\"liveness=%{x}\\u003cbr\\u003estreams=%{y}\\u003cbr\\u003edanceability=%{marker.color}\\u003cextra\\u003e\\u003c\\u002fextra\\u003e\",\"legendgroup\":\"\",\"marker\":{\"color\":[80,71,51,55,65],\"coloraxis\":\"coloraxis\",\"symbol\":\"circle\"},\"mode\":\"markers\",\"name\":\"\",\"orientation\":\"v\",\"showlegend\":false,\"x\":[8,10,31,11,11],\"xaxis\":\"x\",\"y\":[141381703.0,133716286.0,140003974.0,800840817.0,303236322.0],\"yaxis\":\"y\",\"type\":\"scatter\"}],                        {\"template\":{\"data\":{\"barpolar\":[{\"marker\":{\"line\":{\"color\":\"white\",\"width\":0.5},\"pattern\":{\"fillmode\":\"overlay\",\"size\":10,\"solidity\":0.2}},\"type\":\"barpolar\"}],\"bar\":[{\"error_x\":{\"color\":\"#2a3f5f\"},\"error_y\":{\"color\":\"#2a3f5f\"},\"marker\":{\"line\":{\"color\":\"white\",\"width\":0.5},\"pattern\":{\"fillmode\":\"overlay\",\"size\":10,\"solidity\":0.2}},\"type\":\"bar\"}],\"carpet\":[{\"aaxis\":{\"endlinecolor\":\"#2a3f5f\",\"gridcolor\":\"#C8D4E3\",\"linecolor\":\"#C8D4E3\",\"minorgridcolor\":\"#C8D4E3\",\"startlinecolor\":\"#2a3f5f\"},\"baxis\":{\"endlinecolor\":\"#2a3f5f\",\"gridcolor\":\"#C8D4E3\",\"linecolor\":\"#C8D4E3\",\"minorgridcolor\":\"#C8D4E3\",\"startlinecolor\":\"#2a3f5f\"},\"type\":\"carpet\"}],\"choropleth\":[{\"colorbar\":{\"outlinewidth\":0,\"ticks\":\"\"},\"type\":\"choropleth\"}],\"contourcarpet\":[{\"colorbar\":{\"outlinewidth\":0,\"ticks\":\"\"},\"type\":\"contourcarpet\"}],\"contour\":[{\"colorbar\":{\"outlinewidth\":0,\"ticks\":\"\"},\"colorscale\":[[0.0,\"#0d0887\"],[0.1111111111111111,\"#46039f\"],[0.2222222222222222,\"#7201a8\"],[0.3333333333333333,\"#9c179e\"],[0.4444444444444444,\"#bd3786\"],[0.5555555555555556,\"#d8576b\"],[0.6666666666666666,\"#ed7953\"],[0.7777777777777778,\"#fb9f3a\"],[0.8888888888888888,\"#fdca26\"],[1.0,\"#f0f921\"]],\"type\":\"contour\"}],\"heatmapgl\":[{\"colorbar\":{\"outlinewidth\":0,\"ticks\":\"\"},\"colorscale\":[[0.0,\"#0d0887\"],[0.1111111111111111,\"#46039f\"],[0.2222222222222222,\"#7201a8\"],[0.3333333333333333,\"#9c179e\"],[0.4444444444444444,\"#bd3786\"],[0.5555555555555556,\"#d8576b\"],[0.6666666666666666,\"#ed7953\"],[0.7777777777777778,\"#fb9f3a\"],[0.8888888888888888,\"#fdca26\"],[1.0,\"#f0f921\"]],\"type\":\"heatmapgl\"}],\"heatmap\":[{\"colorbar\":{\"outlinewidth\":0,\"ticks\":\"\"},\"colorscale\":[[0.0,\"#0d0887\"],[0.1111111111111111,\"#46039f\"],[0.2222222222222222,\"#7201a8\"],[0.3333333333333333,\"#9c179e\"],[0.4444444444444444,\"#bd3786\"],[0.5555555555555556,\"#d8576b\"],[0.6666666666666666,\"#ed7953\"],[0.7777777777777778,\"#fb9f3a\"],[0.8888888888888888,\"#fdca26\"],[1.0,\"#f0f921\"]],\"type\":\"heatmap\"}],\"histogram2dcontour\":[{\"colorbar\":{\"outlinewidth\":0,\"ticks\":\"\"},\"colorscale\":[[0.0,\"#0d0887\"],[0.1111111111111111,\"#46039f\"],[0.2222222222222222,\"#7201a8\"],[0.3333333333333333,\"#9c179e\"],[0.4444444444444444,\"#bd3786\"],[0.5555555555555556,\"#d8576b\"],[0.6666666666666666,\"#ed7953\"],[0.7777777777777778,\"#fb9f3a\"],[0.8888888888888888,\"#fdca26\"],[1.0,\"#f0f921\"]],\"type\":\"histogram2dcontour\"}],\"histogram2d\":[{\"colorbar\":{\"outlinewidth\":0,\"ticks\":\"\"},\"colorscale\":[[0.0,\"#0d0887\"],[0.1111111111111111,\"#46039f\"],[0.2222222222222222,\"#7201a8\"],[0.3333333333333333,\"#9c179e\"],[0.4444444444444444,\"#bd3786\"],[0.5555555555555556,\"#d8576b\"],[0.6666666666666666,\"#ed7953\"],[0.7777777777777778,\"#fb9f3a\"],[0.8888888888888888,\"#fdca26\"],[1.0,\"#f0f921\"]],\"type\":\"histogram2d\"}],\"histogram\":[{\"marker\":{\"pattern\":{\"fillmode\":\"overlay\",\"size\":10,\"solidity\":0.2}},\"type\":\"histogram\"}],\"mesh3d\":[{\"colorbar\":{\"outlinewidth\":0,\"ticks\":\"\"},\"type\":\"mesh3d\"}],\"parcoords\":[{\"line\":{\"colorbar\":{\"outlinewidth\":0,\"ticks\":\"\"}},\"type\":\"parcoords\"}],\"pie\":[{\"automargin\":true,\"type\":\"pie\"}],\"scatter3d\":[{\"line\":{\"colorbar\":{\"outlinewidth\":0,\"ticks\":\"\"}},\"marker\":{\"colorbar\":{\"outlinewidth\":0,\"ticks\":\"\"}},\"type\":\"scatter3d\"}],\"scattercarpet\":[{\"marker\":{\"colorbar\":{\"outlinewidth\":0,\"ticks\":\"\"}},\"type\":\"scattercarpet\"}],\"scattergeo\":[{\"marker\":{\"colorbar\":{\"outlinewidth\":0,\"ticks\":\"\"}},\"type\":\"scattergeo\"}],\"scattergl\":[{\"marker\":{\"colorbar\":{\"outlinewidth\":0,\"ticks\":\"\"}},\"type\":\"scattergl\"}],\"scattermapbox\":[{\"marker\":{\"colorbar\":{\"outlinewidth\":0,\"ticks\":\"\"}},\"type\":\"scattermapbox\"}],\"scatterpolargl\":[{\"marker\":{\"colorbar\":{\"outlinewidth\":0,\"ticks\":\"\"}},\"type\":\"scatterpolargl\"}],\"scatterpolar\":[{\"marker\":{\"colorbar\":{\"outlinewidth\":0,\"ticks\":\"\"}},\"type\":\"scatterpolar\"}],\"scatter\":[{\"fillpattern\":{\"fillmode\":\"overlay\",\"size\":10,\"solidity\":0.2},\"type\":\"scatter\"}],\"scatterternary\":[{\"marker\":{\"colorbar\":{\"outlinewidth\":0,\"ticks\":\"\"}},\"type\":\"scatterternary\"}],\"surface\":[{\"colorbar\":{\"outlinewidth\":0,\"ticks\":\"\"},\"colorscale\":[[0.0,\"#0d0887\"],[0.1111111111111111,\"#46039f\"],[0.2222222222222222,\"#7201a8\"],[0.3333333333333333,\"#9c179e\"],[0.4444444444444444,\"#bd3786\"],[0.5555555555555556,\"#d8576b\"],[0.6666666666666666,\"#ed7953\"],[0.7777777777777778,\"#fb9f3a\"],[0.8888888888888888,\"#fdca26\"],[1.0,\"#f0f921\"]],\"type\":\"surface\"}],\"table\":[{\"cells\":{\"fill\":{\"color\":\"#EBF0F8\"},\"line\":{\"color\":\"white\"}},\"header\":{\"fill\":{\"color\":\"#C8D4E3\"},\"line\":{\"color\":\"white\"}},\"type\":\"table\"}]},\"layout\":{\"annotationdefaults\":{\"arrowcolor\":\"#2a3f5f\",\"arrowhead\":0,\"arrowwidth\":1},\"autotypenumbers\":\"strict\",\"coloraxis\":{\"colorbar\":{\"outlinewidth\":0,\"ticks\":\"\"}},\"colorscale\":{\"diverging\":[[0,\"#8e0152\"],[0.1,\"#c51b7d\"],[0.2,\"#de77ae\"],[0.3,\"#f1b6da\"],[0.4,\"#fde0ef\"],[0.5,\"#f7f7f7\"],[0.6,\"#e6f5d0\"],[0.7,\"#b8e186\"],[0.8,\"#7fbc41\"],[0.9,\"#4d9221\"],[1,\"#276419\"]],\"sequential\":[[0.0,\"#0d0887\"],[0.1111111111111111,\"#46039f\"],[0.2222222222222222,\"#7201a8\"],[0.3333333333333333,\"#9c179e\"],[0.4444444444444444,\"#bd3786\"],[0.5555555555555556,\"#d8576b\"],[0.6666666666666666,\"#ed7953\"],[0.7777777777777778,\"#fb9f3a\"],[0.8888888888888888,\"#fdca26\"],[1.0,\"#f0f921\"]],\"sequentialminus\":[[0.0,\"#0d0887\"],[0.1111111111111111,\"#46039f\"],[0.2222222222222222,\"#7201a8\"],[0.3333333333333333,\"#9c179e\"],[0.4444444444444444,\"#bd3786\"],[0.5555555555555556,\"#d8576b\"],[0.6666666666666666,\"#ed7953\"],[0.7777777777777778,\"#fb9f3a\"],[0.8888888888888888,\"#fdca26\"],[1.0,\"#f0f921\"]]},\"colorway\":[\"#636efa\",\"#EF553B\",\"#00cc96\",\"#ab63fa\",\"#FFA15A\",\"#19d3f3\",\"#FF6692\",\"#B6E880\",\"#FF97FF\",\"#FECB52\"],\"font\":{\"color\":\"#2a3f5f\"},\"geo\":{\"bgcolor\":\"white\",\"lakecolor\":\"white\",\"landcolor\":\"white\",\"showlakes\":true,\"showland\":true,\"subunitcolor\":\"#C8D4E3\"},\"hoverlabel\":{\"align\":\"left\"},\"hovermode\":\"closest\",\"mapbox\":{\"style\":\"light\"},\"paper_bgcolor\":\"white\",\"plot_bgcolor\":\"white\",\"polar\":{\"angularaxis\":{\"gridcolor\":\"#EBF0F8\",\"linecolor\":\"#EBF0F8\",\"ticks\":\"\"},\"bgcolor\":\"white\",\"radialaxis\":{\"gridcolor\":\"#EBF0F8\",\"linecolor\":\"#EBF0F8\",\"ticks\":\"\"}},\"scene\":{\"xaxis\":{\"backgroundcolor\":\"white\",\"gridcolor\":\"#DFE8F3\",\"gridwidth\":2,\"linecolor\":\"#EBF0F8\",\"showbackground\":true,\"ticks\":\"\",\"zerolinecolor\":\"#EBF0F8\"},\"yaxis\":{\"backgroundcolor\":\"white\",\"gridcolor\":\"#DFE8F3\",\"gridwidth\":2,\"linecolor\":\"#EBF0F8\",\"showbackground\":true,\"ticks\":\"\",\"zerolinecolor\":\"#EBF0F8\"},\"zaxis\":{\"backgroundcolor\":\"white\",\"gridcolor\":\"#DFE8F3\",\"gridwidth\":2,\"linecolor\":\"#EBF0F8\",\"showbackground\":true,\"ticks\":\"\",\"zerolinecolor\":\"#EBF0F8\"}},\"shapedefaults\":{\"line\":{\"color\":\"#2a3f5f\"}},\"ternary\":{\"aaxis\":{\"gridcolor\":\"#DFE8F3\",\"linecolor\":\"#A2B1C6\",\"ticks\":\"\"},\"baxis\":{\"gridcolor\":\"#DFE8F3\",\"linecolor\":\"#A2B1C6\",\"ticks\":\"\"},\"bgcolor\":\"white\",\"caxis\":{\"gridcolor\":\"#DFE8F3\",\"linecolor\":\"#A2B1C6\",\"ticks\":\"\"}},\"title\":{\"x\":0.05},\"xaxis\":{\"automargin\":true,\"gridcolor\":\"#EBF0F8\",\"linecolor\":\"#EBF0F8\",\"ticks\":\"\",\"title\":{\"standoff\":15},\"zerolinecolor\":\"#EBF0F8\",\"zerolinewidth\":2},\"yaxis\":{\"automargin\":true,\"gridcolor\":\"#EBF0F8\",\"linecolor\":\"#EBF0F8\",\"ticks\":\"\",\"title\":{\"standoff\":15},\"zerolinecolor\":\"#EBF0F8\",\"zerolinewidth\":2}}},\"xaxis\":{\"anchor\":\"y\",\"domain\":[0.0,1.0],\"title\":{\"text\":\"liveness\"}},\"yaxis\":{\"anchor\":\"x\",\"domain\":[0.0,1.0],\"title\":{\"text\":\"streams\"}},\"coloraxis\":{\"colorbar\":{\"title\":{\"text\":\"danceability\"}},\"colorscale\":[[0.0,\"#440154\"],[0.1111111111111111,\"#482878\"],[0.2222222222222222,\"#3e4989\"],[0.3333333333333333,\"#31688e\"],[0.4444444444444444,\"#26828e\"],[0.5555555555555556,\"#1f9e89\"],[0.6666666666666666,\"#35b779\"],[0.7777777777777778,\"#6ece58\"],[0.8888888888888888,\"#b5de2b\"],[1.0,\"#fde725\"]]},\"legend\":{\"tracegroupgap\":0},\"title\":{\"text\":\"Liveness vs. Energy\"}},                        {\"responsive\": true}                    ).then(function(){\n",
       "                            \n",
       "var gd = document.getElementById('f258cfe9-4d55-4d55-a463-323c5d2540ff');\n",
       "var x = new MutationObserver(function (mutations, observer) {{\n",
       "        var display = window.getComputedStyle(gd).display;\n",
       "        if (!display || display === 'none') {{\n",
       "            console.log([gd, 'removed!']);\n",
       "            Plotly.purge(gd);\n",
       "            observer.disconnect();\n",
       "        }}\n",
       "}});\n",
       "\n",
       "// Listen for the removal of the full notebook cells\n",
       "var notebookContainer = gd.closest('#notebook-container');\n",
       "if (notebookContainer) {{\n",
       "    x.observe(notebookContainer, {childList: true});\n",
       "}}\n",
       "\n",
       "// Listen for the clearing of the current output cell\n",
       "var outputEl = gd.closest('.output');\n",
       "if (outputEl) {{\n",
       "    x.observe(outputEl, {childList: true});\n",
       "}}\n",
       "\n",
       "                        })                };                });            </script>        </div>"
      ]
     },
     "metadata": {},
     "output_type": "display_data"
    }
   ],
   "source": [
    "px.scatter(df_features, x='liveness', y='streams',color = 'danceability', \n",
    "           color_continuous_scale=px.colors.sequential.Viridis,template='plotly_white',\n",
    "           title = \"Liveness vs. Energy\")"
   ]
  },
  {
   "cell_type": "code",
   "execution_count": 112,
   "id": "6ee5e9ed-e6c3-4bcf-9ac7-ee6ac2c92be9",
   "metadata": {},
   "outputs": [
    {
     "data": {
      "application/vnd.plotly.v1+json": {
       "config": {
        "plotlyServerURL": "https://plot.ly"
       },
       "data": [
        {
         "hovertemplate": "energy=%{x}<br>danceability=%{marker.color}<extra></extra>",
         "legendgroup": "",
         "marker": {
          "color": [
           80,
           71,
           51,
           55,
           65
          ],
          "coloraxis": "coloraxis",
          "symbol": "circle"
         },
         "mode": "markers",
         "name": "",
         "orientation": "v",
         "showlegend": false,
         "type": "scatter",
         "x": [
          83,
          74,
          53,
          72,
          80
         ],
         "xaxis": "x",
         "y": [
          80,
          71,
          51,
          55,
          65
         ],
         "yaxis": "y"
        }
       ],
       "layout": {
        "autosize": true,
        "coloraxis": {
         "colorbar": {
          "title": {
           "text": "danceability"
          }
         },
         "colorscale": [
          [
           0,
           "#0d0887"
          ],
          [
           0.1111111111111111,
           "#46039f"
          ],
          [
           0.2222222222222222,
           "#7201a8"
          ],
          [
           0.3333333333333333,
           "#9c179e"
          ],
          [
           0.4444444444444444,
           "#bd3786"
          ],
          [
           0.5555555555555556,
           "#d8576b"
          ],
          [
           0.6666666666666666,
           "#ed7953"
          ],
          [
           0.7777777777777778,
           "#fb9f3a"
          ],
          [
           0.8888888888888888,
           "#fdca26"
          ],
          [
           1,
           "#f0f921"
          ]
         ]
        },
        "legend": {
         "tracegroupgap": 0
        },
        "template": {
         "data": {
          "bar": [
           {
            "error_x": {
             "color": "#2a3f5f"
            },
            "error_y": {
             "color": "#2a3f5f"
            },
            "marker": {
             "line": {
              "color": "white",
              "width": 0.5
             },
             "pattern": {
              "fillmode": "overlay",
              "size": 10,
              "solidity": 0.2
             }
            },
            "type": "bar"
           }
          ],
          "barpolar": [
           {
            "marker": {
             "line": {
              "color": "white",
              "width": 0.5
             },
             "pattern": {
              "fillmode": "overlay",
              "size": 10,
              "solidity": 0.2
             }
            },
            "type": "barpolar"
           }
          ],
          "carpet": [
           {
            "aaxis": {
             "endlinecolor": "#2a3f5f",
             "gridcolor": "#C8D4E3",
             "linecolor": "#C8D4E3",
             "minorgridcolor": "#C8D4E3",
             "startlinecolor": "#2a3f5f"
            },
            "baxis": {
             "endlinecolor": "#2a3f5f",
             "gridcolor": "#C8D4E3",
             "linecolor": "#C8D4E3",
             "minorgridcolor": "#C8D4E3",
             "startlinecolor": "#2a3f5f"
            },
            "type": "carpet"
           }
          ],
          "choropleth": [
           {
            "colorbar": {
             "outlinewidth": 0,
             "ticks": ""
            },
            "type": "choropleth"
           }
          ],
          "contour": [
           {
            "colorbar": {
             "outlinewidth": 0,
             "ticks": ""
            },
            "colorscale": [
             [
              0,
              "#0d0887"
             ],
             [
              0.1111111111111111,
              "#46039f"
             ],
             [
              0.2222222222222222,
              "#7201a8"
             ],
             [
              0.3333333333333333,
              "#9c179e"
             ],
             [
              0.4444444444444444,
              "#bd3786"
             ],
             [
              0.5555555555555556,
              "#d8576b"
             ],
             [
              0.6666666666666666,
              "#ed7953"
             ],
             [
              0.7777777777777778,
              "#fb9f3a"
             ],
             [
              0.8888888888888888,
              "#fdca26"
             ],
             [
              1,
              "#f0f921"
             ]
            ],
            "type": "contour"
           }
          ],
          "contourcarpet": [
           {
            "colorbar": {
             "outlinewidth": 0,
             "ticks": ""
            },
            "type": "contourcarpet"
           }
          ],
          "heatmap": [
           {
            "colorbar": {
             "outlinewidth": 0,
             "ticks": ""
            },
            "colorscale": [
             [
              0,
              "#0d0887"
             ],
             [
              0.1111111111111111,
              "#46039f"
             ],
             [
              0.2222222222222222,
              "#7201a8"
             ],
             [
              0.3333333333333333,
              "#9c179e"
             ],
             [
              0.4444444444444444,
              "#bd3786"
             ],
             [
              0.5555555555555556,
              "#d8576b"
             ],
             [
              0.6666666666666666,
              "#ed7953"
             ],
             [
              0.7777777777777778,
              "#fb9f3a"
             ],
             [
              0.8888888888888888,
              "#fdca26"
             ],
             [
              1,
              "#f0f921"
             ]
            ],
            "type": "heatmap"
           }
          ],
          "heatmapgl": [
           {
            "colorbar": {
             "outlinewidth": 0,
             "ticks": ""
            },
            "colorscale": [
             [
              0,
              "#0d0887"
             ],
             [
              0.1111111111111111,
              "#46039f"
             ],
             [
              0.2222222222222222,
              "#7201a8"
             ],
             [
              0.3333333333333333,
              "#9c179e"
             ],
             [
              0.4444444444444444,
              "#bd3786"
             ],
             [
              0.5555555555555556,
              "#d8576b"
             ],
             [
              0.6666666666666666,
              "#ed7953"
             ],
             [
              0.7777777777777778,
              "#fb9f3a"
             ],
             [
              0.8888888888888888,
              "#fdca26"
             ],
             [
              1,
              "#f0f921"
             ]
            ],
            "type": "heatmapgl"
           }
          ],
          "histogram": [
           {
            "marker": {
             "pattern": {
              "fillmode": "overlay",
              "size": 10,
              "solidity": 0.2
             }
            },
            "type": "histogram"
           }
          ],
          "histogram2d": [
           {
            "colorbar": {
             "outlinewidth": 0,
             "ticks": ""
            },
            "colorscale": [
             [
              0,
              "#0d0887"
             ],
             [
              0.1111111111111111,
              "#46039f"
             ],
             [
              0.2222222222222222,
              "#7201a8"
             ],
             [
              0.3333333333333333,
              "#9c179e"
             ],
             [
              0.4444444444444444,
              "#bd3786"
             ],
             [
              0.5555555555555556,
              "#d8576b"
             ],
             [
              0.6666666666666666,
              "#ed7953"
             ],
             [
              0.7777777777777778,
              "#fb9f3a"
             ],
             [
              0.8888888888888888,
              "#fdca26"
             ],
             [
              1,
              "#f0f921"
             ]
            ],
            "type": "histogram2d"
           }
          ],
          "histogram2dcontour": [
           {
            "colorbar": {
             "outlinewidth": 0,
             "ticks": ""
            },
            "colorscale": [
             [
              0,
              "#0d0887"
             ],
             [
              0.1111111111111111,
              "#46039f"
             ],
             [
              0.2222222222222222,
              "#7201a8"
             ],
             [
              0.3333333333333333,
              "#9c179e"
             ],
             [
              0.4444444444444444,
              "#bd3786"
             ],
             [
              0.5555555555555556,
              "#d8576b"
             ],
             [
              0.6666666666666666,
              "#ed7953"
             ],
             [
              0.7777777777777778,
              "#fb9f3a"
             ],
             [
              0.8888888888888888,
              "#fdca26"
             ],
             [
              1,
              "#f0f921"
             ]
            ],
            "type": "histogram2dcontour"
           }
          ],
          "mesh3d": [
           {
            "colorbar": {
             "outlinewidth": 0,
             "ticks": ""
            },
            "type": "mesh3d"
           }
          ],
          "parcoords": [
           {
            "line": {
             "colorbar": {
              "outlinewidth": 0,
              "ticks": ""
             }
            },
            "type": "parcoords"
           }
          ],
          "pie": [
           {
            "automargin": true,
            "type": "pie"
           }
          ],
          "scatter": [
           {
            "fillpattern": {
             "fillmode": "overlay",
             "size": 10,
             "solidity": 0.2
            },
            "type": "scatter"
           }
          ],
          "scatter3d": [
           {
            "line": {
             "colorbar": {
              "outlinewidth": 0,
              "ticks": ""
             }
            },
            "marker": {
             "colorbar": {
              "outlinewidth": 0,
              "ticks": ""
             }
            },
            "type": "scatter3d"
           }
          ],
          "scattercarpet": [
           {
            "marker": {
             "colorbar": {
              "outlinewidth": 0,
              "ticks": ""
             }
            },
            "type": "scattercarpet"
           }
          ],
          "scattergeo": [
           {
            "marker": {
             "colorbar": {
              "outlinewidth": 0,
              "ticks": ""
             }
            },
            "type": "scattergeo"
           }
          ],
          "scattergl": [
           {
            "marker": {
             "colorbar": {
              "outlinewidth": 0,
              "ticks": ""
             }
            },
            "type": "scattergl"
           }
          ],
          "scattermapbox": [
           {
            "marker": {
             "colorbar": {
              "outlinewidth": 0,
              "ticks": ""
             }
            },
            "type": "scattermapbox"
           }
          ],
          "scatterpolar": [
           {
            "marker": {
             "colorbar": {
              "outlinewidth": 0,
              "ticks": ""
             }
            },
            "type": "scatterpolar"
           }
          ],
          "scatterpolargl": [
           {
            "marker": {
             "colorbar": {
              "outlinewidth": 0,
              "ticks": ""
             }
            },
            "type": "scatterpolargl"
           }
          ],
          "scatterternary": [
           {
            "marker": {
             "colorbar": {
              "outlinewidth": 0,
              "ticks": ""
             }
            },
            "type": "scatterternary"
           }
          ],
          "surface": [
           {
            "colorbar": {
             "outlinewidth": 0,
             "ticks": ""
            },
            "colorscale": [
             [
              0,
              "#0d0887"
             ],
             [
              0.1111111111111111,
              "#46039f"
             ],
             [
              0.2222222222222222,
              "#7201a8"
             ],
             [
              0.3333333333333333,
              "#9c179e"
             ],
             [
              0.4444444444444444,
              "#bd3786"
             ],
             [
              0.5555555555555556,
              "#d8576b"
             ],
             [
              0.6666666666666666,
              "#ed7953"
             ],
             [
              0.7777777777777778,
              "#fb9f3a"
             ],
             [
              0.8888888888888888,
              "#fdca26"
             ],
             [
              1,
              "#f0f921"
             ]
            ],
            "type": "surface"
           }
          ],
          "table": [
           {
            "cells": {
             "fill": {
              "color": "#EBF0F8"
             },
             "line": {
              "color": "white"
             }
            },
            "header": {
             "fill": {
              "color": "#C8D4E3"
             },
             "line": {
              "color": "white"
             }
            },
            "type": "table"
           }
          ]
         },
         "layout": {
          "annotationdefaults": {
           "arrowcolor": "#2a3f5f",
           "arrowhead": 0,
           "arrowwidth": 1
          },
          "autotypenumbers": "strict",
          "coloraxis": {
           "colorbar": {
            "outlinewidth": 0,
            "ticks": ""
           }
          },
          "colorscale": {
           "diverging": [
            [
             0,
             "#8e0152"
            ],
            [
             0.1,
             "#c51b7d"
            ],
            [
             0.2,
             "#de77ae"
            ],
            [
             0.3,
             "#f1b6da"
            ],
            [
             0.4,
             "#fde0ef"
            ],
            [
             0.5,
             "#f7f7f7"
            ],
            [
             0.6,
             "#e6f5d0"
            ],
            [
             0.7,
             "#b8e186"
            ],
            [
             0.8,
             "#7fbc41"
            ],
            [
             0.9,
             "#4d9221"
            ],
            [
             1,
             "#276419"
            ]
           ],
           "sequential": [
            [
             0,
             "#0d0887"
            ],
            [
             0.1111111111111111,
             "#46039f"
            ],
            [
             0.2222222222222222,
             "#7201a8"
            ],
            [
             0.3333333333333333,
             "#9c179e"
            ],
            [
             0.4444444444444444,
             "#bd3786"
            ],
            [
             0.5555555555555556,
             "#d8576b"
            ],
            [
             0.6666666666666666,
             "#ed7953"
            ],
            [
             0.7777777777777778,
             "#fb9f3a"
            ],
            [
             0.8888888888888888,
             "#fdca26"
            ],
            [
             1,
             "#f0f921"
            ]
           ],
           "sequentialminus": [
            [
             0,
             "#0d0887"
            ],
            [
             0.1111111111111111,
             "#46039f"
            ],
            [
             0.2222222222222222,
             "#7201a8"
            ],
            [
             0.3333333333333333,
             "#9c179e"
            ],
            [
             0.4444444444444444,
             "#bd3786"
            ],
            [
             0.5555555555555556,
             "#d8576b"
            ],
            [
             0.6666666666666666,
             "#ed7953"
            ],
            [
             0.7777777777777778,
             "#fb9f3a"
            ],
            [
             0.8888888888888888,
             "#fdca26"
            ],
            [
             1,
             "#f0f921"
            ]
           ]
          },
          "colorway": [
           "#636efa",
           "#EF553B",
           "#00cc96",
           "#ab63fa",
           "#FFA15A",
           "#19d3f3",
           "#FF6692",
           "#B6E880",
           "#FF97FF",
           "#FECB52"
          ],
          "font": {
           "color": "#2a3f5f"
          },
          "geo": {
           "bgcolor": "white",
           "lakecolor": "white",
           "landcolor": "white",
           "showlakes": true,
           "showland": true,
           "subunitcolor": "#C8D4E3"
          },
          "hoverlabel": {
           "align": "left"
          },
          "hovermode": "closest",
          "mapbox": {
           "style": "light"
          },
          "paper_bgcolor": "white",
          "plot_bgcolor": "white",
          "polar": {
           "angularaxis": {
            "gridcolor": "#EBF0F8",
            "linecolor": "#EBF0F8",
            "ticks": ""
           },
           "bgcolor": "white",
           "radialaxis": {
            "gridcolor": "#EBF0F8",
            "linecolor": "#EBF0F8",
            "ticks": ""
           }
          },
          "scene": {
           "xaxis": {
            "backgroundcolor": "white",
            "gridcolor": "#DFE8F3",
            "gridwidth": 2,
            "linecolor": "#EBF0F8",
            "showbackground": true,
            "ticks": "",
            "zerolinecolor": "#EBF0F8"
           },
           "yaxis": {
            "backgroundcolor": "white",
            "gridcolor": "#DFE8F3",
            "gridwidth": 2,
            "linecolor": "#EBF0F8",
            "showbackground": true,
            "ticks": "",
            "zerolinecolor": "#EBF0F8"
           },
           "zaxis": {
            "backgroundcolor": "white",
            "gridcolor": "#DFE8F3",
            "gridwidth": 2,
            "linecolor": "#EBF0F8",
            "showbackground": true,
            "ticks": "",
            "zerolinecolor": "#EBF0F8"
           }
          },
          "shapedefaults": {
           "line": {
            "color": "#2a3f5f"
           }
          },
          "ternary": {
           "aaxis": {
            "gridcolor": "#DFE8F3",
            "linecolor": "#A2B1C6",
            "ticks": ""
           },
           "baxis": {
            "gridcolor": "#DFE8F3",
            "linecolor": "#A2B1C6",
            "ticks": ""
           },
           "bgcolor": "white",
           "caxis": {
            "gridcolor": "#DFE8F3",
            "linecolor": "#A2B1C6",
            "ticks": ""
           }
          },
          "title": {
           "x": 0.05
          },
          "xaxis": {
           "automargin": true,
           "gridcolor": "#EBF0F8",
           "linecolor": "#EBF0F8",
           "ticks": "",
           "title": {
            "standoff": 15
           },
           "zerolinecolor": "#EBF0F8",
           "zerolinewidth": 2
          },
          "yaxis": {
           "automargin": true,
           "gridcolor": "#EBF0F8",
           "linecolor": "#EBF0F8",
           "ticks": "",
           "title": {
            "standoff": 15
           },
           "zerolinecolor": "#EBF0F8",
           "zerolinewidth": 2
          }
         }
        },
        "title": {
         "text": "Energy vs. Danceability"
        },
        "xaxis": {
         "anchor": "y",
         "autorange": true,
         "domain": [
          0,
          1
         ],
         "range": [
          51.15700380871773,
          84.84299619128227
         ],
         "title": {
          "text": "energy"
         },
         "type": "linear"
        },
        "yaxis": {
         "anchor": "x",
         "autorange": true,
         "domain": [
          0,
          1
         ],
         "range": [
          48.60679611650485,
          82.39320388349515
         ],
         "title": {
          "text": "danceability"
         },
         "type": "linear"
        }
       }
      },
      "image/png": "[encoded data removed]",
      "text/html": [
       "<div>                            <div id=\"f14541f8-a431-4e17-9b7d-cd1f18edb90e\" class=\"plotly-graph-div\" style=\"height:525px; width:100%;\"></div>            <script type=\"text/javascript\">                require([\"plotly\"], function(Plotly) {                    window.PLOTLYENV=window.PLOTLYENV || {};                                    if (document.getElementById(\"f14541f8-a431-4e17-9b7d-cd1f18edb90e\")) {                    Plotly.newPlot(                        \"f14541f8-a431-4e17-9b7d-cd1f18edb90e\",                        [{\"hovertemplate\":\"energy=%{x}\\u003cbr\\u003edanceability=%{marker.color}\\u003cextra\\u003e\\u003c\\u002fextra\\u003e\",\"legendgroup\":\"\",\"marker\":{\"color\":[80,71,51,55,65],\"coloraxis\":\"coloraxis\",\"symbol\":\"circle\"},\"mode\":\"markers\",\"name\":\"\",\"orientation\":\"v\",\"showlegend\":false,\"x\":[83,74,53,72,80],\"xaxis\":\"x\",\"y\":[80,71,51,55,65],\"yaxis\":\"y\",\"type\":\"scatter\"}],                        {\"template\":{\"data\":{\"barpolar\":[{\"marker\":{\"line\":{\"color\":\"white\",\"width\":0.5},\"pattern\":{\"fillmode\":\"overlay\",\"size\":10,\"solidity\":0.2}},\"type\":\"barpolar\"}],\"bar\":[{\"error_x\":{\"color\":\"#2a3f5f\"},\"error_y\":{\"color\":\"#2a3f5f\"},\"marker\":{\"line\":{\"color\":\"white\",\"width\":0.5},\"pattern\":{\"fillmode\":\"overlay\",\"size\":10,\"solidity\":0.2}},\"type\":\"bar\"}],\"carpet\":[{\"aaxis\":{\"endlinecolor\":\"#2a3f5f\",\"gridcolor\":\"#C8D4E3\",\"linecolor\":\"#C8D4E3\",\"minorgridcolor\":\"#C8D4E3\",\"startlinecolor\":\"#2a3f5f\"},\"baxis\":{\"endlinecolor\":\"#2a3f5f\",\"gridcolor\":\"#C8D4E3\",\"linecolor\":\"#C8D4E3\",\"minorgridcolor\":\"#C8D4E3\",\"startlinecolor\":\"#2a3f5f\"},\"type\":\"carpet\"}],\"choropleth\":[{\"colorbar\":{\"outlinewidth\":0,\"ticks\":\"\"},\"type\":\"choropleth\"}],\"contourcarpet\":[{\"colorbar\":{\"outlinewidth\":0,\"ticks\":\"\"},\"type\":\"contourcarpet\"}],\"contour\":[{\"colorbar\":{\"outlinewidth\":0,\"ticks\":\"\"},\"colorscale\":[[0.0,\"#0d0887\"],[0.1111111111111111,\"#46039f\"],[0.2222222222222222,\"#7201a8\"],[0.3333333333333333,\"#9c179e\"],[0.4444444444444444,\"#bd3786\"],[0.5555555555555556,\"#d8576b\"],[0.6666666666666666,\"#ed7953\"],[0.7777777777777778,\"#fb9f3a\"],[0.8888888888888888,\"#fdca26\"],[1.0,\"#f0f921\"]],\"type\":\"contour\"}],\"heatmapgl\":[{\"colorbar\":{\"outlinewidth\":0,\"ticks\":\"\"},\"colorscale\":[[0.0,\"#0d0887\"],[0.1111111111111111,\"#46039f\"],[0.2222222222222222,\"#7201a8\"],[0.3333333333333333,\"#9c179e\"],[0.4444444444444444,\"#bd3786\"],[0.5555555555555556,\"#d8576b\"],[0.6666666666666666,\"#ed7953\"],[0.7777777777777778,\"#fb9f3a\"],[0.8888888888888888,\"#fdca26\"],[1.0,\"#f0f921\"]],\"type\":\"heatmapgl\"}],\"heatmap\":[{\"colorbar\":{\"outlinewidth\":0,\"ticks\":\"\"},\"colorscale\":[[0.0,\"#0d0887\"],[0.1111111111111111,\"#46039f\"],[0.2222222222222222,\"#7201a8\"],[0.3333333333333333,\"#9c179e\"],[0.4444444444444444,\"#bd3786\"],[0.5555555555555556,\"#d8576b\"],[0.6666666666666666,\"#ed7953\"],[0.7777777777777778,\"#fb9f3a\"],[0.8888888888888888,\"#fdca26\"],[1.0,\"#f0f921\"]],\"type\":\"heatmap\"}],\"histogram2dcontour\":[{\"colorbar\":{\"outlinewidth\":0,\"ticks\":\"\"},\"colorscale\":[[0.0,\"#0d0887\"],[0.1111111111111111,\"#46039f\"],[0.2222222222222222,\"#7201a8\"],[0.3333333333333333,\"#9c179e\"],[0.4444444444444444,\"#bd3786\"],[0.5555555555555556,\"#d8576b\"],[0.6666666666666666,\"#ed7953\"],[0.7777777777777778,\"#fb9f3a\"],[0.8888888888888888,\"#fdca26\"],[1.0,\"#f0f921\"]],\"type\":\"histogram2dcontour\"}],\"histogram2d\":[{\"colorbar\":{\"outlinewidth\":0,\"ticks\":\"\"},\"colorscale\":[[0.0,\"#0d0887\"],[0.1111111111111111,\"#46039f\"],[0.2222222222222222,\"#7201a8\"],[0.3333333333333333,\"#9c179e\"],[0.4444444444444444,\"#bd3786\"],[0.5555555555555556,\"#d8576b\"],[0.6666666666666666,\"#ed7953\"],[0.7777777777777778,\"#fb9f3a\"],[0.8888888888888888,\"#fdca26\"],[1.0,\"#f0f921\"]],\"type\":\"histogram2d\"}],\"histogram\":[{\"marker\":{\"pattern\":{\"fillmode\":\"overlay\",\"size\":10,\"solidity\":0.2}},\"type\":\"histogram\"}],\"mesh3d\":[{\"colorbar\":{\"outlinewidth\":0,\"ticks\":\"\"},\"type\":\"mesh3d\"}],\"parcoords\":[{\"line\":{\"colorbar\":{\"outlinewidth\":0,\"ticks\":\"\"}},\"type\":\"parcoords\"}],\"pie\":[{\"automargin\":true,\"type\":\"pie\"}],\"scatter3d\":[{\"line\":{\"colorbar\":{\"outlinewidth\":0,\"ticks\":\"\"}},\"marker\":{\"colorbar\":{\"outlinewidth\":0,\"ticks\":\"\"}},\"type\":\"scatter3d\"}],\"scattercarpet\":[{\"marker\":{\"colorbar\":{\"outlinewidth\":0,\"ticks\":\"\"}},\"type\":\"scattercarpet\"}],\"scattergeo\":[{\"marker\":{\"colorbar\":{\"outlinewidth\":0,\"ticks\":\"\"}},\"type\":\"scattergeo\"}],\"scattergl\":[{\"marker\":{\"colorbar\":{\"outlinewidth\":0,\"ticks\":\"\"}},\"type\":\"scattergl\"}],\"scattermapbox\":[{\"marker\":{\"colorbar\":{\"outlinewidth\":0,\"ticks\":\"\"}},\"type\":\"scattermapbox\"}],\"scatterpolargl\":[{\"marker\":{\"colorbar\":{\"outlinewidth\":0,\"ticks\":\"\"}},\"type\":\"scatterpolargl\"}],\"scatterpolar\":[{\"marker\":{\"colorbar\":{\"outlinewidth\":0,\"ticks\":\"\"}},\"type\":\"scatterpolar\"}],\"scatter\":[{\"fillpattern\":{\"fillmode\":\"overlay\",\"size\":10,\"solidity\":0.2},\"type\":\"scatter\"}],\"scatterternary\":[{\"marker\":{\"colorbar\":{\"outlinewidth\":0,\"ticks\":\"\"}},\"type\":\"scatterternary\"}],\"surface\":[{\"colorbar\":{\"outlinewidth\":0,\"ticks\":\"\"},\"colorscale\":[[0.0,\"#0d0887\"],[0.1111111111111111,\"#46039f\"],[0.2222222222222222,\"#7201a8\"],[0.3333333333333333,\"#9c179e\"],[0.4444444444444444,\"#bd3786\"],[0.5555555555555556,\"#d8576b\"],[0.6666666666666666,\"#ed7953\"],[0.7777777777777778,\"#fb9f3a\"],[0.8888888888888888,\"#fdca26\"],[1.0,\"#f0f921\"]],\"type\":\"surface\"}],\"table\":[{\"cells\":{\"fill\":{\"color\":\"#EBF0F8\"},\"line\":{\"color\":\"white\"}},\"header\":{\"fill\":{\"color\":\"#C8D4E3\"},\"line\":{\"color\":\"white\"}},\"type\":\"table\"}]},\"layout\":{\"annotationdefaults\":{\"arrowcolor\":\"#2a3f5f\",\"arrowhead\":0,\"arrowwidth\":1},\"autotypenumbers\":\"strict\",\"coloraxis\":{\"colorbar\":{\"outlinewidth\":0,\"ticks\":\"\"}},\"colorscale\":{\"diverging\":[[0,\"#8e0152\"],[0.1,\"#c51b7d\"],[0.2,\"#de77ae\"],[0.3,\"#f1b6da\"],[0.4,\"#fde0ef\"],[0.5,\"#f7f7f7\"],[0.6,\"#e6f5d0\"],[0.7,\"#b8e186\"],[0.8,\"#7fbc41\"],[0.9,\"#4d9221\"],[1,\"#276419\"]],\"sequential\":[[0.0,\"#0d0887\"],[0.1111111111111111,\"#46039f\"],[0.2222222222222222,\"#7201a8\"],[0.3333333333333333,\"#9c179e\"],[0.4444444444444444,\"#bd3786\"],[0.5555555555555556,\"#d8576b\"],[0.6666666666666666,\"#ed7953\"],[0.7777777777777778,\"#fb9f3a\"],[0.8888888888888888,\"#fdca26\"],[1.0,\"#f0f921\"]],\"sequentialminus\":[[0.0,\"#0d0887\"],[0.1111111111111111,\"#46039f\"],[0.2222222222222222,\"#7201a8\"],[0.3333333333333333,\"#9c179e\"],[0.4444444444444444,\"#bd3786\"],[0.5555555555555556,\"#d8576b\"],[0.6666666666666666,\"#ed7953\"],[0.7777777777777778,\"#fb9f3a\"],[0.8888888888888888,\"#fdca26\"],[1.0,\"#f0f921\"]]},\"colorway\":[\"#636efa\",\"#EF553B\",\"#00cc96\",\"#ab63fa\",\"#FFA15A\",\"#19d3f3\",\"#FF6692\",\"#B6E880\",\"#FF97FF\",\"#FECB52\"],\"font\":{\"color\":\"#2a3f5f\"},\"geo\":{\"bgcolor\":\"white\",\"lakecolor\":\"white\",\"landcolor\":\"white\",\"showlakes\":true,\"showland\":true,\"subunitcolor\":\"#C8D4E3\"},\"hoverlabel\":{\"align\":\"left\"},\"hovermode\":\"closest\",\"mapbox\":{\"style\":\"light\"},\"paper_bgcolor\":\"white\",\"plot_bgcolor\":\"white\",\"polar\":{\"angularaxis\":{\"gridcolor\":\"#EBF0F8\",\"linecolor\":\"#EBF0F8\",\"ticks\":\"\"},\"bgcolor\":\"white\",\"radialaxis\":{\"gridcolor\":\"#EBF0F8\",\"linecolor\":\"#EBF0F8\",\"ticks\":\"\"}},\"scene\":{\"xaxis\":{\"backgroundcolor\":\"white\",\"gridcolor\":\"#DFE8F3\",\"gridwidth\":2,\"linecolor\":\"#EBF0F8\",\"showbackground\":true,\"ticks\":\"\",\"zerolinecolor\":\"#EBF0F8\"},\"yaxis\":{\"backgroundcolor\":\"white\",\"gridcolor\":\"#DFE8F3\",\"gridwidth\":2,\"linecolor\":\"#EBF0F8\",\"showbackground\":true,\"ticks\":\"\",\"zerolinecolor\":\"#EBF0F8\"},\"zaxis\":{\"backgroundcolor\":\"white\",\"gridcolor\":\"#DFE8F3\",\"gridwidth\":2,\"linecolor\":\"#EBF0F8\",\"showbackground\":true,\"ticks\":\"\",\"zerolinecolor\":\"#EBF0F8\"}},\"shapedefaults\":{\"line\":{\"color\":\"#2a3f5f\"}},\"ternary\":{\"aaxis\":{\"gridcolor\":\"#DFE8F3\",\"linecolor\":\"#A2B1C6\",\"ticks\":\"\"},\"baxis\":{\"gridcolor\":\"#DFE8F3\",\"linecolor\":\"#A2B1C6\",\"ticks\":\"\"},\"bgcolor\":\"white\",\"caxis\":{\"gridcolor\":\"#DFE8F3\",\"linecolor\":\"#A2B1C6\",\"ticks\":\"\"}},\"title\":{\"x\":0.05},\"xaxis\":{\"automargin\":true,\"gridcolor\":\"#EBF0F8\",\"linecolor\":\"#EBF0F8\",\"ticks\":\"\",\"title\":{\"standoff\":15},\"zerolinecolor\":\"#EBF0F8\",\"zerolinewidth\":2},\"yaxis\":{\"automargin\":true,\"gridcolor\":\"#EBF0F8\",\"linecolor\":\"#EBF0F8\",\"ticks\":\"\",\"title\":{\"standoff\":15},\"zerolinecolor\":\"#EBF0F8\",\"zerolinewidth\":2}}},\"xaxis\":{\"anchor\":\"y\",\"domain\":[0.0,1.0],\"title\":{\"text\":\"energy\"}},\"yaxis\":{\"anchor\":\"x\",\"domain\":[0.0,1.0],\"title\":{\"text\":\"danceability\"}},\"coloraxis\":{\"colorbar\":{\"title\":{\"text\":\"danceability\"}},\"colorscale\":[[0.0,\"#0d0887\"],[0.1111111111111111,\"#46039f\"],[0.2222222222222222,\"#7201a8\"],[0.3333333333333333,\"#9c179e\"],[0.4444444444444444,\"#bd3786\"],[0.5555555555555556,\"#d8576b\"],[0.6666666666666666,\"#ed7953\"],[0.7777777777777778,\"#fb9f3a\"],[0.8888888888888888,\"#fdca26\"],[1.0,\"#f0f921\"]]},\"legend\":{\"tracegroupgap\":0},\"title\":{\"text\":\"Energy vs. Danceability\"}},                        {\"responsive\": true}                    ).then(function(){\n",
       "                            \n",
       "var gd = document.getElementById('f14541f8-a431-4e17-9b7d-cd1f18edb90e');\n",
       "var x = new MutationObserver(function (mutations, observer) {{\n",
       "        var display = window.getComputedStyle(gd).display;\n",
       "        if (!display || display === 'none') {{\n",
       "            console.log([gd, 'removed!']);\n",
       "            Plotly.purge(gd);\n",
       "            observer.disconnect();\n",
       "        }}\n",
       "}});\n",
       "\n",
       "// Listen for the removal of the full notebook cells\n",
       "var notebookContainer = gd.closest('#notebook-container');\n",
       "if (notebookContainer) {{\n",
       "    x.observe(notebookContainer, {childList: true});\n",
       "}}\n",
       "\n",
       "// Listen for the clearing of the current output cell\n",
       "var outputEl = gd.closest('.output');\n",
       "if (outputEl) {{\n",
       "    x.observe(outputEl, {childList: true});\n",
       "}}\n",
       "\n",
       "                        })                };                });            </script>        </div>"
      ]
     },
     "metadata": {},
     "output_type": "display_data"
    }
   ],
   "source": [
    "px.scatter(df_analysis, x='energy', y='danceability',color = 'danceability', \n",
    "           color_continuous_scale=px.colors.sequential.Plasma,template='plotly_white',\n",
    "           title = \"Energy vs. Danceability\")"
   ]
  },
  {
   "cell_type": "code",
   "execution_count": 113,
   "id": "dc0a696d-656d-45ce-901f-02f403870800",
   "metadata": {},
   "outputs": [
    {
     "data": {
      "text/html": [
       "<div>\n",
       "<style scoped>\n",
       "    .dataframe tbody tr th:only-of-type {\n",
       "        vertical-align: middle;\n",
       "    }\n",
       "\n",
       "    .dataframe tbody tr th {\n",
       "        vertical-align: top;\n",
       "    }\n",
       "\n",
       "    .dataframe thead th {\n",
       "        text-align: right;\n",
       "    }\n",
       "</style>\n",
       "<table border=\"1\" class=\"dataframe\">\n",
       "  <thead>\n",
       "    <tr style=\"text-align: right;\">\n",
       "      <th></th>\n",
       "      <th>streams</th>\n",
       "      <th>track_name</th>\n",
       "      <th>artist(s)_name</th>\n",
       "    </tr>\n",
       "  </thead>\n",
       "  <tbody>\n",
       "    <tr>\n",
       "      <th>0</th>\n",
       "      <td>141381703.0</td>\n",
       "      <td>Seven (feat. Latto) (Explicit Ver.)</td>\n",
       "      <td>Latto, Jung Kook</td>\n",
       "    </tr>\n",
       "    <tr>\n",
       "      <th>1</th>\n",
       "      <td>133716286.0</td>\n",
       "      <td>LALA</td>\n",
       "      <td>Myke Towers</td>\n",
       "    </tr>\n",
       "    <tr>\n",
       "      <th>2</th>\n",
       "      <td>140003974.0</td>\n",
       "      <td>vampire</td>\n",
       "      <td>Olivia Rodrigo</td>\n",
       "    </tr>\n",
       "    <tr>\n",
       "      <th>3</th>\n",
       "      <td>800840817.0</td>\n",
       "      <td>Cruel Summer</td>\n",
       "      <td>Taylor Swift</td>\n",
       "    </tr>\n",
       "    <tr>\n",
       "      <th>4</th>\n",
       "      <td>303236322.0</td>\n",
       "      <td>WHERE SHE GOES</td>\n",
       "      <td>Bad Bunny</td>\n",
       "    </tr>\n",
       "    <tr>\n",
       "      <th>...</th>\n",
       "      <td>...</td>\n",
       "      <td>...</td>\n",
       "      <td>...</td>\n",
       "    </tr>\n",
       "    <tr>\n",
       "      <th>948</th>\n",
       "      <td>91473363.0</td>\n",
       "      <td>My Mind &amp; Me</td>\n",
       "      <td>Selena Gomez</td>\n",
       "    </tr>\n",
       "    <tr>\n",
       "      <th>949</th>\n",
       "      <td>121871870.0</td>\n",
       "      <td>Bigger Than The Whole Sky</td>\n",
       "      <td>Taylor Swift</td>\n",
       "    </tr>\n",
       "    <tr>\n",
       "      <th>950</th>\n",
       "      <td>73513683.0</td>\n",
       "      <td>A Veces (feat. Feid)</td>\n",
       "      <td>Feid, Paulo Londra</td>\n",
       "    </tr>\n",
       "    <tr>\n",
       "      <th>951</th>\n",
       "      <td>133895612.0</td>\n",
       "      <td>En La De Ella</td>\n",
       "      <td>Feid, Sech, Jhayco</td>\n",
       "    </tr>\n",
       "    <tr>\n",
       "      <th>952</th>\n",
       "      <td>96007391.0</td>\n",
       "      <td>Alone</td>\n",
       "      <td>Burna Boy</td>\n",
       "    </tr>\n",
       "  </tbody>\n",
       "</table>\n",
       "<p>817 rows × 3 columns</p>\n",
       "</div>"
      ],
      "text/plain": [
       "         streams                           track_name      artist(s)_name\n",
       "0    141381703.0  Seven (feat. Latto) (Explicit Ver.)    Latto, Jung Kook\n",
       "1    133716286.0                                 LALA         Myke Towers\n",
       "2    140003974.0                              vampire      Olivia Rodrigo\n",
       "3    800840817.0                         Cruel Summer        Taylor Swift\n",
       "4    303236322.0                       WHERE SHE GOES           Bad Bunny\n",
       "..           ...                                  ...                 ...\n",
       "948   91473363.0                         My Mind & Me        Selena Gomez\n",
       "949  121871870.0            Bigger Than The Whole Sky        Taylor Swift\n",
       "950   73513683.0                 A Veces (feat. Feid)  Feid, Paulo Londra\n",
       "951  133895612.0                        En La De Ella  Feid, Sech, Jhayco\n",
       "952   96007391.0                                Alone           Burna Boy\n",
       "\n",
       "[817 rows x 3 columns]"
      ]
     },
     "metadata": {},
     "output_type": "display_data"
    }
   ],
   "source": [
    "df_songs_artists = display(df[['streams', 'track_name', 'artist(s)_name']])"
   ]
  },
  {
   "cell_type": "code",
   "execution_count": 114,
   "id": "4dc519ad-f141-4e5f-9b0c-4686119dd3a9",
   "metadata": {},
   "outputs": [
    {
     "data": {
      "application/vnd.plotly.v1+json": {
       "config": {
        "plotlyServerURL": "https://plot.ly"
       },
       "data": [
        {
         "branchvalues": "total",
         "domain": {
          "x": [
           0,
           1
          ],
          "y": [
           0,
           1
          ]
         },
         "hovertemplate": "labels=%{label}<br>streams=%{value}<br>parent=%{parent}<br>id=%{id}<extra></extra>",
         "ids": [
          "Artist/Eminem, Nate Dogg/'Till I Collapse",
          "Artist/Peggy Gou/(It Goes Like) Nanana - Edit",
          "Artist/Leah Kate/10 Things I Hate About You",
          "Artist/Tiï¿½ï¿½sto, Tate M/10:35",
          "Artist/Lizzo/2 Be Loved (Am I Ready)",
          "Artist/Sleepy hallow/2055",
          "Artist/Mainstreet, Chefin/212",
          "Artist/Gunna, Lil Baby/25k jacket (feat. Lil Baby)",
          "Artist/Sidhu Moose Wala/295",
          "Artist/Nicky Jam, Feid/69",
          "Artist/The Weeknd/A Tale By Quincy",
          "Artist/Feid, Paulo Londra/A Veces (feat. Feid)",
          "Artist/Beyoncï¿/ALIEN SUPERSTAR",
          "Artist/J Balvin, Nio Garcia, Bad Bunny/AM Remix",
          "Artist/Karol G/AMARGURA",
          "Artist/Kendrick Lamar, Beyoncï¿/AMERICA HAS A PROBLEM (feat. Kendrick Lamar)",
          "Artist/Natanael Cano, Gabito Ballesteros, Peso Pluma/AMG",
          "Artist/LE SSERAFIM/ANTIFRAGILE",
          "Artist/Junior H, Eden Muï¿½ï/Abcdario",
          "Artist/Lizzo/About Damn Time",
          "Artist/Jason Derulo/Acapulco",
          "Artist/Shakira/Acrï¿½ï¿½s",
          "Artist/Harry Styles/Adore You",
          "Artist/LF System/Afraid To Feel",
          "Artist/Mr.Kitty/After Dark",
          "Artist/The Weeknd/After Hours",
          "Artist/Bad Bunny/Agosto",
          "Artist/Bad Bunny/Aguacero",
          "Artist/Styrx, utku INC, Thezth/Agudo Mï¿½ï¿½gi",
          "Artist/L7nnon, DJ Biel do Furduncinho, Bianca/Ai Preto",
          "Artist/Doja Cat/Ain't Shit",
          "Artist/Morgan Wallen/Ainï¿½ï¿½ï¿½t Tha",
          "Artist/Vundabar/Alien Blues",
          "Artist/Labrinth, Zendaya/All For Us - from the HBO Original Series Euphoria",
          "Artist/J. Cole, Lil Durk/All My Life (feat. J. Cole)",
          "Artist/Taylor Swift/All Of The Girls You Loved Before",
          "Artist/Future, Lil Uzi Vert, Metro Boomin/All The Way Live (Spider-Man: Across the Spider-Verse) (Metro Boomin & Future, Lil Uzi Vert)",
          "Artist/John Legend/All of Me",
          "Artist/Burna Boy/Alone",
          "Artist/A$AP Rocky, Metro Boomin, Roisee/Am I Dreaming (Metro Boomin & A$AP Rocky, Roisee)",
          "Artist/Buscabulla, Bad Bunny/Andrea",
          "Artist/Troye Sivan/Angel Baby",
          "Artist/Kodak Black, NLE Choppa, Muni Long, JVKE, Jimin/Angel Pt 1 (feat. Jimin of BTS, JVKE & Muni Long)",
          "Artist/Miley Cyrus/Angels Like You",
          "Artist/Swae Lee, Lil Wayne, Offset, Metro Boomin/Annihilate (Spider-Man: Across the Spider-Verse) (Metro Boomin & Swae Lee, Lil Wayne, Offset)",
          "Artist/Duki/Antes de Perderte",
          "Artist/Taylor Swift/Anti-Hero",
          "Artist/Mabel Matiz, Mert Demir/Antidepresan",
          "Artist/Arijit Singh, Sachin-Jigar/Apna Bana Le (From \"Bhediya\")",
          "Artist/Cigarettes After Sex/Apocalypse",
          "Artist/Arcangel, Bizarrap/Arcï¿½ï¿½ngel: Bzrp Music Sessions, Vol",
          "Artist/Kaliii, Kaliii/Area Codes",
          "Artist/Masked Wolf/Astronaut In The Ocean",
          "Artist/Seafret/Atlantis",
          "Artist/NewJeans/Attention",
          "Artist/Kendrick Lamar/Auntie Diaries",
          "Artist/Rauw Alejandro, Bizarrap/BABY HELLO",
          "Artist/Fran C, Polima WestCoast, Nickoog Clk, Pablito Pesadilla/BABY OTAKU",
          "Artist/Rauw Alejandro, ROSALï¿½/BESO",
          "Artist/Armani White/BILLIE EILISH.",
          "Artist/Beyoncï¿/BREAK MY SOUL",
          "Artist/David Guetta, Anne-Marie, Coi Leray/Baby Don't Hurt Me",
          "Artist/Taylor Swift/Back To December (Taylor's Version)",
          "Artist/Drake/BackOutsideBoyz",
          "Artist/Steve Lacy/Bad Habit",
          "Artist/Mc Vitin Da Igrejinha, MC Tairon, DJ Win/Baile no Morro",
          "Artist/Camila Cabello, Ed Sheeran/Bam Bam (feat. Ed Sheeran)",
          "Artist/Luciano, Aitch, Bï¿½/Bamba (feat. Aitch & BIA)",
          "Artist/Tini, L-Gante/Bar",
          "Artist/Luciano/Beautiful Girl",
          "Artist/Fuerza Regida, Grupo Frontera/Bebe Dame",
          "Artist/Lewis Capaldi/Before You Go",
          "Artist/Mï¿½ï¿½ne/Beggin",
          "Artist/Taylor Swift/Bejeweled",
          "Artist/Imagine Dragons/Believer",
          "Artist/BYOR, Imanbek/Belly Dancer",
          "Artist/Vishal-Shekhar, Shilpa Rao, Caralisa Monteiro, Kumaar, Vishal Dadlani, Shekhar Ravjiani/Besharam Rang (From \"Pathaan\")",
          "Artist/Wisin & Yandel, ROSALï¿½/Besos Moja2",
          "Artist/The Weeknd/Best Friends",
          "Artist/Taylor Swift/Better Than Revenge (Taylor's Version)",
          "Artist/Yung Gravy/Betty (Get Money)",
          "Artist/Taylor Swift/Bigger Than The Whole Sky",
          "Artist/ENHYPEN/Bite Me",
          "Artist/Taylor Swift/Blank Space",
          "Artist/ENHYPEN/Blessed-Cursed",
          "Artist/SZA/Blind",
          "Artist/Lady Gaga/Bloody Mary",
          "Artist/Israel & Rodolffo, Ana Castela/Bombonzinho - Ao Vivo",
          "Artist/Imagine Dragons/Bones",
          "Artist/Billie Eilish/Bored",
          "Artist/BTS/Born Singer",
          "Artist/Kanye West/Bound 2",
          "Artist/Halsey, BTS/Boy With Luv (feat. Halsey)",
          "Artist/PinkPantheress/Boy's a liar",
          "Artist/PinkPantheress, Ice Spice/Boy's a liar Pt. 2",
          "Artist/Dove Cameron/Boyfriend",
          "Artist/Mahmood, Blanco/Brividi",
          "Artist/Drake, 21 Savage/Broke Boys",
          "Artist/Nicki Minaj, Lil Baby/Bussin",
          "Artist/BTS/Butter",
          "Artist/Marshmello, Juice WRLD/Bye Bye",
          "Artist/Karol G, Ovy On The Drums/CAIRO",
          "Artist/Feid/CHORRITO PA LAS ANIMAS",
          "Artist/Maria Becerra/CORAZï¿½ï¿½N VA",
          "Artist/Beyoncï¿/CUFF IT",
          "Artist/Lil Baby/California Breeze",
          "Artist/Dr. Dre, 2Pac, Roger/California Love - Original Version (Explicit)",
          "Artist/The Weeknd/Call Out My Name",
          "Artist/Bad Bunny, Tainy/Callaita",
          "Artist/Rï¿½ï¿½ma, Selena G/Calm Down (with Selena Gomez)",
          "Artist/Ray Dalton, Ryan Lewis, Macklemore/Can't Hold Us (feat. Ray Dalton)",
          "Artist/James Arthur/Car's Outside",
          "Artist/MC Caverinha, KayBlack/Cartï¿½ï¿½o B",
          "Artist/MC Ryan SP, Love Funk, Mc Paiva ZS/Casei Com a Putaria",
          "Artist/Pharrell Williams, Tyler, The Creator, 21 Savage/Cash In Cash Out",
          "Artist/Quevedo, La Pantera, Juseph, Cruz Cafunï¿½ï¿½, Bï¿½ï¿½jo, Abhir Hathi/Cayï¿½ï¿½ La Noche (feat. Cruz Cafunï¿½ï¿½, Abhir Hathi, Bejo, EL IMA)",
          "Artist/Ed Sheeran/Celestial",
          "Artist/Fuerza Regida, Natanael Cano/Ch y la Pizza",
          "Artist/Eden Muï¿½ï/Chale",
          "Artist/Paulo Londra/Chance",
          "Artist/Becky G, Peso Pluma/Chanel",
          "Artist/Post Malone/Chemical",
          "Artist/Shubh/Cheques",
          "Artist/Darlene Love/Christmas (Baby Please Come Home)",
          "Artist/V/Christmas Tree",
          "Artist/Juice WRLD/Cigarettes",
          "Artist/Harry Styles/Cinema",
          "Artist/Drake, 21 Savage/Circo Loco",
          "Artist/Kanye West, Alicia Keys, Fivio Foreign/City of Gods",
          "Artist/Feid, Young Miko/Classy 101",
          "Artist/The Chainsmokers, Halsey/Closer",
          "Artist/Bad Bunny, Eladio Carrion/Coco Chanel",
          "Artist/Dua Lipa, Elton John, Pnau/Cold Heart - PNAU Remix",
          "Artist/Quevedo/Columbia",
          "Artist/Sofia Carson/Come Back Home - From \"Purple Hearts\"",
          "Artist/Ludwig Goransson, Foudeqush/Con La Brisa",
          "Artist/SZA/Conceited",
          "Artist/Rich The Kid, Matuï¿/Conexï¿½ï¿½es de Mï¿½ï¿½fia (feat. Rich ",
          "Artist/GODZZ__-, Zakaria/Contection",
          "Artist/Demi Lovato/Cool for the Summer",
          "Artist/Kendrick Lamar/Count Me Out",
          "Artist/OneRepublic/Counting Stars",
          "Artist/David Guetta, Ella Henderson, Becky Hill/Crazy What Love Can Do",
          "Artist/Radiohead/Creep",
          "Artist/The Weeknd, 21 Savage, Metro Boomin/Creepin'",
          "Artist/Kendrick Lamar/Crown",
          "Artist/Taylor Swift/Cruel Summer",
          "Artist/Fifty Fifty/Cupid",
          "Artist/Fifty Fifty/Cupid - Twin Ver.",
          "Artist/sped up 8282/Cupid ï¿½ï¿½ï¿½ Twin Ver. (FIFTY FIFTY) ï¿½ï¿½ï¿½ Spe",
          "Artist/Tini/Cupido",
          "Artist/Ed Sheeran/Curtains",
          "Artist/Rauw Alejandro/Cï¿½ï¿½",
          "Artist/Mc Pedrinho, Pedro Sampaio/DANï¿½ï¿½A",
          "Artist/ROSALï¿½/DESPECHï¿",
          "Artist/Tyler, The Creator/DOGTOOTH",
          "Artist/The Neighbourhood/Daddy Issues",
          "Artist/Bad Bunny, Jhay Cortez/Dakiti",
          "Artist/Dua Lipa/Dance The Night (From Barbie The Album)",
          "Artist/Ruth B./Dandelions",
          "Artist/Offset, JID/Danger (Spider) (Offset & JID)",
          "Artist/Steve Lacy/Dark Red",
          "Artist/The Weeknd/Dawn FM",
          "Artist/Harry Styles/Daydreaming",
          "Artist/David Kushner/Daylight",
          "Artist/Nat King Cole/Deck The Hall - Remastered 1999",
          "Artist/C. Tangana/Demasiadas Mujeres",
          "Artist/Imagine Dragons/Demons",
          "Artist/Chencho Corleone, Rauw Alejandro/Desesperados",
          "Artist/Bad Bunny/Despuï¿½ï¿½s de la P",
          "Artist/Grupo Marca Registrada, Grupo Frontera/Di Que Si",
          "Artist/Joji/Die For You",
          "Artist/The Weeknd/Die For You",
          "Artist/Ariana Grande, The Weeknd/Die For You - Remix",
          "Artist/Kendrick Lamar, Blxst, Amanda Reifer/Die Hard",
          "Artist/Sleepy hallow, 347aidan/Die Young (feat. 347aidan)",
          "Artist/Fuerza Regida, Chino Pacas/Dijeron Que No La Iba Lograr",
          "Artist/NewJeans/Ditto",
          "Artist/Arctic Monkeys/Do I Wanna Know?",
          "Artist/Cherish, ACRAZE/Do It To It",
          "Artist/Nicki Minaj, Lil Baby/Do We Have A Problem?",
          "Artist/Central Cee/Doja",
          "Artist/Tiï¿½ï¿½sto, Kar/Don't Be Shy",
          "Artist/Dua Lipa/Don't Start Now",
          "Artist/David Guetta, Shakira, Black Eyed Peas/Don't You Worry",
          "Artist/RM, Colde/Don't ever say love me (feat. RM of BTS)",
          "Artist/Taylor Swift/Donï¿½ï¿½ï¿½t Bl",
          "Artist/The Weeknd/Donï¿½ï¿½ï¿½t Break My",
          "Artist/Bad Bunny/Dos Mil 16",
          "Artist/The Weeknd, Future/Double Fantasy (with Future)",
          "Artist/Luude, Colin Hay/Down Under (feat. Colin Hay)",
          "Artist/Aerosmith/Dream On",
          "Artist/Chris Rea/Driving Home for Christmas - 2019 Remaster",
          "Artist/Jack Harlow/Dua Lipa",
          "Artist/IVE/ELEVEN",
          "Artist/Adele/Easy On Me",
          "Artist/Bad Bunny/Efecto",
          "Artist/Bad Bunny/El Apagï¿½",
          "Artist/Junior H, Peso Pluma/El Azul",
          "Artist/Feid, Myke Towers, Sky Rompiendo/El Cielo",
          "Artist/Chino Pacas/El Gordo Trae El Mando",
          "Artist/Marshmello, Manuel Turizo/El Merengue",
          "Artist/Grupo Marca Registrada, Junior H/El Rescate",
          "Artist/Eslabon Armado, Peso Pluma/Ella Baila Sola",
          "Artist/Victor Cibrian/En El Radio Un Cochinero",
          "Artist/Feid, Sech, Jhayco/En La De Ella",
          "Artist/El Chachito, Junior H/En Paris",
          "Artist/Taylor Swift/Enchanted",
          "Artist/Taylor Swift/Enchanted (Taylor's Version)",
          "Artist/Imagine Dragons, League of Legends, JID, Arcane/Enemy (with JID) - from the series Arcane League of Legends",
          "Artist/Imagine Dragons, League of Legends, Arcane/Enemy - from the series Arcane League of Legends",
          "Artist/Bad Bunny/Ensï¿½ï¿½ï¿½ï¿½ame ",
          "Artist/Lit Killah, Maria Becerra, Tiago pzk, NICKI NICOLE/Entre Nosotros (Remix) [con Nicki Nicole]",
          "Artist/Anitta/Envolver",
          "Artist/Simone Mendes/Erro Gostoso - Ao Vivo",
          "Artist/Plan B/Es un Secreto",
          "Artist/RAYE, 070 Shake/Escapism.",
          "Artist/RAYE, 070 Shake/Escapism. - Sped Up",
          "Artist/Marï¿½ï¿½lia Mendonï¿½ï¿½a, Maiara &/Esqueï¿½ï¿½a-Me Se For C",
          "Artist/Omar Apollo/Evergreen (You Didnï¿½ï¿½ï¿½t Deserve Me A",
          "Artist/The Police/Every Breath You Take - Remastered 2003",
          "Artist/NIKI/Every Summertime",
          "Artist/Tears For Fears/Everybody Wants To Rule The World",
          "Artist/Morgan Wallen/Everything I Love",
          "Artist/DJ Escobar, MC MENOR SG, MC MENOR HR/Evoque Prata",
          "Artist/Intense, AP Dhillon, Gurinder Gill/Excuses",
          "Artist/Ed Sheeran/Eyes Closed",
          "Artist/SZA/F2F",
          "Artist/LE SSERAFIM/FEARLESS",
          "Artist/JISOO/FLOWER",
          "Artist/Drake, Travis Scott/Fair Trade (with Travis Scott)",
          "Artist/Harry Styles/Falling",
          "Artist/SZA/Far",
          "Artist/Luke Combs/Fast Car",
          "Artist/Kendrick Lamar, Sampha/Father Time (feat. Sampha)",
          "Artist/Feid/Feliz Cumpleaï¿½ï¿½os Fe",
          "Artist/Josï¿½ï¿½ Felic/Feliz Navidad",
          "Artist/James Hype, Miggy Dela Rosa/Ferrari",
          "Artist/Feid/Ferxxo 100",
          "Artist/teto/Fim de Semana no Rio",
          "Artist/Lauren Spencer Smith, Lauren Spencer Smith, Lauren Spencer Smith/Fingers Crossed",
          "Artist/Jack Harlow/First Class",
          "Artist/Lauren Spencer Smith/Flowers",
          "Artist/BTS/For Youth",
          "Artist/Labrinth/Forever",
          "Artist/Lewis Capaldi/Forget Me",
          "Artist/Eminem, Dr. Dre/Forgot About Dre",
          "Artist/Labrinth/Formula",
          "Artist/Surf Curse/Freaks",
          "Artist/Tyga, Doja Cat/Freaky Deaky",
          "Artist/Riton, Nightcrawlers, Mufasa & Hypeman, Dopamine/Friday (feat. Mufasa & Hypeman) - Dopamine Re-Edit",
          "Artist/Yahritza Y Su Esencia, Grupo Frontera/Frï¿½ï¿½gil (feat. Grupo Front",
          "Artist/Danny Ocean/Fuera del mercado",
          "Artist/Maldy, Karol G/GATï¿½ï¿½",
          "Artist/Duki/GIVENCHY",
          "Artist/The Weeknd/Gasoline",
          "Artist/Bellakath/Gatita",
          "Artist/Nengo Flow, Bad Bunny/Gato de Noche",
          "Artist/Doja Cat/Get Into It (Yuh)",
          "Artist/Pharrell Williams, Nile Rodgers, Daft Punk/Get Lucky - Radio Edit",
          "Artist/SZA, Phoebe Bridgers/Ghost in the Machine (feat. Phoebe Bridgers)",
          "Artist/Yung Lean/Ginseng Strip 2002",
          "Artist/Joji/Glimpse of Us",
          "Artist/Mc Pedrinho, DJ 900/Gol Bolinha, Gol Quadrado 2",
          "Artist/Harry Styles/Golden",
          "Artist/SZA/Gone Girl",
          "Artist/SZA/Good Days",
          "Artist/Suki Waterhouse/Good Looking",
          "Artist/Eminem, Dr. Dre/Gospel (with Eminem)",
          "Artist/Harry Styles/Grapejuice",
          "Artist/NF/HAPPY",
          "Artist/Kendrick Lamar/HUMBLE.",
          "Artist/Agust D/Haegeum",
          "Artist/John Lennon, The Harlem Community Choir, The Plastic Ono Band, Yoko Ono/Happy Xmas (War Is Over)",
          "Artist/Tulus/Hati-Hati di Jalan",
          "Artist/Mac DeMarco/Heart To Heart",
          "Artist/Kanye West/Heartless",
          "Artist/Conan Gray/Heather",
          "Artist/Niall Horan/Heaven",
          "Artist/The Weeknd, Tyler, The Creator/Here We Goï¿½ï¿½ï¿½ Again (feat. Tyler, the Cr",
          "Artist/d4vd/Here With Me",
          "Artist/Ozuna, Feid/Hey Mor",
          "Artist/Baby Tate/Hey, Mickey!",
          "Artist/Taylor Swift/Hits Different",
          "Artist/Lady Gaga/Hold My Hand",
          "Artist/Michael Bublï¿/Holly Jolly Christmas",
          "Artist/Justin Bieber, Don Toliver/Honest (feat. Don Toliver)",
          "Artist/XXXTENTACION/Hope",
          "Artist/Kanye West, Lil Durk, Cardi B/Hot Shit (feat. Ye & Lil Durk)",
          "Artist/Panic! At The Disco/House Of Memories",
          "Artist/The Weeknd/How Do I Make You Love Me?",
          "Artist/Dean Lewis/How Do I Say Goodbye",
          "Artist/Muni Long/Hrs and Hrs",
          "Artist/James Blake, Metro Boomin/Hummingbird (Metro Boomin & James Blake)",
          "Artist/NewJeans/Hype Boy",
          "Artist/IVE/I AM",
          "Artist/Emmy Meli/I AM WOMAN",
          "Artist/Taylor Swift/I Can See You (Taylorï¿½ï¿½ï¿½s Version) (From The ",
          "Artist/SZA/I Hate U",
          "Artist/The Weeknd, Lil Wayne/I Heard You're Married (feat. Lil Wayne)",
          "Artist/Kanii, PR1ISVX/I Know - PR1SVX Edit",
          "Artist/Post Malone, Doja Cat/I Like You (A Happier Song) (with Doja Cat)",
          "Artist/The Walters/I Love You So",
          "Artist/Ugly Dray, Tesla Jnr/I Tried to Tell Y'all",
          "Artist/Mï¿½ï¿½ne/I WANNA BE YOUR SLAVE",
          "Artist/The Weeknd, Gesaffelstein/I Was Never There",
          "Artist/Morgan Wallen/I Wrote The Book",
          "Artist/Bebe Rexha, David Guetta/I'm Good (Blue)",
          "Artist/Sam Smith/I'm Not The Only One",
          "Artist/Blackbear, BoyWithUke/IDGAF (with blackbear)",
          "Artist/Mae Stephens/If We Ever Broke Up",
          "Artist/Fuerza Regida, Peso Pluma/Igualito a Mi Apï¿",
          "Artist/50 Cent/In Da Club",
          "Artist/Lil Tjay/In My Head",
          "Artist/Linkin Park/In The End",
          "Artist/Benson Boone/In The Stars",
          "Artist/Jaymes Young/Infinity",
          "Artist/The Goo Goo Dolls/Iris",
          "Artist/The Weeknd/Is There Someone Else?",
          "Artist/Shawn Mendes/It'll Be Okay",
          "Artist/Michael Bublï¿/It's Beginning To Look A Lot Like Christmas",
          "Artist/Perry Como, The Fontane Sisters, Mitchell Ayres & His Orchestra/It's Beginning to Look a Lot Like Christmas (with Mitchell Ayres & His Orchestra)",
          "Artist/Andy Williams/It's the Most Wonderful Time of the Year",
          "Artist/Luis R Conriquez, La Adictiva/JGL",
          "Artist/Arijit Singh, Vishal Dadlani, Sukriti Kakar, Vishal-Shekhar, Shekhar Ravjiani, Kumaar/Jhoome Jo Pathaan",
          "Artist/Frank Sinatra/Jingle Bells - Remastered 1999",
          "Artist/Ryan Castro/Jordan",
          "Artist/Bruno Mars/Just The Way You Are",
          "Artist/Lil Uzi Vert/Just Wanna Rock",
          "Artist/Kenshi Yonezu/KICK BACK",
          "Artist/Oxlade/KU LO SA - A COLORS SHOW",
          "Artist/Kaifi Khalil/Kahani Suno 2.0",
          "Artist/Taylor Swift/Karma",
          "Artist/Taylor Swift, Ice Spice/Karma (feat. Ice Spice)",
          "Artist/Harry Styles/Keep Driving",
          "Artist/SZA/Kill Bill",
          "Artist/SZA, Doja Cat/Kiss Me More (feat. SZA)",
          "Artist/Drake, Project Pat, 21 Savage/Knife Talk (with 21 Savage ft. Project Pat)",
          "Artist/Raim Laode/Komang",
          "Artist/J Balvin, Bad Bunny/LA CANCIï¿½",
          "Artist/Feid, Mora/LA INOCENTE",
          "Artist/Gabito Ballesteros, Junior H, Peso Pluma/LADY GAGA",
          "Artist/Jasiel Nuï¿½ï¿½ez, Peso P/LAGUNAS",
          "Artist/Myke Towers/LALA",
          "Artist/Central Cee/LET GO",
          "Artist/ROSALï¿½/LLYLM",
          "Artist/Brray, Rauw Alejandro, Lyanno/LOKERA",
          "Artist/IVE/LOVE DIVE",
          "Artist/Junior H, Peso Pluma/LUNA",
          "Artist/Manuel Turizo/La Bachata",
          "Artist/Yng Lvcas/La Bebe",
          "Artist/Peso Pluma, Yng Lvcas/La Bebe - Remix",
          "Artist/Tony Dize, Bad Bunny/La Corriente",
          "Artist/Arcangel, Bad Bunny/La Jumpa",
          "Artist/Nengo Flow, Anuel Aa, Chris Jedi, Chencho Corleone/La Llevo Al Cielo (Ft. ï¿½ï¿½engo F",
          "Artist/Anitta, Tini, Becky G/La Loto",
          "Artist/Daddy Yankee, Bad Bunny/La Santa",
          "Artist/Bad Bunny/La Zona",
          "Artist/Feid/Lady Mi Amor",
          "Artist/BLESSD, Peso Pluma/Las Morras",
          "Artist/Burna Boy/Last Last",
          "Artist/Morgan Wallen/Last Night",
          "Artist/Harry Styles/Late Night Talking",
          "Artist/Taylor Swift/Lavender Haze",
          "Artist/Schï¿½ï¿½rze, DJ R/Layla",
          "Artist/Marshmello, Jonas Brothers/Leave Before You Love Me (with Jonas Brothers)",
          "Artist/Bruno Mars, Anderson .Paak, Silk Sonic/Leave The Door Open",
          "Artist/Charlie Puth, BTS, Jung Kook/Left and Right (Feat. Jung Kook of BTS)",
          "Artist/Dean Martin/Let It Snow! Let It Snow! Let It Snow!",
          "Artist/Frank Sinatra, B. Swanson Quartet/Let It Snow! Let It Snow! Let It Snow!",
          "Artist/Alec Benjamin/Let Me Down Slowly",
          "Artist/Dua Lipa/Levitating",
          "Artist/Dua Lipa, DaBaby/Levitating (feat. DaBaby)",
          "Artist/Anuel Aa, Jhay Cortez/Ley Seca",
          "Artist/Marï¿½ï¿½lia Mendo/Leï¿½",
          "Artist/Rihanna/Lift Me Up - From Black Panther: Wakanda Forever - Music From and Inspired By",
          "Artist/Charlie Puth/Light Switch",
          "Artist/Jimin/Like Crazy",
          "Artist/Jimin/Like Crazy (English Version)",
          "Artist/Halsey, Suga/Lilith (feat. SUGA of BTS) (Diablo IV Anthem)",
          "Artist/Freddie Dredd/Limbo",
          "Artist/WizKid, Toian, Metro Boomin, Don Toliver, Beam/Link Up (Metro Boomin & Don Toliver, Wizkid feat. BEAM & Toian) - Spider-Verse Remix (Spider-Man: Across the Spider-Verse )",
          "Artist/Harry Styles/Little Freak",
          "Artist/Julieta Venegas, Bad Bunny, Tainy/Lo Siento BB:/ (with Bad Bunny & Julieta Venegas)",
          "Artist/Bruno Mars/Locked Out Of Heaven",
          "Artist/Eminem/Lose Yourself - Soundtrack Version",
          "Artist/Frank Ocean/Lost",
          "Artist/The Weeknd, Gesaffelstein/Lost in the Fire",
          "Artist/The Kid Laroi/Love Again",
          "Artist/Edison Lighthouse/Love Grows (Where My Rosemary Goes)",
          "Artist/SZA/Love Language",
          "Artist/Harry Styles/Love Of My Life",
          "Artist/Justin Bieber/Love Yourself",
          "Artist/Taylor Swift/Lover",
          "Artist/TV Girl/Lovers Rock",
          "Artist/Treyce/Lovezinho",
          "Artist/Juice WRLD/Lucid Dreams",
          "Artist/Stromae/Lï¿½ï¿½ï¿",
          "Artist/Karol G, Becky G/MAMIII",
          "Artist/Stray Kids/MANIAC",
          "Artist/Migrantes, LiL CaKe, Nico Valdi/MERCHO",
          "Artist/INTERWORLD/METAMORPHOSIS",
          "Artist/Elley Duhï¿/MIDDLE OF THE NIGHT",
          "Artist/Tainy, Bad Bunny/MOJABI GHOST",
          "Artist/Ayparia, unxbected/MONTAGEM - FR PUNK",
          "Artist/j-hope/MORE",
          "Artist/King/Maan Meri Jaan",
          "Artist/Meghan Trainor/Made You Look",
          "Artist/Drake, 21 Savage/Major Distribution",
          "Artist/Jain/Makeba",
          "Artist/Kenia OS/Malas Decisiones",
          "Artist/Zï¿½ï¿½ Fe/Malvada",
          "Artist/Xamï¿½ï¿½, Gustah, Neo B/Malvadï¿½ï¿",
          "Artist/Quevedo, Jhayco/Mami Chula",
          "Artist/Morgan Wallen, Eric Church/Man Made A Bar (feat. Eric Church)",
          "Artist/Duki, NICKI NICOLE, Cris Mj, Standly, Stars Music Chile/Marisola - Remix",
          "Artist/Taylor Swift/Maroon",
          "Artist/Ghost/Mary On A Cross",
          "Artist/Mambo Kingz, DJ Luian, Anuel Aa/Mas Rica Que Ayer",
          "Artist/Drake/Massive",
          "Artist/Metallica/Master of Puppets (Remastered)",
          "Artist/Taylor Swift/Mastermind",
          "Artist/Harry Styles/Matilda",
          "Artist/Bad Bunny/Me Fui de Vacaciones",
          "Artist/Chencho Corleone, Bad Bunny/Me Porto Bonito",
          "Artist/Childish Gambino/Me and Your Mama",
          "Artist/Justin Quiles, Lenny Tavï¿½ï¿½rez, BL/Medallo",
          "Artist/THE ANXIETY, Willow, Tyler Cole/Meet Me At Our Spot",
          "Artist/Mambo Kingz, DJ Luian, Anuel Aa/Mejor Que Yo",
          "Artist/Maroon 5/Memories",
          "Artist/Shakin' Stevens/Merry Christmas Everyone",
          "Artist/Natanael Cano/Mi Bello Angel",
          "Artist/Taylor Swift/Mine (Taylor's Version)",
          "Artist/Calvin Harris, Ellie Goulding/Miracle (with Ellie Goulding)",
          "Artist/Kendrick Lamar/Mirror",
          "Artist/David Kushner/Miserable Man",
          "Artist/Robin Schulz, Oliver Tree/Miss You",
          "Artist/Southstar/Miss You",
          "Artist/Justin Bieber/Mistletoe",
          "Artist/Tini, Maria Becerra/Miï¿½ï¿½n",
          "Artist/Eminem/Mockingbird",
          "Artist/Aitana, zzoilo/Mon Amour - Remix",
          "Artist/Kendrick Lamar, Jay Rock/Money Trees",
          "Artist/YEAT/Monï¿½ï¿½y so",
          "Artist/Kali Uchis/Moonlight",
          "Artist/Bad Bunny/Moscow Mule",
          "Artist/Kendrick Lamar, Beth Gibbons/Mother I Sober (feat. Beth Gibbons of Portishead)",
          "Artist/The Killers/Mr. Brightside",
          "Artist/Kendrick Lamar, Tanna Leone/Mr. Morale",
          "Artist/Ryan Castro/Mujeriego",
          "Artist/Kordhell/Murder In My Mind",
          "Artist/Harry Styles/Music For a Sushi Restaurant",
          "Artist/Steve Aoki, Tini, La Joaqui/Muï¿½ï¿½",
          "Artist/Selena Gomez/My Mind & Me",
          "Artist/Coldplay, BTS/My Universe",
          "Artist/Kendrick Lamar/N95",
          "Artist/Tyler, The Creator/NEW MAGIC WAND",
          "Artist/Jack Harlow/Nail Tech",
          "Artist/Labrinth/Never Felt So Alone",
          "Artist/Bad Bunny/Neverita",
          "Artist/NewJeans/New Jeans",
          "Artist/Travis Scott, 21 Savage, Metro Boomin/Niagara Falls (Foot or 2) [with Travis Scott & 21 Savage]",
          "Artist/Sean Paul, Feid/Niï¿½ï¿½a Bo",
          "Artist/Sean Paul, Dua Lipa/No Lie",
          "Artist/J. Cole/No Role Modelz",
          "Artist/SZA/Nobody Gets Me",
          "Artist/Jordan Fisher, Josh Levi, Finneas O'Connell, 4*TOWN (From Disney and Pixarï¿½ï¿½ï¿½s Turning Red), Topher Ngo, Grayson Vill/Nobody Like U - From \"Turning Red\"",
          "Artist/Sabrina Carpenter/Nonsense",
          "Artist/Feid/Normal",
          "Artist/Ozuna, Tiago pzk/Nos Comemos (feat. Ozuna)",
          "Artist/Ana Castela, AgroPlay/Nosso Quadro",
          "Artist/Chris Brown, Rvssian, Rauw Alejandro/Nostï¿½ï¿½l",
          "Artist/SZA/Notice Me",
          "Artist/The Rare Occasions/Notion",
          "Artist/Mc Livinho, DJ Matt D/Novidade na ï¿½ï¿",
          "Artist/Veigh, Bvga Beatz, Supernova Ent, Prod Malax/Novo Balanï¿½",
          "Artist/Linkin Park/Numb",
          "Artist/Em Beihold/Numb Little Bug",
          "Artist/(G)I-DLE/Nxde",
          "Artist/NMIXX/O.O",
          "Artist/NewJeans/OMG",
          "Artist/Charli XCX, Jax Jones, Joel Corry, Saweetie/OUT OUT (feat. Charli XCX & Saweetie)",
          "Artist/Abhijay Sharma, Riar Saab/Obsessed",
          "Artist/Adele/Oh My God",
          "Artist/Zï¿½ï¿½ Neto & Crist/Oi Balde - Ao Vivo",
          "Artist/Bomba Estï¿½ï¿½reo, Bad B/Ojitos Lindos",
          "Artist/Lasso/Ojos Marrones",
          "Artist/Drake, 21 Savage/On BS",
          "Artist/John Legend, Metro Boomin/On Time (with John Legend)",
          "Artist/Drake, WizKid, Kyla/One Dance",
          "Artist/The Weeknd, Post Malone/One Right Now (with The Weeknd)",
          "Artist/Morgan Wallen/One Thing At A Time",
          "Artist/Paloma Faith/Only Love Can Hurt Like This",
          "Artist/SZA, Travis Scott/Open Arms (feat. Travis Scott)",
          "Artist/Bad Bunny, The Marï¿½ï/Otro Atardecer",
          "Artist/Post Malone/Overdrive",
          "Artist/Karol G, Quevedo/PERO Tï¿",
          "Artist/Myke Towers, Quevedo/PLAYA DEL INGLï¿½",
          "Artist/Feid, Mora, Saiko, Quevedo/POLARIS - Remix",
          "Artist/Nayeon/POP!",
          "Artist/Natanael Cano, Peso Pluma/PRC",
          "Artist/Karol G/PROVENZA",
          "Artist/Future/PUFFIN ON ZOOTIEZ",
          "Artist/Feid, Alejo, Robi/Pantysito",
          "Artist/Bad Bunny, Rauw Alejandro/Party",
          "Artist/Shae Gill, Ali Sethi/Pasoori",
          "Artist/Musical Youth/Pass The Dutchie",
          "Artist/Jack Black/Peaches (from The Super Mario Bros. Movie)",
          "Artist/Libianca/People",
          "Artist/IU, Agust D/People Pt.2 (feat. IU)",
          "Artist/Ed Sheeran/Perfect",
          "Artist/BTS/Permission to Dance",
          "Artist/Ed Sheeran, Fireboy DML/Peru",
          "Artist/Bizarrap, Peso Pluma/Peso Pluma: Bzrp Music Sessions, Vol. 55",
          "Artist/The Weeknd/Phantom Regret by Jim",
          "Artist/Arijit Singh, Sachin-Jigar, Amitabha Bhattacharya/Phir Aur Kya Chahiye (From \"Zara Hatke Zara Bachke\")",
          "Artist/Ed Sheeran/Photograph",
          "Artist/Frank Ocean/Pink + White",
          "Artist/Melody, Ana Castela, Dj Chris No Beat/Pipoco",
          "Artist/Semicenk, Doï¿½ï¿½u /Piï¿½ï¿½man Deï¿",
          "Artist/Coi Leray/Players",
          "Artist/Lil Yachty/Poland",
          "Artist/ENHYPEN/Polaroid Love",
          "Artist/SALES/Pope Is a Rockstar",
          "Artist/The Weeknd, Madonna, Playboi Carti/Popular (with Playboi Carti & Madonna) - The Idol Vol. 1 (Music from the HBO Original Series)",
          "Artist/Calvin Harris, Dua Lipa, Young Thug/Potion (with Dua Lipa & Young Thug)",
          "Artist/Kanye West/Praise God",
          "Artist/Carin Leon/Primera Cita",
          "Artist/Nicki Minaj, Ice Spice/Princess Diana (with Nicki Minaj)",
          "Artist/Don Toliver, Future, Justin Bieber/Private Landing (feat. Justin Bieber & Future)",
          "Artist/Drake, 21 Savage/Privileged Rappers",
          "Artist/Alvaro Diaz, Rauw Alejandro/Problemï¿½",
          "Artist/Feid/Prohibidox",
          "Artist/Quevedo/Punto G",
          "Artist/Kendrick Lamar, Ghostface Killah, Summer Walker/Purple Hearts",
          "Artist/Drake, Travis Scott, 21 Savage/Pussy & Millions (feat. Travis Scott)",
          "Artist/Carin Leon, Grupo Frontera/Que Vuelvas",
          "Artist/(G)I-DLE/Queencard",
          "Artist/Taylor Swift/Question...?",
          "Artist/Bizarrap, Quevedo/Quevedo: Bzrp Music Sessions, Vol. 52",
          "Artist/Yuridia, Angela Aguilar/Quï¿½ï¿½ Ago",
          "Artist/J Balvin, Maria Becerra/Quï¿½ï¿½ Mï¿½ï¿",
          "Artist/Polo G/RAPSTAR",
          "Artist/Feid/REMIX EXCLUSIVO",
          "Artist/Daddy Yankee/RUMBATï¿½",
          "Artist/Lana Del Rey/Radio",
          "Artist/Travis Scott, Metro Boomin/Raindrops (Insane) [with Travis Scott]",
          "Artist/Taiu, Milo j/Rara Vez",
          "Artist/Rauw Alejandro, Bizarrap/Rauw Alejandro: Bzrp Music Sessions, Vol. 56",
          "Artist/Nicki Minaj/Red Ruby Da Sleeze",
          "Artist/The Weeknd/Reminder",
          "Artist/Residente, Bizarrap/Residente: Bzrp Music Sessions, Vol. 49",
          "Artist/XXXTENTACION/Revenge",
          "Artist/Kendrick Lamar/Rich - Interlude",
          "Artist/Drake, 21 Savage/Rich Flex",
          "Artist/Kendrick Lamar/Rich Spirit",
          "Artist/Lil Baby/Right On",
          "Artist/Vance Joy/Riptide",
          "Artist/Adele/Rolling in the Deep",
          "Artist/d4vd/Romantic Homicide",
          "Artist/Jasiel Nuï¿½ï¿½ez, Peso P/Rosa Pastel",
          "Artist/Skrillex, Flowdan, Fred again../Rumble",
          "Artist/BTS/Run BTS",
          "Artist/Chuck Berry/Run Rudolph Run - Single Version",
          "Artist/Kate Bush/Running Up That Hill (A Deal With God)",
          "Artist/Troye Sivan/Rush",
          "Artist/Stray Kids/S-Class",
          "Artist/Fuerza Regida/SABOR FRESA",
          "Artist/Joji/SLOW DANCING IN THE DARK",
          "Artist/Tyler, The Creator/SORRY NOT SORRY",
          "Artist/SZA/SOS",
          "Artist/Sam Ryder/SPACE MAN",
          "Artist/ThxSoMch/SPIT IN MY FACE!",
          "Artist/Lil Nas X/STAR WALKIN' (League of Legends Worlds Anthem)",
          "Artist/Justin Bieber, The Kid Laroi/STAY (with Justin Bieber)",
          "Artist/Drake, DJ Khaled, Lil Baby/STAYING ALIVE (feat. Drake & Lil Baby)",
          "Artist/Mï¿½ï¿½ne/SUPERMODEL",
          "Artist/Kali Uchis, Amaarae, Moliy/Sad Girlz Luv Money Remix (feat. Kali Uchis)",
          "Artist/Trueno, Tiago pzk/Salimo de Noche",
          "Artist/Kevin Kaarl/San Lucas",
          "Artist/Kendrick Lamar, Sam Dew, Baby Keem/Savior",
          "Artist/Kendrick Lamar/Savior - Interlude",
          "Artist/Lana Del Rey/Say Yes To Heaven",
          "Artist/James Arthur/Say You Won't Let Go",
          "Artist/Arcangel, De La Ghetto, Justin Quiles, Lenny Tavï¿½ï¿½rez, Sech, Dalex, Dimelo Flow, Rich Music/Se Le Ve",
          "Artist/Drake/Search & Rescue",
          "Artist/Tyler, The Creator, Kali Uchis/See You Again",
          "Artist/SZA/Seek & Destroy",
          "Artist/Metro Boomin, Coi Leray/Self Love (Spider-Man: Across the Spider-Verse) (Metro Boomin & Coi Leray)",
          "Artist/PnB Rock/Selfish",
          "Artist/MC Xenon, Os Gemeos da Putaria/Sem Alianï¿½ï¿½a no ",
          "Artist/Adele/Set Fire to the Rain",
          "Artist/Israel & Rodolffo, Mari Fernandez/Seu Brilho Sumiu - Ao Vivo",
          "Artist/Latto, Jung Kook/Seven (feat. Latto) (Explicit Ver.)",
          "Artist/Beach Weather/Sex, Drugs, Etc.",
          "Artist/Shawn Mendes, Camila Cabello/Seï¿½ï¿½o",
          "Artist/Taylor Swift/Shake It Off",
          "Artist/Shakira, Bizarrap/Shakira: Bzrp Music Sessions, Vol. 53",
          "Artist/Lady Gaga, Bradley Cooper/Shallow",
          "Artist/Ed Sheeran/Shape of You",
          "Artist/SZA/Shirt",
          "Artist/TAEYANG, Lisa/Shoong! (feat. LISA of BLACKPINK)",
          "Artist/Cartel De Santa, La Kelly/Shorty Party",
          "Artist/Hotel Ugly/Shut up My Moms Calling",
          "Artist/Hotel Ugly/Shut up My Moms Calling - (Sped Up)",
          "Artist/De La Ghetto, Duki, Quevedo/Si Quieren Frontear",
          "Artist/Feid/Si Te La Encuentras Por Ahï¿",
          "Artist/Mahalini/Sial",
          "Artist/Ed Sheeran, J Balvin/Sigue",
          "Artist/Kendrick Lamar, Kodak Black/Silent Hill",
          "Artist/Ovy On The Drums, Quevedo/Sin Seï¿½ï",
          "Artist/Playboi Carti/Sky",
          "Artist/The Ronettes/Sleigh Ride",
          "Artist/Chanel/SloMo",
          "Artist/NLE Choppa/Slut Me Out",
          "Artist/Nirvana/Smells Like Teen Spirit - Remastered 2021",
          "Artist/Bruno Mars, Anderson .Paak, Silk Sonic/Smokin Out The Window",
          "Artist/SZA/Smoking on my Ex Pack",
          "Artist/SZA/Snooze",
          "Artist/Taylor Swift, Lana Del Rey/Snow On The Beach (feat. Lana Del Rey)",
          "Artist/Lana Del Rey, Taylor Swift/Snow On The Beach (feat. More Lana Del Rey)",
          "Artist/Halsey/So Good",
          "Artist/Maluma/Sobrio",
          "Artist/The Neighbourhood/Softcore",
          "Artist/Nirvana/Something In The Way - Remastered 2021",
          "Artist/The Chainsmokers, Coldplay/Something Just Like This",
          "Artist/Zach Bryan/Something in the Orange",
          "Artist/Keane/Somewhere Only We Know",
          "Artist/Yahritza Y Su Esencia/Soy El Unico",
          "Artist/Coldplay/Sparks",
          "Artist/Drake, 21 Savage/Spin Bout U",
          "Artist/Dave, Central Cee/Sprinter",
          "Artist/Eminem, Dido/Stan",
          "Artist/Lil Durk, Morgan Wallen/Stand By Me (feat. Morgan Wallen)",
          "Artist/The Weeknd, Daft Punk/Starboy",
          "Artist/The Weeknd, Lana Del Rey/Stargirl Interlude",
          "Artist/Dave/Starlight",
          "Artist/The Weeknd/Starry Eyes",
          "Artist/Steve Lacy/Static",
          "Artist/Jung Kook/Stay Alive (Prod. SUGA of BTS)",
          "Artist/Calvin Harris, Halsey, Pharrell Williams, Justin Timberlake/Stay With Me (with Justin Timberlake, Halsey, & Pharrell)",
          "Artist/KALUSH/Stefania (Kalush Orchestra)",
          "Artist/Drake/Sticky",
          "Artist/Dr. Dre, Snoop Dogg/Still D.R.E.",
          "Artist/Labrinth/Still Don't Know My Name",
          "Artist/BIGBANG/Still Life",
          "Artist/Jung Kook/Still With You",
          "Artist/Doja Cat/Streets",
          "Artist/Taylor Swift/Style",
          "Artist/TOMORROW X TOGETHER/Sugar Rush Ride",
          "Artist/Lana Del Rey/Summertime Sadness",
          "Artist/Post Malone, Swae Lee/Sunflower - Spider-Man: Into the Spider-Verse",
          "Artist/Nicky Youre, Dazy/Sunroof",
          "Artist/SEVENTEEN/Super",
          "Artist/Nicki Minaj/Super Freaky Girl",
          "Artist/Kodak Black/Super Gremlin",
          "Artist/NewJeans/Super Shy",
          "Artist/Future, Chris Brown, Metro Boomin/Superhero (Heroes & Villains) [with Future & Chris Brown]",
          "Artist/Eminem, Dina Rae/Superman",
          "Artist/Miguel/Sure Thing",
          "Artist/Jessica Darrow/Surface Pressure",
          "Artist/Guns N' Roses/Sweet Child O' Mine",
          "Artist/Dua Lipa, Megan Thee Stallion/Sweetest Pie",
          "Artist/Chase Atlantic/Swim",
          "Artist/Anuel Aa, Myke Towers, Jhay Cortez/Sï¿½ï¿½",
          "Artist/Lil Nas X/THATS WHAT I WANT",
          "Artist/Mï¿½ï¿½ne/THE LONELIEST",
          "Artist/Rex Orange County/THE SHADE",
          "Artist/Jnr Choi/TO THE MOON",
          "Artist/Karol G, Shakira/TQG",
          "Artist/Fuerza Regida/TQM",
          "Artist/P!nk/TRUSTFALL",
          "Artist/Peso Pluma, Grupo Frontera/TULUM",
          "Artist/Sech, Mora/TUS Lï¿½ï¿½GR",
          "Artist/Billie Eilish/TV",
          "Artist/Sebastian Yatra/Tacones Rojos",
          "Artist/Anggi Marito/Tak Segampang Itu",
          "Artist/Hozier/Take Me To Church",
          "Artist/The Weeknd/Take My Breath",
          "Artist/a-ha/Take On Me",
          "Artist/BTS/Take Two",
          "Artist/YEAT/Talk",
          "Artist/TWICE/Talk that Talk",
          "Artist/Bruno Mars/Talking To The Moon",
          "Artist/Bad Bunny, Jhay Cortez/Tarot",
          "Artist/Loreen/Tattoo",
          "Artist/Shakira, Rauw Alejandro/Te Felicito",
          "Artist/Sachin-Jigar, Shadab Faridi, Altamash Faridi, Amitabh Bhattacharya, Varun Jain/Tere Vaaste (From \"Zara Hatke Zara Bachke\")",
          "Artist/PSY, Suga/That That (prod. & feat. SUGA of BTS)",
          "Artist/Charlie Puth/That's Hilarious",
          "Artist/Jin/The Astronaut",
          "Artist/Tiï¿½ï¿/The Business",
          "Artist/Nat King Cole/The Christmas Song (Merry Christmas To You) - Remastered 1999",
          "Artist/Tory Lanez/The Color Violet",
          "Artist/Olga Merediz, Stephanie Beatriz, Encanto - Cast/The Family Madrigal",
          "Artist/TWICE/The Feels",
          "Artist/Taylor Swift/The Great War",
          "Artist/Kendrick Lamar/The Heart Part 5",
          "Artist/Tiï¿½ï¿½sto, Ava/The Motto",
          "Artist/Dr. Dre, Snoop Dogg/The Next Episode",
          "Artist/Lord Huron/The Night We Met",
          "Artist/Avicii/The Nights",
          "Artist/Eminem/The Real Slim Shady",
          "Artist/SiM/The Rumbling (TV Size)",
          "Artist/Coldplay/The Scientist",
          "Artist/Shawn Mendes/There's Nothing Holdin' Me Back",
          "Artist/Ed Sheeran/Thinking Out Loud",
          "Artist/Morgan Wallen/Thinkinï¿½ï¿½ï¿½ B",
          "Artist/Taylor Swift/This Love (Taylorï¿½ï¿½ï¿½s Ve",
          "Artist/New West/Those Eyes",
          "Artist/Morgan Wallen/Thought You Should Know",
          "Artist/The Kid Laroi/Thousand Miles",
          "Artist/Prezioso, Gabry Ponte, LUM!X/Thunder",
          "Artist/Bizarrap, Tiago pzk/Tiago PZK: Bzrp Music Sessions, Vol. 48",
          "Artist/Bad Bunny/Titi Me Preguntï¿",
          "Artist/Rauw Alejandro/Todo De Ti",
          "Artist/AnnenMayKantereit, Giant Rooks/Tom's Diner",
          "Artist/SZA/Too Late",
          "Artist/Future, Metro Boomin, Don Toliver/Too Many Nights (feat. Don Toliver & with Future)",
          "Artist/Travis Scott, Young Thug, Metro Boomin/Trance (with Travis Scott & Young Thug)",
          "Artist/Kanye West, XXXTENTACION/True Love",
          "Artist/Dj LK da Escï¿½ï¿½cia, Tchakabum, mc jhenny, M/Tubarï¿½ï¿½o Te",
          "Artist/BLACKPINK/Typa Girl",
          "Artist/dennis, MC Kevin o Chris/Tï¿½ï¿",
          "Artist/Polima WestCoast, Pailita/ULTRA SOLO",
          "Artist/De La Ghetto, Feid, Polima WestCoast, Paloma Mami, Pailita/ULTRA SOLO REMIX",
          "Artist/Nile Rodgers, LE SSERAFIM/UNFORGIVEN (feat. Nile Rodgers)",
          "Artist/Bad Bunny/Un Coco",
          "Artist/Big One, FMK, Ke personajes/Un Finde | CROSSOVER #2",
          "Artist/Bad Bunny/Un Verano Sin Ti",
          "Artist/Cris Mj/Una Noche en Medellï¿½",
          "Artist/Kelly Clarkson/Underneath the Tree",
          "Artist/Sam Smith, Kim Petras/Unholy (feat. Kim Petras)",
          "Artist/Kendrick Lamar/United In Grief",
          "Artist/Stephen Sanchez/Until I Found You",
          "Artist/Em Beihold, Stephen Sanchez/Until I Found You (with Em Beihold) - Em Beihold Version",
          "Artist/SZA, Don Toliver/Used (feat. Don Toliver)",
          "Artist/Sebastian Yatra, Manuel Turizo, Beï¿½ï/VAGABUNDO",
          "Artist/Melanie Martinez/VOID",
          "Artist/Marï¿½ï¿½lia Mendonï¿½ï¿½a, George Henrique &/Vai Lï¿½ï¿½ Em Casa ",
          "Artist/Matuï¿½ï¿½, Wiu, /Vampiro",
          "Artist/Doja Cat/Vegas (From the Original Motion Picture Soundtrack ELVIS)",
          "Artist/Taylor Swift/Vigilante Shit",
          "Artist/Bizarrap, Villano Antillano/Villano Antillano: Bzrp Music Sessions, Vol. 51",
          "Artist/Coldplay/Viva La Vida",
          "Artist/Sech, Bad Bunny, Mora/Volando - Remix",
          "Artist/Aventura, Bad Bunny/Volvï¿",
          "Artist/Drake, Future, Tems/WAIT FOR U (feat. Drake & Tems)",
          "Artist/Quevedo/WANDA",
          "Artist/Bad Bunny/WHERE SHE GOES",
          "Artist/Twisted, Oliver Tree/WORTH NOTHING",
          "Artist/Willow/Wait a Minute!",
          "Artist/Avicii/Wake Me Up - Radio Edit",
          "Artist/sped up nightcore, ARIZONATEARS, Lil Uzi Vert/Watch This - ARIZONATEARS Pluggnb Remix",
          "Artist/Drake, Future, Young Thug/Way 2 Sexy (with Future & Young Thug)",
          "Artist/Kendrick Lamar, Taylour Paige/We Cry Together",
          "Artist/Rihanna, Calvin Harris/We Found Love",
          "Artist/Stephanie Beatriz, Diane Guerrero/What Else Can I Do?",
          "Artist/Doechii/What It Is (Solo Version)",
          "Artist/Labrinth/When I R.I.P.",
          "Artist/Shawn Mendes/When You're Gone",
          "Artist/Lost Frequencies, Calum Scott/Where Are You Now",
          "Artist/MNEK, Jax Jones/Where Did You Go?",
          "Artist/Bing Crosby, John Scott Trotter & His Orchestra, Ken Darby Singers/White Christmas",
          "Artist/Arctic Monkeys/Why'd You Only Call Me When You're High?",
          "Artist/RM/Wild Flower (with youjeen)",
          "Artist/HA SUNG WOON, Jimin/With you",
          "Artist/Eminem/Without Me",
          "Artist/Paul McCartney/Wonderful Christmastime - Edited Version / Remastered 2011",
          "Artist/Kendrick Lamar/Worldwide Steppers",
          "Artist/Future/Worst Day",
          "Artist/Taylor Swift/Would've, Could've, Should've",
          "Artist/Karol G, Romeo Santos/X SI VOLVEMOS",
          "Artist/Daddy Yankee, Bad Bunny/X ï¿½ï¿½LTIMA",
          "Artist/Yandel, Feid/XQ Te Pones Asï¿",
          "Artist/Christian Nodal/Ya No Somos Ni Seremos",
          "Artist/Yandel, Feid/Yandel 150",
          "Artist/Chris Molitor/Yellow",
          "Artist/BTS/Yet To Come",
          "Artist/Zion & Lennox/Yo Voy (feat. Daddy Yankee)",
          "Artist/Bad Bunny/Yonaguni",
          "Artist/Taylor Swift/You Belong With Me (Taylorï¿½ï¿½ï¿½s Ve",
          "Artist/Gwen Stefani, Blake Shelton/You Make It Feel Like Christmas (feat. Blake Shelton)",
          "Artist/Morgan Wallen/You Proof",
          "Artist/Doja Cat, The Weeknd/You Right",
          "Artist/Taylor Swift/You're On Your Own, Kid",
          "Artist/Jessi/ZOOM",
          "Artist/Leo Santana/Zona De Perigo",
          "Artist/Taylor Swift/august",
          "Artist/Lizzy McAlpine/ceilings",
          "Artist/Rels B/cï¿½ï¿½mo dormi",
          "Artist/Olivia Rodrigo/deja vu",
          "Artist/Nessa Barrett/die first",
          "Artist/Kendrick Lamar, Baby Keem/family ties (with Kendrick Lamar)",
          "Artist/Olivia Rodrigo/favorite crime",
          "Artist/Gunna/fukumean",
          "Artist/JVKE/golden hour",
          "Artist/Olivia Rodrigo/happier",
          "Artist/Olivia Rodrigo/jealousy, jealousy",
          "Artist/Billie Eilish, Khalid/lovely - Bonus Track",
          "Artist/j-hope, J. Cole/on the street (with J. Cole)",
          "Artist/Camila Cabello, Willow/psychofreak (feat. WILLOW)",
          "Artist/Young Thug, Future, Gunna/pushin P (feat. Young Thug)",
          "Artist/Luï¿½ï¿½sa Sonza, MC Frog, Dj Gabriel do Borel, Davi K/sentaDONA (Remix) s2",
          "Artist/Tate McRae/she's all i wanna be",
          "Artist/JVKE/this is what falling in love feels like",
          "Artist/21 Savage, Gunna/thought i was playing",
          "Artist/Bad Bunny, Grupo Frontera/un x100to",
          "Artist/Olivia Rodrigo/vampire",
          "Artist/girl in red/we fell in love in october",
          "Artist/Tate McRae/you broke me first",
          "Artist/Morgan Wallen/ýýý98 Braves",
          "Artist/YOASOBI/ýýýýýýýýýýýý",
          "Artist/Fujii Kaze/ýýýýýýýýýýýýýýýýýýýýý",
          "Artist/(G)I-DLE",
          "Artist/21 Savage, Gunna",
          "Artist/50 Cent",
          "Artist/A$AP Rocky, Metro Boomin, Roisee",
          "Artist/Abhijay Sharma, Riar Saab",
          "Artist/Adele",
          "Artist/Aerosmith",
          "Artist/Agust D",
          "Artist/Aitana, zzoilo",
          "Artist/Alec Benjamin",
          "Artist/Alvaro Diaz, Rauw Alejandro",
          "Artist/Ana Castela, AgroPlay",
          "Artist/Andy Williams",
          "Artist/Anggi Marito",
          "Artist/Anitta",
          "Artist/Anitta, Tini, Becky G",
          "Artist/AnnenMayKantereit, Giant Rooks",
          "Artist/Anuel Aa, Jhay Cortez",
          "Artist/Anuel Aa, Myke Towers, Jhay Cortez",
          "Artist/Arcangel, Bad Bunny",
          "Artist/Arcangel, Bizarrap",
          "Artist/Arcangel, De La Ghetto, Justin Quiles, Lenny Tavï¿½ï¿½rez, Sech, Dalex, Dimelo Flow, Rich Music",
          "Artist/Arctic Monkeys",
          "Artist/Ariana Grande, The Weeknd",
          "Artist/Arijit Singh, Sachin-Jigar",
          "Artist/Arijit Singh, Sachin-Jigar, Amitabha Bhattacharya",
          "Artist/Arijit Singh, Vishal Dadlani, Sukriti Kakar, Vishal-Shekhar, Shekhar Ravjiani, Kumaar",
          "Artist/Armani White",
          "Artist/Aventura, Bad Bunny",
          "Artist/Avicii",
          "Artist/Ayparia, unxbected",
          "Artist/BIGBANG",
          "Artist/BLACKPINK",
          "Artist/BLESSD, Peso Pluma",
          "Artist/BTS",
          "Artist/BYOR, Imanbek",
          "Artist/Baby Tate",
          "Artist/Bad Bunny",
          "Artist/Bad Bunny, Eladio Carrion",
          "Artist/Bad Bunny, Grupo Frontera",
          "Artist/Bad Bunny, Jhay Cortez",
          "Artist/Bad Bunny, Rauw Alejandro",
          "Artist/Bad Bunny, Tainy",
          "Artist/Bad Bunny, The Marï¿½ï",
          "Artist/Beach Weather",
          "Artist/Bebe Rexha, David Guetta",
          "Artist/Becky G, Peso Pluma",
          "Artist/Bellakath",
          "Artist/Benson Boone",
          "Artist/Beyoncï¿",
          "Artist/Big One, FMK, Ke personajes",
          "Artist/Billie Eilish",
          "Artist/Billie Eilish, Khalid",
          "Artist/Bing Crosby, John Scott Trotter & His Orchestra, Ken Darby Singers",
          "Artist/Bizarrap, Peso Pluma",
          "Artist/Bizarrap, Quevedo",
          "Artist/Bizarrap, Tiago pzk",
          "Artist/Bizarrap, Villano Antillano",
          "Artist/Blackbear, BoyWithUke",
          "Artist/Bomba Estï¿½ï¿½reo, Bad B",
          "Artist/Brray, Rauw Alejandro, Lyanno",
          "Artist/Bruno Mars",
          "Artist/Bruno Mars, Anderson .Paak, Silk Sonic",
          "Artist/Burna Boy",
          "Artist/Buscabulla, Bad Bunny",
          "Artist/C. Tangana",
          "Artist/Calvin Harris, Dua Lipa, Young Thug",
          "Artist/Calvin Harris, Ellie Goulding",
          "Artist/Calvin Harris, Halsey, Pharrell Williams, Justin Timberlake",
          "Artist/Camila Cabello, Ed Sheeran",
          "Artist/Camila Cabello, Willow",
          "Artist/Carin Leon",
          "Artist/Carin Leon, Grupo Frontera",
          "Artist/Cartel De Santa, La Kelly",
          "Artist/Central Cee",
          "Artist/Chanel",
          "Artist/Charli XCX, Jax Jones, Joel Corry, Saweetie",
          "Artist/Charlie Puth",
          "Artist/Charlie Puth, BTS, Jung Kook",
          "Artist/Chase Atlantic",
          "Artist/Chencho Corleone, Bad Bunny",
          "Artist/Chencho Corleone, Rauw Alejandro",
          "Artist/Cherish, ACRAZE",
          "Artist/Childish Gambino",
          "Artist/Chino Pacas",
          "Artist/Chris Brown, Rvssian, Rauw Alejandro",
          "Artist/Chris Molitor",
          "Artist/Chris Rea",
          "Artist/Christian Nodal",
          "Artist/Chuck Berry",
          "Artist/Cigarettes After Sex",
          "Artist/Coi Leray",
          "Artist/Coldplay",
          "Artist/Coldplay, BTS",
          "Artist/Conan Gray",
          "Artist/Cris Mj",
          "Artist/DJ Escobar, MC MENOR SG, MC MENOR HR",
          "Artist/Daddy Yankee",
          "Artist/Daddy Yankee, Bad Bunny",
          "Artist/Danny Ocean",
          "Artist/Darlene Love",
          "Artist/Dave",
          "Artist/Dave, Central Cee",
          "Artist/David Guetta, Anne-Marie, Coi Leray",
          "Artist/David Guetta, Ella Henderson, Becky Hill",
          "Artist/David Guetta, Shakira, Black Eyed Peas",
          "Artist/David Kushner",
          "Artist/De La Ghetto, Duki, Quevedo",
          "Artist/De La Ghetto, Feid, Polima WestCoast, Paloma Mami, Pailita",
          "Artist/Dean Lewis",
          "Artist/Dean Martin",
          "Artist/Demi Lovato",
          "Artist/Dj LK da Escï¿½ï¿½cia, Tchakabum, mc jhenny, M",
          "Artist/Doechii",
          "Artist/Doja Cat",
          "Artist/Doja Cat, The Weeknd",
          "Artist/Don Toliver, Future, Justin Bieber",
          "Artist/Dove Cameron",
          "Artist/Dr. Dre, 2Pac, Roger",
          "Artist/Dr. Dre, Snoop Dogg",
          "Artist/Drake",
          "Artist/Drake, 21 Savage",
          "Artist/Drake, DJ Khaled, Lil Baby",
          "Artist/Drake, Future, Tems",
          "Artist/Drake, Future, Young Thug",
          "Artist/Drake, Project Pat, 21 Savage",
          "Artist/Drake, Travis Scott",
          "Artist/Drake, Travis Scott, 21 Savage",
          "Artist/Drake, WizKid, Kyla",
          "Artist/Dua Lipa",
          "Artist/Dua Lipa, DaBaby",
          "Artist/Dua Lipa, Elton John, Pnau",
          "Artist/Dua Lipa, Megan Thee Stallion",
          "Artist/Duki",
          "Artist/Duki, NICKI NICOLE, Cris Mj, Standly, Stars Music Chile",
          "Artist/ENHYPEN",
          "Artist/Ed Sheeran",
          "Artist/Ed Sheeran, Fireboy DML",
          "Artist/Ed Sheeran, J Balvin",
          "Artist/Eden Muï¿½ï",
          "Artist/Edison Lighthouse",
          "Artist/El Chachito, Junior H",
          "Artist/Elley Duhï¿",
          "Artist/Em Beihold",
          "Artist/Em Beihold, Stephen Sanchez",
          "Artist/Eminem",
          "Artist/Eminem, Dido",
          "Artist/Eminem, Dina Rae",
          "Artist/Eminem, Dr. Dre",
          "Artist/Eminem, Nate Dogg",
          "Artist/Emmy Meli",
          "Artist/Eslabon Armado, Peso Pluma",
          "Artist/Feid",
          "Artist/Feid, Alejo, Robi",
          "Artist/Feid, Mora",
          "Artist/Feid, Mora, Saiko, Quevedo",
          "Artist/Feid, Myke Towers, Sky Rompiendo",
          "Artist/Feid, Paulo Londra",
          "Artist/Feid, Sech, Jhayco",
          "Artist/Feid, Young Miko",
          "Artist/Fifty Fifty",
          "Artist/Fran C, Polima WestCoast, Nickoog Clk, Pablito Pesadilla",
          "Artist/Frank Ocean",
          "Artist/Frank Sinatra",
          "Artist/Frank Sinatra, B. Swanson Quartet",
          "Artist/Freddie Dredd",
          "Artist/Fuerza Regida",
          "Artist/Fuerza Regida, Chino Pacas",
          "Artist/Fuerza Regida, Grupo Frontera",
          "Artist/Fuerza Regida, Natanael Cano",
          "Artist/Fuerza Regida, Peso Pluma",
          "Artist/Fujii Kaze",
          "Artist/Future",
          "Artist/Future, Chris Brown, Metro Boomin",
          "Artist/Future, Lil Uzi Vert, Metro Boomin",
          "Artist/Future, Metro Boomin, Don Toliver",
          "Artist/GODZZ__-, Zakaria",
          "Artist/Gabito Ballesteros, Junior H, Peso Pluma",
          "Artist/Ghost",
          "Artist/Grupo Marca Registrada, Grupo Frontera",
          "Artist/Grupo Marca Registrada, Junior H",
          "Artist/Gunna",
          "Artist/Gunna, Lil Baby",
          "Artist/Guns N' Roses",
          "Artist/Gwen Stefani, Blake Shelton",
          "Artist/HA SUNG WOON, Jimin",
          "Artist/Halsey",
          "Artist/Halsey, BTS",
          "Artist/Halsey, Suga",
          "Artist/Harry Styles",
          "Artist/Hotel Ugly",
          "Artist/Hozier",
          "Artist/INTERWORLD",
          "Artist/IU, Agust D",
          "Artist/IVE",
          "Artist/Imagine Dragons",
          "Artist/Imagine Dragons, League of Legends, Arcane",
          "Artist/Imagine Dragons, League of Legends, JID, Arcane",
          "Artist/Intense, AP Dhillon, Gurinder Gill",
          "Artist/Israel & Rodolffo, Ana Castela",
          "Artist/Israel & Rodolffo, Mari Fernandez",
          "Artist/J Balvin, Bad Bunny",
          "Artist/J Balvin, Maria Becerra",
          "Artist/J Balvin, Nio Garcia, Bad Bunny",
          "Artist/J. Cole",
          "Artist/J. Cole, Lil Durk",
          "Artist/JISOO",
          "Artist/JVKE",
          "Artist/Jack Black",
          "Artist/Jack Harlow",
          "Artist/Jain",
          "Artist/James Arthur",
          "Artist/James Blake, Metro Boomin",
          "Artist/James Hype, Miggy Dela Rosa",
          "Artist/Jasiel Nuï¿½ï¿½ez, Peso P",
          "Artist/Jason Derulo",
          "Artist/Jaymes Young",
          "Artist/Jessi",
          "Artist/Jessica Darrow",
          "Artist/Jimin",
          "Artist/Jin",
          "Artist/Jnr Choi",
          "Artist/John Legend",
          "Artist/John Legend, Metro Boomin",
          "Artist/John Lennon, The Harlem Community Choir, The Plastic Ono Band, Yoko Ono",
          "Artist/Joji",
          "Artist/Jordan Fisher, Josh Levi, Finneas O'Connell, 4*TOWN (From Disney and Pixarï¿½ï¿½ï¿½s Turning Red), Topher Ngo, Grayson Vill",
          "Artist/Josï¿½ï¿½ Felic",
          "Artist/Juice WRLD",
          "Artist/Julieta Venegas, Bad Bunny, Tainy",
          "Artist/Jung Kook",
          "Artist/Junior H, Eden Muï¿½ï",
          "Artist/Junior H, Peso Pluma",
          "Artist/Justin Bieber",
          "Artist/Justin Bieber, Don Toliver",
          "Artist/Justin Bieber, The Kid Laroi",
          "Artist/Justin Quiles, Lenny Tavï¿½ï¿½rez, BL",
          "Artist/KALUSH",
          "Artist/Kaifi Khalil",
          "Artist/Kali Uchis",
          "Artist/Kali Uchis, Amaarae, Moliy",
          "Artist/Kaliii, Kaliii",
          "Artist/Kanii, PR1ISVX",
          "Artist/Kanye West",
          "Artist/Kanye West, Alicia Keys, Fivio Foreign",
          "Artist/Kanye West, Lil Durk, Cardi B",
          "Artist/Kanye West, XXXTENTACION",
          "Artist/Karol G",
          "Artist/Karol G, Becky G",
          "Artist/Karol G, Ovy On The Drums",
          "Artist/Karol G, Quevedo",
          "Artist/Karol G, Romeo Santos",
          "Artist/Karol G, Shakira",
          "Artist/Kate Bush",
          "Artist/Keane",
          "Artist/Kelly Clarkson",
          "Artist/Kendrick Lamar",
          "Artist/Kendrick Lamar, Baby Keem",
          "Artist/Kendrick Lamar, Beth Gibbons",
          "Artist/Kendrick Lamar, Beyoncï¿",
          "Artist/Kendrick Lamar, Blxst, Amanda Reifer",
          "Artist/Kendrick Lamar, Ghostface Killah, Summer Walker",
          "Artist/Kendrick Lamar, Jay Rock",
          "Artist/Kendrick Lamar, Kodak Black",
          "Artist/Kendrick Lamar, Sam Dew, Baby Keem",
          "Artist/Kendrick Lamar, Sampha",
          "Artist/Kendrick Lamar, Tanna Leone",
          "Artist/Kendrick Lamar, Taylour Paige",
          "Artist/Kenia OS",
          "Artist/Kenshi Yonezu",
          "Artist/Kevin Kaarl",
          "Artist/King",
          "Artist/Kodak Black",
          "Artist/Kodak Black, NLE Choppa, Muni Long, JVKE, Jimin",
          "Artist/Kordhell",
          "Artist/L7nnon, DJ Biel do Furduncinho, Bianca",
          "Artist/LE SSERAFIM",
          "Artist/LF System",
          "Artist/Labrinth",
          "Artist/Labrinth, Zendaya",
          "Artist/Lady Gaga",
          "Artist/Lady Gaga, Bradley Cooper",
          "Artist/Lana Del Rey",
          "Artist/Lana Del Rey, Taylor Swift",
          "Artist/Lasso",
          "Artist/Latto, Jung Kook",
          "Artist/Lauren Spencer Smith",
          "Artist/Lauren Spencer Smith, Lauren Spencer Smith, Lauren Spencer Smith",
          "Artist/Leah Kate",
          "Artist/Leo Santana",
          "Artist/Lewis Capaldi",
          "Artist/Libianca",
          "Artist/Lil Baby",
          "Artist/Lil Durk, Morgan Wallen",
          "Artist/Lil Nas X",
          "Artist/Lil Tjay",
          "Artist/Lil Uzi Vert",
          "Artist/Lil Yachty",
          "Artist/Linkin Park",
          "Artist/Lit Killah, Maria Becerra, Tiago pzk, NICKI NICOLE",
          "Artist/Lizzo",
          "Artist/Lizzy McAlpine",
          "Artist/Lord Huron",
          "Artist/Loreen",
          "Artist/Lost Frequencies, Calum Scott",
          "Artist/Luciano",
          "Artist/Luciano, Aitch, Bï¿½",
          "Artist/Ludwig Goransson, Foudeqush",
          "Artist/Luis R Conriquez, La Adictiva",
          "Artist/Luke Combs",
          "Artist/Luude, Colin Hay",
          "Artist/Luï¿½ï¿½sa Sonza, MC Frog, Dj Gabriel do Borel, Davi K",
          "Artist/MC Caverinha, KayBlack",
          "Artist/MC Ryan SP, Love Funk, Mc Paiva ZS",
          "Artist/MC Xenon, Os Gemeos da Putaria",
          "Artist/MNEK, Jax Jones",
          "Artist/Mabel Matiz, Mert Demir",
          "Artist/Mac DeMarco",
          "Artist/Mae Stephens",
          "Artist/Mahalini",
          "Artist/Mahmood, Blanco",
          "Artist/Mainstreet, Chefin",
          "Artist/Maldy, Karol G",
          "Artist/Maluma",
          "Artist/Mambo Kingz, DJ Luian, Anuel Aa",
          "Artist/Manuel Turizo",
          "Artist/Maria Becerra",
          "Artist/Maroon 5",
          "Artist/Marshmello, Jonas Brothers",
          "Artist/Marshmello, Juice WRLD",
          "Artist/Marshmello, Manuel Turizo",
          "Artist/Marï¿½ï¿½lia Mendo",
          "Artist/Marï¿½ï¿½lia Mendonï¿½ï¿½a, George Henrique &",
          "Artist/Marï¿½ï¿½lia Mendonï¿½ï¿½a, Maiara &",
          "Artist/Masked Wolf",
          "Artist/Matuï¿½ï¿½, Wiu, ",
          "Artist/Mc Livinho, DJ Matt D",
          "Artist/Mc Pedrinho, DJ 900",
          "Artist/Mc Pedrinho, Pedro Sampaio",
          "Artist/Mc Vitin Da Igrejinha, MC Tairon, DJ Win",
          "Artist/Meghan Trainor",
          "Artist/Melanie Martinez",
          "Artist/Melody, Ana Castela, Dj Chris No Beat",
          "Artist/Metallica",
          "Artist/Metro Boomin, Coi Leray",
          "Artist/Michael Bublï¿",
          "Artist/Migrantes, LiL CaKe, Nico Valdi",
          "Artist/Miguel",
          "Artist/Miley Cyrus",
          "Artist/Morgan Wallen",
          "Artist/Morgan Wallen, Eric Church",
          "Artist/Mr.Kitty",
          "Artist/Muni Long",
          "Artist/Musical Youth",
          "Artist/Myke Towers",
          "Artist/Myke Towers, Quevedo",
          "Artist/Mï¿½ï¿½ne",
          "Artist/NF",
          "Artist/NIKI",
          "Artist/NLE Choppa",
          "Artist/NMIXX",
          "Artist/Nat King Cole",
          "Artist/Natanael Cano",
          "Artist/Natanael Cano, Gabito Ballesteros, Peso Pluma",
          "Artist/Natanael Cano, Peso Pluma",
          "Artist/Nayeon",
          "Artist/Nengo Flow, Anuel Aa, Chris Jedi, Chencho Corleone",
          "Artist/Nengo Flow, Bad Bunny",
          "Artist/Nessa Barrett",
          "Artist/New West",
          "Artist/NewJeans",
          "Artist/Niall Horan",
          "Artist/Nicki Minaj",
          "Artist/Nicki Minaj, Ice Spice",
          "Artist/Nicki Minaj, Lil Baby",
          "Artist/Nicky Jam, Feid",
          "Artist/Nicky Youre, Dazy",
          "Artist/Nile Rodgers, LE SSERAFIM",
          "Artist/Nirvana",
          "Artist/Offset, JID",
          "Artist/Olga Merediz, Stephanie Beatriz, Encanto - Cast",
          "Artist/Olivia Rodrigo",
          "Artist/Omar Apollo",
          "Artist/OneRepublic",
          "Artist/Ovy On The Drums, Quevedo",
          "Artist/Oxlade",
          "Artist/Ozuna, Feid",
          "Artist/Ozuna, Tiago pzk",
          "Artist/P!nk",
          "Artist/PSY, Suga",
          "Artist/Paloma Faith",
          "Artist/Panic! At The Disco",
          "Artist/Paul McCartney",
          "Artist/Paulo Londra",
          "Artist/Peggy Gou",
          "Artist/Perry Como, The Fontane Sisters, Mitchell Ayres & His Orchestra",
          "Artist/Peso Pluma, Grupo Frontera",
          "Artist/Peso Pluma, Yng Lvcas",
          "Artist/Pharrell Williams, Nile Rodgers, Daft Punk",
          "Artist/Pharrell Williams, Tyler, The Creator, 21 Savage",
          "Artist/PinkPantheress",
          "Artist/PinkPantheress, Ice Spice",
          "Artist/Plan B",
          "Artist/Playboi Carti",
          "Artist/PnB Rock",
          "Artist/Polima WestCoast, Pailita",
          "Artist/Polo G",
          "Artist/Post Malone",
          "Artist/Post Malone, Doja Cat",
          "Artist/Post Malone, Swae Lee",
          "Artist/Prezioso, Gabry Ponte, LUM!X",
          "Artist/Quevedo",
          "Artist/Quevedo, Jhayco",
          "Artist/Quevedo, La Pantera, Juseph, Cruz Cafunï¿½ï¿½, Bï¿½ï¿½jo, Abhir Hathi",
          "Artist/RAYE, 070 Shake",
          "Artist/RM",
          "Artist/RM, Colde",
          "Artist/ROSALï¿½",
          "Artist/Radiohead",
          "Artist/Raim Laode",
          "Artist/Rauw Alejandro",
          "Artist/Rauw Alejandro, Bizarrap",
          "Artist/Rauw Alejandro, ROSALï¿½",
          "Artist/Ray Dalton, Ryan Lewis, Macklemore",
          "Artist/Rels B",
          "Artist/Residente, Bizarrap",
          "Artist/Rex Orange County",
          "Artist/Rich The Kid, Matuï¿",
          "Artist/Rihanna",
          "Artist/Rihanna, Calvin Harris",
          "Artist/Riton, Nightcrawlers, Mufasa & Hypeman, Dopamine",
          "Artist/Robin Schulz, Oliver Tree",
          "Artist/Ruth B.",
          "Artist/Ryan Castro",
          "Artist/Rï¿½ï¿½ma, Selena G",
          "Artist/SALES",
          "Artist/SEVENTEEN",
          "Artist/SZA",
          "Artist/SZA, Doja Cat",
          "Artist/SZA, Don Toliver",
          "Artist/SZA, Phoebe Bridgers",
          "Artist/SZA, Travis Scott",
          "Artist/Sabrina Carpenter",
          "Artist/Sachin-Jigar, Shadab Faridi, Altamash Faridi, Amitabh Bhattacharya, Varun Jain",
          "Artist/Sam Ryder",
          "Artist/Sam Smith",
          "Artist/Sam Smith, Kim Petras",
          "Artist/Schï¿½ï¿½rze, DJ R",
          "Artist/Seafret",
          "Artist/Sean Paul, Dua Lipa",
          "Artist/Sean Paul, Feid",
          "Artist/Sebastian Yatra",
          "Artist/Sebastian Yatra, Manuel Turizo, Beï¿½ï",
          "Artist/Sech, Bad Bunny, Mora",
          "Artist/Sech, Mora",
          "Artist/Selena Gomez",
          "Artist/Semicenk, Doï¿½ï¿½u ",
          "Artist/Shae Gill, Ali Sethi",
          "Artist/Shakin' Stevens",
          "Artist/Shakira",
          "Artist/Shakira, Bizarrap",
          "Artist/Shakira, Rauw Alejandro",
          "Artist/Shawn Mendes",
          "Artist/Shawn Mendes, Camila Cabello",
          "Artist/Shubh",
          "Artist/SiM",
          "Artist/Sidhu Moose Wala",
          "Artist/Simone Mendes",
          "Artist/Skrillex, Flowdan, Fred again..",
          "Artist/Sleepy hallow",
          "Artist/Sleepy hallow, 347aidan",
          "Artist/Sofia Carson",
          "Artist/Southstar",
          "Artist/Stephanie Beatriz, Diane Guerrero",
          "Artist/Stephen Sanchez",
          "Artist/Steve Aoki, Tini, La Joaqui",
          "Artist/Steve Lacy",
          "Artist/Stray Kids",
          "Artist/Stromae",
          "Artist/Styrx, utku INC, Thezth",
          "Artist/Suki Waterhouse",
          "Artist/Surf Curse",
          "Artist/Swae Lee, Lil Wayne, Offset, Metro Boomin",
          "Artist/TAEYANG, Lisa",
          "Artist/THE ANXIETY, Willow, Tyler Cole",
          "Artist/TOMORROW X TOGETHER",
          "Artist/TV Girl",
          "Artist/TWICE",
          "Artist/Tainy, Bad Bunny",
          "Artist/Taiu, Milo j",
          "Artist/Tate McRae",
          "Artist/Taylor Swift",
          "Artist/Taylor Swift, Ice Spice",
          "Artist/Taylor Swift, Lana Del Rey",
          "Artist/Tears For Fears",
          "Artist/The Chainsmokers, Coldplay",
          "Artist/The Chainsmokers, Halsey",
          "Artist/The Goo Goo Dolls",
          "Artist/The Kid Laroi",
          "Artist/The Killers",
          "Artist/The Neighbourhood",
          "Artist/The Police",
          "Artist/The Rare Occasions",
          "Artist/The Ronettes",
          "Artist/The Walters",
          "Artist/The Weeknd",
          "Artist/The Weeknd, 21 Savage, Metro Boomin",
          "Artist/The Weeknd, Daft Punk",
          "Artist/The Weeknd, Future",
          "Artist/The Weeknd, Gesaffelstein",
          "Artist/The Weeknd, Lana Del Rey",
          "Artist/The Weeknd, Lil Wayne",
          "Artist/The Weeknd, Madonna, Playboi Carti",
          "Artist/The Weeknd, Post Malone",
          "Artist/The Weeknd, Tyler, The Creator",
          "Artist/ThxSoMch",
          "Artist/Tini",
          "Artist/Tini, L-Gante",
          "Artist/Tini, Maria Becerra",
          "Artist/Tiï¿½ï¿",
          "Artist/Tiï¿½ï¿½sto, Ava",
          "Artist/Tiï¿½ï¿½sto, Kar",
          "Artist/Tiï¿½ï¿½sto, Tate M",
          "Artist/Tony Dize, Bad Bunny",
          "Artist/Tory Lanez",
          "Artist/Travis Scott, 21 Savage, Metro Boomin",
          "Artist/Travis Scott, Metro Boomin",
          "Artist/Travis Scott, Young Thug, Metro Boomin",
          "Artist/Treyce",
          "Artist/Troye Sivan",
          "Artist/Trueno, Tiago pzk",
          "Artist/Tulus",
          "Artist/Twisted, Oliver Tree",
          "Artist/Tyga, Doja Cat",
          "Artist/Tyler, The Creator",
          "Artist/Tyler, The Creator, Kali Uchis",
          "Artist/Ugly Dray, Tesla Jnr",
          "Artist/V",
          "Artist/Vance Joy",
          "Artist/Veigh, Bvga Beatz, Supernova Ent, Prod Malax",
          "Artist/Victor Cibrian",
          "Artist/Vishal-Shekhar, Shilpa Rao, Caralisa Monteiro, Kumaar, Vishal Dadlani, Shekhar Ravjiani",
          "Artist/Vundabar",
          "Artist/Willow",
          "Artist/Wisin & Yandel, ROSALï¿½",
          "Artist/WizKid, Toian, Metro Boomin, Don Toliver, Beam",
          "Artist/XXXTENTACION",
          "Artist/Xamï¿½ï¿½, Gustah, Neo B",
          "Artist/YEAT",
          "Artist/YOASOBI",
          "Artist/Yahritza Y Su Esencia",
          "Artist/Yahritza Y Su Esencia, Grupo Frontera",
          "Artist/Yandel, Feid",
          "Artist/Yng Lvcas",
          "Artist/Young Thug, Future, Gunna",
          "Artist/Yung Gravy",
          "Artist/Yung Lean",
          "Artist/Yuridia, Angela Aguilar",
          "Artist/Zach Bryan",
          "Artist/Zion & Lennox",
          "Artist/Zï¿½ï¿½ Fe",
          "Artist/Zï¿½ï¿½ Neto & Crist",
          "Artist/a-ha",
          "Artist/d4vd",
          "Artist/dennis, MC Kevin o Chris",
          "Artist/girl in red",
          "Artist/j-hope",
          "Artist/j-hope, J. Cole",
          "Artist/sped up 8282",
          "Artist/sped up nightcore, ARIZONATEARS, Lil Uzi Vert",
          "Artist/teto",
          "Artist"
         ],
         "labels": [
          "'Till I Collapse",
          "(It Goes Like) Nanana - Edit",
          "10 Things I Hate About You",
          "10:35",
          "2 Be Loved (Am I Ready)",
          "2055",
          "212",
          "25k jacket (feat. Lil Baby)",
          "295",
          "69",
          "A Tale By Quincy",
          "A Veces (feat. Feid)",
          "ALIEN SUPERSTAR",
          "AM Remix",
          "AMARGURA",
          "AMERICA HAS A PROBLEM (feat. Kendrick Lamar)",
          "AMG",
          "ANTIFRAGILE",
          "Abcdario",
          "About Damn Time",
          "Acapulco",
          "Acrï¿½ï¿½s",
          "Adore You",
          "Afraid To Feel",
          "After Dark",
          "After Hours",
          "Agosto",
          "Aguacero",
          "Agudo Mï¿½ï¿½gi",
          "Ai Preto",
          "Ain't Shit",
          "Ainï¿½ï¿½ï¿½t Tha",
          "Alien Blues",
          "All For Us - from the HBO Original Series Euphoria",
          "All My Life (feat. J. Cole)",
          "All Of The Girls You Loved Before",
          "All The Way Live (Spider-Man: Across the Spider-Verse) (Metro Boomin & Future, Lil Uzi Vert)",
          "All of Me",
          "Alone",
          "Am I Dreaming (Metro Boomin & A$AP Rocky, Roisee)",
          "Andrea",
          "Angel Baby",
          "Angel Pt 1 (feat. Jimin of BTS, JVKE & Muni Long)",
          "Angels Like You",
          "Annihilate (Spider-Man: Across the Spider-Verse) (Metro Boomin & Swae Lee, Lil Wayne, Offset)",
          "Antes de Perderte",
          "Anti-Hero",
          "Antidepresan",
          "Apna Bana Le (From \"Bhediya\")",
          "Apocalypse",
          "Arcï¿½ï¿½ngel: Bzrp Music Sessions, Vol",
          "Area Codes",
          "Astronaut In The Ocean",
          "Atlantis",
          "Attention",
          "Auntie Diaries",
          "BABY HELLO",
          "BABY OTAKU",
          "BESO",
          "BILLIE EILISH.",
          "BREAK MY SOUL",
          "Baby Don't Hurt Me",
          "Back To December (Taylor's Version)",
          "BackOutsideBoyz",
          "Bad Habit",
          "Baile no Morro",
          "Bam Bam (feat. Ed Sheeran)",
          "Bamba (feat. Aitch & BIA)",
          "Bar",
          "Beautiful Girl",
          "Bebe Dame",
          "Before You Go",
          "Beggin",
          "Bejeweled",
          "Believer",
          "Belly Dancer",
          "Besharam Rang (From \"Pathaan\")",
          "Besos Moja2",
          "Best Friends",
          "Better Than Revenge (Taylor's Version)",
          "Betty (Get Money)",
          "Bigger Than The Whole Sky",
          "Bite Me",
          "Blank Space",
          "Blessed-Cursed",
          "Blind",
          "Bloody Mary",
          "Bombonzinho - Ao Vivo",
          "Bones",
          "Bored",
          "Born Singer",
          "Bound 2",
          "Boy With Luv (feat. Halsey)",
          "Boy's a liar",
          "Boy's a liar Pt. 2",
          "Boyfriend",
          "Brividi",
          "Broke Boys",
          "Bussin",
          "Butter",
          "Bye Bye",
          "CAIRO",
          "CHORRITO PA LAS ANIMAS",
          "CORAZï¿½ï¿½N VA",
          "CUFF IT",
          "California Breeze",
          "California Love - Original Version (Explicit)",
          "Call Out My Name",
          "Callaita",
          "Calm Down (with Selena Gomez)",
          "Can't Hold Us (feat. Ray Dalton)",
          "Car's Outside",
          "Cartï¿½ï¿½o B",
          "Casei Com a Putaria",
          "Cash In Cash Out",
          "Cayï¿½ï¿½ La Noche (feat. Cruz Cafunï¿½ï¿½, Abhir Hathi, Bejo, EL IMA)",
          "Celestial",
          "Ch y la Pizza",
          "Chale",
          "Chance",
          "Chanel",
          "Chemical",
          "Cheques",
          "Christmas (Baby Please Come Home)",
          "Christmas Tree",
          "Cigarettes",
          "Cinema",
          "Circo Loco",
          "City of Gods",
          "Classy 101",
          "Closer",
          "Coco Chanel",
          "Cold Heart - PNAU Remix",
          "Columbia",
          "Come Back Home - From \"Purple Hearts\"",
          "Con La Brisa",
          "Conceited",
          "Conexï¿½ï¿½es de Mï¿½ï¿½fia (feat. Rich ",
          "Contection",
          "Cool for the Summer",
          "Count Me Out",
          "Counting Stars",
          "Crazy What Love Can Do",
          "Creep",
          "Creepin'",
          "Crown",
          "Cruel Summer",
          "Cupid",
          "Cupid - Twin Ver.",
          "Cupid ï¿½ï¿½ï¿½ Twin Ver. (FIFTY FIFTY) ï¿½ï¿½ï¿½ Spe",
          "Cupido",
          "Curtains",
          "Cï¿½ï¿½",
          "DANï¿½ï¿½A",
          "DESPECHï¿",
          "DOGTOOTH",
          "Daddy Issues",
          "Dakiti",
          "Dance The Night (From Barbie The Album)",
          "Dandelions",
          "Danger (Spider) (Offset & JID)",
          "Dark Red",
          "Dawn FM",
          "Daydreaming",
          "Daylight",
          "Deck The Hall - Remastered 1999",
          "Demasiadas Mujeres",
          "Demons",
          "Desesperados",
          "Despuï¿½ï¿½s de la P",
          "Di Que Si",
          "Die For You",
          "Die For You",
          "Die For You - Remix",
          "Die Hard",
          "Die Young (feat. 347aidan)",
          "Dijeron Que No La Iba Lograr",
          "Ditto",
          "Do I Wanna Know?",
          "Do It To It",
          "Do We Have A Problem?",
          "Doja",
          "Don't Be Shy",
          "Don't Start Now",
          "Don't You Worry",
          "Don't ever say love me (feat. RM of BTS)",
          "Donï¿½ï¿½ï¿½t Bl",
          "Donï¿½ï¿½ï¿½t Break My",
          "Dos Mil 16",
          "Double Fantasy (with Future)",
          "Down Under (feat. Colin Hay)",
          "Dream On",
          "Driving Home for Christmas - 2019 Remaster",
          "Dua Lipa",
          "ELEVEN",
          "Easy On Me",
          "Efecto",
          "El Apagï¿½",
          "El Azul",
          "El Cielo",
          "El Gordo Trae El Mando",
          "El Merengue",
          "El Rescate",
          "Ella Baila Sola",
          "En El Radio Un Cochinero",
          "En La De Ella",
          "En Paris",
          "Enchanted",
          "Enchanted (Taylor's Version)",
          "Enemy (with JID) - from the series Arcane League of Legends",
          "Enemy - from the series Arcane League of Legends",
          "Ensï¿½ï¿½ï¿½ï¿½ame ",
          "Entre Nosotros (Remix) [con Nicki Nicole]",
          "Envolver",
          "Erro Gostoso - Ao Vivo",
          "Es un Secreto",
          "Escapism.",
          "Escapism. - Sped Up",
          "Esqueï¿½ï¿½a-Me Se For C",
          "Evergreen (You Didnï¿½ï¿½ï¿½t Deserve Me A",
          "Every Breath You Take - Remastered 2003",
          "Every Summertime",
          "Everybody Wants To Rule The World",
          "Everything I Love",
          "Evoque Prata",
          "Excuses",
          "Eyes Closed",
          "F2F",
          "FEARLESS",
          "FLOWER",
          "Fair Trade (with Travis Scott)",
          "Falling",
          "Far",
          "Fast Car",
          "Father Time (feat. Sampha)",
          "Feliz Cumpleaï¿½ï¿½os Fe",
          "Feliz Navidad",
          "Ferrari",
          "Ferxxo 100",
          "Fim de Semana no Rio",
          "Fingers Crossed",
          "First Class",
          "Flowers",
          "For Youth",
          "Forever",
          "Forget Me",
          "Forgot About Dre",
          "Formula",
          "Freaks",
          "Freaky Deaky",
          "Friday (feat. Mufasa & Hypeman) - Dopamine Re-Edit",
          "Frï¿½ï¿½gil (feat. Grupo Front",
          "Fuera del mercado",
          "GATï¿½ï¿½",
          "GIVENCHY",
          "Gasoline",
          "Gatita",
          "Gato de Noche",
          "Get Into It (Yuh)",
          "Get Lucky - Radio Edit",
          "Ghost in the Machine (feat. Phoebe Bridgers)",
          "Ginseng Strip 2002",
          "Glimpse of Us",
          "Gol Bolinha, Gol Quadrado 2",
          "Golden",
          "Gone Girl",
          "Good Days",
          "Good Looking",
          "Gospel (with Eminem)",
          "Grapejuice",
          "HAPPY",
          "HUMBLE.",
          "Haegeum",
          "Happy Xmas (War Is Over)",
          "Hati-Hati di Jalan",
          "Heart To Heart",
          "Heartless",
          "Heather",
          "Heaven",
          "Here We Goï¿½ï¿½ï¿½ Again (feat. Tyler, the Cr",
          "Here With Me",
          "Hey Mor",
          "Hey, Mickey!",
          "Hits Different",
          "Hold My Hand",
          "Holly Jolly Christmas",
          "Honest (feat. Don Toliver)",
          "Hope",
          "Hot Shit (feat. Ye & Lil Durk)",
          "House Of Memories",
          "How Do I Make You Love Me?",
          "How Do I Say Goodbye",
          "Hrs and Hrs",
          "Hummingbird (Metro Boomin & James Blake)",
          "Hype Boy",
          "I AM",
          "I AM WOMAN",
          "I Can See You (Taylorï¿½ï¿½ï¿½s Version) (From The ",
          "I Hate U",
          "I Heard You're Married (feat. Lil Wayne)",
          "I Know - PR1SVX Edit",
          "I Like You (A Happier Song) (with Doja Cat)",
          "I Love You So",
          "I Tried to Tell Y'all",
          "I WANNA BE YOUR SLAVE",
          "I Was Never There",
          "I Wrote The Book",
          "I'm Good (Blue)",
          "I'm Not The Only One",
          "IDGAF (with blackbear)",
          "If We Ever Broke Up",
          "Igualito a Mi Apï¿",
          "In Da Club",
          "In My Head",
          "In The End",
          "In The Stars",
          "Infinity",
          "Iris",
          "Is There Someone Else?",
          "It'll Be Okay",
          "It's Beginning To Look A Lot Like Christmas",
          "It's Beginning to Look a Lot Like Christmas (with Mitchell Ayres & His Orchestra)",
          "It's the Most Wonderful Time of the Year",
          "JGL",
          "Jhoome Jo Pathaan",
          "Jingle Bells - Remastered 1999",
          "Jordan",
          "Just The Way You Are",
          "Just Wanna Rock",
          "KICK BACK",
          "KU LO SA - A COLORS SHOW",
          "Kahani Suno 2.0",
          "Karma",
          "Karma (feat. Ice Spice)",
          "Keep Driving",
          "Kill Bill",
          "Kiss Me More (feat. SZA)",
          "Knife Talk (with 21 Savage ft. Project Pat)",
          "Komang",
          "LA CANCIï¿½",
          "LA INOCENTE",
          "LADY GAGA",
          "LAGUNAS",
          "LALA",
          "LET GO",
          "LLYLM",
          "LOKERA",
          "LOVE DIVE",
          "LUNA",
          "La Bachata",
          "La Bebe",
          "La Bebe - Remix",
          "La Corriente",
          "La Jumpa",
          "La Llevo Al Cielo (Ft. ï¿½ï¿½engo F",
          "La Loto",
          "La Santa",
          "La Zona",
          "Lady Mi Amor",
          "Las Morras",
          "Last Last",
          "Last Night",
          "Late Night Talking",
          "Lavender Haze",
          "Layla",
          "Leave Before You Love Me (with Jonas Brothers)",
          "Leave The Door Open",
          "Left and Right (Feat. Jung Kook of BTS)",
          "Let It Snow! Let It Snow! Let It Snow!",
          "Let It Snow! Let It Snow! Let It Snow!",
          "Let Me Down Slowly",
          "Levitating",
          "Levitating (feat. DaBaby)",
          "Ley Seca",
          "Leï¿½",
          "Lift Me Up - From Black Panther: Wakanda Forever - Music From and Inspired By",
          "Light Switch",
          "Like Crazy",
          "Like Crazy (English Version)",
          "Lilith (feat. SUGA of BTS) (Diablo IV Anthem)",
          "Limbo",
          "Link Up (Metro Boomin & Don Toliver, Wizkid feat. BEAM & Toian) - Spider-Verse Remix (Spider-Man: Across the Spider-Verse )",
          "Little Freak",
          "Lo Siento BB:/ (with Bad Bunny & Julieta Venegas)",
          "Locked Out Of Heaven",
          "Lose Yourself - Soundtrack Version",
          "Lost",
          "Lost in the Fire",
          "Love Again",
          "Love Grows (Where My Rosemary Goes)",
          "Love Language",
          "Love Of My Life",
          "Love Yourself",
          "Lover",
          "Lovers Rock",
          "Lovezinho",
          "Lucid Dreams",
          "Lï¿½ï¿½ï¿",
          "MAMIII",
          "MANIAC",
          "MERCHO",
          "METAMORPHOSIS",
          "MIDDLE OF THE NIGHT",
          "MOJABI GHOST",
          "MONTAGEM - FR PUNK",
          "MORE",
          "Maan Meri Jaan",
          "Made You Look",
          "Major Distribution",
          "Makeba",
          "Malas Decisiones",
          "Malvada",
          "Malvadï¿½ï¿",
          "Mami Chula",
          "Man Made A Bar (feat. Eric Church)",
          "Marisola - Remix",
          "Maroon",
          "Mary On A Cross",
          "Mas Rica Que Ayer",
          "Massive",
          "Master of Puppets (Remastered)",
          "Mastermind",
          "Matilda",
          "Me Fui de Vacaciones",
          "Me Porto Bonito",
          "Me and Your Mama",
          "Medallo",
          "Meet Me At Our Spot",
          "Mejor Que Yo",
          "Memories",
          "Merry Christmas Everyone",
          "Mi Bello Angel",
          "Mine (Taylor's Version)",
          "Miracle (with Ellie Goulding)",
          "Mirror",
          "Miserable Man",
          "Miss You",
          "Miss You",
          "Mistletoe",
          "Miï¿½ï¿½n",
          "Mockingbird",
          "Mon Amour - Remix",
          "Money Trees",
          "Monï¿½ï¿½y so",
          "Moonlight",
          "Moscow Mule",
          "Mother I Sober (feat. Beth Gibbons of Portishead)",
          "Mr. Brightside",
          "Mr. Morale",
          "Mujeriego",
          "Murder In My Mind",
          "Music For a Sushi Restaurant",
          "Muï¿½ï¿½",
          "My Mind & Me",
          "My Universe",
          "N95",
          "NEW MAGIC WAND",
          "Nail Tech",
          "Never Felt So Alone",
          "Neverita",
          "New Jeans",
          "Niagara Falls (Foot or 2) [with Travis Scott & 21 Savage]",
          "Niï¿½ï¿½a Bo",
          "No Lie",
          "No Role Modelz",
          "Nobody Gets Me",
          "Nobody Like U - From \"Turning Red\"",
          "Nonsense",
          "Normal",
          "Nos Comemos (feat. Ozuna)",
          "Nosso Quadro",
          "Nostï¿½ï¿½l",
          "Notice Me",
          "Notion",
          "Novidade na ï¿½ï¿",
          "Novo Balanï¿½",
          "Numb",
          "Numb Little Bug",
          "Nxde",
          "O.O",
          "OMG",
          "OUT OUT (feat. Charli XCX & Saweetie)",
          "Obsessed",
          "Oh My God",
          "Oi Balde - Ao Vivo",
          "Ojitos Lindos",
          "Ojos Marrones",
          "On BS",
          "On Time (with John Legend)",
          "One Dance",
          "One Right Now (with The Weeknd)",
          "One Thing At A Time",
          "Only Love Can Hurt Like This",
          "Open Arms (feat. Travis Scott)",
          "Otro Atardecer",
          "Overdrive",
          "PERO Tï¿",
          "PLAYA DEL INGLï¿½",
          "POLARIS - Remix",
          "POP!",
          "PRC",
          "PROVENZA",
          "PUFFIN ON ZOOTIEZ",
          "Pantysito",
          "Party",
          "Pasoori",
          "Pass The Dutchie",
          "Peaches (from The Super Mario Bros. Movie)",
          "People",
          "People Pt.2 (feat. IU)",
          "Perfect",
          "Permission to Dance",
          "Peru",
          "Peso Pluma: Bzrp Music Sessions, Vol. 55",
          "Phantom Regret by Jim",
          "Phir Aur Kya Chahiye (From \"Zara Hatke Zara Bachke\")",
          "Photograph",
          "Pink + White",
          "Pipoco",
          "Piï¿½ï¿½man Deï¿",
          "Players",
          "Poland",
          "Polaroid Love",
          "Pope Is a Rockstar",
          "Popular (with Playboi Carti & Madonna) - The Idol Vol. 1 (Music from the HBO Original Series)",
          "Potion (with Dua Lipa & Young Thug)",
          "Praise God",
          "Primera Cita",
          "Princess Diana (with Nicki Minaj)",
          "Private Landing (feat. Justin Bieber & Future)",
          "Privileged Rappers",
          "Problemï¿½",
          "Prohibidox",
          "Punto G",
          "Purple Hearts",
          "Pussy & Millions (feat. Travis Scott)",
          "Que Vuelvas",
          "Queencard",
          "Question...?",
          "Quevedo: Bzrp Music Sessions, Vol. 52",
          "Quï¿½ï¿½ Ago",
          "Quï¿½ï¿½ Mï¿½ï¿",
          "RAPSTAR",
          "REMIX EXCLUSIVO",
          "RUMBATï¿½",
          "Radio",
          "Raindrops (Insane) [with Travis Scott]",
          "Rara Vez",
          "Rauw Alejandro: Bzrp Music Sessions, Vol. 56",
          "Red Ruby Da Sleeze",
          "Reminder",
          "Residente: Bzrp Music Sessions, Vol. 49",
          "Revenge",
          "Rich - Interlude",
          "Rich Flex",
          "Rich Spirit",
          "Right On",
          "Riptide",
          "Rolling in the Deep",
          "Romantic Homicide",
          "Rosa Pastel",
          "Rumble",
          "Run BTS",
          "Run Rudolph Run - Single Version",
          "Running Up That Hill (A Deal With God)",
          "Rush",
          "S-Class",
          "SABOR FRESA",
          "SLOW DANCING IN THE DARK",
          "SORRY NOT SORRY",
          "SOS",
          "SPACE MAN",
          "SPIT IN MY FACE!",
          "STAR WALKIN' (League of Legends Worlds Anthem)",
          "STAY (with Justin Bieber)",
          "STAYING ALIVE (feat. Drake & Lil Baby)",
          "SUPERMODEL",
          "Sad Girlz Luv Money Remix (feat. Kali Uchis)",
          "Salimo de Noche",
          "San Lucas",
          "Savior",
          "Savior - Interlude",
          "Say Yes To Heaven",
          "Say You Won't Let Go",
          "Se Le Ve",
          "Search & Rescue",
          "See You Again",
          "Seek & Destroy",
          "Self Love (Spider-Man: Across the Spider-Verse) (Metro Boomin & Coi Leray)",
          "Selfish",
          "Sem Alianï¿½ï¿½a no ",
          "Set Fire to the Rain",
          "Seu Brilho Sumiu - Ao Vivo",
          "Seven (feat. Latto) (Explicit Ver.)",
          "Sex, Drugs, Etc.",
          "Seï¿½ï¿½o",
          "Shake It Off",
          "Shakira: Bzrp Music Sessions, Vol. 53",
          "Shallow",
          "Shape of You",
          "Shirt",
          "Shoong! (feat. LISA of BLACKPINK)",
          "Shorty Party",
          "Shut up My Moms Calling",
          "Shut up My Moms Calling - (Sped Up)",
          "Si Quieren Frontear",
          "Si Te La Encuentras Por Ahï¿",
          "Sial",
          "Sigue",
          "Silent Hill",
          "Sin Seï¿½ï",
          "Sky",
          "Sleigh Ride",
          "SloMo",
          "Slut Me Out",
          "Smells Like Teen Spirit - Remastered 2021",
          "Smokin Out The Window",
          "Smoking on my Ex Pack",
          "Snooze",
          "Snow On The Beach (feat. Lana Del Rey)",
          "Snow On The Beach (feat. More Lana Del Rey)",
          "So Good",
          "Sobrio",
          "Softcore",
          "Something In The Way - Remastered 2021",
          "Something Just Like This",
          "Something in the Orange",
          "Somewhere Only We Know",
          "Soy El Unico",
          "Sparks",
          "Spin Bout U",
          "Sprinter",
          "Stan",
          "Stand By Me (feat. Morgan Wallen)",
          "Starboy",
          "Stargirl Interlude",
          "Starlight",
          "Starry Eyes",
          "Static",
          "Stay Alive (Prod. SUGA of BTS)",
          "Stay With Me (with Justin Timberlake, Halsey, & Pharrell)",
          "Stefania (Kalush Orchestra)",
          "Sticky",
          "Still D.R.E.",
          "Still Don't Know My Name",
          "Still Life",
          "Still With You",
          "Streets",
          "Style",
          "Sugar Rush Ride",
          "Summertime Sadness",
          "Sunflower - Spider-Man: Into the Spider-Verse",
          "Sunroof",
          "Super",
          "Super Freaky Girl",
          "Super Gremlin",
          "Super Shy",
          "Superhero (Heroes & Villains) [with Future & Chris Brown]",
          "Superman",
          "Sure Thing",
          "Surface Pressure",
          "Sweet Child O' Mine",
          "Sweetest Pie",
          "Swim",
          "Sï¿½ï¿½",
          "THATS WHAT I WANT",
          "THE LONELIEST",
          "THE SHADE",
          "TO THE MOON",
          "TQG",
          "TQM",
          "TRUSTFALL",
          "TULUM",
          "TUS Lï¿½ï¿½GR",
          "TV",
          "Tacones Rojos",
          "Tak Segampang Itu",
          "Take Me To Church",
          "Take My Breath",
          "Take On Me",
          "Take Two",
          "Talk",
          "Talk that Talk",
          "Talking To The Moon",
          "Tarot",
          "Tattoo",
          "Te Felicito",
          "Tere Vaaste (From \"Zara Hatke Zara Bachke\")",
          "That That (prod. & feat. SUGA of BTS)",
          "That's Hilarious",
          "The Astronaut",
          "The Business",
          "The Christmas Song (Merry Christmas To You) - Remastered 1999",
          "The Color Violet",
          "The Family Madrigal",
          "The Feels",
          "The Great War",
          "The Heart Part 5",
          "The Motto",
          "The Next Episode",
          "The Night We Met",
          "The Nights",
          "The Real Slim Shady",
          "The Rumbling (TV Size)",
          "The Scientist",
          "There's Nothing Holdin' Me Back",
          "Thinking Out Loud",
          "Thinkinï¿½ï¿½ï¿½ B",
          "This Love (Taylorï¿½ï¿½ï¿½s Ve",
          "Those Eyes",
          "Thought You Should Know",
          "Thousand Miles",
          "Thunder",
          "Tiago PZK: Bzrp Music Sessions, Vol. 48",
          "Titi Me Preguntï¿",
          "Todo De Ti",
          "Tom's Diner",
          "Too Late",
          "Too Many Nights (feat. Don Toliver & with Future)",
          "Trance (with Travis Scott & Young Thug)",
          "True Love",
          "Tubarï¿½ï¿½o Te",
          "Typa Girl",
          "Tï¿½ï¿",
          "ULTRA SOLO",
          "ULTRA SOLO REMIX",
          "UNFORGIVEN (feat. Nile Rodgers)",
          "Un Coco",
          "Un Finde | CROSSOVER #2",
          "Un Verano Sin Ti",
          "Una Noche en Medellï¿½",
          "Underneath the Tree",
          "Unholy (feat. Kim Petras)",
          "United In Grief",
          "Until I Found You",
          "Until I Found You (with Em Beihold) - Em Beihold Version",
          "Used (feat. Don Toliver)",
          "VAGABUNDO",
          "VOID",
          "Vai Lï¿½ï¿½ Em Casa ",
          "Vampiro",
          "Vegas (From the Original Motion Picture Soundtrack ELVIS)",
          "Vigilante Shit",
          "Villano Antillano: Bzrp Music Sessions, Vol. 51",
          "Viva La Vida",
          "Volando - Remix",
          "Volvï¿",
          "WAIT FOR U (feat. Drake & Tems)",
          "WANDA",
          "WHERE SHE GOES",
          "WORTH NOTHING",
          "Wait a Minute!",
          "Wake Me Up - Radio Edit",
          "Watch This - ARIZONATEARS Pluggnb Remix",
          "Way 2 Sexy (with Future & Young Thug)",
          "We Cry Together",
          "We Found Love",
          "What Else Can I Do?",
          "What It Is (Solo Version)",
          "When I R.I.P.",
          "When You're Gone",
          "Where Are You Now",
          "Where Did You Go?",
          "White Christmas",
          "Why'd You Only Call Me When You're High?",
          "Wild Flower (with youjeen)",
          "With you",
          "Without Me",
          "Wonderful Christmastime - Edited Version / Remastered 2011",
          "Worldwide Steppers",
          "Worst Day",
          "Would've, Could've, Should've",
          "X SI VOLVEMOS",
          "X ï¿½ï¿½LTIMA",
          "XQ Te Pones Asï¿",
          "Ya No Somos Ni Seremos",
          "Yandel 150",
          "Yellow",
          "Yet To Come",
          "Yo Voy (feat. Daddy Yankee)",
          "Yonaguni",
          "You Belong With Me (Taylorï¿½ï¿½ï¿½s Ve",
          "You Make It Feel Like Christmas (feat. Blake Shelton)",
          "You Proof",
          "You Right",
          "You're On Your Own, Kid",
          "ZOOM",
          "Zona De Perigo",
          "august",
          "ceilings",
          "cï¿½ï¿½mo dormi",
          "deja vu",
          "die first",
          "family ties (with Kendrick Lamar)",
          "favorite crime",
          "fukumean",
          "golden hour",
          "happier",
          "jealousy, jealousy",
          "lovely - Bonus Track",
          "on the street (with J. Cole)",
          "psychofreak (feat. WILLOW)",
          "pushin P (feat. Young Thug)",
          "sentaDONA (Remix) s2",
          "she's all i wanna be",
          "this is what falling in love feels like",
          "thought i was playing",
          "un x100to",
          "vampire",
          "we fell in love in october",
          "you broke me first",
          "ýýý98 Braves",
          "ýýýýýýýýýýýý",
          "ýýýýýýýýýýýýýýýýýýýýý",
          "(G)I-DLE",
          "21 Savage, Gunna",
          "50 Cent",
          "A$AP Rocky, Metro Boomin, Roisee",
          "Abhijay Sharma, Riar Saab",
          "Adele",
          "Aerosmith",
          "Agust D",
          "Aitana, zzoilo",
          "Alec Benjamin",
          "Alvaro Diaz, Rauw Alejandro",
          "Ana Castela, AgroPlay",
          "Andy Williams",
          "Anggi Marito",
          "Anitta",
          "Anitta, Tini, Becky G",
          "AnnenMayKantereit, Giant Rooks",
          "Anuel Aa, Jhay Cortez",
          "Anuel Aa, Myke Towers, Jhay Cortez",
          "Arcangel, Bad Bunny",
          "Arcangel, Bizarrap",
          "Arcangel, De La Ghetto, Justin Quiles, Lenny Tavï¿½ï¿½rez, Sech, Dalex, Dimelo Flow, Rich Music",
          "Arctic Monkeys",
          "Ariana Grande, The Weeknd",
          "Arijit Singh, Sachin-Jigar",
          "Arijit Singh, Sachin-Jigar, Amitabha Bhattacharya",
          "Arijit Singh, Vishal Dadlani, Sukriti Kakar, Vishal-Shekhar, Shekhar Ravjiani, Kumaar",
          "Armani White",
          "Aventura, Bad Bunny",
          "Avicii",
          "Ayparia, unxbected",
          "BIGBANG",
          "BLACKPINK",
          "BLESSD, Peso Pluma",
          "BTS",
          "BYOR, Imanbek",
          "Baby Tate",
          "Bad Bunny",
          "Bad Bunny, Eladio Carrion",
          "Bad Bunny, Grupo Frontera",
          "Bad Bunny, Jhay Cortez",
          "Bad Bunny, Rauw Alejandro",
          "Bad Bunny, Tainy",
          "Bad Bunny, The Marï¿½ï",
          "Beach Weather",
          "Bebe Rexha, David Guetta",
          "Becky G, Peso Pluma",
          "Bellakath",
          "Benson Boone",
          "Beyoncï¿",
          "Big One, FMK, Ke personajes",
          "Billie Eilish",
          "Billie Eilish, Khalid",
          "Bing Crosby, John Scott Trotter & His Orchestra, Ken Darby Singers",
          "Bizarrap, Peso Pluma",
          "Bizarrap, Quevedo",
          "Bizarrap, Tiago pzk",
          "Bizarrap, Villano Antillano",
          "Blackbear, BoyWithUke",
          "Bomba Estï¿½ï¿½reo, Bad B",
          "Brray, Rauw Alejandro, Lyanno",
          "Bruno Mars",
          "Bruno Mars, Anderson .Paak, Silk Sonic",
          "Burna Boy",
          "Buscabulla, Bad Bunny",
          "C. Tangana",
          "Calvin Harris, Dua Lipa, Young Thug",
          "Calvin Harris, Ellie Goulding",
          "Calvin Harris, Halsey, Pharrell Williams, Justin Timberlake",
          "Camila Cabello, Ed Sheeran",
          "Camila Cabello, Willow",
          "Carin Leon",
          "Carin Leon, Grupo Frontera",
          "Cartel De Santa, La Kelly",
          "Central Cee",
          "Chanel",
          "Charli XCX, Jax Jones, Joel Corry, Saweetie",
          "Charlie Puth",
          "Charlie Puth, BTS, Jung Kook",
          "Chase Atlantic",
          "Chencho Corleone, Bad Bunny",
          "Chencho Corleone, Rauw Alejandro",
          "Cherish, ACRAZE",
          "Childish Gambino",
          "Chino Pacas",
          "Chris Brown, Rvssian, Rauw Alejandro",
          "Chris Molitor",
          "Chris Rea",
          "Christian Nodal",
          "Chuck Berry",
          "Cigarettes After Sex",
          "Coi Leray",
          "Coldplay",
          "Coldplay, BTS",
          "Conan Gray",
          "Cris Mj",
          "DJ Escobar, MC MENOR SG, MC MENOR HR",
          "Daddy Yankee",
          "Daddy Yankee, Bad Bunny",
          "Danny Ocean",
          "Darlene Love",
          "Dave",
          "Dave, Central Cee",
          "David Guetta, Anne-Marie, Coi Leray",
          "David Guetta, Ella Henderson, Becky Hill",
          "David Guetta, Shakira, Black Eyed Peas",
          "David Kushner",
          "De La Ghetto, Duki, Quevedo",
          "De La Ghetto, Feid, Polima WestCoast, Paloma Mami, Pailita",
          "Dean Lewis",
          "Dean Martin",
          "Demi Lovato",
          "Dj LK da Escï¿½ï¿½cia, Tchakabum, mc jhenny, M",
          "Doechii",
          "Doja Cat",
          "Doja Cat, The Weeknd",
          "Don Toliver, Future, Justin Bieber",
          "Dove Cameron",
          "Dr. Dre, 2Pac, Roger",
          "Dr. Dre, Snoop Dogg",
          "Drake",
          "Drake, 21 Savage",
          "Drake, DJ Khaled, Lil Baby",
          "Drake, Future, Tems",
          "Drake, Future, Young Thug",
          "Drake, Project Pat, 21 Savage",
          "Drake, Travis Scott",
          "Drake, Travis Scott, 21 Savage",
          "Drake, WizKid, Kyla",
          "Dua Lipa",
          "Dua Lipa, DaBaby",
          "Dua Lipa, Elton John, Pnau",
          "Dua Lipa, Megan Thee Stallion",
          "Duki",
          "Duki, NICKI NICOLE, Cris Mj, Standly, Stars Music Chile",
          "ENHYPEN",
          "Ed Sheeran",
          "Ed Sheeran, Fireboy DML",
          "Ed Sheeran, J Balvin",
          "Eden Muï¿½ï",
          "Edison Lighthouse",
          "El Chachito, Junior H",
          "Elley Duhï¿",
          "Em Beihold",
          "Em Beihold, Stephen Sanchez",
          "Eminem",
          "Eminem, Dido",
          "Eminem, Dina Rae",
          "Eminem, Dr. Dre",
          "Eminem, Nate Dogg",
          "Emmy Meli",
          "Eslabon Armado, Peso Pluma",
          "Feid",
          "Feid, Alejo, Robi",
          "Feid, Mora",
          "Feid, Mora, Saiko, Quevedo",
          "Feid, Myke Towers, Sky Rompiendo",
          "Feid, Paulo Londra",
          "Feid, Sech, Jhayco",
          "Feid, Young Miko",
          "Fifty Fifty",
          "Fran C, Polima WestCoast, Nickoog Clk, Pablito Pesadilla",
          "Frank Ocean",
          "Frank Sinatra",
          "Frank Sinatra, B. Swanson Quartet",
          "Freddie Dredd",
          "Fuerza Regida",
          "Fuerza Regida, Chino Pacas",
          "Fuerza Regida, Grupo Frontera",
          "Fuerza Regida, Natanael Cano",
          "Fuerza Regida, Peso Pluma",
          "Fujii Kaze",
          "Future",
          "Future, Chris Brown, Metro Boomin",
          "Future, Lil Uzi Vert, Metro Boomin",
          "Future, Metro Boomin, Don Toliver",
          "GODZZ__-, Zakaria",
          "Gabito Ballesteros, Junior H, Peso Pluma",
          "Ghost",
          "Grupo Marca Registrada, Grupo Frontera",
          "Grupo Marca Registrada, Junior H",
          "Gunna",
          "Gunna, Lil Baby",
          "Guns N' Roses",
          "Gwen Stefani, Blake Shelton",
          "HA SUNG WOON, Jimin",
          "Halsey",
          "Halsey, BTS",
          "Halsey, Suga",
          "Harry Styles",
          "Hotel Ugly",
          "Hozier",
          "INTERWORLD",
          "IU, Agust D",
          "IVE",
          "Imagine Dragons",
          "Imagine Dragons, League of Legends, Arcane",
          "Imagine Dragons, League of Legends, JID, Arcane",
          "Intense, AP Dhillon, Gurinder Gill",
          "Israel & Rodolffo, Ana Castela",
          "Israel & Rodolffo, Mari Fernandez",
          "J Balvin, Bad Bunny",
          "J Balvin, Maria Becerra",
          "J Balvin, Nio Garcia, Bad Bunny",
          "J. Cole",
          "J. Cole, Lil Durk",
          "JISOO",
          "JVKE",
          "Jack Black",
          "Jack Harlow",
          "Jain",
          "James Arthur",
          "James Blake, Metro Boomin",
          "James Hype, Miggy Dela Rosa",
          "Jasiel Nuï¿½ï¿½ez, Peso P",
          "Jason Derulo",
          "Jaymes Young",
          "Jessi",
          "Jessica Darrow",
          "Jimin",
          "Jin",
          "Jnr Choi",
          "John Legend",
          "John Legend, Metro Boomin",
          "John Lennon, The Harlem Community Choir, The Plastic Ono Band, Yoko Ono",
          "Joji",
          "Jordan Fisher, Josh Levi, Finneas O'Connell, 4*TOWN (From Disney and Pixarï¿½ï¿½ï¿½s Turning Red), Topher Ngo, Grayson Vill",
          "Josï¿½ï¿½ Felic",
          "Juice WRLD",
          "Julieta Venegas, Bad Bunny, Tainy",
          "Jung Kook",
          "Junior H, Eden Muï¿½ï",
          "Junior H, Peso Pluma",
          "Justin Bieber",
          "Justin Bieber, Don Toliver",
          "Justin Bieber, The Kid Laroi",
          "Justin Quiles, Lenny Tavï¿½ï¿½rez, BL",
          "KALUSH",
          "Kaifi Khalil",
          "Kali Uchis",
          "Kali Uchis, Amaarae, Moliy",
          "Kaliii, Kaliii",
          "Kanii, PR1ISVX",
          "Kanye West",
          "Kanye West, Alicia Keys, Fivio Foreign",
          "Kanye West, Lil Durk, Cardi B",
          "Kanye West, XXXTENTACION",
          "Karol G",
          "Karol G, Becky G",
          "Karol G, Ovy On The Drums",
          "Karol G, Quevedo",
          "Karol G, Romeo Santos",
          "Karol G, Shakira",
          "Kate Bush",
          "Keane",
          "Kelly Clarkson",
          "Kendrick Lamar",
          "Kendrick Lamar, Baby Keem",
          "Kendrick Lamar, Beth Gibbons",
          "Kendrick Lamar, Beyoncï¿",
          "Kendrick Lamar, Blxst, Amanda Reifer",
          "Kendrick Lamar, Ghostface Killah, Summer Walker",
          "Kendrick Lamar, Jay Rock",
          "Kendrick Lamar, Kodak Black",
          "Kendrick Lamar, Sam Dew, Baby Keem",
          "Kendrick Lamar, Sampha",
          "Kendrick Lamar, Tanna Leone",
          "Kendrick Lamar, Taylour Paige",
          "Kenia OS",
          "Kenshi Yonezu",
          "Kevin Kaarl",
          "King",
          "Kodak Black",
          "Kodak Black, NLE Choppa, Muni Long, JVKE, Jimin",
          "Kordhell",
          "L7nnon, DJ Biel do Furduncinho, Bianca",
          "LE SSERAFIM",
          "LF System",
          "Labrinth",
          "Labrinth, Zendaya",
          "Lady Gaga",
          "Lady Gaga, Bradley Cooper",
          "Lana Del Rey",
          "Lana Del Rey, Taylor Swift",
          "Lasso",
          "Latto, Jung Kook",
          "Lauren Spencer Smith",
          "Lauren Spencer Smith, Lauren Spencer Smith, Lauren Spencer Smith",
          "Leah Kate",
          "Leo Santana",
          "Lewis Capaldi",
          "Libianca",
          "Lil Baby",
          "Lil Durk, Morgan Wallen",
          "Lil Nas X",
          "Lil Tjay",
          "Lil Uzi Vert",
          "Lil Yachty",
          "Linkin Park",
          "Lit Killah, Maria Becerra, Tiago pzk, NICKI NICOLE",
          "Lizzo",
          "Lizzy McAlpine",
          "Lord Huron",
          "Loreen",
          "Lost Frequencies, Calum Scott",
          "Luciano",
          "Luciano, Aitch, Bï¿½",
          "Ludwig Goransson, Foudeqush",
          "Luis R Conriquez, La Adictiva",
          "Luke Combs",
          "Luude, Colin Hay",
          "Luï¿½ï¿½sa Sonza, MC Frog, Dj Gabriel do Borel, Davi K",
          "MC Caverinha, KayBlack",
          "MC Ryan SP, Love Funk, Mc Paiva ZS",
          "MC Xenon, Os Gemeos da Putaria",
          "MNEK, Jax Jones",
          "Mabel Matiz, Mert Demir",
          "Mac DeMarco",
          "Mae Stephens",
          "Mahalini",
          "Mahmood, Blanco",
          "Mainstreet, Chefin",
          "Maldy, Karol G",
          "Maluma",
          "Mambo Kingz, DJ Luian, Anuel Aa",
          "Manuel Turizo",
          "Maria Becerra",
          "Maroon 5",
          "Marshmello, Jonas Brothers",
          "Marshmello, Juice WRLD",
          "Marshmello, Manuel Turizo",
          "Marï¿½ï¿½lia Mendo",
          "Marï¿½ï¿½lia Mendonï¿½ï¿½a, George Henrique &",
          "Marï¿½ï¿½lia Mendonï¿½ï¿½a, Maiara &",
          "Masked Wolf",
          "Matuï¿½ï¿½, Wiu, ",
          "Mc Livinho, DJ Matt D",
          "Mc Pedrinho, DJ 900",
          "Mc Pedrinho, Pedro Sampaio",
          "Mc Vitin Da Igrejinha, MC Tairon, DJ Win",
          "Meghan Trainor",
          "Melanie Martinez",
          "Melody, Ana Castela, Dj Chris No Beat",
          "Metallica",
          "Metro Boomin, Coi Leray",
          "Michael Bublï¿",
          "Migrantes, LiL CaKe, Nico Valdi",
          "Miguel",
          "Miley Cyrus",
          "Morgan Wallen",
          "Morgan Wallen, Eric Church",
          "Mr.Kitty",
          "Muni Long",
          "Musical Youth",
          "Myke Towers",
          "Myke Towers, Quevedo",
          "Mï¿½ï¿½ne",
          "NF",
          "NIKI",
          "NLE Choppa",
          "NMIXX",
          "Nat King Cole",
          "Natanael Cano",
          "Natanael Cano, Gabito Ballesteros, Peso Pluma",
          "Natanael Cano, Peso Pluma",
          "Nayeon",
          "Nengo Flow, Anuel Aa, Chris Jedi, Chencho Corleone",
          "Nengo Flow, Bad Bunny",
          "Nessa Barrett",
          "New West",
          "NewJeans",
          "Niall Horan",
          "Nicki Minaj",
          "Nicki Minaj, Ice Spice",
          "Nicki Minaj, Lil Baby",
          "Nicky Jam, Feid",
          "Nicky Youre, Dazy",
          "Nile Rodgers, LE SSERAFIM",
          "Nirvana",
          "Offset, JID",
          "Olga Merediz, Stephanie Beatriz, Encanto - Cast",
          "Olivia Rodrigo",
          "Omar Apollo",
          "OneRepublic",
          "Ovy On The Drums, Quevedo",
          "Oxlade",
          "Ozuna, Feid",
          "Ozuna, Tiago pzk",
          "P!nk",
          "PSY, Suga",
          "Paloma Faith",
          "Panic! At The Disco",
          "Paul McCartney",
          "Paulo Londra",
          "Peggy Gou",
          "Perry Como, The Fontane Sisters, Mitchell Ayres & His Orchestra",
          "Peso Pluma, Grupo Frontera",
          "Peso Pluma, Yng Lvcas",
          "Pharrell Williams, Nile Rodgers, Daft Punk",
          "Pharrell Williams, Tyler, The Creator, 21 Savage",
          "PinkPantheress",
          "PinkPantheress, Ice Spice",
          "Plan B",
          "Playboi Carti",
          "PnB Rock",
          "Polima WestCoast, Pailita",
          "Polo G",
          "Post Malone",
          "Post Malone, Doja Cat",
          "Post Malone, Swae Lee",
          "Prezioso, Gabry Ponte, LUM!X",
          "Quevedo",
          "Quevedo, Jhayco",
          "Quevedo, La Pantera, Juseph, Cruz Cafunï¿½ï¿½, Bï¿½ï¿½jo, Abhir Hathi",
          "RAYE, 070 Shake",
          "RM",
          "RM, Colde",
          "ROSALï¿½",
          "Radiohead",
          "Raim Laode",
          "Rauw Alejandro",
          "Rauw Alejandro, Bizarrap",
          "Rauw Alejandro, ROSALï¿½",
          "Ray Dalton, Ryan Lewis, Macklemore",
          "Rels B",
          "Residente, Bizarrap",
          "Rex Orange County",
          "Rich The Kid, Matuï¿",
          "Rihanna",
          "Rihanna, Calvin Harris",
          "Riton, Nightcrawlers, Mufasa & Hypeman, Dopamine",
          "Robin Schulz, Oliver Tree",
          "Ruth B.",
          "Ryan Castro",
          "Rï¿½ï¿½ma, Selena G",
          "SALES",
          "SEVENTEEN",
          "SZA",
          "SZA, Doja Cat",
          "SZA, Don Toliver",
          "SZA, Phoebe Bridgers",
          "SZA, Travis Scott",
          "Sabrina Carpenter",
          "Sachin-Jigar, Shadab Faridi, Altamash Faridi, Amitabh Bhattacharya, Varun Jain",
          "Sam Ryder",
          "Sam Smith",
          "Sam Smith, Kim Petras",
          "Schï¿½ï¿½rze, DJ R",
          "Seafret",
          "Sean Paul, Dua Lipa",
          "Sean Paul, Feid",
          "Sebastian Yatra",
          "Sebastian Yatra, Manuel Turizo, Beï¿½ï",
          "Sech, Bad Bunny, Mora",
          "Sech, Mora",
          "Selena Gomez",
          "Semicenk, Doï¿½ï¿½u ",
          "Shae Gill, Ali Sethi",
          "Shakin' Stevens",
          "Shakira",
          "Shakira, Bizarrap",
          "Shakira, Rauw Alejandro",
          "Shawn Mendes",
          "Shawn Mendes, Camila Cabello",
          "Shubh",
          "SiM",
          "Sidhu Moose Wala",
          "Simone Mendes",
          "Skrillex, Flowdan, Fred again..",
          "Sleepy hallow",
          "Sleepy hallow, 347aidan",
          "Sofia Carson",
          "Southstar",
          "Stephanie Beatriz, Diane Guerrero",
          "Stephen Sanchez",
          "Steve Aoki, Tini, La Joaqui",
          "Steve Lacy",
          "Stray Kids",
          "Stromae",
          "Styrx, utku INC, Thezth",
          "Suki Waterhouse",
          "Surf Curse",
          "Swae Lee, Lil Wayne, Offset, Metro Boomin",
          "TAEYANG, Lisa",
          "THE ANXIETY, Willow, Tyler Cole",
          "TOMORROW X TOGETHER",
          "TV Girl",
          "TWICE",
          "Tainy, Bad Bunny",
          "Taiu, Milo j",
          "Tate McRae",
          "Taylor Swift",
          "Taylor Swift, Ice Spice",
          "Taylor Swift, Lana Del Rey",
          "Tears For Fears",
          "The Chainsmokers, Coldplay",
          "The Chainsmokers, Halsey",
          "The Goo Goo Dolls",
          "The Kid Laroi",
          "The Killers",
          "The Neighbourhood",
          "The Police",
          "The Rare Occasions",
          "The Ronettes",
          "The Walters",
          "The Weeknd",
          "The Weeknd, 21 Savage, Metro Boomin",
          "The Weeknd, Daft Punk",
          "The Weeknd, Future",
          "The Weeknd, Gesaffelstein",
          "The Weeknd, Lana Del Rey",
          "The Weeknd, Lil Wayne",
          "The Weeknd, Madonna, Playboi Carti",
          "The Weeknd, Post Malone",
          "The Weeknd, Tyler, The Creator",
          "ThxSoMch",
          "Tini",
          "Tini, L-Gante",
          "Tini, Maria Becerra",
          "Tiï¿½ï¿",
          "Tiï¿½ï¿½sto, Ava",
          "Tiï¿½ï¿½sto, Kar",
          "Tiï¿½ï¿½sto, Tate M",
          "Tony Dize, Bad Bunny",
          "Tory Lanez",
          "Travis Scott, 21 Savage, Metro Boomin",
          "Travis Scott, Metro Boomin",
          "Travis Scott, Young Thug, Metro Boomin",
          "Treyce",
          "Troye Sivan",
          "Trueno, Tiago pzk",
          "Tulus",
          "Twisted, Oliver Tree",
          "Tyga, Doja Cat",
          "Tyler, The Creator",
          "Tyler, The Creator, Kali Uchis",
          "Ugly Dray, Tesla Jnr",
          "V",
          "Vance Joy",
          "Veigh, Bvga Beatz, Supernova Ent, Prod Malax",
          "Victor Cibrian",
          "Vishal-Shekhar, Shilpa Rao, Caralisa Monteiro, Kumaar, Vishal Dadlani, Shekhar Ravjiani",
          "Vundabar",
          "Willow",
          "Wisin & Yandel, ROSALï¿½",
          "WizKid, Toian, Metro Boomin, Don Toliver, Beam",
          "XXXTENTACION",
          "Xamï¿½ï¿½, Gustah, Neo B",
          "YEAT",
          "YOASOBI",
          "Yahritza Y Su Esencia",
          "Yahritza Y Su Esencia, Grupo Frontera",
          "Yandel, Feid",
          "Yng Lvcas",
          "Young Thug, Future, Gunna",
          "Yung Gravy",
          "Yung Lean",
          "Yuridia, Angela Aguilar",
          "Zach Bryan",
          "Zion & Lennox",
          "Zï¿½ï¿½ Fe",
          "Zï¿½ï¿½ Neto & Crist",
          "a-ha",
          "d4vd",
          "dennis, MC Kevin o Chris",
          "girl in red",
          "j-hope",
          "j-hope, J. Cole",
          "sped up 8282",
          "sped up nightcore, ARIZONATEARS, Lil Uzi Vert",
          "teto",
          "Artist"
         ],
         "level": "Artist/Bad Bunny",
         "name": "",
         "parents": [
          "Artist/Eminem, Nate Dogg",
          "Artist/Peggy Gou",
          "Artist/Leah Kate",
          "Artist/Tiï¿½ï¿½sto, Tate M",
          "Artist/Lizzo",
          "Artist/Sleepy hallow",
          "Artist/Mainstreet, Chefin",
          "Artist/Gunna, Lil Baby",
          "Artist/Sidhu Moose Wala",
          "Artist/Nicky Jam, Feid",
          "Artist/The Weeknd",
          "Artist/Feid, Paulo Londra",
          "Artist/Beyoncï¿",
          "Artist/J Balvin, Nio Garcia, Bad Bunny",
          "Artist/Karol G",
          "Artist/Kendrick Lamar, Beyoncï¿",
          "Artist/Natanael Cano, Gabito Ballesteros, Peso Pluma",
          "Artist/LE SSERAFIM",
          "Artist/Junior H, Eden Muï¿½ï",
          "Artist/Lizzo",
          "Artist/Jason Derulo",
          "Artist/Shakira",
          "Artist/Harry Styles",
          "Artist/LF System",
          "Artist/Mr.Kitty",
          "Artist/The Weeknd",
          "Artist/Bad Bunny",
          "Artist/Bad Bunny",
          "Artist/Styrx, utku INC, Thezth",
          "Artist/L7nnon, DJ Biel do Furduncinho, Bianca",
          "Artist/Doja Cat",
          "Artist/Morgan Wallen",
          "Artist/Vundabar",
          "Artist/Labrinth, Zendaya",
          "Artist/J. Cole, Lil Durk",
          "Artist/Taylor Swift",
          "Artist/Future, Lil Uzi Vert, Metro Boomin",
          "Artist/John Legend",
          "Artist/Burna Boy",
          "Artist/A$AP Rocky, Metro Boomin, Roisee",
          "Artist/Buscabulla, Bad Bunny",
          "Artist/Troye Sivan",
          "Artist/Kodak Black, NLE Choppa, Muni Long, JVKE, Jimin",
          "Artist/Miley Cyrus",
          "Artist/Swae Lee, Lil Wayne, Offset, Metro Boomin",
          "Artist/Duki",
          "Artist/Taylor Swift",
          "Artist/Mabel Matiz, Mert Demir",
          "Artist/Arijit Singh, Sachin-Jigar",
          "Artist/Cigarettes After Sex",
          "Artist/Arcangel, Bizarrap",
          "Artist/Kaliii, Kaliii",
          "Artist/Masked Wolf",
          "Artist/Seafret",
          "Artist/NewJeans",
          "Artist/Kendrick Lamar",
          "Artist/Rauw Alejandro, Bizarrap",
          "Artist/Fran C, Polima WestCoast, Nickoog Clk, Pablito Pesadilla",
          "Artist/Rauw Alejandro, ROSALï¿½",
          "Artist/Armani White",
          "Artist/Beyoncï¿",
          "Artist/David Guetta, Anne-Marie, Coi Leray",
          "Artist/Taylor Swift",
          "Artist/Drake",
          "Artist/Steve Lacy",
          "Artist/Mc Vitin Da Igrejinha, MC Tairon, DJ Win",
          "Artist/Camila Cabello, Ed Sheeran",
          "Artist/Luciano, Aitch, Bï¿½",
          "Artist/Tini, L-Gante",
          "Artist/Luciano",
          "Artist/Fuerza Regida, Grupo Frontera",
          "Artist/Lewis Capaldi",
          "Artist/Mï¿½ï¿½ne",
          "Artist/Taylor Swift",
          "Artist/Imagine Dragons",
          "Artist/BYOR, Imanbek",
          "Artist/Vishal-Shekhar, Shilpa Rao, Caralisa Monteiro, Kumaar, Vishal Dadlani, Shekhar Ravjiani",
          "Artist/Wisin & Yandel, ROSALï¿½",
          "Artist/The Weeknd",
          "Artist/Taylor Swift",
          "Artist/Yung Gravy",
          "Artist/Taylor Swift",
          "Artist/ENHYPEN",
          "Artist/Taylor Swift",
          "Artist/ENHYPEN",
          "Artist/SZA",
          "Artist/Lady Gaga",
          "Artist/Israel & Rodolffo, Ana Castela",
          "Artist/Imagine Dragons",
          "Artist/Billie Eilish",
          "Artist/BTS",
          "Artist/Kanye West",
          "Artist/Halsey, BTS",
          "Artist/PinkPantheress",
          "Artist/PinkPantheress, Ice Spice",
          "Artist/Dove Cameron",
          "Artist/Mahmood, Blanco",
          "Artist/Drake, 21 Savage",
          "Artist/Nicki Minaj, Lil Baby",
          "Artist/BTS",
          "Artist/Marshmello, Juice WRLD",
          "Artist/Karol G, Ovy On The Drums",
          "Artist/Feid",
          "Artist/Maria Becerra",
          "Artist/Beyoncï¿",
          "Artist/Lil Baby",
          "Artist/Dr. Dre, 2Pac, Roger",
          "Artist/The Weeknd",
          "Artist/Bad Bunny, Tainy",
          "Artist/Rï¿½ï¿½ma, Selena G",
          "Artist/Ray Dalton, Ryan Lewis, Macklemore",
          "Artist/James Arthur",
          "Artist/MC Caverinha, KayBlack",
          "Artist/MC Ryan SP, Love Funk, Mc Paiva ZS",
          "Artist/Pharrell Williams, Tyler, The Creator, 21 Savage",
          "Artist/Quevedo, La Pantera, Juseph, Cruz Cafunï¿½ï¿½, Bï¿½ï¿½jo, Abhir Hathi",
          "Artist/Ed Sheeran",
          "Artist/Fuerza Regida, Natanael Cano",
          "Artist/Eden Muï¿½ï",
          "Artist/Paulo Londra",
          "Artist/Becky G, Peso Pluma",
          "Artist/Post Malone",
          "Artist/Shubh",
          "Artist/Darlene Love",
          "Artist/V",
          "Artist/Juice WRLD",
          "Artist/Harry Styles",
          "Artist/Drake, 21 Savage",
          "Artist/Kanye West, Alicia Keys, Fivio Foreign",
          "Artist/Feid, Young Miko",
          "Artist/The Chainsmokers, Halsey",
          "Artist/Bad Bunny, Eladio Carrion",
          "Artist/Dua Lipa, Elton John, Pnau",
          "Artist/Quevedo",
          "Artist/Sofia Carson",
          "Artist/Ludwig Goransson, Foudeqush",
          "Artist/SZA",
          "Artist/Rich The Kid, Matuï¿",
          "Artist/GODZZ__-, Zakaria",
          "Artist/Demi Lovato",
          "Artist/Kendrick Lamar",
          "Artist/OneRepublic",
          "Artist/David Guetta, Ella Henderson, Becky Hill",
          "Artist/Radiohead",
          "Artist/The Weeknd, 21 Savage, Metro Boomin",
          "Artist/Kendrick Lamar",
          "Artist/Taylor Swift",
          "Artist/Fifty Fifty",
          "Artist/Fifty Fifty",
          "Artist/sped up 8282",
          "Artist/Tini",
          "Artist/Ed Sheeran",
          "Artist/Rauw Alejandro",
          "Artist/Mc Pedrinho, Pedro Sampaio",
          "Artist/ROSALï¿½",
          "Artist/Tyler, The Creator",
          "Artist/The Neighbourhood",
          "Artist/Bad Bunny, Jhay Cortez",
          "Artist/Dua Lipa",
          "Artist/Ruth B.",
          "Artist/Offset, JID",
          "Artist/Steve Lacy",
          "Artist/The Weeknd",
          "Artist/Harry Styles",
          "Artist/David Kushner",
          "Artist/Nat King Cole",
          "Artist/C. Tangana",
          "Artist/Imagine Dragons",
          "Artist/Chencho Corleone, Rauw Alejandro",
          "Artist/Bad Bunny",
          "Artist/Grupo Marca Registrada, Grupo Frontera",
          "Artist/Joji",
          "Artist/The Weeknd",
          "Artist/Ariana Grande, The Weeknd",
          "Artist/Kendrick Lamar, Blxst, Amanda Reifer",
          "Artist/Sleepy hallow, 347aidan",
          "Artist/Fuerza Regida, Chino Pacas",
          "Artist/NewJeans",
          "Artist/Arctic Monkeys",
          "Artist/Cherish, ACRAZE",
          "Artist/Nicki Minaj, Lil Baby",
          "Artist/Central Cee",
          "Artist/Tiï¿½ï¿½sto, Kar",
          "Artist/Dua Lipa",
          "Artist/David Guetta, Shakira, Black Eyed Peas",
          "Artist/RM, Colde",
          "Artist/Taylor Swift",
          "Artist/The Weeknd",
          "Artist/Bad Bunny",
          "Artist/The Weeknd, Future",
          "Artist/Luude, Colin Hay",
          "Artist/Aerosmith",
          "Artist/Chris Rea",
          "Artist/Jack Harlow",
          "Artist/IVE",
          "Artist/Adele",
          "Artist/Bad Bunny",
          "Artist/Bad Bunny",
          "Artist/Junior H, Peso Pluma",
          "Artist/Feid, Myke Towers, Sky Rompiendo",
          "Artist/Chino Pacas",
          "Artist/Marshmello, Manuel Turizo",
          "Artist/Grupo Marca Registrada, Junior H",
          "Artist/Eslabon Armado, Peso Pluma",
          "Artist/Victor Cibrian",
          "Artist/Feid, Sech, Jhayco",
          "Artist/El Chachito, Junior H",
          "Artist/Taylor Swift",
          "Artist/Taylor Swift",
          "Artist/Imagine Dragons, League of Legends, JID, Arcane",
          "Artist/Imagine Dragons, League of Legends, Arcane",
          "Artist/Bad Bunny",
          "Artist/Lit Killah, Maria Becerra, Tiago pzk, NICKI NICOLE",
          "Artist/Anitta",
          "Artist/Simone Mendes",
          "Artist/Plan B",
          "Artist/RAYE, 070 Shake",
          "Artist/RAYE, 070 Shake",
          "Artist/Marï¿½ï¿½lia Mendonï¿½ï¿½a, Maiara &",
          "Artist/Omar Apollo",
          "Artist/The Police",
          "Artist/NIKI",
          "Artist/Tears For Fears",
          "Artist/Morgan Wallen",
          "Artist/DJ Escobar, MC MENOR SG, MC MENOR HR",
          "Artist/Intense, AP Dhillon, Gurinder Gill",
          "Artist/Ed Sheeran",
          "Artist/SZA",
          "Artist/LE SSERAFIM",
          "Artist/JISOO",
          "Artist/Drake, Travis Scott",
          "Artist/Harry Styles",
          "Artist/SZA",
          "Artist/Luke Combs",
          "Artist/Kendrick Lamar, Sampha",
          "Artist/Feid",
          "Artist/Josï¿½ï¿½ Felic",
          "Artist/James Hype, Miggy Dela Rosa",
          "Artist/Feid",
          "Artist/teto",
          "Artist/Lauren Spencer Smith, Lauren Spencer Smith, Lauren Spencer Smith",
          "Artist/Jack Harlow",
          "Artist/Lauren Spencer Smith",
          "Artist/BTS",
          "Artist/Labrinth",
          "Artist/Lewis Capaldi",
          "Artist/Eminem, Dr. Dre",
          "Artist/Labrinth",
          "Artist/Surf Curse",
          "Artist/Tyga, Doja Cat",
          "Artist/Riton, Nightcrawlers, Mufasa & Hypeman, Dopamine",
          "Artist/Yahritza Y Su Esencia, Grupo Frontera",
          "Artist/Danny Ocean",
          "Artist/Maldy, Karol G",
          "Artist/Duki",
          "Artist/The Weeknd",
          "Artist/Bellakath",
          "Artist/Nengo Flow, Bad Bunny",
          "Artist/Doja Cat",
          "Artist/Pharrell Williams, Nile Rodgers, Daft Punk",
          "Artist/SZA, Phoebe Bridgers",
          "Artist/Yung Lean",
          "Artist/Joji",
          "Artist/Mc Pedrinho, DJ 900",
          "Artist/Harry Styles",
          "Artist/SZA",
          "Artist/SZA",
          "Artist/Suki Waterhouse",
          "Artist/Eminem, Dr. Dre",
          "Artist/Harry Styles",
          "Artist/NF",
          "Artist/Kendrick Lamar",
          "Artist/Agust D",
          "Artist/John Lennon, The Harlem Community Choir, The Plastic Ono Band, Yoko Ono",
          "Artist/Tulus",
          "Artist/Mac DeMarco",
          "Artist/Kanye West",
          "Artist/Conan Gray",
          "Artist/Niall Horan",
          "Artist/The Weeknd, Tyler, The Creator",
          "Artist/d4vd",
          "Artist/Ozuna, Feid",
          "Artist/Baby Tate",
          "Artist/Taylor Swift",
          "Artist/Lady Gaga",
          "Artist/Michael Bublï¿",
          "Artist/Justin Bieber, Don Toliver",
          "Artist/XXXTENTACION",
          "Artist/Kanye West, Lil Durk, Cardi B",
          "Artist/Panic! At The Disco",
          "Artist/The Weeknd",
          "Artist/Dean Lewis",
          "Artist/Muni Long",
          "Artist/James Blake, Metro Boomin",
          "Artist/NewJeans",
          "Artist/IVE",
          "Artist/Emmy Meli",
          "Artist/Taylor Swift",
          "Artist/SZA",
          "Artist/The Weeknd, Lil Wayne",
          "Artist/Kanii, PR1ISVX",
          "Artist/Post Malone, Doja Cat",
          "Artist/The Walters",
          "Artist/Ugly Dray, Tesla Jnr",
          "Artist/Mï¿½ï¿½ne",
          "Artist/The Weeknd, Gesaffelstein",
          "Artist/Morgan Wallen",
          "Artist/Bebe Rexha, David Guetta",
          "Artist/Sam Smith",
          "Artist/Blackbear, BoyWithUke",
          "Artist/Mae Stephens",
          "Artist/Fuerza Regida, Peso Pluma",
          "Artist/50 Cent",
          "Artist/Lil Tjay",
          "Artist/Linkin Park",
          "Artist/Benson Boone",
          "Artist/Jaymes Young",
          "Artist/The Goo Goo Dolls",
          "Artist/The Weeknd",
          "Artist/Shawn Mendes",
          "Artist/Michael Bublï¿",
          "Artist/Perry Como, The Fontane Sisters, Mitchell Ayres & His Orchestra",
          "Artist/Andy Williams",
          "Artist/Luis R Conriquez, La Adictiva",
          "Artist/Arijit Singh, Vishal Dadlani, Sukriti Kakar, Vishal-Shekhar, Shekhar Ravjiani, Kumaar",
          "Artist/Frank Sinatra",
          "Artist/Ryan Castro",
          "Artist/Bruno Mars",
          "Artist/Lil Uzi Vert",
          "Artist/Kenshi Yonezu",
          "Artist/Oxlade",
          "Artist/Kaifi Khalil",
          "Artist/Taylor Swift",
          "Artist/Taylor Swift, Ice Spice",
          "Artist/Harry Styles",
          "Artist/SZA",
          "Artist/SZA, Doja Cat",
          "Artist/Drake, Project Pat, 21 Savage",
          "Artist/Raim Laode",
          "Artist/J Balvin, Bad Bunny",
          "Artist/Feid, Mora",
          "Artist/Gabito Ballesteros, Junior H, Peso Pluma",
          "Artist/Jasiel Nuï¿½ï¿½ez, Peso P",
          "Artist/Myke Towers",
          "Artist/Central Cee",
          "Artist/ROSALï¿½",
          "Artist/Brray, Rauw Alejandro, Lyanno",
          "Artist/IVE",
          "Artist/Junior H, Peso Pluma",
          "Artist/Manuel Turizo",
          "Artist/Yng Lvcas",
          "Artist/Peso Pluma, Yng Lvcas",
          "Artist/Tony Dize, Bad Bunny",
          "Artist/Arcangel, Bad Bunny",
          "Artist/Nengo Flow, Anuel Aa, Chris Jedi, Chencho Corleone",
          "Artist/Anitta, Tini, Becky G",
          "Artist/Daddy Yankee, Bad Bunny",
          "Artist/Bad Bunny",
          "Artist/Feid",
          "Artist/BLESSD, Peso Pluma",
          "Artist/Burna Boy",
          "Artist/Morgan Wallen",
          "Artist/Harry Styles",
          "Artist/Taylor Swift",
          "Artist/Schï¿½ï¿½rze, DJ R",
          "Artist/Marshmello, Jonas Brothers",
          "Artist/Bruno Mars, Anderson .Paak, Silk Sonic",
          "Artist/Charlie Puth, BTS, Jung Kook",
          "Artist/Dean Martin",
          "Artist/Frank Sinatra, B. Swanson Quartet",
          "Artist/Alec Benjamin",
          "Artist/Dua Lipa",
          "Artist/Dua Lipa, DaBaby",
          "Artist/Anuel Aa, Jhay Cortez",
          "Artist/Marï¿½ï¿½lia Mendo",
          "Artist/Rihanna",
          "Artist/Charlie Puth",
          "Artist/Jimin",
          "Artist/Jimin",
          "Artist/Halsey, Suga",
          "Artist/Freddie Dredd",
          "Artist/WizKid, Toian, Metro Boomin, Don Toliver, Beam",
          "Artist/Harry Styles",
          "Artist/Julieta Venegas, Bad Bunny, Tainy",
          "Artist/Bruno Mars",
          "Artist/Eminem",
          "Artist/Frank Ocean",
          "Artist/The Weeknd, Gesaffelstein",
          "Artist/The Kid Laroi",
          "Artist/Edison Lighthouse",
          "Artist/SZA",
          "Artist/Harry Styles",
          "Artist/Justin Bieber",
          "Artist/Taylor Swift",
          "Artist/TV Girl",
          "Artist/Treyce",
          "Artist/Juice WRLD",
          "Artist/Stromae",
          "Artist/Karol G, Becky G",
          "Artist/Stray Kids",
          "Artist/Migrantes, LiL CaKe, Nico Valdi",
          "Artist/INTERWORLD",
          "Artist/Elley Duhï¿",
          "Artist/Tainy, Bad Bunny",
          "Artist/Ayparia, unxbected",
          "Artist/j-hope",
          "Artist/King",
          "Artist/Meghan Trainor",
          "Artist/Drake, 21 Savage",
          "Artist/Jain",
          "Artist/Kenia OS",
          "Artist/Zï¿½ï¿½ Fe",
          "Artist/Xamï¿½ï¿½, Gustah, Neo B",
          "Artist/Quevedo, Jhayco",
          "Artist/Morgan Wallen, Eric Church",
          "Artist/Duki, NICKI NICOLE, Cris Mj, Standly, Stars Music Chile",
          "Artist/Taylor Swift",
          "Artist/Ghost",
          "Artist/Mambo Kingz, DJ Luian, Anuel Aa",
          "Artist/Drake",
          "Artist/Metallica",
          "Artist/Taylor Swift",
          "Artist/Harry Styles",
          "Artist/Bad Bunny",
          "Artist/Chencho Corleone, Bad Bunny",
          "Artist/Childish Gambino",
          "Artist/Justin Quiles, Lenny Tavï¿½ï¿½rez, BL",
          "Artist/THE ANXIETY, Willow, Tyler Cole",
          "Artist/Mambo Kingz, DJ Luian, Anuel Aa",
          "Artist/Maroon 5",
          "Artist/Shakin' Stevens",
          "Artist/Natanael Cano",
          "Artist/Taylor Swift",
          "Artist/Calvin Harris, Ellie Goulding",
          "Artist/Kendrick Lamar",
          "Artist/David Kushner",
          "Artist/Robin Schulz, Oliver Tree",
          "Artist/Southstar",
          "Artist/Justin Bieber",
          "Artist/Tini, Maria Becerra",
          "Artist/Eminem",
          "Artist/Aitana, zzoilo",
          "Artist/Kendrick Lamar, Jay Rock",
          "Artist/YEAT",
          "Artist/Kali Uchis",
          "Artist/Bad Bunny",
          "Artist/Kendrick Lamar, Beth Gibbons",
          "Artist/The Killers",
          "Artist/Kendrick Lamar, Tanna Leone",
          "Artist/Ryan Castro",
          "Artist/Kordhell",
          "Artist/Harry Styles",
          "Artist/Steve Aoki, Tini, La Joaqui",
          "Artist/Selena Gomez",
          "Artist/Coldplay, BTS",
          "Artist/Kendrick Lamar",
          "Artist/Tyler, The Creator",
          "Artist/Jack Harlow",
          "Artist/Labrinth",
          "Artist/Bad Bunny",
          "Artist/NewJeans",
          "Artist/Travis Scott, 21 Savage, Metro Boomin",
          "Artist/Sean Paul, Feid",
          "Artist/Sean Paul, Dua Lipa",
          "Artist/J. Cole",
          "Artist/SZA",
          "Artist/Jordan Fisher, Josh Levi, Finneas O'Connell, 4*TOWN (From Disney and Pixarï¿½ï¿½ï¿½s Turning Red), Topher Ngo, Grayson Vill",
          "Artist/Sabrina Carpenter",
          "Artist/Feid",
          "Artist/Ozuna, Tiago pzk",
          "Artist/Ana Castela, AgroPlay",
          "Artist/Chris Brown, Rvssian, Rauw Alejandro",
          "Artist/SZA",
          "Artist/The Rare Occasions",
          "Artist/Mc Livinho, DJ Matt D",
          "Artist/Veigh, Bvga Beatz, Supernova Ent, Prod Malax",
          "Artist/Linkin Park",
          "Artist/Em Beihold",
          "Artist/(G)I-DLE",
          "Artist/NMIXX",
          "Artist/NewJeans",
          "Artist/Charli XCX, Jax Jones, Joel Corry, Saweetie",
          "Artist/Abhijay Sharma, Riar Saab",
          "Artist/Adele",
          "Artist/Zï¿½ï¿½ Neto & Crist",
          "Artist/Bomba Estï¿½ï¿½reo, Bad B",
          "Artist/Lasso",
          "Artist/Drake, 21 Savage",
          "Artist/John Legend, Metro Boomin",
          "Artist/Drake, WizKid, Kyla",
          "Artist/The Weeknd, Post Malone",
          "Artist/Morgan Wallen",
          "Artist/Paloma Faith",
          "Artist/SZA, Travis Scott",
          "Artist/Bad Bunny, The Marï¿½ï",
          "Artist/Post Malone",
          "Artist/Karol G, Quevedo",
          "Artist/Myke Towers, Quevedo",
          "Artist/Feid, Mora, Saiko, Quevedo",
          "Artist/Nayeon",
          "Artist/Natanael Cano, Peso Pluma",
          "Artist/Karol G",
          "Artist/Future",
          "Artist/Feid, Alejo, Robi",
          "Artist/Bad Bunny, Rauw Alejandro",
          "Artist/Shae Gill, Ali Sethi",
          "Artist/Musical Youth",
          "Artist/Jack Black",
          "Artist/Libianca",
          "Artist/IU, Agust D",
          "Artist/Ed Sheeran",
          "Artist/BTS",
          "Artist/Ed Sheeran, Fireboy DML",
          "Artist/Bizarrap, Peso Pluma",
          "Artist/The Weeknd",
          "Artist/Arijit Singh, Sachin-Jigar, Amitabha Bhattacharya",
          "Artist/Ed Sheeran",
          "Artist/Frank Ocean",
          "Artist/Melody, Ana Castela, Dj Chris No Beat",
          "Artist/Semicenk, Doï¿½ï¿½u ",
          "Artist/Coi Leray",
          "Artist/Lil Yachty",
          "Artist/ENHYPEN",
          "Artist/SALES",
          "Artist/The Weeknd, Madonna, Playboi Carti",
          "Artist/Calvin Harris, Dua Lipa, Young Thug",
          "Artist/Kanye West",
          "Artist/Carin Leon",
          "Artist/Nicki Minaj, Ice Spice",
          "Artist/Don Toliver, Future, Justin Bieber",
          "Artist/Drake, 21 Savage",
          "Artist/Alvaro Diaz, Rauw Alejandro",
          "Artist/Feid",
          "Artist/Quevedo",
          "Artist/Kendrick Lamar, Ghostface Killah, Summer Walker",
          "Artist/Drake, Travis Scott, 21 Savage",
          "Artist/Carin Leon, Grupo Frontera",
          "Artist/(G)I-DLE",
          "Artist/Taylor Swift",
          "Artist/Bizarrap, Quevedo",
          "Artist/Yuridia, Angela Aguilar",
          "Artist/J Balvin, Maria Becerra",
          "Artist/Polo G",
          "Artist/Feid",
          "Artist/Daddy Yankee",
          "Artist/Lana Del Rey",
          "Artist/Travis Scott, Metro Boomin",
          "Artist/Taiu, Milo j",
          "Artist/Rauw Alejandro, Bizarrap",
          "Artist/Nicki Minaj",
          "Artist/The Weeknd",
          "Artist/Residente, Bizarrap",
          "Artist/XXXTENTACION",
          "Artist/Kendrick Lamar",
          "Artist/Drake, 21 Savage",
          "Artist/Kendrick Lamar",
          "Artist/Lil Baby",
          "Artist/Vance Joy",
          "Artist/Adele",
          "Artist/d4vd",
          "Artist/Jasiel Nuï¿½ï¿½ez, Peso P",
          "Artist/Skrillex, Flowdan, Fred again..",
          "Artist/BTS",
          "Artist/Chuck Berry",
          "Artist/Kate Bush",
          "Artist/Troye Sivan",
          "Artist/Stray Kids",
          "Artist/Fuerza Regida",
          "Artist/Joji",
          "Artist/Tyler, The Creator",
          "Artist/SZA",
          "Artist/Sam Ryder",
          "Artist/ThxSoMch",
          "Artist/Lil Nas X",
          "Artist/Justin Bieber, The Kid Laroi",
          "Artist/Drake, DJ Khaled, Lil Baby",
          "Artist/Mï¿½ï¿½ne",
          "Artist/Kali Uchis, Amaarae, Moliy",
          "Artist/Trueno, Tiago pzk",
          "Artist/Kevin Kaarl",
          "Artist/Kendrick Lamar, Sam Dew, Baby Keem",
          "Artist/Kendrick Lamar",
          "Artist/Lana Del Rey",
          "Artist/James Arthur",
          "Artist/Arcangel, De La Ghetto, Justin Quiles, Lenny Tavï¿½ï¿½rez, Sech, Dalex, Dimelo Flow, Rich Music",
          "Artist/Drake",
          "Artist/Tyler, The Creator, Kali Uchis",
          "Artist/SZA",
          "Artist/Metro Boomin, Coi Leray",
          "Artist/PnB Rock",
          "Artist/MC Xenon, Os Gemeos da Putaria",
          "Artist/Adele",
          "Artist/Israel & Rodolffo, Mari Fernandez",
          "Artist/Latto, Jung Kook",
          "Artist/Beach Weather",
          "Artist/Shawn Mendes, Camila Cabello",
          "Artist/Taylor Swift",
          "Artist/Shakira, Bizarrap",
          "Artist/Lady Gaga, Bradley Cooper",
          "Artist/Ed Sheeran",
          "Artist/SZA",
          "Artist/TAEYANG, Lisa",
          "Artist/Cartel De Santa, La Kelly",
          "Artist/Hotel Ugly",
          "Artist/Hotel Ugly",
          "Artist/De La Ghetto, Duki, Quevedo",
          "Artist/Feid",
          "Artist/Mahalini",
          "Artist/Ed Sheeran, J Balvin",
          "Artist/Kendrick Lamar, Kodak Black",
          "Artist/Ovy On The Drums, Quevedo",
          "Artist/Playboi Carti",
          "Artist/The Ronettes",
          "Artist/Chanel",
          "Artist/NLE Choppa",
          "Artist/Nirvana",
          "Artist/Bruno Mars, Anderson .Paak, Silk Sonic",
          "Artist/SZA",
          "Artist/SZA",
          "Artist/Taylor Swift, Lana Del Rey",
          "Artist/Lana Del Rey, Taylor Swift",
          "Artist/Halsey",
          "Artist/Maluma",
          "Artist/The Neighbourhood",
          "Artist/Nirvana",
          "Artist/The Chainsmokers, Coldplay",
          "Artist/Zach Bryan",
          "Artist/Keane",
          "Artist/Yahritza Y Su Esencia",
          "Artist/Coldplay",
          "Artist/Drake, 21 Savage",
          "Artist/Dave, Central Cee",
          "Artist/Eminem, Dido",
          "Artist/Lil Durk, Morgan Wallen",
          "Artist/The Weeknd, Daft Punk",
          "Artist/The Weeknd, Lana Del Rey",
          "Artist/Dave",
          "Artist/The Weeknd",
          "Artist/Steve Lacy",
          "Artist/Jung Kook",
          "Artist/Calvin Harris, Halsey, Pharrell Williams, Justin Timberlake",
          "Artist/KALUSH",
          "Artist/Drake",
          "Artist/Dr. Dre, Snoop Dogg",
          "Artist/Labrinth",
          "Artist/BIGBANG",
          "Artist/Jung Kook",
          "Artist/Doja Cat",
          "Artist/Taylor Swift",
          "Artist/TOMORROW X TOGETHER",
          "Artist/Lana Del Rey",
          "Artist/Post Malone, Swae Lee",
          "Artist/Nicky Youre, Dazy",
          "Artist/SEVENTEEN",
          "Artist/Nicki Minaj",
          "Artist/Kodak Black",
          "Artist/NewJeans",
          "Artist/Future, Chris Brown, Metro Boomin",
          "Artist/Eminem, Dina Rae",
          "Artist/Miguel",
          "Artist/Jessica Darrow",
          "Artist/Guns N' Roses",
          "Artist/Dua Lipa, Megan Thee Stallion",
          "Artist/Chase Atlantic",
          "Artist/Anuel Aa, Myke Towers, Jhay Cortez",
          "Artist/Lil Nas X",
          "Artist/Mï¿½ï¿½ne",
          "Artist/Rex Orange County",
          "Artist/Jnr Choi",
          "Artist/Karol G, Shakira",
          "Artist/Fuerza Regida",
          "Artist/P!nk",
          "Artist/Peso Pluma, Grupo Frontera",
          "Artist/Sech, Mora",
          "Artist/Billie Eilish",
          "Artist/Sebastian Yatra",
          "Artist/Anggi Marito",
          "Artist/Hozier",
          "Artist/The Weeknd",
          "Artist/a-ha",
          "Artist/BTS",
          "Artist/YEAT",
          "Artist/TWICE",
          "Artist/Bruno Mars",
          "Artist/Bad Bunny, Jhay Cortez",
          "Artist/Loreen",
          "Artist/Shakira, Rauw Alejandro",
          "Artist/Sachin-Jigar, Shadab Faridi, Altamash Faridi, Amitabh Bhattacharya, Varun Jain",
          "Artist/PSY, Suga",
          "Artist/Charlie Puth",
          "Artist/Jin",
          "Artist/Tiï¿½ï¿",
          "Artist/Nat King Cole",
          "Artist/Tory Lanez",
          "Artist/Olga Merediz, Stephanie Beatriz, Encanto - Cast",
          "Artist/TWICE",
          "Artist/Taylor Swift",
          "Artist/Kendrick Lamar",
          "Artist/Tiï¿½ï¿½sto, Ava",
          "Artist/Dr. Dre, Snoop Dogg",
          "Artist/Lord Huron",
          "Artist/Avicii",
          "Artist/Eminem",
          "Artist/SiM",
          "Artist/Coldplay",
          "Artist/Shawn Mendes",
          "Artist/Ed Sheeran",
          "Artist/Morgan Wallen",
          "Artist/Taylor Swift",
          "Artist/New West",
          "Artist/Morgan Wallen",
          "Artist/The Kid Laroi",
          "Artist/Prezioso, Gabry Ponte, LUM!X",
          "Artist/Bizarrap, Tiago pzk",
          "Artist/Bad Bunny",
          "Artist/Rauw Alejandro",
          "Artist/AnnenMayKantereit, Giant Rooks",
          "Artist/SZA",
          "Artist/Future, Metro Boomin, Don Toliver",
          "Artist/Travis Scott, Young Thug, Metro Boomin",
          "Artist/Kanye West, XXXTENTACION",
          "Artist/Dj LK da Escï¿½ï¿½cia, Tchakabum, mc jhenny, M",
          "Artist/BLACKPINK",
          "Artist/dennis, MC Kevin o Chris",
          "Artist/Polima WestCoast, Pailita",
          "Artist/De La Ghetto, Feid, Polima WestCoast, Paloma Mami, Pailita",
          "Artist/Nile Rodgers, LE SSERAFIM",
          "Artist/Bad Bunny",
          "Artist/Big One, FMK, Ke personajes",
          "Artist/Bad Bunny",
          "Artist/Cris Mj",
          "Artist/Kelly Clarkson",
          "Artist/Sam Smith, Kim Petras",
          "Artist/Kendrick Lamar",
          "Artist/Stephen Sanchez",
          "Artist/Em Beihold, Stephen Sanchez",
          "Artist/SZA, Don Toliver",
          "Artist/Sebastian Yatra, Manuel Turizo, Beï¿½ï",
          "Artist/Melanie Martinez",
          "Artist/Marï¿½ï¿½lia Mendonï¿½ï¿½a, George Henrique &",
          "Artist/Matuï¿½ï¿½, Wiu, ",
          "Artist/Doja Cat",
          "Artist/Taylor Swift",
          "Artist/Bizarrap, Villano Antillano",
          "Artist/Coldplay",
          "Artist/Sech, Bad Bunny, Mora",
          "Artist/Aventura, Bad Bunny",
          "Artist/Drake, Future, Tems",
          "Artist/Quevedo",
          "Artist/Bad Bunny",
          "Artist/Twisted, Oliver Tree",
          "Artist/Willow",
          "Artist/Avicii",
          "Artist/sped up nightcore, ARIZONATEARS, Lil Uzi Vert",
          "Artist/Drake, Future, Young Thug",
          "Artist/Kendrick Lamar, Taylour Paige",
          "Artist/Rihanna, Calvin Harris",
          "Artist/Stephanie Beatriz, Diane Guerrero",
          "Artist/Doechii",
          "Artist/Labrinth",
          "Artist/Shawn Mendes",
          "Artist/Lost Frequencies, Calum Scott",
          "Artist/MNEK, Jax Jones",
          "Artist/Bing Crosby, John Scott Trotter & His Orchestra, Ken Darby Singers",
          "Artist/Arctic Monkeys",
          "Artist/RM",
          "Artist/HA SUNG WOON, Jimin",
          "Artist/Eminem",
          "Artist/Paul McCartney",
          "Artist/Kendrick Lamar",
          "Artist/Future",
          "Artist/Taylor Swift",
          "Artist/Karol G, Romeo Santos",
          "Artist/Daddy Yankee, Bad Bunny",
          "Artist/Yandel, Feid",
          "Artist/Christian Nodal",
          "Artist/Yandel, Feid",
          "Artist/Chris Molitor",
          "Artist/BTS",
          "Artist/Zion & Lennox",
          "Artist/Bad Bunny",
          "Artist/Taylor Swift",
          "Artist/Gwen Stefani, Blake Shelton",
          "Artist/Morgan Wallen",
          "Artist/Doja Cat, The Weeknd",
          "Artist/Taylor Swift",
          "Artist/Jessi",
          "Artist/Leo Santana",
          "Artist/Taylor Swift",
          "Artist/Lizzy McAlpine",
          "Artist/Rels B",
          "Artist/Olivia Rodrigo",
          "Artist/Nessa Barrett",
          "Artist/Kendrick Lamar, Baby Keem",
          "Artist/Olivia Rodrigo",
          "Artist/Gunna",
          "Artist/JVKE",
          "Artist/Olivia Rodrigo",
          "Artist/Olivia Rodrigo",
          "Artist/Billie Eilish, Khalid",
          "Artist/j-hope, J. Cole",
          "Artist/Camila Cabello, Willow",
          "Artist/Young Thug, Future, Gunna",
          "Artist/Luï¿½ï¿½sa Sonza, MC Frog, Dj Gabriel do Borel, Davi K",
          "Artist/Tate McRae",
          "Artist/JVKE",
          "Artist/21 Savage, Gunna",
          "Artist/Bad Bunny, Grupo Frontera",
          "Artist/Olivia Rodrigo",
          "Artist/girl in red",
          "Artist/Tate McRae",
          "Artist/Morgan Wallen",
          "Artist/YOASOBI",
          "Artist/Fujii Kaze",
          "Artist",
          "Artist",
          "Artist",
          "Artist",
          "Artist",
          "Artist",
          "Artist",
          "Artist",
          "Artist",
          "Artist",
          "Artist",
          "Artist",
          "Artist",
          "Artist",
          "Artist",
          "Artist",
          "Artist",
          "Artist",
          "Artist",
          "Artist",
          "Artist",
          "Artist",
          "Artist",
          "Artist",
          "Artist",
          "Artist",
          "Artist",
          "Artist",
          "Artist",
          "Artist",
          "Artist",
          "Artist",
          "Artist",
          "Artist",
          "Artist",
          "Artist",
          "Artist",
          "Artist",
          "Artist",
          "Artist",
          "Artist",
          "Artist",
          "Artist",
          "Artist",
          "Artist",
          "Artist",
          "Artist",
          "Artist",
          "Artist",
          "Artist",
          "Artist",
          "Artist",
          "Artist",
          "Artist",
          "Artist",
          "Artist",
          "Artist",
          "Artist",
          "Artist",
          "Artist",
          "Artist",
          "Artist",
          "Artist",
          "Artist",
          "Artist",
          "Artist",
          "Artist",
          "Artist",
          "Artist",
          "Artist",
          "Artist",
          "Artist",
          "Artist",
          "Artist",
          "Artist",
          "Artist",
          "Artist",
          "Artist",
          "Artist",
          "Artist",
          "Artist",
          "Artist",
          "Artist",
          "Artist",
          "Artist",
          "Artist",
          "Artist",
          "Artist",
          "Artist",
          "Artist",
          "Artist",
          "Artist",
          "Artist",
          "Artist",
          "Artist",
          "Artist",
          "Artist",
          "Artist",
          "Artist",
          "Artist",
          "Artist",
          "Artist",
          "Artist",
          "Artist",
          "Artist",
          "Artist",
          "Artist",
          "Artist",
          "Artist",
          "Artist",
          "Artist",
          "Artist",
          "Artist",
          "Artist",
          "Artist",
          "Artist",
          "Artist",
          "Artist",
          "Artist",
          "Artist",
          "Artist",
          "Artist",
          "Artist",
          "Artist",
          "Artist",
          "Artist",
          "Artist",
          "Artist",
          "Artist",
          "Artist",
          "Artist",
          "Artist",
          "Artist",
          "Artist",
          "Artist",
          "Artist",
          "Artist",
          "Artist",
          "Artist",
          "Artist",
          "Artist",
          "Artist",
          "Artist",
          "Artist",
          "Artist",
          "Artist",
          "Artist",
          "Artist",
          "Artist",
          "Artist",
          "Artist",
          "Artist",
          "Artist",
          "Artist",
          "Artist",
          "Artist",
          "Artist",
          "Artist",
          "Artist",
          "Artist",
          "Artist",
          "Artist",
          "Artist",
          "Artist",
          "Artist",
          "Artist",
          "Artist",
          "Artist",
          "Artist",
          "Artist",
          "Artist",
          "Artist",
          "Artist",
          "Artist",
          "Artist",
          "Artist",
          "Artist",
          "Artist",
          "Artist",
          "Artist",
          "Artist",
          "Artist",
          "Artist",
          "Artist",
          "Artist",
          "Artist",
          "Artist",
          "Artist",
          "Artist",
          "Artist",
          "Artist",
          "Artist",
          "Artist",
          "Artist",
          "Artist",
          "Artist",
          "Artist",
          "Artist",
          "Artist",
          "Artist",
          "Artist",
          "Artist",
          "Artist",
          "Artist",
          "Artist",
          "Artist",
          "Artist",
          "Artist",
          "Artist",
          "Artist",
          "Artist",
          "Artist",
          "Artist",
          "Artist",
          "Artist",
          "Artist",
          "Artist",
          "Artist",
          "Artist",
          "Artist",
          "Artist",
          "Artist",
          "Artist",
          "Artist",
          "Artist",
          "Artist",
          "Artist",
          "Artist",
          "Artist",
          "Artist",
          "Artist",
          "Artist",
          "Artist",
          "Artist",
          "Artist",
          "Artist",
          "Artist",
          "Artist",
          "Artist",
          "Artist",
          "Artist",
          "Artist",
          "Artist",
          "Artist",
          "Artist",
          "Artist",
          "Artist",
          "Artist",
          "Artist",
          "Artist",
          "Artist",
          "Artist",
          "Artist",
          "Artist",
          "Artist",
          "Artist",
          "Artist",
          "Artist",
          "Artist",
          "Artist",
          "Artist",
          "Artist",
          "Artist",
          "Artist",
          "Artist",
          "Artist",
          "Artist",
          "Artist",
          "Artist",
          "Artist",
          "Artist",
          "Artist",
          "Artist",
          "Artist",
          "Artist",
          "Artist",
          "Artist",
          "Artist",
          "Artist",
          "Artist",
          "Artist",
          "Artist",
          "Artist",
          "Artist",
          "Artist",
          "Artist",
          "Artist",
          "Artist",
          "Artist",
          "Artist",
          "Artist",
          "Artist",
          "Artist",
          "Artist",
          "Artist",
          "Artist",
          "Artist",
          "Artist",
          "Artist",
          "Artist",
          "Artist",
          "Artist",
          "Artist",
          "Artist",
          "Artist",
          "Artist",
          "Artist",
          "Artist",
          "Artist",
          "Artist",
          "Artist",
          "Artist",
          "Artist",
          "Artist",
          "Artist",
          "Artist",
          "Artist",
          "Artist",
          "Artist",
          "Artist",
          "Artist",
          "Artist",
          "Artist",
          "Artist",
          "Artist",
          "Artist",
          "Artist",
          "Artist",
          "Artist",
          "Artist",
          "Artist",
          "Artist",
          "Artist",
          "Artist",
          "Artist",
          "Artist",
          "Artist",
          "Artist",
          "Artist",
          "Artist",
          "Artist",
          "Artist",
          "Artist",
          "Artist",
          "Artist",
          "Artist",
          "Artist",
          "Artist",
          "Artist",
          "Artist",
          "Artist",
          "Artist",
          "Artist",
          "Artist",
          "Artist",
          "Artist",
          "Artist",
          "Artist",
          "Artist",
          "Artist",
          "Artist",
          "Artist",
          "Artist",
          "Artist",
          "Artist",
          "Artist",
          "Artist",
          "Artist",
          "Artist",
          "Artist",
          "Artist",
          "Artist",
          "Artist",
          "Artist",
          "Artist",
          "Artist",
          "Artist",
          "Artist",
          "Artist",
          "Artist",
          "Artist",
          "Artist",
          "Artist",
          "Artist",
          "Artist",
          "Artist",
          "Artist",
          "Artist",
          "Artist",
          "Artist",
          "Artist",
          "Artist",
          "Artist",
          "Artist",
          "Artist",
          "Artist",
          "Artist",
          "Artist",
          "Artist",
          "Artist",
          "Artist",
          "Artist",
          "Artist",
          "Artist",
          "Artist",
          "Artist",
          "Artist",
          "Artist",
          "Artist",
          "Artist",
          "Artist",
          "Artist",
          "Artist",
          "Artist",
          "Artist",
          "Artist",
          "Artist",
          "Artist",
          "Artist",
          "Artist",
          "Artist",
          "Artist",
          "Artist",
          "Artist",
          "Artist",
          "Artist",
          "Artist",
          "Artist",
          "Artist",
          "Artist",
          "Artist",
          "Artist",
          "Artist",
          "Artist",
          "Artist",
          "Artist",
          "Artist",
          "Artist",
          "Artist",
          "Artist",
          "Artist",
          "Artist",
          "Artist",
          "Artist",
          "Artist",
          "Artist",
          "Artist",
          "Artist",
          "Artist",
          "Artist",
          "Artist",
          "Artist",
          "Artist",
          "Artist",
          "Artist",
          "Artist",
          "Artist",
          "Artist",
          "Artist",
          "Artist",
          "Artist",
          "Artist",
          "Artist",
          "Artist",
          "Artist",
          "Artist",
          "Artist",
          "Artist",
          "Artist",
          "Artist",
          "Artist",
          "Artist",
          "Artist",
          "Artist",
          "Artist",
          "Artist",
          "Artist",
          "Artist",
          "Artist",
          "Artist",
          "Artist",
          "Artist",
          "Artist",
          "Artist",
          "Artist",
          "Artist",
          "Artist",
          "Artist",
          "Artist",
          "Artist",
          "Artist",
          "Artist",
          "Artist",
          "Artist",
          "Artist",
          "Artist",
          "Artist",
          "Artist",
          "Artist",
          "Artist",
          "Artist",
          "Artist",
          "Artist",
          "Artist",
          "Artist",
          "Artist",
          "Artist",
          "Artist",
          "Artist",
          "Artist",
          "Artist",
          "Artist",
          "Artist",
          "Artist",
          "Artist",
          "Artist",
          "Artist",
          "Artist",
          "Artist",
          "Artist",
          "Artist",
          "Artist",
          "Artist",
          "Artist",
          "Artist",
          "Artist",
          "Artist",
          "Artist",
          "Artist",
          "Artist",
          "Artist",
          "Artist",
          "Artist",
          "Artist",
          "Artist",
          "Artist",
          "Artist",
          "Artist",
          "Artist",
          "Artist",
          "Artist",
          "Artist",
          "Artist",
          "Artist",
          "Artist",
          "Artist",
          "Artist",
          "Artist",
          "Artist",
          "Artist",
          "Artist",
          "Artist",
          "Artist",
          "Artist",
          "Artist",
          "Artist",
          "Artist",
          "Artist",
          "Artist",
          "Artist",
          "Artist",
          "Artist",
          "Artist",
          "Artist",
          "Artist",
          "Artist",
          "Artist",
          "Artist",
          "Artist",
          "Artist",
          "Artist",
          ""
         ],
         "root": {
          "color": "powderblue"
         },
         "type": "treemap",
         "values": [
          1695712020,
          57876440,
          185550869,
          325592432,
          247689123,
          624515457,
          143139338,
          54937991,
          183273246,
          57945987,
          41924466,
          73513683,
          171788484,
          528544703,
          153372011,
          57089066,
          463564958,
          301051721,
          89933133,
          1447788946,
          363467642,
          123124076,
          1439191367,
          244790012,
          646886885,
          698086140,
          246127838,
          283359161,
          90598517,
          176103902,
          499710590,
          88791109,
          370068639,
          426204830,
          144565150,
          185240616,
          37126685,
          2086124197,
          96007391,
          94186466,
          344055883,
          408843328,
          133753727,
          570515054,
          86773632,
          157136970,
          999748277,
          136689549,
          139836056,
          841749534,
          100409613,
          113509496,
          1138474110,
          571386359,
          264717480,
          37778188,
          54266102,
          159240673,
          357925728,
          277132266,
          354614964,
          177740666,
          39228929,
          93367537,
          822633917,
          129314708,
          756907987,
          146223492,
          200972675,
          160035717,
          367316268,
          1608045237,
          1367810478,
          328207708,
          2594040133,
          383835984,
          140187018,
          309483971,
          101114984,
          30343206,
          221752937,
          121871870,
          76767396,
          1355959075,
          77337771,
          163284000,
          372476382,
          263453310,
          838079900,
          777765388,
          79095270,
          703301727,
          1065580332,
          156338624,
          156338624,
          496311364,
          135079152,
          106249219,
          64714573,
          1143647827,
          84697729,
          294352144,
          345031710,
          43857627,
          595900742,
          85559365,
          579395142,
          1449799467,
          1304313953,
          899183384,
          1953533826,
          265882712,
          71573339,
          187701588,
          136676504,
          245400167,
          176474912,
          288101651,
          299648208,
          89566512,
          161460990,
          172825906,
          47956378,
          242767149,
          317622165,
          185408548,
          189236868,
          141720999,
          107255472,
          335222234,
          2591224264,
          250305248,
          1605224506,
          58149378,
          97610446,
          71095708,
          56870689,
          77233241,
          1180896317,
          677389855,
          126191104,
          2011464183,
          286739476,
          1271293243,
          843957510,
          42485571,
          800840817,
          139681964,
          496795686,
          103762518,
          217672943,
          39893489,
          465959382,
          208166039,
          782369383,
          80758350,
          1127468248,
          1763363713,
          127408954,
          1116995633,
          24975653,
          920045682,
          53933526,
          187703102,
          387570742,
          127027715,
          339473453,
          1840364617,
          809306935,
          461558540,
          147290338,
          246390068,
          1647990401,
          518745108,
          237351106,
          160845341,
          116334601,
          397582059,
          1788326445,
          674772936,
          81350745,
          482257456,
          566954746,
          2303033973,
          240918092,
          34502215,
          685032533,
          63803529,
          338422004,
          96180277,
          252871192,
          838586769,
          429504768,
          150500965,
          247737946,
          1406111294,
          1047480053,
          212351890,
          354495408,
          107753850,
          255932395,
          223633238,
          287278853,
          725980112,
          164856284,
          133895612,
          198275403,
          621660989,
          39578178,
          1223481149,
          1223481149,
          279737940,
          236940480,
          546191065,
          153454328,
          540654286,
          532336353,
          184308753,
          258316038,
          227918678,
          1593270737,
          290228626,
          1205951614,
          95623148,
          174006928,
          327498031,
          195576623,
          67540165,
          229497852,
          232896922,
          593917618,
          1023187129,
          51641685,
          157058870,
          127309180,
          601863821,
          520034544,
          462791599,
          278920007,
          139193812,
          349585590,
          694525298,
          184826429,
          114546317,
          282883169,
          239411309,
          675039469,
          554875730,
          824420218,
          153240879,
          863756573,
          188933502,
          421365166,
          322336177,
          185236961,
          116903579,
          168684524,
          304118600,
          516784627,
          933815613,
          110073250,
          240769997,
          988515741,
          11956641,
          807015863,
          65362788,
          826623384,
          184706613,
          64787943,
          199587884,
          52722996,
          1929770265,
          118810253,
          460492795,
          202677468,
          244658767,
          887906111,
          1301799902,
          144584800,
          88103848,
          635412045,
          674072710,
          122763672,
          68616963,
          238350348,
          476244795,
          106919680,
          1200808494,
          85924992,
          582863434,
          119238316,
          284785823,
          181328253,
          39666245,
          363472647,
          123132751,
          225259194,
          52135248,
          356709897,
          91656026,
          77377503,
          609293408,
          972164968,
          121077868,
          851070493,
          705469769,
          83021468,
          1109433169,
          1606986953,
          197643795,
          165584767,
          158950978,
          1202722675,
          190981339,
          1624165576,
          382199619,
          888046992,
          1284942608,
          391251368,
          287201015,
          807561936,
          295998468,
          663832097,
          323455692,
          1365184,
          178660459,
          394030335,
          1641426668,
          457184829,
          210038833,
          222410722,
          156777415,
          404562836,
          46142772,
          236060709,
          1163093654,
          1575467011,
          594482982,
          137123880,
          1435127549,
          477033549,
          86444842,
          39058561,
          133716286,
          298063749,
          124988687,
          471819764,
          305771063,
          55842345,
          1214083358,
          191945597,
          553634067,
          479655659,
          538115192,
          333146475,
          121189256,
          759208783,
          312622938,
          53987404,
          127026613,
          293466523,
          429829812,
          743693613,
          488386797,
          130419412,
          651732901,
          1115880852,
          720434240,
          446390129,
          473248298,
          1374581173,
          797196073,
          1802514301,
          355219175,
          267789608,
          297328960,
          500340342,
          363369738,
          173627354,
          51985779,
          199386237,
          32761689,
          273194684,
          775542072,
          1481349984,
          1829992958,
          822239726,
          686734357,
          147538971,
          0,
          110849052,
          233671263,
          2123309722,
          882831184,
          466231982,
          70069745,
          2288695111,
          108809090,
          716591492,
          212234990,
          231332117,
          357580552,
          872137015,
          61245289,
          58054811,
          155795783,
          319566866,
          502574952,
          154863153,
          165484133,
          156214700,
          154119539,
          240684449,
          61105704,
          58890931,
          223582566,
          317726339,
          387080183,
          146409671,
          195628667,
          704171068,
          218320587,
          366214458,
          305650299,
          1440757818,
          445590495,
          393230256,
          530511203,
          50847624,
          1759567999,
          351636786,
          31873544,
          36912123,
          211050784,
          53603447,
          124407432,
          497225336,
          154356956,
          629173063,
          596152090,
          1241559043,
          578207856,
          1093605526,
          263779030,
          256483385,
          909001996,
          33381454,
          1806617704,
          58687425,
          231996128,
          448843705,
          334733572,
          120972253,
          91473363,
          1061966512,
          301242089,
          461437791,
          193443895,
          117747907,
          671365962,
          29562220,
          195516622,
          115010040,
          956865266,
          1791000570,
          284908316,
          120847157,
          342897938,
          459276435,
          138334433,
          233801632,
          436695353,
          62019074,
          421135627,
          39709092,
          81102253,
          1361425037,
          258714692,
          170709584,
          135444283,
          430977451,
          427486004,
          71007139,
          466214729,
          145458418,
          1133865788,
          263280370,
          170413877,
          78139948,
          2713922350,
          539595276,
          148469433,
          588955257,
          155653938,
          319546754,
          14780425,
          93438910,
          221409663,
          57312735,
          213505179,
          436027885,
          885093467,
          254218729,
          273005485,
          614555082,
          284249832,
          195918494,
          68216992,
          373199958,
          95816024,
          2559529074,
          608334048,
          261286503,
          200647221,
          31959571,
          64533040,
          2236667932,
          806397070,
          191873381,
          43522589,
          335074782,
          115331792,
          211372494,
          156658366,
          115364561,
          190625045,
          376333030,
          77309611,
          104992946,
          105062254,
          112436403,
          209768491,
          185392587,
          381161027,
          76831876,
          191333656,
          2762,
          96273746,
          223064273,
          1356565093,
          236857112,
          720825549,
          797402345,
          117206995,
          157990698,
          284819874,
          110649992,
          248088961,
          66902503,
          81419389,
          684675814,
          94616487,
          1022258230,
          41210087,
          573633020,
          173702135,
          101780047,
          2009094673,
          1472799873,
          681583126,
          90025258,
          78489819,
          330881149,
          245350949,
          1024858327,
          22581161,
          65496046,
          78300654,
          1122364376,
          58473276,
          73981293,
          54682594,
          605086148,
          332506354,
          2665343922,
          170732845,
          231657891,
          354065229,
          261414174,
          244891912,
          86176890,
          37091576,
          127567540,
          2420461338,
          223319934,
          175097833,
          1047101291,
          98709329,
          70106975,
          380319238,
          93587665,
          1163620694,
          138517666,
          141381703,
          480507035,
          2484812918,
          1113838873,
          721975598,
          2159346687,
          3562543890,
          309653982,
          76910644,
          162887075,
          405136812,
          181831132,
          178512385,
          179061440,
          166570053,
          106933107,
          123216717,
          209106362,
          506778838,
          404664135,
          65719930,
          190490915,
          1690192927,
          383550148,
          57144458,
          399686758,
          323437194,
          60350538,
          91781263,
          513643924,
          599770206,
          368646862,
          2204080728,
          449701773,
          1089402494,
          126443991,
          624101957,
          198365537,
          183706234,
          918915401,
          46065667,
          2565529693,
          611700552,
          229473310,
          74601456,
          202452860,
          246376690,
          123473120,
          53729194,
          191448892,
          1210599487,
          563902868,
          53909146,
          38411956,
          865640097,
          786181836,
          107642809,
          983637508,
          2808096550,
          652704649,
          91221625,
          428685680,
          342779426,
          58255150,
          401036314,
          655466831,
          950906471,
          267758538,
          1553497987,
          299634472,
          498960285,
          177129919,
          920797189,
          225093344,
          244928911,
          245095641,
          618990393,
          176553476,
          134255790,
          52294266,
          184622518,
          338564981,
          510876816,
          179659294,
          2135158446,
          563358137,
          1479115056,
          118482347,
          148461629,
          189476119,
          1062956628,
          608228647,
          201660859,
          606361689,
          54225632,
          212109195,
          146363130,
          203436468,
          1062345656,
          389771964,
          415932686,
          184937148,
          345903614,
          181382590,
          71423324,
          656013912,
          843309044,
          1410088830,
          1456081449,
          1424589568,
          71014967,
          1608164312,
          1714490998,
          2280566092,
          125917280,
          132171975,
          411747614,
          203221468,
          244741137,
          422691058,
          374191487,
          1264310836,
          1168642797,
          236872197,
          49262961,
          286400165,
          276259178,
          194902696,
          116144341,
          235549288,
          111947664,
          307752576,
          279717388,
          92035115,
          403231558,
          142095275,
          283332261,
          682475162,
          485285717,
          1230675890,
          156898322,
          726434358,
          600976848,
          94005786,
          90839753,
          67070410,
          263894529,
          187772591,
          448500832,
          253650850,
          248511839,
          1592909789,
          610045621,
          673801126,
          556585270,
          175399345,
          303236322,
          213438580,
          924193303,
          1970673297,
          207033255,
          489945871,
          68895644,
          1235005533,
          154797871,
          95131998,
          203680270,
          255120451,
          972509632,
          300983101,
          395591396,
          1267333350,
          135611421,
          240580042,
          1687664027,
          403939487,
          61739839,
          50746620,
          177503916,
          266624541,
          349746291,
          47093942,
          319757142,
          585695368,
          1755214421,
          302006641,
          527033089,
          1260594497,
          350381515,
          180577478,
          367814306,
          672656250,
          348647203,
          136996305,
          134294498,
          607123776,
          293186992,
          331511413,
          1256880657,
          131746175,
          560222750,
          783706581,
          95217315,
          751134527,
          850608354,
          665765558,
          2355719893,
          116599790,
          75476209,
          311395144,
          176290831,
          343197054,
          346127840,
          60680939,
          505671438,
          140003974,
          723043854,
          1180094974,
          56533272,
          143573775,
          403097450,
          266983330,
          60680939,
          1202722675,
          94186466,
          71007139,
          4508746590,
          838586769,
          118810253,
          578207856,
          1374581173,
          209768491,
          233801632,
          663832097,
          179659294,
          546191065,
          121189256,
          236872197,
          355219175,
          177129919,
          538115192,
          100409613,
          223319934,
          3055659795,
          518745108,
          139836056,
          64533040,
          1365184,
          277132266,
          673801126,
          3426754746,
          58054811,
          53909146,
          235549288,
          127026613,
          2696993599,
          383835984,
          122763672,
          8582384095,
          250305248,
          505671438,
          2371592360,
          614555082,
          1304313953,
          319546754,
          480507035,
          1109433169,
          161460990,
          168684524,
          382199619,
          1122304190,
          142095275,
          1116330369,
          2355719893,
          395591396,
          200647221,
          1356565093,
          374191487,
          248511839,
          197643795,
          1133865788,
          471819764,
          4185733280,
          1499431000,
          389473914,
          344055883,
          339473453,
          190625045,
          211050784,
          123473120,
          756907987,
          75476209,
          77309611,
          2762,
          162887075,
          780321205,
          65719930,
          427486004,
          646703472,
          720434240,
          498960285,
          1440757818,
          809306935,
          674772936,
          445590495,
          255932395,
          436695353,
          1755214421,
          429504768,
          319757142,
          245350949,
          841749534,
          335074782,
          3825176058,
          1061966512,
          1301799902,
          682475162,
          174006928,
          157990698,
          1108955074,
          421365166,
          242767149,
          229473310,
          183706234,
          177740666,
          286739476,
          240918092,
          511978174,
          178512385,
          279717388,
          284785823,
          446390129,
          677389855,
          116144341,
          95131998,
          2330636146,
          672656250,
          105062254,
          496311364,
          579395142,
          2053908531,
          655542929,
          1457682208,
          170732845,
          556585270,
          489945871,
          594482982,
          593917618,
          191333656,
          2713922350,
          3227639000,
          1802514301,
          1605224506,
          299634472,
          342373931,
          223582566,
          365477661,
          11051252012,
          261286503,
          106933107,
          299648208,
          0,
          198275403,
          872137015,
          258714692,
          600976848,
          6183805596,
          918915401,
          655466831,
          739827412,
          1695712020,
          225259194,
          725980112,
          2220740399,
          273005485,
          477033549,
          57312735,
          107753850,
          73513683,
          133895612,
          335222234,
          636477650,
          159240673,
          1628636796,
          178660459,
          473248298,
          199386237,
          254854130,
          116334601,
          367316268,
          288101651,
          158950978,
          403097450,
          304965349,
          401036314,
          37126685,
          286400165,
          1180896317,
          86444842,
          387080183,
          147290338,
          287278853,
          95217315,
          54937991,
          1553497987,
          180577478,
          240580042,
          91781263,
          1065580332,
          51985779,
          6033490512,
          586967944,
          2135158446,
          357580552,
          95816024,
          676641760,
          5272484650,
          1223481149,
          1223481149,
          327498031,
          263453310,
          138517666,
          1435127549,
          720825549,
          528544703,
          1791000570,
          144565150,
          232896922,
          1097262367,
          68216992,
          1038470158,
          165484133,
          2686344050,
          39666245,
          462791599,
          129083819,
          363467642,
          888046992,
          136996305,
          267758538,
          536997092,
          203436468,
          245095641,
          2086124197,
          78139948,
          460492795,
          2357270185,
          120847157,
          520034544,
          2474103659,
          775542072,
          284788646,
          89933133,
          410337753,
          2752482785,
          106919680,
          2665343922,
          393230256,
          53729194,
          156777415,
          256483385,
          354065229,
          113509496,
          77377503,
          1967540868,
          107255472,
          85924992,
          194902696,
          1038465478,
          716591492,
          294352144,
          93438910,
          266624541,
          618990393,
          1024858327,
          1089402494,
          485285717,
          3033135947,
          560222750,
          33381454,
          57089066,
          237351106,
          76831876,
          1093605526,
          123216717,
          86176890,
          127309180,
          58687425,
          68895644,
          156214700,
          210038833,
          244891912,
          319566866,
          342779426,
          133753727,
          448843705,
          176103902,
          530549573,
          244790012,
          1723089944,
          426204830,
          610826730,
          2159346687,
          1396024922,
          60350538,
          263280370,
          141381703,
          184826429,
          349585590,
          185550869,
          134294498,
          1847456546,
          373199958,
          187339412,
          46065667,
          1253303543,
          190981339,
          457184829,
          115331792,
          2985590613,
          236940480,
          1695478069,
          293186992,
          1410088830,
          201660859,
          972509632,
          160035717,
          146223492,
          71095708,
          323455692,
          157058870,
          252871192,
          176290831,
          71573339,
          187701588,
          93587665,
          300983101,
          136689549,
          244658767,
          165584767,
          166570053,
          135079152,
          143139338,
          322336177,
          513643924,
          197257295,
          1214083358,
          43857627,
          1759567999,
          651732901,
          84697729,
          223633238,
          267789608,
          263894529,
          258316038,
          1138474110,
          187772591,
          39709092,
          11956641,
          208166039,
          129314708,
          502574952,
          67070410,
          191873381,
          704171068,
          70106975,
          1283806731,
          231332117,
          950906471,
          570515054,
          1599221296,
          58890931,
          646886885,
          181328253,
          195918494,
          133716286,
          221409663,
          2675632206,
          52722996,
          290228626,
          190490915,
          135444283,
          516799679,
          31873544,
          463564958,
          436027885,
          213505179,
          333146475,
          304118600,
          131746175,
          411747614,
          1544567007,
          144584800,
          510105069,
          104992946,
          146065318,
          57945987,
          652704649,
          92035115,
          2058839789,
          24975653,
          184937148,
          3696965124,
          227918678,
          2011464183,
          209106362,
          222410722,
          674072710,
          138334433,
          134255790,
          212109195,
          588955257,
          582863434,
          403939487,
          89566512,
          57876440,
          295998468,
          52294266,
          553634067,
          933815613,
          136676504,
          156338624,
          156338624,
          540654286,
          506778838,
          380319238,
          307752576,
          797402345,
          187606331,
          609293408,
          2808096550,
          422691058,
          614709750,
          61105704,
          245400167,
          716645106,
          135611421,
          34502215,
          907358070,
          1271293243,
          137123880,
          1634602179,
          121168605,
          357925728,
          1953533826,
          331511413,
          94616487,
          244928911,
          77233241,
          297328960,
          1235005533,
          863756573,
          497225336,
          1116995633,
          626026463,
          899183384,
          156658366,
          91221625,
          4197341485,
          1575467011,
          94005786,
          110073250,
          155653938,
          342897938,
          54225632,
          54682594,
          1606986953,
          1230675890,
          130419412,
          571386359,
          956865266,
          115010040,
          510876816,
          90839753,
          610045621,
          184622518,
          91473363,
          43522589,
          284249832,
          351636786,
          123124076,
          721975598,
          606361689,
          2256812464,
          2484812918,
          47956378,
          71014967,
          183273246,
          153454328,
          78489819,
          624515457,
          160845341,
          97610446,
          154356956,
          154797871,
          726434358,
          120972253,
          1945132459,
          277731036,
          108809090,
          90598517,
          184706613,
          824420218,
          86773632,
          76910644,
          530511203,
          107642809,
          466231982,
          535379733,
          61245289,
          248088961,
          1523292028,
          11851151082,
          46142772,
          323437194,
          1205951614,
          2204080728,
          2591224264,
          1284942608,
          392280108,
          1806617704,
          1727238454,
          1593270737,
          421135627,
          404664135,
          972164968,
          6038640754,
          843957510,
          2565529693,
          96180277,
          1392204126,
          611700552,
          91656026,
          115364561,
          539595276,
          88103848,
          605086148,
          217672943,
          200972675,
          596152090,
          1062345656,
          656013912,
          566954746,
          325592432,
          479655659,
          415932686,
          195516622,
          110649992,
          276259178,
          70069745,
          431424489,
          261414174,
          202677468,
          213438580,
          153240879,
          600669417,
          1047101291,
          121077868,
          317622165,
          2009094673,
          81102253,
          164856284,
          140187018,
          370068639,
          924193303,
          309483971,
          32761689,
          2223066724,
          240684449,
          412240659,
          143573775,
          126443991,
          188933502,
          632789310,
          191945597,
          311395144,
          221752937,
          240769997,
          236857112,
          449701773,
          527033089,
          154119539,
          145458418,
          1479115056,
          1316995171,
          111947664,
          723043854,
          155795783,
          116599790,
          103762518,
          207033255,
          139193812,
          382692383757
         ]
        }
       ],
       "layout": {
        "autosize": true,
        "font": {
         "color": "black",
         "family": "Arial",
         "size": 14
        },
        "legend": {
         "tracegroupgap": 0
        },
        "template": {
         "data": {
          "bar": [
           {
            "error_x": {
             "color": "#2a3f5f"
            },
            "error_y": {
             "color": "#2a3f5f"
            },
            "marker": {
             "line": {
              "color": "#E5ECF6",
              "width": 0.5
             },
             "pattern": {
              "fillmode": "overlay",
              "size": 10,
              "solidity": 0.2
             }
            },
            "type": "bar"
           }
          ],
          "barpolar": [
           {
            "marker": {
             "line": {
              "color": "#E5ECF6",
              "width": 0.5
             },
             "pattern": {
              "fillmode": "overlay",
              "size": 10,
              "solidity": 0.2
             }
            },
            "type": "barpolar"
           }
          ],
          "carpet": [
           {
            "aaxis": {
             "endlinecolor": "#2a3f5f",
             "gridcolor": "white",
             "linecolor": "white",
             "minorgridcolor": "white",
             "startlinecolor": "#2a3f5f"
            },
            "baxis": {
             "endlinecolor": "#2a3f5f",
             "gridcolor": "white",
             "linecolor": "white",
             "minorgridcolor": "white",
             "startlinecolor": "#2a3f5f"
            },
            "type": "carpet"
           }
          ],
          "choropleth": [
           {
            "colorbar": {
             "outlinewidth": 0,
             "ticks": ""
            },
            "type": "choropleth"
           }
          ],
          "contour": [
           {
            "colorbar": {
             "outlinewidth": 0,
             "ticks": ""
            },
            "colorscale": [
             [
              0,
              "#0d0887"
             ],
             [
              0.1111111111111111,
              "#46039f"
             ],
             [
              0.2222222222222222,
              "#7201a8"
             ],
             [
              0.3333333333333333,
              "#9c179e"
             ],
             [
              0.4444444444444444,
              "#bd3786"
             ],
             [
              0.5555555555555556,
              "#d8576b"
             ],
             [
              0.6666666666666666,
              "#ed7953"
             ],
             [
              0.7777777777777778,
              "#fb9f3a"
             ],
             [
              0.8888888888888888,
              "#fdca26"
             ],
             [
              1,
              "#f0f921"
             ]
            ],
            "type": "contour"
           }
          ],
          "contourcarpet": [
           {
            "colorbar": {
             "outlinewidth": 0,
             "ticks": ""
            },
            "type": "contourcarpet"
           }
          ],
          "heatmap": [
           {
            "colorbar": {
             "outlinewidth": 0,
             "ticks": ""
            },
            "colorscale": [
             [
              0,
              "#0d0887"
             ],
             [
              0.1111111111111111,
              "#46039f"
             ],
             [
              0.2222222222222222,
              "#7201a8"
             ],
             [
              0.3333333333333333,
              "#9c179e"
             ],
             [
              0.4444444444444444,
              "#bd3786"
             ],
             [
              0.5555555555555556,
              "#d8576b"
             ],
             [
              0.6666666666666666,
              "#ed7953"
             ],
             [
              0.7777777777777778,
              "#fb9f3a"
             ],
             [
              0.8888888888888888,
              "#fdca26"
             ],
             [
              1,
              "#f0f921"
             ]
            ],
            "type": "heatmap"
           }
          ],
          "heatmapgl": [
           {
            "colorbar": {
             "outlinewidth": 0,
             "ticks": ""
            },
            "colorscale": [
             [
              0,
              "#0d0887"
             ],
             [
              0.1111111111111111,
              "#46039f"
             ],
             [
              0.2222222222222222,
              "#7201a8"
             ],
             [
              0.3333333333333333,
              "#9c179e"
             ],
             [
              0.4444444444444444,
              "#bd3786"
             ],
             [
              0.5555555555555556,
              "#d8576b"
             ],
             [
              0.6666666666666666,
              "#ed7953"
             ],
             [
              0.7777777777777778,
              "#fb9f3a"
             ],
             [
              0.8888888888888888,
              "#fdca26"
             ],
             [
              1,
              "#f0f921"
             ]
            ],
            "type": "heatmapgl"
           }
          ],
          "histogram": [
           {
            "marker": {
             "pattern": {
              "fillmode": "overlay",
              "size": 10,
              "solidity": 0.2
             }
            },
            "type": "histogram"
           }
          ],
          "histogram2d": [
           {
            "colorbar": {
             "outlinewidth": 0,
             "ticks": ""
            },
            "colorscale": [
             [
              0,
              "#0d0887"
             ],
             [
              0.1111111111111111,
              "#46039f"
             ],
             [
              0.2222222222222222,
              "#7201a8"
             ],
             [
              0.3333333333333333,
              "#9c179e"
             ],
             [
              0.4444444444444444,
              "#bd3786"
             ],
             [
              0.5555555555555556,
              "#d8576b"
             ],
             [
              0.6666666666666666,
              "#ed7953"
             ],
             [
              0.7777777777777778,
              "#fb9f3a"
             ],
             [
              0.8888888888888888,
              "#fdca26"
             ],
             [
              1,
              "#f0f921"
             ]
            ],
            "type": "histogram2d"
           }
          ],
          "histogram2dcontour": [
           {
            "colorbar": {
             "outlinewidth": 0,
             "ticks": ""
            },
            "colorscale": [
             [
              0,
              "#0d0887"
             ],
             [
              0.1111111111111111,
              "#46039f"
             ],
             [
              0.2222222222222222,
              "#7201a8"
             ],
             [
              0.3333333333333333,
              "#9c179e"
             ],
             [
              0.4444444444444444,
              "#bd3786"
             ],
             [
              0.5555555555555556,
              "#d8576b"
             ],
             [
              0.6666666666666666,
              "#ed7953"
             ],
             [
              0.7777777777777778,
              "#fb9f3a"
             ],
             [
              0.8888888888888888,
              "#fdca26"
             ],
             [
              1,
              "#f0f921"
             ]
            ],
            "type": "histogram2dcontour"
           }
          ],
          "mesh3d": [
           {
            "colorbar": {
             "outlinewidth": 0,
             "ticks": ""
            },
            "type": "mesh3d"
           }
          ],
          "parcoords": [
           {
            "line": {
             "colorbar": {
              "outlinewidth": 0,
              "ticks": ""
             }
            },
            "type": "parcoords"
           }
          ],
          "pie": [
           {
            "automargin": true,
            "type": "pie"
           }
          ],
          "scatter": [
           {
            "fillpattern": {
             "fillmode": "overlay",
             "size": 10,
             "solidity": 0.2
            },
            "type": "scatter"
           }
          ],
          "scatter3d": [
           {
            "line": {
             "colorbar": {
              "outlinewidth": 0,
              "ticks": ""
             }
            },
            "marker": {
             "colorbar": {
              "outlinewidth": 0,
              "ticks": ""
             }
            },
            "type": "scatter3d"
           }
          ],
          "scattercarpet": [
           {
            "marker": {
             "colorbar": {
              "outlinewidth": 0,
              "ticks": ""
             }
            },
            "type": "scattercarpet"
           }
          ],
          "scattergeo": [
           {
            "marker": {
             "colorbar": {
              "outlinewidth": 0,
              "ticks": ""
             }
            },
            "type": "scattergeo"
           }
          ],
          "scattergl": [
           {
            "marker": {
             "colorbar": {
              "outlinewidth": 0,
              "ticks": ""
             }
            },
            "type": "scattergl"
           }
          ],
          "scattermapbox": [
           {
            "marker": {
             "colorbar": {
              "outlinewidth": 0,
              "ticks": ""
             }
            },
            "type": "scattermapbox"
           }
          ],
          "scatterpolar": [
           {
            "marker": {
             "colorbar": {
              "outlinewidth": 0,
              "ticks": ""
             }
            },
            "type": "scatterpolar"
           }
          ],
          "scatterpolargl": [
           {
            "marker": {
             "colorbar": {
              "outlinewidth": 0,
              "ticks": ""
             }
            },
            "type": "scatterpolargl"
           }
          ],
          "scatterternary": [
           {
            "marker": {
             "colorbar": {
              "outlinewidth": 0,
              "ticks": ""
             }
            },
            "type": "scatterternary"
           }
          ],
          "surface": [
           {
            "colorbar": {
             "outlinewidth": 0,
             "ticks": ""
            },
            "colorscale": [
             [
              0,
              "#0d0887"
             ],
             [
              0.1111111111111111,
              "#46039f"
             ],
             [
              0.2222222222222222,
              "#7201a8"
             ],
             [
              0.3333333333333333,
              "#9c179e"
             ],
             [
              0.4444444444444444,
              "#bd3786"
             ],
             [
              0.5555555555555556,
              "#d8576b"
             ],
             [
              0.6666666666666666,
              "#ed7953"
             ],
             [
              0.7777777777777778,
              "#fb9f3a"
             ],
             [
              0.8888888888888888,
              "#fdca26"
             ],
             [
              1,
              "#f0f921"
             ]
            ],
            "type": "surface"
           }
          ],
          "table": [
           {
            "cells": {
             "fill": {
              "color": "#EBF0F8"
             },
             "line": {
              "color": "white"
             }
            },
            "header": {
             "fill": {
              "color": "#C8D4E3"
             },
             "line": {
              "color": "white"
             }
            },
            "type": "table"
           }
          ]
         },
         "layout": {
          "annotationdefaults": {
           "arrowcolor": "#2a3f5f",
           "arrowhead": 0,
           "arrowwidth": 1
          },
          "autotypenumbers": "strict",
          "coloraxis": {
           "colorbar": {
            "outlinewidth": 0,
            "ticks": ""
           }
          },
          "colorscale": {
           "diverging": [
            [
             0,
             "#8e0152"
            ],
            [
             0.1,
             "#c51b7d"
            ],
            [
             0.2,
             "#de77ae"
            ],
            [
             0.3,
             "#f1b6da"
            ],
            [
             0.4,
             "#fde0ef"
            ],
            [
             0.5,
             "#f7f7f7"
            ],
            [
             0.6,
             "#e6f5d0"
            ],
            [
             0.7,
             "#b8e186"
            ],
            [
             0.8,
             "#7fbc41"
            ],
            [
             0.9,
             "#4d9221"
            ],
            [
             1,
             "#276419"
            ]
           ],
           "sequential": [
            [
             0,
             "#0d0887"
            ],
            [
             0.1111111111111111,
             "#46039f"
            ],
            [
             0.2222222222222222,
             "#7201a8"
            ],
            [
             0.3333333333333333,
             "#9c179e"
            ],
            [
             0.4444444444444444,
             "#bd3786"
            ],
            [
             0.5555555555555556,
             "#d8576b"
            ],
            [
             0.6666666666666666,
             "#ed7953"
            ],
            [
             0.7777777777777778,
             "#fb9f3a"
            ],
            [
             0.8888888888888888,
             "#fdca26"
            ],
            [
             1,
             "#f0f921"
            ]
           ],
           "sequentialminus": [
            [
             0,
             "#0d0887"
            ],
            [
             0.1111111111111111,
             "#46039f"
            ],
            [
             0.2222222222222222,
             "#7201a8"
            ],
            [
             0.3333333333333333,
             "#9c179e"
            ],
            [
             0.4444444444444444,
             "#bd3786"
            ],
            [
             0.5555555555555556,
             "#d8576b"
            ],
            [
             0.6666666666666666,
             "#ed7953"
            ],
            [
             0.7777777777777778,
             "#fb9f3a"
            ],
            [
             0.8888888888888888,
             "#fdca26"
            ],
            [
             1,
             "#f0f921"
            ]
           ]
          },
          "colorway": [
           "#636efa",
           "#EF553B",
           "#00cc96",
           "#ab63fa",
           "#FFA15A",
           "#19d3f3",
           "#FF6692",
           "#B6E880",
           "#FF97FF",
           "#FECB52"
          ],
          "font": {
           "color": "#2a3f5f"
          },
          "geo": {
           "bgcolor": "white",
           "lakecolor": "white",
           "landcolor": "#E5ECF6",
           "showlakes": true,
           "showland": true,
           "subunitcolor": "white"
          },
          "hoverlabel": {
           "align": "left"
          },
          "hovermode": "closest",
          "mapbox": {
           "style": "light"
          },
          "paper_bgcolor": "white",
          "plot_bgcolor": "#E5ECF6",
          "polar": {
           "angularaxis": {
            "gridcolor": "white",
            "linecolor": "white",
            "ticks": ""
           },
           "bgcolor": "#E5ECF6",
           "radialaxis": {
            "gridcolor": "white",
            "linecolor": "white",
            "ticks": ""
           }
          },
          "scene": {
           "xaxis": {
            "backgroundcolor": "#E5ECF6",
            "gridcolor": "white",
            "gridwidth": 2,
            "linecolor": "white",
            "showbackground": true,
            "ticks": "",
            "zerolinecolor": "white"
           },
           "yaxis": {
            "backgroundcolor": "#E5ECF6",
            "gridcolor": "white",
            "gridwidth": 2,
            "linecolor": "white",
            "showbackground": true,
            "ticks": "",
            "zerolinecolor": "white"
           },
           "zaxis": {
            "backgroundcolor": "#E5ECF6",
            "gridcolor": "white",
            "gridwidth": 2,
            "linecolor": "white",
            "showbackground": true,
            "ticks": "",
            "zerolinecolor": "white"
           }
          },
          "shapedefaults": {
           "line": {
            "color": "#2a3f5f"
           }
          },
          "ternary": {
           "aaxis": {
            "gridcolor": "white",
            "linecolor": "white",
            "ticks": ""
           },
           "baxis": {
            "gridcolor": "white",
            "linecolor": "white",
            "ticks": ""
           },
           "bgcolor": "#E5ECF6",
           "caxis": {
            "gridcolor": "white",
            "linecolor": "white",
            "ticks": ""
           }
          },
          "title": {
           "x": 0.05
          },
          "xaxis": {
           "automargin": true,
           "gridcolor": "white",
           "linecolor": "white",
           "ticks": "",
           "title": {
            "standoff": 15
           },
           "zerolinecolor": "white",
           "zerolinewidth": 2
          },
          "yaxis": {
           "automargin": true,
           "gridcolor": "white",
           "linecolor": "white",
           "ticks": "",
           "title": {
            "standoff": 15
           },
           "zerolinecolor": "white",
           "zerolinewidth": 2
          }
         }
        },
        "title": {
         "text": "TreeMap of Artists Playlist",
         "x": 0.5
        }
       }
      },
      "image/png": "[encoded data removed]",
      "text/html": [
       "<div>                            <div id=\"13687f8c-8995-4938-b860-aaff1358155e\" class=\"plotly-graph-div\" style=\"height:525px; width:100%;\"></div>            <script type=\"text/javascript\">                require([\"plotly\"], function(Plotly) {                    window.PLOTLYENV=window.PLOTLYENV || {};                                    if (document.getElementById(\"13687f8c-8995-4938-b860-aaff1358155e\")) {                    Plotly.newPlot(                        \"13687f8c-8995-4938-b860-aaff1358155e\",                        [{\"branchvalues\":\"total\",\"domain\":{\"x\":[0.0,1.0],\"y\":[0.0,1.0]},\"hovertemplate\":\"labels=%{label}\\u003cbr\\u003estreams=%{value}\\u003cbr\\u003eparent=%{parent}\\u003cbr\\u003eid=%{id}\\u003cextra\\u003e\\u003c\\u002fextra\\u003e\",\"ids\":[\"Artist\\u002fEminem, Nate Dogg\\u002f'Till I Collapse\",\"Artist\\u002fPeggy Gou\\u002f(It Goes Like) Nanana - Edit\",\"Artist\\u002fLeah Kate\\u002f10 Things I Hate About You\",\"Artist\\u002fTi\\u00ef\\u00bf\\u00bd\\u00ef\\u00bf\\u00bdsto, Tate M\\u002f10:35\",\"Artist\\u002fLizzo\\u002f2 Be Loved (Am I Ready)\",\"Artist\\u002fSleepy hallow\\u002f2055\",\"Artist\\u002fMainstreet, Chefin\\u002f212\",\"Artist\\u002fGunna, Lil Baby\\u002f25k jacket (feat. Lil Baby)\",\"Artist\\u002fSidhu Moose Wala\\u002f295\",\"Artist\\u002fNicky Jam, Feid\\u002f69\",\"Artist\\u002fThe Weeknd\\u002fA Tale By Quincy\",\"Artist\\u002fFeid, Paulo Londra\\u002fA Veces (feat. Feid)\",\"Artist\\u002fBeyonc\\u00ef\\u00bf\\u002fALIEN SUPERSTAR\",\"Artist\\u002fJ Balvin, Nio Garcia, Bad Bunny\\u002fAM Remix\",\"Artist\\u002fKarol G\\u002fAMARGURA\",\"Artist\\u002fKendrick Lamar, Beyonc\\u00ef\\u00bf\\u002fAMERICA HAS A PROBLEM (feat. Kendrick Lamar)\",\"Artist\\u002fNatanael Cano, Gabito Ballesteros, Peso Pluma\\u002fAMG\",\"Artist\\u002fLE SSERAFIM\\u002fANTIFRAGILE\",\"Artist\\u002fJunior H, Eden Mu\\u00ef\\u00bf\\u00bd\\u00ef\\u002fAbcdario\",\"Artist\\u002fLizzo\\u002fAbout Damn Time\",\"Artist\\u002fJason Derulo\\u002fAcapulco\",\"Artist\\u002fShakira\\u002fAcr\\u00ef\\u00bf\\u00bd\\u00ef\\u00bf\\u00bds\",\"Artist\\u002fHarry Styles\\u002fAdore You\",\"Artist\\u002fLF System\\u002fAfraid To Feel\",\"Artist\\u002fMr.Kitty\\u002fAfter Dark\",\"Artist\\u002fThe Weeknd\\u002fAfter Hours\",\"Artist\\u002fBad Bunny\\u002fAgosto\",\"Artist\\u002fBad Bunny\\u002fAguacero\",\"Artist\\u002fStyrx, utku INC, Thezth\\u002fAgudo M\\u00ef\\u00bf\\u00bd\\u00ef\\u00bf\\u00bdgi\",\"Artist\\u002fL7nnon, DJ Biel do Furduncinho, Bianca\\u002fAi Preto\",\"Artist\\u002fDoja Cat\\u002fAin't Shit\",\"Artist\\u002fMorgan Wallen\\u002fAin\\u00ef\\u00bf\\u00bd\\u00ef\\u00bf\\u00bd\\u00ef\\u00bf\\u00bdt Tha\",\"Artist\\u002fVundabar\\u002fAlien Blues\",\"Artist\\u002fLabrinth, Zendaya\\u002fAll For Us - from the HBO Original Series Euphoria\",\"Artist\\u002fJ. Cole, Lil Durk\\u002fAll My Life (feat. J. Cole)\",\"Artist\\u002fTaylor Swift\\u002fAll Of The Girls You Loved Before\",\"Artist\\u002fFuture, Lil Uzi Vert, Metro Boomin\\u002fAll The Way Live (Spider-Man: Across the Spider-Verse) (Metro Boomin & Future, Lil Uzi Vert)\",\"Artist\\u002fJohn Legend\\u002fAll of Me\",\"Artist\\u002fBurna Boy\\u002fAlone\",\"Artist\\u002fA$AP Rocky, Metro Boomin, Roisee\\u002fAm I Dreaming (Metro Boomin & A$AP Rocky, Roisee)\",\"Artist\\u002fBuscabulla, Bad Bunny\\u002fAndrea\",\"Artist\\u002fTroye Sivan\\u002fAngel Baby\",\"Artist\\u002fKodak Black, NLE Choppa, Muni Long, JVKE, Jimin\\u002fAngel Pt 1 (feat. Jimin of BTS, JVKE & Muni Long)\",\"Artist\\u002fMiley Cyrus\\u002fAngels Like You\",\"Artist\\u002fSwae Lee, Lil Wayne, Offset, Metro Boomin\\u002fAnnihilate (Spider-Man: Across the Spider-Verse) (Metro Boomin & Swae Lee, Lil Wayne, Offset)\",\"Artist\\u002fDuki\\u002fAntes de Perderte\",\"Artist\\u002fTaylor Swift\\u002fAnti-Hero\",\"Artist\\u002fMabel Matiz, Mert Demir\\u002fAntidepresan\",\"Artist\\u002fArijit Singh, Sachin-Jigar\\u002fApna Bana Le (From \\\"Bhediya\\\")\",\"Artist\\u002fCigarettes After Sex\\u002fApocalypse\",\"Artist\\u002fArcangel, Bizarrap\\u002fArc\\u00ef\\u00bf\\u00bd\\u00ef\\u00bf\\u00bdngel: Bzrp Music Sessions, Vol\",\"Artist\\u002fKaliii, Kaliii\\u002fArea Codes\",\"Artist\\u002fMasked Wolf\\u002fAstronaut In The Ocean\",\"Artist\\u002fSeafret\\u002fAtlantis\",\"Artist\\u002fNewJeans\\u002fAttention\",\"Artist\\u002fKendrick Lamar\\u002fAuntie Diaries\",\"Artist\\u002fRauw Alejandro, Bizarrap\\u002fBABY HELLO\",\"Artist\\u002fFran C, Polima WestCoast, Nickoog Clk, Pablito Pesadilla\\u002fBABY OTAKU\",\"Artist\\u002fRauw Alejandro, ROSAL\\u00ef\\u00bf\\u00bd\\u002fBESO\",\"Artist\\u002fArmani White\\u002fBILLIE EILISH.\",\"Artist\\u002fBeyonc\\u00ef\\u00bf\\u002fBREAK MY SOUL\",\"Artist\\u002fDavid Guetta, Anne-Marie, Coi Leray\\u002fBaby Don't Hurt Me\",\"Artist\\u002fTaylor Swift\\u002fBack To December (Taylor's Version)\",\"Artist\\u002fDrake\\u002fBackOutsideBoyz\",\"Artist\\u002fSteve Lacy\\u002fBad Habit\",\"Artist\\u002fMc Vitin Da Igrejinha, MC Tairon, DJ Win\\u002fBaile no Morro\",\"Artist\\u002fCamila Cabello, Ed Sheeran\\u002fBam Bam (feat. Ed Sheeran)\",\"Artist\\u002fLuciano, Aitch, B\\u00ef\\u00bf\\u00bd\\u002fBamba (feat. Aitch & BIA)\",\"Artist\\u002fTini, L-Gante\\u002fBar\",\"Artist\\u002fLuciano\\u002fBeautiful Girl\",\"Artist\\u002fFuerza Regida, Grupo Frontera\\u002fBebe Dame\",\"Artist\\u002fLewis Capaldi\\u002fBefore You Go\",\"Artist\\u002fM\\u00ef\\u00bf\\u00bd\\u00ef\\u00bf\\u00bdne\\u002fBeggin\",\"Artist\\u002fTaylor Swift\\u002fBejeweled\",\"Artist\\u002fImagine Dragons\\u002fBeliever\",\"Artist\\u002fBYOR, Imanbek\\u002fBelly Dancer\",\"Artist\\u002fVishal-Shekhar, Shilpa Rao, Caralisa Monteiro, Kumaar, Vishal Dadlani, Shekhar Ravjiani\\u002fBesharam Rang (From \\\"Pathaan\\\")\",\"Artist\\u002fWisin & Yandel, ROSAL\\u00ef\\u00bf\\u00bd\\u002fBesos Moja2\",\"Artist\\u002fThe Weeknd\\u002fBest Friends\",\"Artist\\u002fTaylor Swift\\u002fBetter Than Revenge (Taylor's Version)\",\"Artist\\u002fYung Gravy\\u002fBetty (Get Money)\",\"Artist\\u002fTaylor Swift\\u002fBigger Than The Whole Sky\",\"Artist\\u002fENHYPEN\\u002fBite Me\",\"Artist\\u002fTaylor Swift\\u002fBlank Space\",\"Artist\\u002fENHYPEN\\u002fBlessed-Cursed\",\"Artist\\u002fSZA\\u002fBlind\",\"Artist\\u002fLady Gaga\\u002fBloody Mary\",\"Artist\\u002fIsrael & Rodolffo, Ana Castela\\u002fBombonzinho - Ao Vivo\",\"Artist\\u002fImagine Dragons\\u002fBones\",\"Artist\\u002fBillie Eilish\\u002fBored\",\"Artist\\u002fBTS\\u002fBorn Singer\",\"Artist\\u002fKanye West\\u002fBound 2\",\"Artist\\u002fHalsey, BTS\\u002fBoy With Luv (feat. Halsey)\",\"Artist\\u002fPinkPantheress\\u002fBoy's a liar\",\"Artist\\u002fPinkPantheress, Ice Spice\\u002fBoy's a liar Pt. 2\",\"Artist\\u002fDove Cameron\\u002fBoyfriend\",\"Artist\\u002fMahmood, Blanco\\u002fBrividi\",\"Artist\\u002fDrake, 21 Savage\\u002fBroke Boys\",\"Artist\\u002fNicki Minaj, Lil Baby\\u002fBussin\",\"Artist\\u002fBTS\\u002fButter\",\"Artist\\u002fMarshmello, Juice WRLD\\u002fBye Bye\",\"Artist\\u002fKarol G, Ovy On The Drums\\u002fCAIRO\",\"Artist\\u002fFeid\\u002fCHORRITO PA LAS ANIMAS\",\"Artist\\u002fMaria Becerra\\u002fCORAZ\\u00ef\\u00bf\\u00bd\\u00ef\\u00bf\\u00bdN VA\",\"Artist\\u002fBeyonc\\u00ef\\u00bf\\u002fCUFF IT\",\"Artist\\u002fLil Baby\\u002fCalifornia Breeze\",\"Artist\\u002fDr. Dre, 2Pac, Roger\\u002fCalifornia Love - Original Version (Explicit)\",\"Artist\\u002fThe Weeknd\\u002fCall Out My Name\",\"Artist\\u002fBad Bunny, Tainy\\u002fCallaita\",\"Artist\\u002fR\\u00ef\\u00bf\\u00bd\\u00ef\\u00bf\\u00bdma, Selena G\\u002fCalm Down (with Selena Gomez)\",\"Artist\\u002fRay Dalton, Ryan Lewis, Macklemore\\u002fCan't Hold Us (feat. Ray Dalton)\",\"Artist\\u002fJames Arthur\\u002fCar's Outside\",\"Artist\\u002fMC Caverinha, KayBlack\\u002fCart\\u00ef\\u00bf\\u00bd\\u00ef\\u00bf\\u00bdo B\",\"Artist\\u002fMC Ryan SP, Love Funk, Mc Paiva ZS\\u002fCasei Com a Putaria\",\"Artist\\u002fPharrell Williams, Tyler, The Creator, 21 Savage\\u002fCash In Cash Out\",\"Artist\\u002fQuevedo, La Pantera, Juseph, Cruz Cafun\\u00ef\\u00bf\\u00bd\\u00ef\\u00bf\\u00bd, B\\u00ef\\u00bf\\u00bd\\u00ef\\u00bf\\u00bdjo, Abhir Hathi\\u002fCay\\u00ef\\u00bf\\u00bd\\u00ef\\u00bf\\u00bd La Noche (feat. Cruz Cafun\\u00ef\\u00bf\\u00bd\\u00ef\\u00bf\\u00bd, Abhir Hathi, Bejo, EL IMA)\",\"Artist\\u002fEd Sheeran\\u002fCelestial\",\"Artist\\u002fFuerza Regida, Natanael Cano\\u002fCh y la Pizza\",\"Artist\\u002fEden Mu\\u00ef\\u00bf\\u00bd\\u00ef\\u002fChale\",\"Artist\\u002fPaulo Londra\\u002fChance\",\"Artist\\u002fBecky G, Peso Pluma\\u002fChanel\",\"Artist\\u002fPost Malone\\u002fChemical\",\"Artist\\u002fShubh\\u002fCheques\",\"Artist\\u002fDarlene Love\\u002fChristmas (Baby Please Come Home)\",\"Artist\\u002fV\\u002fChristmas Tree\",\"Artist\\u002fJuice WRLD\\u002fCigarettes\",\"Artist\\u002fHarry Styles\\u002fCinema\",\"Artist\\u002fDrake, 21 Savage\\u002fCirco Loco\",\"Artist\\u002fKanye West, Alicia Keys, Fivio Foreign\\u002fCity of Gods\",\"Artist\\u002fFeid, Young Miko\\u002fClassy 101\",\"Artist\\u002fThe Chainsmokers, Halsey\\u002fCloser\",\"Artist\\u002fBad Bunny, Eladio Carrion\\u002fCoco Chanel\",\"Artist\\u002fDua Lipa, Elton John, Pnau\\u002fCold Heart - PNAU Remix\",\"Artist\\u002fQuevedo\\u002fColumbia\",\"Artist\\u002fSofia Carson\\u002fCome Back Home - From \\\"Purple Hearts\\\"\",\"Artist\\u002fLudwig Goransson, Foudeqush\\u002fCon La Brisa\",\"Artist\\u002fSZA\\u002fConceited\",\"Artist\\u002fRich The Kid, Matu\\u00ef\\u00bf\\u002fConex\\u00ef\\u00bf\\u00bd\\u00ef\\u00bf\\u00bdes de M\\u00ef\\u00bf\\u00bd\\u00ef\\u00bf\\u00bdfia (feat. Rich \",\"Artist\\u002fGODZZ__-, Zakaria\\u002fContection\",\"Artist\\u002fDemi Lovato\\u002fCool for the Summer\",\"Artist\\u002fKendrick Lamar\\u002fCount Me Out\",\"Artist\\u002fOneRepublic\\u002fCounting Stars\",\"Artist\\u002fDavid Guetta, Ella Henderson, Becky Hill\\u002fCrazy What Love Can Do\",\"Artist\\u002fRadiohead\\u002fCreep\",\"Artist\\u002fThe Weeknd, 21 Savage, Metro Boomin\\u002fCreepin'\",\"Artist\\u002fKendrick Lamar\\u002fCrown\",\"Artist\\u002fTaylor Swift\\u002fCruel Summer\",\"Artist\\u002fFifty Fifty\\u002fCupid\",\"Artist\\u002fFifty Fifty\\u002fCupid - Twin Ver.\",\"Artist\\u002fsped up 8282\\u002fCupid \\u00ef\\u00bf\\u00bd\\u00ef\\u00bf\\u00bd\\u00ef\\u00bf\\u00bd Twin Ver. (FIFTY FIFTY) \\u00ef\\u00bf\\u00bd\\u00ef\\u00bf\\u00bd\\u00ef\\u00bf\\u00bd Spe\",\"Artist\\u002fTini\\u002fCupido\",\"Artist\\u002fEd Sheeran\\u002fCurtains\",\"Artist\\u002fRauw Alejandro\\u002fC\\u00ef\\u00bf\\u00bd\\u00ef\\u00bf\\u00bd\",\"Artist\\u002fMc Pedrinho, Pedro Sampaio\\u002fDAN\\u00ef\\u00bf\\u00bd\\u00ef\\u00bf\\u00bdA\",\"Artist\\u002fROSAL\\u00ef\\u00bf\\u00bd\\u002fDESPECH\\u00ef\\u00bf\",\"Artist\\u002fTyler, The Creator\\u002fDOGTOOTH\",\"Artist\\u002fThe Neighbourhood\\u002fDaddy Issues\",\"Artist\\u002fBad Bunny, Jhay Cortez\\u002fDakiti\",\"Artist\\u002fDua Lipa\\u002fDance The Night (From Barbie The Album)\",\"Artist\\u002fRuth B.\\u002fDandelions\",\"Artist\\u002fOffset, JID\\u002fDanger (Spider) (Offset & JID)\",\"Artist\\u002fSteve Lacy\\u002fDark Red\",\"Artist\\u002fThe Weeknd\\u002fDawn FM\",\"Artist\\u002fHarry Styles\\u002fDaydreaming\",\"Artist\\u002fDavid Kushner\\u002fDaylight\",\"Artist\\u002fNat King Cole\\u002fDeck The Hall - Remastered 1999\",\"Artist\\u002fC. Tangana\\u002fDemasiadas Mujeres\",\"Artist\\u002fImagine Dragons\\u002fDemons\",\"Artist\\u002fChencho Corleone, Rauw Alejandro\\u002fDesesperados\",\"Artist\\u002fBad Bunny\\u002fDespu\\u00ef\\u00bf\\u00bd\\u00ef\\u00bf\\u00bds de la P\",\"Artist\\u002fGrupo Marca Registrada, Grupo Frontera\\u002fDi Que Si\",\"Artist\\u002fJoji\\u002fDie For You\",\"Artist\\u002fThe Weeknd\\u002fDie For You\",\"Artist\\u002fAriana Grande, The Weeknd\\u002fDie For You - Remix\",\"Artist\\u002fKendrick Lamar, Blxst, Amanda Reifer\\u002fDie Hard\",\"Artist\\u002fSleepy hallow, 347aidan\\u002fDie Young (feat. 347aidan)\",\"Artist\\u002fFuerza Regida, Chino Pacas\\u002fDijeron Que No La Iba Lograr\",\"Artist\\u002fNewJeans\\u002fDitto\",\"Artist\\u002fArctic Monkeys\\u002fDo I Wanna Know?\",\"Artist\\u002fCherish, ACRAZE\\u002fDo It To It\",\"Artist\\u002fNicki Minaj, Lil Baby\\u002fDo We Have A Problem?\",\"Artist\\u002fCentral Cee\\u002fDoja\",\"Artist\\u002fTi\\u00ef\\u00bf\\u00bd\\u00ef\\u00bf\\u00bdsto, Kar\\u002fDon't Be Shy\",\"Artist\\u002fDua Lipa\\u002fDon't Start Now\",\"Artist\\u002fDavid Guetta, Shakira, Black Eyed Peas\\u002fDon't You Worry\",\"Artist\\u002fRM, Colde\\u002fDon't ever say love me (feat. RM of BTS)\",\"Artist\\u002fTaylor Swift\\u002fDon\\u00ef\\u00bf\\u00bd\\u00ef\\u00bf\\u00bd\\u00ef\\u00bf\\u00bdt Bl\",\"Artist\\u002fThe Weeknd\\u002fDon\\u00ef\\u00bf\\u00bd\\u00ef\\u00bf\\u00bd\\u00ef\\u00bf\\u00bdt Break My\",\"Artist\\u002fBad Bunny\\u002fDos Mil 16\",\"Artist\\u002fThe Weeknd, Future\\u002fDouble Fantasy (with Future)\",\"Artist\\u002fLuude, Colin Hay\\u002fDown Under (feat. Colin Hay)\",\"Artist\\u002fAerosmith\\u002fDream On\",\"Artist\\u002fChris Rea\\u002fDriving Home for Christmas - 2019 Remaster\",\"Artist\\u002fJack Harlow\\u002fDua Lipa\",\"Artist\\u002fIVE\\u002fELEVEN\",\"Artist\\u002fAdele\\u002fEasy On Me\",\"Artist\\u002fBad Bunny\\u002fEfecto\",\"Artist\\u002fBad Bunny\\u002fEl Apag\\u00ef\\u00bf\\u00bd\",\"Artist\\u002fJunior H, Peso Pluma\\u002fEl Azul\",\"Artist\\u002fFeid, Myke Towers, Sky Rompiendo\\u002fEl Cielo\",\"Artist\\u002fChino Pacas\\u002fEl Gordo Trae El Mando\",\"Artist\\u002fMarshmello, Manuel Turizo\\u002fEl Merengue\",\"Artist\\u002fGrupo Marca Registrada, Junior H\\u002fEl Rescate\",\"Artist\\u002fEslabon Armado, Peso Pluma\\u002fElla Baila Sola\",\"Artist\\u002fVictor Cibrian\\u002fEn El Radio Un Cochinero\",\"Artist\\u002fFeid, Sech, Jhayco\\u002fEn La De Ella\",\"Artist\\u002fEl Chachito, Junior H\\u002fEn Paris\",\"Artist\\u002fTaylor Swift\\u002fEnchanted\",\"Artist\\u002fTaylor Swift\\u002fEnchanted (Taylor's Version)\",\"Artist\\u002fImagine Dragons, League of Legends, JID, Arcane\\u002fEnemy (with JID) - from the series Arcane League of Legends\",\"Artist\\u002fImagine Dragons, League of Legends, Arcane\\u002fEnemy - from the series Arcane League of Legends\",\"Artist\\u002fBad Bunny\\u002fEns\\u00ef\\u00bf\\u00bd\\u00ef\\u00bf\\u00bd\\u00ef\\u00bf\\u00bd\\u00ef\\u00bf\\u00bdame \",\"Artist\\u002fLit Killah, Maria Becerra, Tiago pzk, NICKI NICOLE\\u002fEntre Nosotros (Remix) [con Nicki Nicole]\",\"Artist\\u002fAnitta\\u002fEnvolver\",\"Artist\\u002fSimone Mendes\\u002fErro Gostoso - Ao Vivo\",\"Artist\\u002fPlan B\\u002fEs un Secreto\",\"Artist\\u002fRAYE, 070 Shake\\u002fEscapism.\",\"Artist\\u002fRAYE, 070 Shake\\u002fEscapism. - Sped Up\",\"Artist\\u002fMar\\u00ef\\u00bf\\u00bd\\u00ef\\u00bf\\u00bdlia Mendon\\u00ef\\u00bf\\u00bd\\u00ef\\u00bf\\u00bda, Maiara &\\u002fEsque\\u00ef\\u00bf\\u00bd\\u00ef\\u00bf\\u00bda-Me Se For C\",\"Artist\\u002fOmar Apollo\\u002fEvergreen (You Didn\\u00ef\\u00bf\\u00bd\\u00ef\\u00bf\\u00bd\\u00ef\\u00bf\\u00bdt Deserve Me A\",\"Artist\\u002fThe Police\\u002fEvery Breath You Take - Remastered 2003\",\"Artist\\u002fNIKI\\u002fEvery Summertime\",\"Artist\\u002fTears For Fears\\u002fEverybody Wants To Rule The World\",\"Artist\\u002fMorgan Wallen\\u002fEverything I Love\",\"Artist\\u002fDJ Escobar, MC MENOR SG, MC MENOR HR\\u002fEvoque Prata\",\"Artist\\u002fIntense, AP Dhillon, Gurinder Gill\\u002fExcuses\",\"Artist\\u002fEd Sheeran\\u002fEyes Closed\",\"Artist\\u002fSZA\\u002fF2F\",\"Artist\\u002fLE SSERAFIM\\u002fFEARLESS\",\"Artist\\u002fJISOO\\u002fFLOWER\",\"Artist\\u002fDrake, Travis Scott\\u002fFair Trade (with Travis Scott)\",\"Artist\\u002fHarry Styles\\u002fFalling\",\"Artist\\u002fSZA\\u002fFar\",\"Artist\\u002fLuke Combs\\u002fFast Car\",\"Artist\\u002fKendrick Lamar, Sampha\\u002fFather Time (feat. Sampha)\",\"Artist\\u002fFeid\\u002fFeliz Cumplea\\u00ef\\u00bf\\u00bd\\u00ef\\u00bf\\u00bdos Fe\",\"Artist\\u002fJos\\u00ef\\u00bf\\u00bd\\u00ef\\u00bf\\u00bd Felic\\u002fFeliz Navidad\",\"Artist\\u002fJames Hype, Miggy Dela Rosa\\u002fFerrari\",\"Artist\\u002fFeid\\u002fFerxxo 100\",\"Artist\\u002fteto\\u002fFim de Semana no Rio\",\"Artist\\u002fLauren Spencer Smith, Lauren Spencer Smith, Lauren Spencer Smith\\u002fFingers Crossed\",\"Artist\\u002fJack Harlow\\u002fFirst Class\",\"Artist\\u002fLauren Spencer Smith\\u002fFlowers\",\"Artist\\u002fBTS\\u002fFor Youth\",\"Artist\\u002fLabrinth\\u002fForever\",\"Artist\\u002fLewis Capaldi\\u002fForget Me\",\"Artist\\u002fEminem, Dr. Dre\\u002fForgot About Dre\",\"Artist\\u002fLabrinth\\u002fFormula\",\"Artist\\u002fSurf Curse\\u002fFreaks\",\"Artist\\u002fTyga, Doja Cat\\u002fFreaky Deaky\",\"Artist\\u002fRiton, Nightcrawlers, Mufasa & Hypeman, Dopamine\\u002fFriday (feat. Mufasa & Hypeman) - Dopamine Re-Edit\",\"Artist\\u002fYahritza Y Su Esencia, Grupo Frontera\\u002fFr\\u00ef\\u00bf\\u00bd\\u00ef\\u00bf\\u00bdgil (feat. Grupo Front\",\"Artist\\u002fDanny Ocean\\u002fFuera del mercado\",\"Artist\\u002fMaldy, Karol G\\u002fGAT\\u00ef\\u00bf\\u00bd\\u00ef\\u00bf\\u00bd\",\"Artist\\u002fDuki\\u002fGIVENCHY\",\"Artist\\u002fThe Weeknd\\u002fGasoline\",\"Artist\\u002fBellakath\\u002fGatita\",\"Artist\\u002fNengo Flow, Bad Bunny\\u002fGato de Noche\",\"Artist\\u002fDoja Cat\\u002fGet Into It (Yuh)\",\"Artist\\u002fPharrell Williams, Nile Rodgers, Daft Punk\\u002fGet Lucky - Radio Edit\",\"Artist\\u002fSZA, Phoebe Bridgers\\u002fGhost in the Machine (feat. Phoebe Bridgers)\",\"Artist\\u002fYung Lean\\u002fGinseng Strip 2002\",\"Artist\\u002fJoji\\u002fGlimpse of Us\",\"Artist\\u002fMc Pedrinho, DJ 900\\u002fGol Bolinha, Gol Quadrado 2\",\"Artist\\u002fHarry Styles\\u002fGolden\",\"Artist\\u002fSZA\\u002fGone Girl\",\"Artist\\u002fSZA\\u002fGood Days\",\"Artist\\u002fSuki Waterhouse\\u002fGood Looking\",\"Artist\\u002fEminem, Dr. Dre\\u002fGospel (with Eminem)\",\"Artist\\u002fHarry Styles\\u002fGrapejuice\",\"Artist\\u002fNF\\u002fHAPPY\",\"Artist\\u002fKendrick Lamar\\u002fHUMBLE.\",\"Artist\\u002fAgust D\\u002fHaegeum\",\"Artist\\u002fJohn Lennon, The Harlem Community Choir, The Plastic Ono Band, Yoko Ono\\u002fHappy Xmas (War Is Over)\",\"Artist\\u002fTulus\\u002fHati-Hati di Jalan\",\"Artist\\u002fMac DeMarco\\u002fHeart To Heart\",\"Artist\\u002fKanye West\\u002fHeartless\",\"Artist\\u002fConan Gray\\u002fHeather\",\"Artist\\u002fNiall Horan\\u002fHeaven\",\"Artist\\u002fThe Weeknd, Tyler, The Creator\\u002fHere We Go\\u00ef\\u00bf\\u00bd\\u00ef\\u00bf\\u00bd\\u00ef\\u00bf\\u00bd Again (feat. Tyler, the Cr\",\"Artist\\u002fd4vd\\u002fHere With Me\",\"Artist\\u002fOzuna, Feid\\u002fHey Mor\",\"Artist\\u002fBaby Tate\\u002fHey, Mickey!\",\"Artist\\u002fTaylor Swift\\u002fHits Different\",\"Artist\\u002fLady Gaga\\u002fHold My Hand\",\"Artist\\u002fMichael Bubl\\u00ef\\u00bf\\u002fHolly Jolly Christmas\",\"Artist\\u002fJustin Bieber, Don Toliver\\u002fHonest (feat. Don Toliver)\",\"Artist\\u002fXXXTENTACION\\u002fHope\",\"Artist\\u002fKanye West, Lil Durk, Cardi B\\u002fHot Shit (feat. Ye & Lil Durk)\",\"Artist\\u002fPanic! At The Disco\\u002fHouse Of Memories\",\"Artist\\u002fThe Weeknd\\u002fHow Do I Make You Love Me?\",\"Artist\\u002fDean Lewis\\u002fHow Do I Say Goodbye\",\"Artist\\u002fMuni Long\\u002fHrs and Hrs\",\"Artist\\u002fJames Blake, Metro Boomin\\u002fHummingbird (Metro Boomin & James Blake)\",\"Artist\\u002fNewJeans\\u002fHype Boy\",\"Artist\\u002fIVE\\u002fI AM\",\"Artist\\u002fEmmy Meli\\u002fI AM WOMAN\",\"Artist\\u002fTaylor Swift\\u002fI Can See You (Taylor\\u00ef\\u00bf\\u00bd\\u00ef\\u00bf\\u00bd\\u00ef\\u00bf\\u00bds Version) (From The \",\"Artist\\u002fSZA\\u002fI Hate U\",\"Artist\\u002fThe Weeknd, Lil Wayne\\u002fI Heard You're Married (feat. Lil Wayne)\",\"Artist\\u002fKanii, PR1ISVX\\u002fI Know - PR1SVX Edit\",\"Artist\\u002fPost Malone, Doja Cat\\u002fI Like You (A Happier Song) (with Doja Cat)\",\"Artist\\u002fThe Walters\\u002fI Love You So\",\"Artist\\u002fUgly Dray, Tesla Jnr\\u002fI Tried to Tell Y'all\",\"Artist\\u002fM\\u00ef\\u00bf\\u00bd\\u00ef\\u00bf\\u00bdne\\u002fI WANNA BE YOUR SLAVE\",\"Artist\\u002fThe Weeknd, Gesaffelstein\\u002fI Was Never There\",\"Artist\\u002fMorgan Wallen\\u002fI Wrote The Book\",\"Artist\\u002fBebe Rexha, David Guetta\\u002fI'm Good (Blue)\",\"Artist\\u002fSam Smith\\u002fI'm Not The Only One\",\"Artist\\u002fBlackbear, BoyWithUke\\u002fIDGAF (with blackbear)\",\"Artist\\u002fMae Stephens\\u002fIf We Ever Broke Up\",\"Artist\\u002fFuerza Regida, Peso Pluma\\u002fIgualito a Mi Ap\\u00ef\\u00bf\",\"Artist\\u002f50 Cent\\u002fIn Da Club\",\"Artist\\u002fLil Tjay\\u002fIn My Head\",\"Artist\\u002fLinkin Park\\u002fIn The End\",\"Artist\\u002fBenson Boone\\u002fIn The Stars\",\"Artist\\u002fJaymes Young\\u002fInfinity\",\"Artist\\u002fThe Goo Goo Dolls\\u002fIris\",\"Artist\\u002fThe Weeknd\\u002fIs There Someone Else?\",\"Artist\\u002fShawn Mendes\\u002fIt'll Be Okay\",\"Artist\\u002fMichael Bubl\\u00ef\\u00bf\\u002fIt's Beginning To Look A Lot Like Christmas\",\"Artist\\u002fPerry Como, The Fontane Sisters, Mitchell Ayres & His Orchestra\\u002fIt's Beginning to Look a Lot Like Christmas (with Mitchell Ayres & His Orchestra)\",\"Artist\\u002fAndy Williams\\u002fIt's the Most Wonderful Time of the Year\",\"Artist\\u002fLuis R Conriquez, La Adictiva\\u002fJGL\",\"Artist\\u002fArijit Singh, Vishal Dadlani, Sukriti Kakar, Vishal-Shekhar, Shekhar Ravjiani, Kumaar\\u002fJhoome Jo Pathaan\",\"Artist\\u002fFrank Sinatra\\u002fJingle Bells - Remastered 1999\",\"Artist\\u002fRyan Castro\\u002fJordan\",\"Artist\\u002fBruno Mars\\u002fJust The Way You Are\",\"Artist\\u002fLil Uzi Vert\\u002fJust Wanna Rock\",\"Artist\\u002fKenshi Yonezu\\u002fKICK BACK\",\"Artist\\u002fOxlade\\u002fKU LO SA - A COLORS SHOW\",\"Artist\\u002fKaifi Khalil\\u002fKahani Suno 2.0\",\"Artist\\u002fTaylor Swift\\u002fKarma\",\"Artist\\u002fTaylor Swift, Ice Spice\\u002fKarma (feat. Ice Spice)\",\"Artist\\u002fHarry Styles\\u002fKeep Driving\",\"Artist\\u002fSZA\\u002fKill Bill\",\"Artist\\u002fSZA, Doja Cat\\u002fKiss Me More (feat. SZA)\",\"Artist\\u002fDrake, Project Pat, 21 Savage\\u002fKnife Talk (with 21 Savage ft. Project Pat)\",\"Artist\\u002fRaim Laode\\u002fKomang\",\"Artist\\u002fJ Balvin, Bad Bunny\\u002fLA CANCI\\u00ef\\u00bf\\u00bd\",\"Artist\\u002fFeid, Mora\\u002fLA INOCENTE\",\"Artist\\u002fGabito Ballesteros, Junior H, Peso Pluma\\u002fLADY GAGA\",\"Artist\\u002fJasiel Nu\\u00ef\\u00bf\\u00bd\\u00ef\\u00bf\\u00bdez, Peso P\\u002fLAGUNAS\",\"Artist\\u002fMyke Towers\\u002fLALA\",\"Artist\\u002fCentral Cee\\u002fLET GO\",\"Artist\\u002fROSAL\\u00ef\\u00bf\\u00bd\\u002fLLYLM\",\"Artist\\u002fBrray, Rauw Alejandro, Lyanno\\u002fLOKERA\",\"Artist\\u002fIVE\\u002fLOVE DIVE\",\"Artist\\u002fJunior H, Peso Pluma\\u002fLUNA\",\"Artist\\u002fManuel Turizo\\u002fLa Bachata\",\"Artist\\u002fYng Lvcas\\u002fLa Bebe\",\"Artist\\u002fPeso Pluma, Yng Lvcas\\u002fLa Bebe - Remix\",\"Artist\\u002fTony Dize, Bad Bunny\\u002fLa Corriente\",\"Artist\\u002fArcangel, Bad Bunny\\u002fLa Jumpa\",\"Artist\\u002fNengo Flow, Anuel Aa, Chris Jedi, Chencho Corleone\\u002fLa Llevo Al Cielo (Ft. \\u00ef\\u00bf\\u00bd\\u00ef\\u00bf\\u00bdengo F\",\"Artist\\u002fAnitta, Tini, Becky G\\u002fLa Loto\",\"Artist\\u002fDaddy Yankee, Bad Bunny\\u002fLa Santa\",\"Artist\\u002fBad Bunny\\u002fLa Zona\",\"Artist\\u002fFeid\\u002fLady Mi Amor\",\"Artist\\u002fBLESSD, Peso Pluma\\u002fLas Morras\",\"Artist\\u002fBurna Boy\\u002fLast Last\",\"Artist\\u002fMorgan Wallen\\u002fLast Night\",\"Artist\\u002fHarry Styles\\u002fLate Night Talking\",\"Artist\\u002fTaylor Swift\\u002fLavender Haze\",\"Artist\\u002fSch\\u00ef\\u00bf\\u00bd\\u00ef\\u00bf\\u00bdrze, DJ R\\u002fLayla\",\"Artist\\u002fMarshmello, Jonas Brothers\\u002fLeave Before You Love Me (with Jonas Brothers)\",\"Artist\\u002fBruno Mars, Anderson .Paak, Silk Sonic\\u002fLeave The Door Open\",\"Artist\\u002fCharlie Puth, BTS, Jung Kook\\u002fLeft and Right (Feat. Jung Kook of BTS)\",\"Artist\\u002fDean Martin\\u002fLet It Snow! Let It Snow! Let It Snow!\",\"Artist\\u002fFrank Sinatra, B. Swanson Quartet\\u002fLet It Snow! Let It Snow! Let It Snow!\",\"Artist\\u002fAlec Benjamin\\u002fLet Me Down Slowly\",\"Artist\\u002fDua Lipa\\u002fLevitating\",\"Artist\\u002fDua Lipa, DaBaby\\u002fLevitating (feat. DaBaby)\",\"Artist\\u002fAnuel Aa, Jhay Cortez\\u002fLey Seca\",\"Artist\\u002fMar\\u00ef\\u00bf\\u00bd\\u00ef\\u00bf\\u00bdlia Mendo\\u002fLe\\u00ef\\u00bf\\u00bd\",\"Artist\\u002fRihanna\\u002fLift Me Up - From Black Panther: Wakanda Forever - Music From and Inspired By\",\"Artist\\u002fCharlie Puth\\u002fLight Switch\",\"Artist\\u002fJimin\\u002fLike Crazy\",\"Artist\\u002fJimin\\u002fLike Crazy (English Version)\",\"Artist\\u002fHalsey, Suga\\u002fLilith (feat. SUGA of BTS) (Diablo IV Anthem)\",\"Artist\\u002fFreddie Dredd\\u002fLimbo\",\"Artist\\u002fWizKid, Toian, Metro Boomin, Don Toliver, Beam\\u002fLink Up (Metro Boomin & Don Toliver, Wizkid feat. BEAM & Toian) - Spider-Verse Remix (Spider-Man: Across the Spider-Verse )\",\"Artist\\u002fHarry Styles\\u002fLittle Freak\",\"Artist\\u002fJulieta Venegas, Bad Bunny, Tainy\\u002fLo Siento BB:\\u002f (with Bad Bunny & Julieta Venegas)\",\"Artist\\u002fBruno Mars\\u002fLocked Out Of Heaven\",\"Artist\\u002fEminem\\u002fLose Yourself - Soundtrack Version\",\"Artist\\u002fFrank Ocean\\u002fLost\",\"Artist\\u002fThe Weeknd, Gesaffelstein\\u002fLost in the Fire\",\"Artist\\u002fThe Kid Laroi\\u002fLove Again\",\"Artist\\u002fEdison Lighthouse\\u002fLove Grows (Where My Rosemary Goes)\",\"Artist\\u002fSZA\\u002fLove Language\",\"Artist\\u002fHarry Styles\\u002fLove Of My Life\",\"Artist\\u002fJustin Bieber\\u002fLove Yourself\",\"Artist\\u002fTaylor Swift\\u002fLover\",\"Artist\\u002fTV Girl\\u002fLovers Rock\",\"Artist\\u002fTreyce\\u002fLovezinho\",\"Artist\\u002fJuice WRLD\\u002fLucid Dreams\",\"Artist\\u002fStromae\\u002fL\\u00ef\\u00bf\\u00bd\\u00ef\\u00bf\\u00bd\\u00ef\\u00bf\",\"Artist\\u002fKarol G, Becky G\\u002fMAMIII\",\"Artist\\u002fStray Kids\\u002fMANIAC\",\"Artist\\u002fMigrantes, LiL CaKe, Nico Valdi\\u002fMERCHO\",\"Artist\\u002fINTERWORLD\\u002fMETAMORPHOSIS\",\"Artist\\u002fElley Duh\\u00ef\\u00bf\\u002fMIDDLE OF THE NIGHT\",\"Artist\\u002fTainy, Bad Bunny\\u002fMOJABI GHOST\",\"Artist\\u002fAyparia, unxbected\\u002fMONTAGEM - FR PUNK\",\"Artist\\u002fj-hope\\u002fMORE\",\"Artist\\u002fKing\\u002fMaan Meri Jaan\",\"Artist\\u002fMeghan Trainor\\u002fMade You Look\",\"Artist\\u002fDrake, 21 Savage\\u002fMajor Distribution\",\"Artist\\u002fJain\\u002fMakeba\",\"Artist\\u002fKenia OS\\u002fMalas Decisiones\",\"Artist\\u002fZ\\u00ef\\u00bf\\u00bd\\u00ef\\u00bf\\u00bd Fe\\u002fMalvada\",\"Artist\\u002fXam\\u00ef\\u00bf\\u00bd\\u00ef\\u00bf\\u00bd, Gustah, Neo B\\u002fMalvad\\u00ef\\u00bf\\u00bd\\u00ef\\u00bf\",\"Artist\\u002fQuevedo, Jhayco\\u002fMami Chula\",\"Artist\\u002fMorgan Wallen, Eric Church\\u002fMan Made A Bar (feat. Eric Church)\",\"Artist\\u002fDuki, NICKI NICOLE, Cris Mj, Standly, Stars Music Chile\\u002fMarisola - Remix\",\"Artist\\u002fTaylor Swift\\u002fMaroon\",\"Artist\\u002fGhost\\u002fMary On A Cross\",\"Artist\\u002fMambo Kingz, DJ Luian, Anuel Aa\\u002fMas Rica Que Ayer\",\"Artist\\u002fDrake\\u002fMassive\",\"Artist\\u002fMetallica\\u002fMaster of Puppets (Remastered)\",\"Artist\\u002fTaylor Swift\\u002fMastermind\",\"Artist\\u002fHarry Styles\\u002fMatilda\",\"Artist\\u002fBad Bunny\\u002fMe Fui de Vacaciones\",\"Artist\\u002fChencho Corleone, Bad Bunny\\u002fMe Porto Bonito\",\"Artist\\u002fChildish Gambino\\u002fMe and Your Mama\",\"Artist\\u002fJustin Quiles, Lenny Tav\\u00ef\\u00bf\\u00bd\\u00ef\\u00bf\\u00bdrez, BL\\u002fMedallo\",\"Artist\\u002fTHE ANXIETY, Willow, Tyler Cole\\u002fMeet Me At Our Spot\",\"Artist\\u002fMambo Kingz, DJ Luian, Anuel Aa\\u002fMejor Que Yo\",\"Artist\\u002fMaroon 5\\u002fMemories\",\"Artist\\u002fShakin' Stevens\\u002fMerry Christmas Everyone\",\"Artist\\u002fNatanael Cano\\u002fMi Bello Angel\",\"Artist\\u002fTaylor Swift\\u002fMine (Taylor's Version)\",\"Artist\\u002fCalvin Harris, Ellie Goulding\\u002fMiracle (with Ellie Goulding)\",\"Artist\\u002fKendrick Lamar\\u002fMirror\",\"Artist\\u002fDavid Kushner\\u002fMiserable Man\",\"Artist\\u002fRobin Schulz, Oliver Tree\\u002fMiss You\",\"Artist\\u002fSouthstar\\u002fMiss You\",\"Artist\\u002fJustin Bieber\\u002fMistletoe\",\"Artist\\u002fTini, Maria Becerra\\u002fMi\\u00ef\\u00bf\\u00bd\\u00ef\\u00bf\\u00bdn\",\"Artist\\u002fEminem\\u002fMockingbird\",\"Artist\\u002fAitana, zzoilo\\u002fMon Amour - Remix\",\"Artist\\u002fKendrick Lamar, Jay Rock\\u002fMoney Trees\",\"Artist\\u002fYEAT\\u002fMon\\u00ef\\u00bf\\u00bd\\u00ef\\u00bf\\u00bdy so\",\"Artist\\u002fKali Uchis\\u002fMoonlight\",\"Artist\\u002fBad Bunny\\u002fMoscow Mule\",\"Artist\\u002fKendrick Lamar, Beth Gibbons\\u002fMother I Sober (feat. Beth Gibbons of Portishead)\",\"Artist\\u002fThe Killers\\u002fMr. Brightside\",\"Artist\\u002fKendrick Lamar, Tanna Leone\\u002fMr. Morale\",\"Artist\\u002fRyan Castro\\u002fMujeriego\",\"Artist\\u002fKordhell\\u002fMurder In My Mind\",\"Artist\\u002fHarry Styles\\u002fMusic For a Sushi Restaurant\",\"Artist\\u002fSteve Aoki, Tini, La Joaqui\\u002fMu\\u00ef\\u00bf\\u00bd\\u00ef\\u00bf\\u00bd\",\"Artist\\u002fSelena Gomez\\u002fMy Mind & Me\",\"Artist\\u002fColdplay, BTS\\u002fMy Universe\",\"Artist\\u002fKendrick Lamar\\u002fN95\",\"Artist\\u002fTyler, The Creator\\u002fNEW MAGIC WAND\",\"Artist\\u002fJack Harlow\\u002fNail Tech\",\"Artist\\u002fLabrinth\\u002fNever Felt So Alone\",\"Artist\\u002fBad Bunny\\u002fNeverita\",\"Artist\\u002fNewJeans\\u002fNew Jeans\",\"Artist\\u002fTravis Scott, 21 Savage, Metro Boomin\\u002fNiagara Falls (Foot or 2) [with Travis Scott & 21 Savage]\",\"Artist\\u002fSean Paul, Feid\\u002fNi\\u00ef\\u00bf\\u00bd\\u00ef\\u00bf\\u00bda Bo\",\"Artist\\u002fSean Paul, Dua Lipa\\u002fNo Lie\",\"Artist\\u002fJ. Cole\\u002fNo Role Modelz\",\"Artist\\u002fSZA\\u002fNobody Gets Me\",\"Artist\\u002fJordan Fisher, Josh Levi, Finneas O'Connell, 4*TOWN (From Disney and Pixar\\u00ef\\u00bf\\u00bd\\u00ef\\u00bf\\u00bd\\u00ef\\u00bf\\u00bds Turning Red), Topher Ngo, Grayson Vill\\u002fNobody Like U - From \\\"Turning Red\\\"\",\"Artist\\u002fSabrina Carpenter\\u002fNonsense\",\"Artist\\u002fFeid\\u002fNormal\",\"Artist\\u002fOzuna, Tiago pzk\\u002fNos Comemos (feat. Ozuna)\",\"Artist\\u002fAna Castela, AgroPlay\\u002fNosso Quadro\",\"Artist\\u002fChris Brown, Rvssian, Rauw Alejandro\\u002fNost\\u00ef\\u00bf\\u00bd\\u00ef\\u00bf\\u00bdl\",\"Artist\\u002fSZA\\u002fNotice Me\",\"Artist\\u002fThe Rare Occasions\\u002fNotion\",\"Artist\\u002fMc Livinho, DJ Matt D\\u002fNovidade na \\u00ef\\u00bf\\u00bd\\u00ef\\u00bf\",\"Artist\\u002fVeigh, Bvga Beatz, Supernova Ent, Prod Malax\\u002fNovo Balan\\u00ef\\u00bf\\u00bd\",\"Artist\\u002fLinkin Park\\u002fNumb\",\"Artist\\u002fEm Beihold\\u002fNumb Little Bug\",\"Artist\\u002f(G)I-DLE\\u002fNxde\",\"Artist\\u002fNMIXX\\u002fO.O\",\"Artist\\u002fNewJeans\\u002fOMG\",\"Artist\\u002fCharli XCX, Jax Jones, Joel Corry, Saweetie\\u002fOUT OUT (feat. Charli XCX & Saweetie)\",\"Artist\\u002fAbhijay Sharma, Riar Saab\\u002fObsessed\",\"Artist\\u002fAdele\\u002fOh My God\",\"Artist\\u002fZ\\u00ef\\u00bf\\u00bd\\u00ef\\u00bf\\u00bd Neto & Crist\\u002fOi Balde - Ao Vivo\",\"Artist\\u002fBomba Est\\u00ef\\u00bf\\u00bd\\u00ef\\u00bf\\u00bdreo, Bad B\\u002fOjitos Lindos\",\"Artist\\u002fLasso\\u002fOjos Marrones\",\"Artist\\u002fDrake, 21 Savage\\u002fOn BS\",\"Artist\\u002fJohn Legend, Metro Boomin\\u002fOn Time (with John Legend)\",\"Artist\\u002fDrake, WizKid, Kyla\\u002fOne Dance\",\"Artist\\u002fThe Weeknd, Post Malone\\u002fOne Right Now (with The Weeknd)\",\"Artist\\u002fMorgan Wallen\\u002fOne Thing At A Time\",\"Artist\\u002fPaloma Faith\\u002fOnly Love Can Hurt Like This\",\"Artist\\u002fSZA, Travis Scott\\u002fOpen Arms (feat. Travis Scott)\",\"Artist\\u002fBad Bunny, The Mar\\u00ef\\u00bf\\u00bd\\u00ef\\u002fOtro Atardecer\",\"Artist\\u002fPost Malone\\u002fOverdrive\",\"Artist\\u002fKarol G, Quevedo\\u002fPERO T\\u00ef\\u00bf\",\"Artist\\u002fMyke Towers, Quevedo\\u002fPLAYA DEL INGL\\u00ef\\u00bf\\u00bd\",\"Artist\\u002fFeid, Mora, Saiko, Quevedo\\u002fPOLARIS - Remix\",\"Artist\\u002fNayeon\\u002fPOP!\",\"Artist\\u002fNatanael Cano, Peso Pluma\\u002fPRC\",\"Artist\\u002fKarol G\\u002fPROVENZA\",\"Artist\\u002fFuture\\u002fPUFFIN ON ZOOTIEZ\",\"Artist\\u002fFeid, Alejo, Robi\\u002fPantysito\",\"Artist\\u002fBad Bunny, Rauw Alejandro\\u002fParty\",\"Artist\\u002fShae Gill, Ali Sethi\\u002fPasoori\",\"Artist\\u002fMusical Youth\\u002fPass The Dutchie\",\"Artist\\u002fJack Black\\u002fPeaches (from The Super Mario Bros. Movie)\",\"Artist\\u002fLibianca\\u002fPeople\",\"Artist\\u002fIU, Agust D\\u002fPeople Pt.2 (feat. IU)\",\"Artist\\u002fEd Sheeran\\u002fPerfect\",\"Artist\\u002fBTS\\u002fPermission to Dance\",\"Artist\\u002fEd Sheeran, Fireboy DML\\u002fPeru\",\"Artist\\u002fBizarrap, Peso Pluma\\u002fPeso Pluma: Bzrp Music Sessions, Vol. 55\",\"Artist\\u002fThe Weeknd\\u002fPhantom Regret by Jim\",\"Artist\\u002fArijit Singh, Sachin-Jigar, Amitabha Bhattacharya\\u002fPhir Aur Kya Chahiye (From \\\"Zara Hatke Zara Bachke\\\")\",\"Artist\\u002fEd Sheeran\\u002fPhotograph\",\"Artist\\u002fFrank Ocean\\u002fPink + White\",\"Artist\\u002fMelody, Ana Castela, Dj Chris No Beat\\u002fPipoco\",\"Artist\\u002fSemicenk, Do\\u00ef\\u00bf\\u00bd\\u00ef\\u00bf\\u00bdu \\u002fPi\\u00ef\\u00bf\\u00bd\\u00ef\\u00bf\\u00bdman De\\u00ef\\u00bf\",\"Artist\\u002fCoi Leray\\u002fPlayers\",\"Artist\\u002fLil Yachty\\u002fPoland\",\"Artist\\u002fENHYPEN\\u002fPolaroid Love\",\"Artist\\u002fSALES\\u002fPope Is a Rockstar\",\"Artist\\u002fThe Weeknd, Madonna, Playboi Carti\\u002fPopular (with Playboi Carti & Madonna) - The Idol Vol. 1 (Music from the HBO Original Series)\",\"Artist\\u002fCalvin Harris, Dua Lipa, Young Thug\\u002fPotion (with Dua Lipa & Young Thug)\",\"Artist\\u002fKanye West\\u002fPraise God\",\"Artist\\u002fCarin Leon\\u002fPrimera Cita\",\"Artist\\u002fNicki Minaj, Ice Spice\\u002fPrincess Diana (with Nicki Minaj)\",\"Artist\\u002fDon Toliver, Future, Justin Bieber\\u002fPrivate Landing (feat. Justin Bieber & Future)\",\"Artist\\u002fDrake, 21 Savage\\u002fPrivileged Rappers\",\"Artist\\u002fAlvaro Diaz, Rauw Alejandro\\u002fProblem\\u00ef\\u00bf\\u00bd\",\"Artist\\u002fFeid\\u002fProhibidox\",\"Artist\\u002fQuevedo\\u002fPunto G\",\"Artist\\u002fKendrick Lamar, Ghostface Killah, Summer Walker\\u002fPurple Hearts\",\"Artist\\u002fDrake, Travis Scott, 21 Savage\\u002fPussy & Millions (feat. Travis Scott)\",\"Artist\\u002fCarin Leon, Grupo Frontera\\u002fQue Vuelvas\",\"Artist\\u002f(G)I-DLE\\u002fQueencard\",\"Artist\\u002fTaylor Swift\\u002fQuestion...?\",\"Artist\\u002fBizarrap, Quevedo\\u002fQuevedo: Bzrp Music Sessions, Vol. 52\",\"Artist\\u002fYuridia, Angela Aguilar\\u002fQu\\u00ef\\u00bf\\u00bd\\u00ef\\u00bf\\u00bd Ago\",\"Artist\\u002fJ Balvin, Maria Becerra\\u002fQu\\u00ef\\u00bf\\u00bd\\u00ef\\u00bf\\u00bd M\\u00ef\\u00bf\\u00bd\\u00ef\\u00bf\",\"Artist\\u002fPolo G\\u002fRAPSTAR\",\"Artist\\u002fFeid\\u002fREMIX EXCLUSIVO\",\"Artist\\u002fDaddy Yankee\\u002fRUMBAT\\u00ef\\u00bf\\u00bd\",\"Artist\\u002fLana Del Rey\\u002fRadio\",\"Artist\\u002fTravis Scott, Metro Boomin\\u002fRaindrops (Insane) [with Travis Scott]\",\"Artist\\u002fTaiu, Milo j\\u002fRara Vez\",\"Artist\\u002fRauw Alejandro, Bizarrap\\u002fRauw Alejandro: Bzrp Music Sessions, Vol. 56\",\"Artist\\u002fNicki Minaj\\u002fRed Ruby Da Sleeze\",\"Artist\\u002fThe Weeknd\\u002fReminder\",\"Artist\\u002fResidente, Bizarrap\\u002fResidente: Bzrp Music Sessions, Vol. 49\",\"Artist\\u002fXXXTENTACION\\u002fRevenge\",\"Artist\\u002fKendrick Lamar\\u002fRich - Interlude\",\"Artist\\u002fDrake, 21 Savage\\u002fRich Flex\",\"Artist\\u002fKendrick Lamar\\u002fRich Spirit\",\"Artist\\u002fLil Baby\\u002fRight On\",\"Artist\\u002fVance Joy\\u002fRiptide\",\"Artist\\u002fAdele\\u002fRolling in the Deep\",\"Artist\\u002fd4vd\\u002fRomantic Homicide\",\"Artist\\u002fJasiel Nu\\u00ef\\u00bf\\u00bd\\u00ef\\u00bf\\u00bdez, Peso P\\u002fRosa Pastel\",\"Artist\\u002fSkrillex, Flowdan, Fred again..\\u002fRumble\",\"Artist\\u002fBTS\\u002fRun BTS\",\"Artist\\u002fChuck Berry\\u002fRun Rudolph Run - Single Version\",\"Artist\\u002fKate Bush\\u002fRunning Up That Hill (A Deal With God)\",\"Artist\\u002fTroye Sivan\\u002fRush\",\"Artist\\u002fStray Kids\\u002fS-Class\",\"Artist\\u002fFuerza Regida\\u002fSABOR FRESA\",\"Artist\\u002fJoji\\u002fSLOW DANCING IN THE DARK\",\"Artist\\u002fTyler, The Creator\\u002fSORRY NOT SORRY\",\"Artist\\u002fSZA\\u002fSOS\",\"Artist\\u002fSam Ryder\\u002fSPACE MAN\",\"Artist\\u002fThxSoMch\\u002fSPIT IN MY FACE!\",\"Artist\\u002fLil Nas X\\u002fSTAR WALKIN' (League of Legends Worlds Anthem)\",\"Artist\\u002fJustin Bieber, The Kid Laroi\\u002fSTAY (with Justin Bieber)\",\"Artist\\u002fDrake, DJ Khaled, Lil Baby\\u002fSTAYING ALIVE (feat. Drake & Lil Baby)\",\"Artist\\u002fM\\u00ef\\u00bf\\u00bd\\u00ef\\u00bf\\u00bdne\\u002fSUPERMODEL\",\"Artist\\u002fKali Uchis, Amaarae, Moliy\\u002fSad Girlz Luv Money Remix (feat. Kali Uchis)\",\"Artist\\u002fTrueno, Tiago pzk\\u002fSalimo de Noche\",\"Artist\\u002fKevin Kaarl\\u002fSan Lucas\",\"Artist\\u002fKendrick Lamar, Sam Dew, Baby Keem\\u002fSavior\",\"Artist\\u002fKendrick Lamar\\u002fSavior - Interlude\",\"Artist\\u002fLana Del Rey\\u002fSay Yes To Heaven\",\"Artist\\u002fJames Arthur\\u002fSay You Won't Let Go\",\"Artist\\u002fArcangel, De La Ghetto, Justin Quiles, Lenny Tav\\u00ef\\u00bf\\u00bd\\u00ef\\u00bf\\u00bdrez, Sech, Dalex, Dimelo Flow, Rich Music\\u002fSe Le Ve\",\"Artist\\u002fDrake\\u002fSearch & Rescue\",\"Artist\\u002fTyler, The Creator, Kali Uchis\\u002fSee You Again\",\"Artist\\u002fSZA\\u002fSeek & Destroy\",\"Artist\\u002fMetro Boomin, Coi Leray\\u002fSelf Love (Spider-Man: Across the Spider-Verse) (Metro Boomin & Coi Leray)\",\"Artist\\u002fPnB Rock\\u002fSelfish\",\"Artist\\u002fMC Xenon, Os Gemeos da Putaria\\u002fSem Alian\\u00ef\\u00bf\\u00bd\\u00ef\\u00bf\\u00bda no \",\"Artist\\u002fAdele\\u002fSet Fire to the Rain\",\"Artist\\u002fIsrael & Rodolffo, Mari Fernandez\\u002fSeu Brilho Sumiu - Ao Vivo\",\"Artist\\u002fLatto, Jung Kook\\u002fSeven (feat. Latto) (Explicit Ver.)\",\"Artist\\u002fBeach Weather\\u002fSex, Drugs, Etc.\",\"Artist\\u002fShawn Mendes, Camila Cabello\\u002fSe\\u00ef\\u00bf\\u00bd\\u00ef\\u00bf\\u00bdo\",\"Artist\\u002fTaylor Swift\\u002fShake It Off\",\"Artist\\u002fShakira, Bizarrap\\u002fShakira: Bzrp Music Sessions, Vol. 53\",\"Artist\\u002fLady Gaga, Bradley Cooper\\u002fShallow\",\"Artist\\u002fEd Sheeran\\u002fShape of You\",\"Artist\\u002fSZA\\u002fShirt\",\"Artist\\u002fTAEYANG, Lisa\\u002fShoong! (feat. LISA of BLACKPINK)\",\"Artist\\u002fCartel De Santa, La Kelly\\u002fShorty Party\",\"Artist\\u002fHotel Ugly\\u002fShut up My Moms Calling\",\"Artist\\u002fHotel Ugly\\u002fShut up My Moms Calling - (Sped Up)\",\"Artist\\u002fDe La Ghetto, Duki, Quevedo\\u002fSi Quieren Frontear\",\"Artist\\u002fFeid\\u002fSi Te La Encuentras Por Ah\\u00ef\\u00bf\",\"Artist\\u002fMahalini\\u002fSial\",\"Artist\\u002fEd Sheeran, J Balvin\\u002fSigue\",\"Artist\\u002fKendrick Lamar, Kodak Black\\u002fSilent Hill\",\"Artist\\u002fOvy On The Drums, Quevedo\\u002fSin Se\\u00ef\\u00bf\\u00bd\\u00ef\",\"Artist\\u002fPlayboi Carti\\u002fSky\",\"Artist\\u002fThe Ronettes\\u002fSleigh Ride\",\"Artist\\u002fChanel\\u002fSloMo\",\"Artist\\u002fNLE Choppa\\u002fSlut Me Out\",\"Artist\\u002fNirvana\\u002fSmells Like Teen Spirit - Remastered 2021\",\"Artist\\u002fBruno Mars, Anderson .Paak, Silk Sonic\\u002fSmokin Out The Window\",\"Artist\\u002fSZA\\u002fSmoking on my Ex Pack\",\"Artist\\u002fSZA\\u002fSnooze\",\"Artist\\u002fTaylor Swift, Lana Del Rey\\u002fSnow On The Beach (feat. Lana Del Rey)\",\"Artist\\u002fLana Del Rey, Taylor Swift\\u002fSnow On The Beach (feat. More Lana Del Rey)\",\"Artist\\u002fHalsey\\u002fSo Good\",\"Artist\\u002fMaluma\\u002fSobrio\",\"Artist\\u002fThe Neighbourhood\\u002fSoftcore\",\"Artist\\u002fNirvana\\u002fSomething In The Way - Remastered 2021\",\"Artist\\u002fThe Chainsmokers, Coldplay\\u002fSomething Just Like This\",\"Artist\\u002fZach Bryan\\u002fSomething in the Orange\",\"Artist\\u002fKeane\\u002fSomewhere Only We Know\",\"Artist\\u002fYahritza Y Su Esencia\\u002fSoy El Unico\",\"Artist\\u002fColdplay\\u002fSparks\",\"Artist\\u002fDrake, 21 Savage\\u002fSpin Bout U\",\"Artist\\u002fDave, Central Cee\\u002fSprinter\",\"Artist\\u002fEminem, Dido\\u002fStan\",\"Artist\\u002fLil Durk, Morgan Wallen\\u002fStand By Me (feat. Morgan Wallen)\",\"Artist\\u002fThe Weeknd, Daft Punk\\u002fStarboy\",\"Artist\\u002fThe Weeknd, Lana Del Rey\\u002fStargirl Interlude\",\"Artist\\u002fDave\\u002fStarlight\",\"Artist\\u002fThe Weeknd\\u002fStarry Eyes\",\"Artist\\u002fSteve Lacy\\u002fStatic\",\"Artist\\u002fJung Kook\\u002fStay Alive (Prod. SUGA of BTS)\",\"Artist\\u002fCalvin Harris, Halsey, Pharrell Williams, Justin Timberlake\\u002fStay With Me (with Justin Timberlake, Halsey, & Pharrell)\",\"Artist\\u002fKALUSH\\u002fStefania (Kalush Orchestra)\",\"Artist\\u002fDrake\\u002fSticky\",\"Artist\\u002fDr. Dre, Snoop Dogg\\u002fStill D.R.E.\",\"Artist\\u002fLabrinth\\u002fStill Don't Know My Name\",\"Artist\\u002fBIGBANG\\u002fStill Life\",\"Artist\\u002fJung Kook\\u002fStill With You\",\"Artist\\u002fDoja Cat\\u002fStreets\",\"Artist\\u002fTaylor Swift\\u002fStyle\",\"Artist\\u002fTOMORROW X TOGETHER\\u002fSugar Rush Ride\",\"Artist\\u002fLana Del Rey\\u002fSummertime Sadness\",\"Artist\\u002fPost Malone, Swae Lee\\u002fSunflower - Spider-Man: Into the Spider-Verse\",\"Artist\\u002fNicky Youre, Dazy\\u002fSunroof\",\"Artist\\u002fSEVENTEEN\\u002fSuper\",\"Artist\\u002fNicki Minaj\\u002fSuper Freaky Girl\",\"Artist\\u002fKodak Black\\u002fSuper Gremlin\",\"Artist\\u002fNewJeans\\u002fSuper Shy\",\"Artist\\u002fFuture, Chris Brown, Metro Boomin\\u002fSuperhero (Heroes & Villains) [with Future & Chris Brown]\",\"Artist\\u002fEminem, Dina Rae\\u002fSuperman\",\"Artist\\u002fMiguel\\u002fSure Thing\",\"Artist\\u002fJessica Darrow\\u002fSurface Pressure\",\"Artist\\u002fGuns N' Roses\\u002fSweet Child O' Mine\",\"Artist\\u002fDua Lipa, Megan Thee Stallion\\u002fSweetest Pie\",\"Artist\\u002fChase Atlantic\\u002fSwim\",\"Artist\\u002fAnuel Aa, Myke Towers, Jhay Cortez\\u002fS\\u00ef\\u00bf\\u00bd\\u00ef\\u00bf\\u00bd\",\"Artist\\u002fLil Nas X\\u002fTHATS WHAT I WANT\",\"Artist\\u002fM\\u00ef\\u00bf\\u00bd\\u00ef\\u00bf\\u00bdne\\u002fTHE LONELIEST\",\"Artist\\u002fRex Orange County\\u002fTHE SHADE\",\"Artist\\u002fJnr Choi\\u002fTO THE MOON\",\"Artist\\u002fKarol G, Shakira\\u002fTQG\",\"Artist\\u002fFuerza Regida\\u002fTQM\",\"Artist\\u002fP!nk\\u002fTRUSTFALL\",\"Artist\\u002fPeso Pluma, Grupo Frontera\\u002fTULUM\",\"Artist\\u002fSech, Mora\\u002fTUS L\\u00ef\\u00bf\\u00bd\\u00ef\\u00bf\\u00bdGR\",\"Artist\\u002fBillie Eilish\\u002fTV\",\"Artist\\u002fSebastian Yatra\\u002fTacones Rojos\",\"Artist\\u002fAnggi Marito\\u002fTak Segampang Itu\",\"Artist\\u002fHozier\\u002fTake Me To Church\",\"Artist\\u002fThe Weeknd\\u002fTake My Breath\",\"Artist\\u002fa-ha\\u002fTake On Me\",\"Artist\\u002fBTS\\u002fTake Two\",\"Artist\\u002fYEAT\\u002fTalk\",\"Artist\\u002fTWICE\\u002fTalk that Talk\",\"Artist\\u002fBruno Mars\\u002fTalking To The Moon\",\"Artist\\u002fBad Bunny, Jhay Cortez\\u002fTarot\",\"Artist\\u002fLoreen\\u002fTattoo\",\"Artist\\u002fShakira, Rauw Alejandro\\u002fTe Felicito\",\"Artist\\u002fSachin-Jigar, Shadab Faridi, Altamash Faridi, Amitabh Bhattacharya, Varun Jain\\u002fTere Vaaste (From \\\"Zara Hatke Zara Bachke\\\")\",\"Artist\\u002fPSY, Suga\\u002fThat That (prod. & feat. SUGA of BTS)\",\"Artist\\u002fCharlie Puth\\u002fThat's Hilarious\",\"Artist\\u002fJin\\u002fThe Astronaut\",\"Artist\\u002fTi\\u00ef\\u00bf\\u00bd\\u00ef\\u00bf\\u002fThe Business\",\"Artist\\u002fNat King Cole\\u002fThe Christmas Song (Merry Christmas To You) - Remastered 1999\",\"Artist\\u002fTory Lanez\\u002fThe Color Violet\",\"Artist\\u002fOlga Merediz, Stephanie Beatriz, Encanto - Cast\\u002fThe Family Madrigal\",\"Artist\\u002fTWICE\\u002fThe Feels\",\"Artist\\u002fTaylor Swift\\u002fThe Great War\",\"Artist\\u002fKendrick Lamar\\u002fThe Heart Part 5\",\"Artist\\u002fTi\\u00ef\\u00bf\\u00bd\\u00ef\\u00bf\\u00bdsto, Ava\\u002fThe Motto\",\"Artist\\u002fDr. Dre, Snoop Dogg\\u002fThe Next Episode\",\"Artist\\u002fLord Huron\\u002fThe Night We Met\",\"Artist\\u002fAvicii\\u002fThe Nights\",\"Artist\\u002fEminem\\u002fThe Real Slim Shady\",\"Artist\\u002fSiM\\u002fThe Rumbling (TV Size)\",\"Artist\\u002fColdplay\\u002fThe Scientist\",\"Artist\\u002fShawn Mendes\\u002fThere's Nothing Holdin' Me Back\",\"Artist\\u002fEd Sheeran\\u002fThinking Out Loud\",\"Artist\\u002fMorgan Wallen\\u002fThinkin\\u00ef\\u00bf\\u00bd\\u00ef\\u00bf\\u00bd\\u00ef\\u00bf\\u00bd B\",\"Artist\\u002fTaylor Swift\\u002fThis Love (Taylor\\u00ef\\u00bf\\u00bd\\u00ef\\u00bf\\u00bd\\u00ef\\u00bf\\u00bds Ve\",\"Artist\\u002fNew West\\u002fThose Eyes\",\"Artist\\u002fMorgan Wallen\\u002fThought You Should Know\",\"Artist\\u002fThe Kid Laroi\\u002fThousand Miles\",\"Artist\\u002fPrezioso, Gabry Ponte, LUM!X\\u002fThunder\",\"Artist\\u002fBizarrap, Tiago pzk\\u002fTiago PZK: Bzrp Music Sessions, Vol. 48\",\"Artist\\u002fBad Bunny\\u002fTiti Me Pregunt\\u00ef\\u00bf\",\"Artist\\u002fRauw Alejandro\\u002fTodo De Ti\",\"Artist\\u002fAnnenMayKantereit, Giant Rooks\\u002fTom's Diner\",\"Artist\\u002fSZA\\u002fToo Late\",\"Artist\\u002fFuture, Metro Boomin, Don Toliver\\u002fToo Many Nights (feat. Don Toliver & with Future)\",\"Artist\\u002fTravis Scott, Young Thug, Metro Boomin\\u002fTrance (with Travis Scott & Young Thug)\",\"Artist\\u002fKanye West, XXXTENTACION\\u002fTrue Love\",\"Artist\\u002fDj LK da Esc\\u00ef\\u00bf\\u00bd\\u00ef\\u00bf\\u00bdcia, Tchakabum, mc jhenny, M\\u002fTubar\\u00ef\\u00bf\\u00bd\\u00ef\\u00bf\\u00bdo Te\",\"Artist\\u002fBLACKPINK\\u002fTypa Girl\",\"Artist\\u002fdennis, MC Kevin o Chris\\u002fT\\u00ef\\u00bf\\u00bd\\u00ef\\u00bf\",\"Artist\\u002fPolima WestCoast, Pailita\\u002fULTRA SOLO\",\"Artist\\u002fDe La Ghetto, Feid, Polima WestCoast, Paloma Mami, Pailita\\u002fULTRA SOLO REMIX\",\"Artist\\u002fNile Rodgers, LE SSERAFIM\\u002fUNFORGIVEN (feat. Nile Rodgers)\",\"Artist\\u002fBad Bunny\\u002fUn Coco\",\"Artist\\u002fBig One, FMK, Ke personajes\\u002fUn Finde | CROSSOVER #2\",\"Artist\\u002fBad Bunny\\u002fUn Verano Sin Ti\",\"Artist\\u002fCris Mj\\u002fUna Noche en Medell\\u00ef\\u00bf\\u00bd\",\"Artist\\u002fKelly Clarkson\\u002fUnderneath the Tree\",\"Artist\\u002fSam Smith, Kim Petras\\u002fUnholy (feat. Kim Petras)\",\"Artist\\u002fKendrick Lamar\\u002fUnited In Grief\",\"Artist\\u002fStephen Sanchez\\u002fUntil I Found You\",\"Artist\\u002fEm Beihold, Stephen Sanchez\\u002fUntil I Found You (with Em Beihold) - Em Beihold Version\",\"Artist\\u002fSZA, Don Toliver\\u002fUsed (feat. Don Toliver)\",\"Artist\\u002fSebastian Yatra, Manuel Turizo, Be\\u00ef\\u00bf\\u00bd\\u00ef\\u002fVAGABUNDO\",\"Artist\\u002fMelanie Martinez\\u002fVOID\",\"Artist\\u002fMar\\u00ef\\u00bf\\u00bd\\u00ef\\u00bf\\u00bdlia Mendon\\u00ef\\u00bf\\u00bd\\u00ef\\u00bf\\u00bda, George Henrique &\\u002fVai L\\u00ef\\u00bf\\u00bd\\u00ef\\u00bf\\u00bd Em Casa \",\"Artist\\u002fMatu\\u00ef\\u00bf\\u00bd\\u00ef\\u00bf\\u00bd, Wiu, \\u002fVampiro\",\"Artist\\u002fDoja Cat\\u002fVegas (From the Original Motion Picture Soundtrack ELVIS)\",\"Artist\\u002fTaylor Swift\\u002fVigilante Shit\",\"Artist\\u002fBizarrap, Villano Antillano\\u002fVillano Antillano: Bzrp Music Sessions, Vol. 51\",\"Artist\\u002fColdplay\\u002fViva La Vida\",\"Artist\\u002fSech, Bad Bunny, Mora\\u002fVolando - Remix\",\"Artist\\u002fAventura, Bad Bunny\\u002fVolv\\u00ef\\u00bf\",\"Artist\\u002fDrake, Future, Tems\\u002fWAIT FOR U (feat. Drake & Tems)\",\"Artist\\u002fQuevedo\\u002fWANDA\",\"Artist\\u002fBad Bunny\\u002fWHERE SHE GOES\",\"Artist\\u002fTwisted, Oliver Tree\\u002fWORTH NOTHING\",\"Artist\\u002fWillow\\u002fWait a Minute!\",\"Artist\\u002fAvicii\\u002fWake Me Up - Radio Edit\",\"Artist\\u002fsped up nightcore, ARIZONATEARS, Lil Uzi Vert\\u002fWatch This - ARIZONATEARS Pluggnb Remix\",\"Artist\\u002fDrake, Future, Young Thug\\u002fWay 2 Sexy (with Future & Young Thug)\",\"Artist\\u002fKendrick Lamar, Taylour Paige\\u002fWe Cry Together\",\"Artist\\u002fRihanna, Calvin Harris\\u002fWe Found Love\",\"Artist\\u002fStephanie Beatriz, Diane Guerrero\\u002fWhat Else Can I Do?\",\"Artist\\u002fDoechii\\u002fWhat It Is (Solo Version)\",\"Artist\\u002fLabrinth\\u002fWhen I R.I.P.\",\"Artist\\u002fShawn Mendes\\u002fWhen You're Gone\",\"Artist\\u002fLost Frequencies, Calum Scott\\u002fWhere Are You Now\",\"Artist\\u002fMNEK, Jax Jones\\u002fWhere Did You Go?\",\"Artist\\u002fBing Crosby, John Scott Trotter & His Orchestra, Ken Darby Singers\\u002fWhite Christmas\",\"Artist\\u002fArctic Monkeys\\u002fWhy'd You Only Call Me When You're High?\",\"Artist\\u002fRM\\u002fWild Flower (with youjeen)\",\"Artist\\u002fHA SUNG WOON, Jimin\\u002fWith you\",\"Artist\\u002fEminem\\u002fWithout Me\",\"Artist\\u002fPaul McCartney\\u002fWonderful Christmastime - Edited Version \\u002f Remastered 2011\",\"Artist\\u002fKendrick Lamar\\u002fWorldwide Steppers\",\"Artist\\u002fFuture\\u002fWorst Day\",\"Artist\\u002fTaylor Swift\\u002fWould've, Could've, Should've\",\"Artist\\u002fKarol G, Romeo Santos\\u002fX SI VOLVEMOS\",\"Artist\\u002fDaddy Yankee, Bad Bunny\\u002fX \\u00ef\\u00bf\\u00bd\\u00ef\\u00bf\\u00bdLTIMA\",\"Artist\\u002fYandel, Feid\\u002fXQ Te Pones As\\u00ef\\u00bf\",\"Artist\\u002fChristian Nodal\\u002fYa No Somos Ni Seremos\",\"Artist\\u002fYandel, Feid\\u002fYandel 150\",\"Artist\\u002fChris Molitor\\u002fYellow\",\"Artist\\u002fBTS\\u002fYet To Come\",\"Artist\\u002fZion & Lennox\\u002fYo Voy (feat. Daddy Yankee)\",\"Artist\\u002fBad Bunny\\u002fYonaguni\",\"Artist\\u002fTaylor Swift\\u002fYou Belong With Me (Taylor\\u00ef\\u00bf\\u00bd\\u00ef\\u00bf\\u00bd\\u00ef\\u00bf\\u00bds Ve\",\"Artist\\u002fGwen Stefani, Blake Shelton\\u002fYou Make It Feel Like Christmas (feat. Blake Shelton)\",\"Artist\\u002fMorgan Wallen\\u002fYou Proof\",\"Artist\\u002fDoja Cat, The Weeknd\\u002fYou Right\",\"Artist\\u002fTaylor Swift\\u002fYou're On Your Own, Kid\",\"Artist\\u002fJessi\\u002fZOOM\",\"Artist\\u002fLeo Santana\\u002fZona De Perigo\",\"Artist\\u002fTaylor Swift\\u002faugust\",\"Artist\\u002fLizzy McAlpine\\u002fceilings\",\"Artist\\u002fRels B\\u002fc\\u00ef\\u00bf\\u00bd\\u00ef\\u00bf\\u00bdmo dormi\",\"Artist\\u002fOlivia Rodrigo\\u002fdeja vu\",\"Artist\\u002fNessa Barrett\\u002fdie first\",\"Artist\\u002fKendrick Lamar, Baby Keem\\u002ffamily ties (with Kendrick Lamar)\",\"Artist\\u002fOlivia Rodrigo\\u002ffavorite crime\",\"Artist\\u002fGunna\\u002ffukumean\",\"Artist\\u002fJVKE\\u002fgolden hour\",\"Artist\\u002fOlivia Rodrigo\\u002fhappier\",\"Artist\\u002fOlivia Rodrigo\\u002fjealousy, jealousy\",\"Artist\\u002fBillie Eilish, Khalid\\u002flovely - Bonus Track\",\"Artist\\u002fj-hope, J. Cole\\u002fon the street (with J. Cole)\",\"Artist\\u002fCamila Cabello, Willow\\u002fpsychofreak (feat. WILLOW)\",\"Artist\\u002fYoung Thug, Future, Gunna\\u002fpushin P (feat. Young Thug)\",\"Artist\\u002fLu\\u00ef\\u00bf\\u00bd\\u00ef\\u00bf\\u00bdsa Sonza, MC Frog, Dj Gabriel do Borel, Davi K\\u002fsentaDONA (Remix) s2\",\"Artist\\u002fTate McRae\\u002fshe's all i wanna be\",\"Artist\\u002fJVKE\\u002fthis is what falling in love feels like\",\"Artist\\u002f21 Savage, Gunna\\u002fthought i was playing\",\"Artist\\u002fBad Bunny, Grupo Frontera\\u002fun x100to\",\"Artist\\u002fOlivia Rodrigo\\u002fvampire\",\"Artist\\u002fgirl in red\\u002fwe fell in love in october\",\"Artist\\u002fTate McRae\\u002fyou broke me first\",\"Artist\\u002fMorgan Wallen\\u002f\\u00fd\\u00fd\\u00fd98 Braves\",\"Artist\\u002fYOASOBI\\u002f\\u00fd\\u00fd\\u00fd\\u00fd\\u00fd\\u00fd\\u00fd\\u00fd\\u00fd\\u00fd\\u00fd\\u00fd\",\"Artist\\u002fFujii Kaze\\u002f\\u00fd\\u00fd\\u00fd\\u00fd\\u00fd\\u00fd\\u00fd\\u00fd\\u00fd\\u00fd\\u00fd\\u00fd\\u00fd\\u00fd\\u00fd\\u00fd\\u00fd\\u00fd\\u00fd\\u00fd\\u00fd\",\"Artist\\u002f(G)I-DLE\",\"Artist\\u002f21 Savage, Gunna\",\"Artist\\u002f50 Cent\",\"Artist\\u002fA$AP Rocky, Metro Boomin, Roisee\",\"Artist\\u002fAbhijay Sharma, Riar Saab\",\"Artist\\u002fAdele\",\"Artist\\u002fAerosmith\",\"Artist\\u002fAgust D\",\"Artist\\u002fAitana, zzoilo\",\"Artist\\u002fAlec Benjamin\",\"Artist\\u002fAlvaro Diaz, Rauw Alejandro\",\"Artist\\u002fAna Castela, AgroPlay\",\"Artist\\u002fAndy Williams\",\"Artist\\u002fAnggi Marito\",\"Artist\\u002fAnitta\",\"Artist\\u002fAnitta, Tini, Becky G\",\"Artist\\u002fAnnenMayKantereit, Giant Rooks\",\"Artist\\u002fAnuel Aa, Jhay Cortez\",\"Artist\\u002fAnuel Aa, Myke Towers, Jhay Cortez\",\"Artist\\u002fArcangel, Bad Bunny\",\"Artist\\u002fArcangel, Bizarrap\",\"Artist\\u002fArcangel, De La Ghetto, Justin Quiles, Lenny Tav\\u00ef\\u00bf\\u00bd\\u00ef\\u00bf\\u00bdrez, Sech, Dalex, Dimelo Flow, Rich Music\",\"Artist\\u002fArctic Monkeys\",\"Artist\\u002fAriana Grande, The Weeknd\",\"Artist\\u002fArijit Singh, Sachin-Jigar\",\"Artist\\u002fArijit Singh, Sachin-Jigar, Amitabha Bhattacharya\",\"Artist\\u002fArijit Singh, Vishal Dadlani, Sukriti Kakar, Vishal-Shekhar, Shekhar Ravjiani, Kumaar\",\"Artist\\u002fArmani White\",\"Artist\\u002fAventura, Bad Bunny\",\"Artist\\u002fAvicii\",\"Artist\\u002fAyparia, unxbected\",\"Artist\\u002fBIGBANG\",\"Artist\\u002fBLACKPINK\",\"Artist\\u002fBLESSD, Peso Pluma\",\"Artist\\u002fBTS\",\"Artist\\u002fBYOR, Imanbek\",\"Artist\\u002fBaby Tate\",\"Artist\\u002fBad Bunny\",\"Artist\\u002fBad Bunny, Eladio Carrion\",\"Artist\\u002fBad Bunny, Grupo Frontera\",\"Artist\\u002fBad Bunny, Jhay Cortez\",\"Artist\\u002fBad Bunny, Rauw Alejandro\",\"Artist\\u002fBad Bunny, Tainy\",\"Artist\\u002fBad Bunny, The Mar\\u00ef\\u00bf\\u00bd\\u00ef\",\"Artist\\u002fBeach Weather\",\"Artist\\u002fBebe Rexha, David Guetta\",\"Artist\\u002fBecky G, Peso Pluma\",\"Artist\\u002fBellakath\",\"Artist\\u002fBenson Boone\",\"Artist\\u002fBeyonc\\u00ef\\u00bf\",\"Artist\\u002fBig One, FMK, Ke personajes\",\"Artist\\u002fBillie Eilish\",\"Artist\\u002fBillie Eilish, Khalid\",\"Artist\\u002fBing Crosby, John Scott Trotter & His Orchestra, Ken Darby Singers\",\"Artist\\u002fBizarrap, Peso Pluma\",\"Artist\\u002fBizarrap, Quevedo\",\"Artist\\u002fBizarrap, Tiago pzk\",\"Artist\\u002fBizarrap, Villano Antillano\",\"Artist\\u002fBlackbear, BoyWithUke\",\"Artist\\u002fBomba Est\\u00ef\\u00bf\\u00bd\\u00ef\\u00bf\\u00bdreo, Bad B\",\"Artist\\u002fBrray, Rauw Alejandro, Lyanno\",\"Artist\\u002fBruno Mars\",\"Artist\\u002fBruno Mars, Anderson .Paak, Silk Sonic\",\"Artist\\u002fBurna Boy\",\"Artist\\u002fBuscabulla, Bad Bunny\",\"Artist\\u002fC. Tangana\",\"Artist\\u002fCalvin Harris, Dua Lipa, Young Thug\",\"Artist\\u002fCalvin Harris, Ellie Goulding\",\"Artist\\u002fCalvin Harris, Halsey, Pharrell Williams, Justin Timberlake\",\"Artist\\u002fCamila Cabello, Ed Sheeran\",\"Artist\\u002fCamila Cabello, Willow\",\"Artist\\u002fCarin Leon\",\"Artist\\u002fCarin Leon, Grupo Frontera\",\"Artist\\u002fCartel De Santa, La Kelly\",\"Artist\\u002fCentral Cee\",\"Artist\\u002fChanel\",\"Artist\\u002fCharli XCX, Jax Jones, Joel Corry, Saweetie\",\"Artist\\u002fCharlie Puth\",\"Artist\\u002fCharlie Puth, BTS, Jung Kook\",\"Artist\\u002fChase Atlantic\",\"Artist\\u002fChencho Corleone, Bad Bunny\",\"Artist\\u002fChencho Corleone, Rauw Alejandro\",\"Artist\\u002fCherish, ACRAZE\",\"Artist\\u002fChildish Gambino\",\"Artist\\u002fChino Pacas\",\"Artist\\u002fChris Brown, Rvssian, Rauw Alejandro\",\"Artist\\u002fChris Molitor\",\"Artist\\u002fChris Rea\",\"Artist\\u002fChristian Nodal\",\"Artist\\u002fChuck Berry\",\"Artist\\u002fCigarettes After Sex\",\"Artist\\u002fCoi Leray\",\"Artist\\u002fColdplay\",\"Artist\\u002fColdplay, BTS\",\"Artist\\u002fConan Gray\",\"Artist\\u002fCris Mj\",\"Artist\\u002fDJ Escobar, MC MENOR SG, MC MENOR HR\",\"Artist\\u002fDaddy Yankee\",\"Artist\\u002fDaddy Yankee, Bad Bunny\",\"Artist\\u002fDanny Ocean\",\"Artist\\u002fDarlene Love\",\"Artist\\u002fDave\",\"Artist\\u002fDave, Central Cee\",\"Artist\\u002fDavid Guetta, Anne-Marie, Coi Leray\",\"Artist\\u002fDavid Guetta, Ella Henderson, Becky Hill\",\"Artist\\u002fDavid Guetta, Shakira, Black Eyed Peas\",\"Artist\\u002fDavid Kushner\",\"Artist\\u002fDe La Ghetto, Duki, Quevedo\",\"Artist\\u002fDe La Ghetto, Feid, Polima WestCoast, Paloma Mami, Pailita\",\"Artist\\u002fDean Lewis\",\"Artist\\u002fDean Martin\",\"Artist\\u002fDemi Lovato\",\"Artist\\u002fDj LK da Esc\\u00ef\\u00bf\\u00bd\\u00ef\\u00bf\\u00bdcia, Tchakabum, mc jhenny, M\",\"Artist\\u002fDoechii\",\"Artist\\u002fDoja Cat\",\"Artist\\u002fDoja Cat, The Weeknd\",\"Artist\\u002fDon Toliver, Future, Justin Bieber\",\"Artist\\u002fDove Cameron\",\"Artist\\u002fDr. Dre, 2Pac, Roger\",\"Artist\\u002fDr. Dre, Snoop Dogg\",\"Artist\\u002fDrake\",\"Artist\\u002fDrake, 21 Savage\",\"Artist\\u002fDrake, DJ Khaled, Lil Baby\",\"Artist\\u002fDrake, Future, Tems\",\"Artist\\u002fDrake, Future, Young Thug\",\"Artist\\u002fDrake, Project Pat, 21 Savage\",\"Artist\\u002fDrake, Travis Scott\",\"Artist\\u002fDrake, Travis Scott, 21 Savage\",\"Artist\\u002fDrake, WizKid, Kyla\",\"Artist\\u002fDua Lipa\",\"Artist\\u002fDua Lipa, DaBaby\",\"Artist\\u002fDua Lipa, Elton John, Pnau\",\"Artist\\u002fDua Lipa, Megan Thee Stallion\",\"Artist\\u002fDuki\",\"Artist\\u002fDuki, NICKI NICOLE, Cris Mj, Standly, Stars Music Chile\",\"Artist\\u002fENHYPEN\",\"Artist\\u002fEd Sheeran\",\"Artist\\u002fEd Sheeran, Fireboy DML\",\"Artist\\u002fEd Sheeran, J Balvin\",\"Artist\\u002fEden Mu\\u00ef\\u00bf\\u00bd\\u00ef\",\"Artist\\u002fEdison Lighthouse\",\"Artist\\u002fEl Chachito, Junior H\",\"Artist\\u002fElley Duh\\u00ef\\u00bf\",\"Artist\\u002fEm Beihold\",\"Artist\\u002fEm Beihold, Stephen Sanchez\",\"Artist\\u002fEminem\",\"Artist\\u002fEminem, Dido\",\"Artist\\u002fEminem, Dina Rae\",\"Artist\\u002fEminem, Dr. Dre\",\"Artist\\u002fEminem, Nate Dogg\",\"Artist\\u002fEmmy Meli\",\"Artist\\u002fEslabon Armado, Peso Pluma\",\"Artist\\u002fFeid\",\"Artist\\u002fFeid, Alejo, Robi\",\"Artist\\u002fFeid, Mora\",\"Artist\\u002fFeid, Mora, Saiko, Quevedo\",\"Artist\\u002fFeid, Myke Towers, Sky Rompiendo\",\"Artist\\u002fFeid, Paulo Londra\",\"Artist\\u002fFeid, Sech, Jhayco\",\"Artist\\u002fFeid, Young Miko\",\"Artist\\u002fFifty Fifty\",\"Artist\\u002fFran C, Polima WestCoast, Nickoog Clk, Pablito Pesadilla\",\"Artist\\u002fFrank Ocean\",\"Artist\\u002fFrank Sinatra\",\"Artist\\u002fFrank Sinatra, B. Swanson Quartet\",\"Artist\\u002fFreddie Dredd\",\"Artist\\u002fFuerza Regida\",\"Artist\\u002fFuerza Regida, Chino Pacas\",\"Artist\\u002fFuerza Regida, Grupo Frontera\",\"Artist\\u002fFuerza Regida, Natanael Cano\",\"Artist\\u002fFuerza Regida, Peso Pluma\",\"Artist\\u002fFujii Kaze\",\"Artist\\u002fFuture\",\"Artist\\u002fFuture, Chris Brown, Metro Boomin\",\"Artist\\u002fFuture, Lil Uzi Vert, Metro Boomin\",\"Artist\\u002fFuture, Metro Boomin, Don Toliver\",\"Artist\\u002fGODZZ__-, Zakaria\",\"Artist\\u002fGabito Ballesteros, Junior H, Peso Pluma\",\"Artist\\u002fGhost\",\"Artist\\u002fGrupo Marca Registrada, Grupo Frontera\",\"Artist\\u002fGrupo Marca Registrada, Junior H\",\"Artist\\u002fGunna\",\"Artist\\u002fGunna, Lil Baby\",\"Artist\\u002fGuns N' Roses\",\"Artist\\u002fGwen Stefani, Blake Shelton\",\"Artist\\u002fHA SUNG WOON, Jimin\",\"Artist\\u002fHalsey\",\"Artist\\u002fHalsey, BTS\",\"Artist\\u002fHalsey, Suga\",\"Artist\\u002fHarry Styles\",\"Artist\\u002fHotel Ugly\",\"Artist\\u002fHozier\",\"Artist\\u002fINTERWORLD\",\"Artist\\u002fIU, Agust D\",\"Artist\\u002fIVE\",\"Artist\\u002fImagine Dragons\",\"Artist\\u002fImagine Dragons, League of Legends, Arcane\",\"Artist\\u002fImagine Dragons, League of Legends, JID, Arcane\",\"Artist\\u002fIntense, AP Dhillon, Gurinder Gill\",\"Artist\\u002fIsrael & Rodolffo, Ana Castela\",\"Artist\\u002fIsrael & Rodolffo, Mari Fernandez\",\"Artist\\u002fJ Balvin, Bad Bunny\",\"Artist\\u002fJ Balvin, Maria Becerra\",\"Artist\\u002fJ Balvin, Nio Garcia, Bad Bunny\",\"Artist\\u002fJ. Cole\",\"Artist\\u002fJ. Cole, Lil Durk\",\"Artist\\u002fJISOO\",\"Artist\\u002fJVKE\",\"Artist\\u002fJack Black\",\"Artist\\u002fJack Harlow\",\"Artist\\u002fJain\",\"Artist\\u002fJames Arthur\",\"Artist\\u002fJames Blake, Metro Boomin\",\"Artist\\u002fJames Hype, Miggy Dela Rosa\",\"Artist\\u002fJasiel Nu\\u00ef\\u00bf\\u00bd\\u00ef\\u00bf\\u00bdez, Peso P\",\"Artist\\u002fJason Derulo\",\"Artist\\u002fJaymes Young\",\"Artist\\u002fJessi\",\"Artist\\u002fJessica Darrow\",\"Artist\\u002fJimin\",\"Artist\\u002fJin\",\"Artist\\u002fJnr Choi\",\"Artist\\u002fJohn Legend\",\"Artist\\u002fJohn Legend, Metro Boomin\",\"Artist\\u002fJohn Lennon, The Harlem Community Choir, The Plastic Ono Band, Yoko Ono\",\"Artist\\u002fJoji\",\"Artist\\u002fJordan Fisher, Josh Levi, Finneas O'Connell, 4*TOWN (From Disney and Pixar\\u00ef\\u00bf\\u00bd\\u00ef\\u00bf\\u00bd\\u00ef\\u00bf\\u00bds Turning Red), Topher Ngo, Grayson Vill\",\"Artist\\u002fJos\\u00ef\\u00bf\\u00bd\\u00ef\\u00bf\\u00bd Felic\",\"Artist\\u002fJuice WRLD\",\"Artist\\u002fJulieta Venegas, Bad Bunny, Tainy\",\"Artist\\u002fJung Kook\",\"Artist\\u002fJunior H, Eden Mu\\u00ef\\u00bf\\u00bd\\u00ef\",\"Artist\\u002fJunior H, Peso Pluma\",\"Artist\\u002fJustin Bieber\",\"Artist\\u002fJustin Bieber, Don Toliver\",\"Artist\\u002fJustin Bieber, The Kid Laroi\",\"Artist\\u002fJustin Quiles, Lenny Tav\\u00ef\\u00bf\\u00bd\\u00ef\\u00bf\\u00bdrez, BL\",\"Artist\\u002fKALUSH\",\"Artist\\u002fKaifi Khalil\",\"Artist\\u002fKali Uchis\",\"Artist\\u002fKali Uchis, Amaarae, Moliy\",\"Artist\\u002fKaliii, Kaliii\",\"Artist\\u002fKanii, PR1ISVX\",\"Artist\\u002fKanye West\",\"Artist\\u002fKanye West, Alicia Keys, Fivio Foreign\",\"Artist\\u002fKanye West, Lil Durk, Cardi B\",\"Artist\\u002fKanye West, XXXTENTACION\",\"Artist\\u002fKarol G\",\"Artist\\u002fKarol G, Becky G\",\"Artist\\u002fKarol G, Ovy On The Drums\",\"Artist\\u002fKarol G, Quevedo\",\"Artist\\u002fKarol G, Romeo Santos\",\"Artist\\u002fKarol G, Shakira\",\"Artist\\u002fKate Bush\",\"Artist\\u002fKeane\",\"Artist\\u002fKelly Clarkson\",\"Artist\\u002fKendrick Lamar\",\"Artist\\u002fKendrick Lamar, Baby Keem\",\"Artist\\u002fKendrick Lamar, Beth Gibbons\",\"Artist\\u002fKendrick Lamar, Beyonc\\u00ef\\u00bf\",\"Artist\\u002fKendrick Lamar, Blxst, Amanda Reifer\",\"Artist\\u002fKendrick Lamar, Ghostface Killah, Summer Walker\",\"Artist\\u002fKendrick Lamar, Jay Rock\",\"Artist\\u002fKendrick Lamar, Kodak Black\",\"Artist\\u002fKendrick Lamar, Sam Dew, Baby Keem\",\"Artist\\u002fKendrick Lamar, Sampha\",\"Artist\\u002fKendrick Lamar, Tanna Leone\",\"Artist\\u002fKendrick Lamar, Taylour Paige\",\"Artist\\u002fKenia OS\",\"Artist\\u002fKenshi Yonezu\",\"Artist\\u002fKevin Kaarl\",\"Artist\\u002fKing\",\"Artist\\u002fKodak Black\",\"Artist\\u002fKodak Black, NLE Choppa, Muni Long, JVKE, Jimin\",\"Artist\\u002fKordhell\",\"Artist\\u002fL7nnon, DJ Biel do Furduncinho, Bianca\",\"Artist\\u002fLE SSERAFIM\",\"Artist\\u002fLF System\",\"Artist\\u002fLabrinth\",\"Artist\\u002fLabrinth, Zendaya\",\"Artist\\u002fLady Gaga\",\"Artist\\u002fLady Gaga, Bradley Cooper\",\"Artist\\u002fLana Del Rey\",\"Artist\\u002fLana Del Rey, Taylor Swift\",\"Artist\\u002fLasso\",\"Artist\\u002fLatto, Jung Kook\",\"Artist\\u002fLauren Spencer Smith\",\"Artist\\u002fLauren Spencer Smith, Lauren Spencer Smith, Lauren Spencer Smith\",\"Artist\\u002fLeah Kate\",\"Artist\\u002fLeo Santana\",\"Artist\\u002fLewis Capaldi\",\"Artist\\u002fLibianca\",\"Artist\\u002fLil Baby\",\"Artist\\u002fLil Durk, Morgan Wallen\",\"Artist\\u002fLil Nas X\",\"Artist\\u002fLil Tjay\",\"Artist\\u002fLil Uzi Vert\",\"Artist\\u002fLil Yachty\",\"Artist\\u002fLinkin Park\",\"Artist\\u002fLit Killah, Maria Becerra, Tiago pzk, NICKI NICOLE\",\"Artist\\u002fLizzo\",\"Artist\\u002fLizzy McAlpine\",\"Artist\\u002fLord Huron\",\"Artist\\u002fLoreen\",\"Artist\\u002fLost Frequencies, Calum Scott\",\"Artist\\u002fLuciano\",\"Artist\\u002fLuciano, Aitch, B\\u00ef\\u00bf\\u00bd\",\"Artist\\u002fLudwig Goransson, Foudeqush\",\"Artist\\u002fLuis R Conriquez, La Adictiva\",\"Artist\\u002fLuke Combs\",\"Artist\\u002fLuude, Colin Hay\",\"Artist\\u002fLu\\u00ef\\u00bf\\u00bd\\u00ef\\u00bf\\u00bdsa Sonza, MC Frog, Dj Gabriel do Borel, Davi K\",\"Artist\\u002fMC Caverinha, KayBlack\",\"Artist\\u002fMC Ryan SP, Love Funk, Mc Paiva ZS\",\"Artist\\u002fMC Xenon, Os Gemeos da Putaria\",\"Artist\\u002fMNEK, Jax Jones\",\"Artist\\u002fMabel Matiz, Mert Demir\",\"Artist\\u002fMac DeMarco\",\"Artist\\u002fMae Stephens\",\"Artist\\u002fMahalini\",\"Artist\\u002fMahmood, Blanco\",\"Artist\\u002fMainstreet, Chefin\",\"Artist\\u002fMaldy, Karol G\",\"Artist\\u002fMaluma\",\"Artist\\u002fMambo Kingz, DJ Luian, Anuel Aa\",\"Artist\\u002fManuel Turizo\",\"Artist\\u002fMaria Becerra\",\"Artist\\u002fMaroon 5\",\"Artist\\u002fMarshmello, Jonas Brothers\",\"Artist\\u002fMarshmello, Juice WRLD\",\"Artist\\u002fMarshmello, Manuel Turizo\",\"Artist\\u002fMar\\u00ef\\u00bf\\u00bd\\u00ef\\u00bf\\u00bdlia Mendo\",\"Artist\\u002fMar\\u00ef\\u00bf\\u00bd\\u00ef\\u00bf\\u00bdlia Mendon\\u00ef\\u00bf\\u00bd\\u00ef\\u00bf\\u00bda, George Henrique &\",\"Artist\\u002fMar\\u00ef\\u00bf\\u00bd\\u00ef\\u00bf\\u00bdlia Mendon\\u00ef\\u00bf\\u00bd\\u00ef\\u00bf\\u00bda, Maiara &\",\"Artist\\u002fMasked Wolf\",\"Artist\\u002fMatu\\u00ef\\u00bf\\u00bd\\u00ef\\u00bf\\u00bd, Wiu, \",\"Artist\\u002fMc Livinho, DJ Matt D\",\"Artist\\u002fMc Pedrinho, DJ 900\",\"Artist\\u002fMc Pedrinho, Pedro Sampaio\",\"Artist\\u002fMc Vitin Da Igrejinha, MC Tairon, DJ Win\",\"Artist\\u002fMeghan Trainor\",\"Artist\\u002fMelanie Martinez\",\"Artist\\u002fMelody, Ana Castela, Dj Chris No Beat\",\"Artist\\u002fMetallica\",\"Artist\\u002fMetro Boomin, Coi Leray\",\"Artist\\u002fMichael Bubl\\u00ef\\u00bf\",\"Artist\\u002fMigrantes, LiL CaKe, Nico Valdi\",\"Artist\\u002fMiguel\",\"Artist\\u002fMiley Cyrus\",\"Artist\\u002fMorgan Wallen\",\"Artist\\u002fMorgan Wallen, Eric Church\",\"Artist\\u002fMr.Kitty\",\"Artist\\u002fMuni Long\",\"Artist\\u002fMusical Youth\",\"Artist\\u002fMyke Towers\",\"Artist\\u002fMyke Towers, Quevedo\",\"Artist\\u002fM\\u00ef\\u00bf\\u00bd\\u00ef\\u00bf\\u00bdne\",\"Artist\\u002fNF\",\"Artist\\u002fNIKI\",\"Artist\\u002fNLE Choppa\",\"Artist\\u002fNMIXX\",\"Artist\\u002fNat King Cole\",\"Artist\\u002fNatanael Cano\",\"Artist\\u002fNatanael Cano, Gabito Ballesteros, Peso Pluma\",\"Artist\\u002fNatanael Cano, Peso Pluma\",\"Artist\\u002fNayeon\",\"Artist\\u002fNengo Flow, Anuel Aa, Chris Jedi, Chencho Corleone\",\"Artist\\u002fNengo Flow, Bad Bunny\",\"Artist\\u002fNessa Barrett\",\"Artist\\u002fNew West\",\"Artist\\u002fNewJeans\",\"Artist\\u002fNiall Horan\",\"Artist\\u002fNicki Minaj\",\"Artist\\u002fNicki Minaj, Ice Spice\",\"Artist\\u002fNicki Minaj, Lil Baby\",\"Artist\\u002fNicky Jam, Feid\",\"Artist\\u002fNicky Youre, Dazy\",\"Artist\\u002fNile Rodgers, LE SSERAFIM\",\"Artist\\u002fNirvana\",\"Artist\\u002fOffset, JID\",\"Artist\\u002fOlga Merediz, Stephanie Beatriz, Encanto - Cast\",\"Artist\\u002fOlivia Rodrigo\",\"Artist\\u002fOmar Apollo\",\"Artist\\u002fOneRepublic\",\"Artist\\u002fOvy On The Drums, Quevedo\",\"Artist\\u002fOxlade\",\"Artist\\u002fOzuna, Feid\",\"Artist\\u002fOzuna, Tiago pzk\",\"Artist\\u002fP!nk\",\"Artist\\u002fPSY, Suga\",\"Artist\\u002fPaloma Faith\",\"Artist\\u002fPanic! At The Disco\",\"Artist\\u002fPaul McCartney\",\"Artist\\u002fPaulo Londra\",\"Artist\\u002fPeggy Gou\",\"Artist\\u002fPerry Como, The Fontane Sisters, Mitchell Ayres & His Orchestra\",\"Artist\\u002fPeso Pluma, Grupo Frontera\",\"Artist\\u002fPeso Pluma, Yng Lvcas\",\"Artist\\u002fPharrell Williams, Nile Rodgers, Daft Punk\",\"Artist\\u002fPharrell Williams, Tyler, The Creator, 21 Savage\",\"Artist\\u002fPinkPantheress\",\"Artist\\u002fPinkPantheress, Ice Spice\",\"Artist\\u002fPlan B\",\"Artist\\u002fPlayboi Carti\",\"Artist\\u002fPnB Rock\",\"Artist\\u002fPolima WestCoast, Pailita\",\"Artist\\u002fPolo G\",\"Artist\\u002fPost Malone\",\"Artist\\u002fPost Malone, Doja Cat\",\"Artist\\u002fPost Malone, Swae Lee\",\"Artist\\u002fPrezioso, Gabry Ponte, LUM!X\",\"Artist\\u002fQuevedo\",\"Artist\\u002fQuevedo, Jhayco\",\"Artist\\u002fQuevedo, La Pantera, Juseph, Cruz Cafun\\u00ef\\u00bf\\u00bd\\u00ef\\u00bf\\u00bd, B\\u00ef\\u00bf\\u00bd\\u00ef\\u00bf\\u00bdjo, Abhir Hathi\",\"Artist\\u002fRAYE, 070 Shake\",\"Artist\\u002fRM\",\"Artist\\u002fRM, Colde\",\"Artist\\u002fROSAL\\u00ef\\u00bf\\u00bd\",\"Artist\\u002fRadiohead\",\"Artist\\u002fRaim Laode\",\"Artist\\u002fRauw Alejandro\",\"Artist\\u002fRauw Alejandro, Bizarrap\",\"Artist\\u002fRauw Alejandro, ROSAL\\u00ef\\u00bf\\u00bd\",\"Artist\\u002fRay Dalton, Ryan Lewis, Macklemore\",\"Artist\\u002fRels B\",\"Artist\\u002fResidente, Bizarrap\",\"Artist\\u002fRex Orange County\",\"Artist\\u002fRich The Kid, Matu\\u00ef\\u00bf\",\"Artist\\u002fRihanna\",\"Artist\\u002fRihanna, Calvin Harris\",\"Artist\\u002fRiton, Nightcrawlers, Mufasa & Hypeman, Dopamine\",\"Artist\\u002fRobin Schulz, Oliver Tree\",\"Artist\\u002fRuth B.\",\"Artist\\u002fRyan Castro\",\"Artist\\u002fR\\u00ef\\u00bf\\u00bd\\u00ef\\u00bf\\u00bdma, Selena G\",\"Artist\\u002fSALES\",\"Artist\\u002fSEVENTEEN\",\"Artist\\u002fSZA\",\"Artist\\u002fSZA, Doja Cat\",\"Artist\\u002fSZA, Don Toliver\",\"Artist\\u002fSZA, Phoebe Bridgers\",\"Artist\\u002fSZA, Travis Scott\",\"Artist\\u002fSabrina Carpenter\",\"Artist\\u002fSachin-Jigar, Shadab Faridi, Altamash Faridi, Amitabh Bhattacharya, Varun Jain\",\"Artist\\u002fSam Ryder\",\"Artist\\u002fSam Smith\",\"Artist\\u002fSam Smith, Kim Petras\",\"Artist\\u002fSch\\u00ef\\u00bf\\u00bd\\u00ef\\u00bf\\u00bdrze, DJ R\",\"Artist\\u002fSeafret\",\"Artist\\u002fSean Paul, Dua Lipa\",\"Artist\\u002fSean Paul, Feid\",\"Artist\\u002fSebastian Yatra\",\"Artist\\u002fSebastian Yatra, Manuel Turizo, Be\\u00ef\\u00bf\\u00bd\\u00ef\",\"Artist\\u002fSech, Bad Bunny, Mora\",\"Artist\\u002fSech, Mora\",\"Artist\\u002fSelena Gomez\",\"Artist\\u002fSemicenk, Do\\u00ef\\u00bf\\u00bd\\u00ef\\u00bf\\u00bdu \",\"Artist\\u002fShae Gill, Ali Sethi\",\"Artist\\u002fShakin' Stevens\",\"Artist\\u002fShakira\",\"Artist\\u002fShakira, Bizarrap\",\"Artist\\u002fShakira, Rauw Alejandro\",\"Artist\\u002fShawn Mendes\",\"Artist\\u002fShawn Mendes, Camila Cabello\",\"Artist\\u002fShubh\",\"Artist\\u002fSiM\",\"Artist\\u002fSidhu Moose Wala\",\"Artist\\u002fSimone Mendes\",\"Artist\\u002fSkrillex, Flowdan, Fred again..\",\"Artist\\u002fSleepy hallow\",\"Artist\\u002fSleepy hallow, 347aidan\",\"Artist\\u002fSofia Carson\",\"Artist\\u002fSouthstar\",\"Artist\\u002fStephanie Beatriz, Diane Guerrero\",\"Artist\\u002fStephen Sanchez\",\"Artist\\u002fSteve Aoki, Tini, La Joaqui\",\"Artist\\u002fSteve Lacy\",\"Artist\\u002fStray Kids\",\"Artist\\u002fStromae\",\"Artist\\u002fStyrx, utku INC, Thezth\",\"Artist\\u002fSuki Waterhouse\",\"Artist\\u002fSurf Curse\",\"Artist\\u002fSwae Lee, Lil Wayne, Offset, Metro Boomin\",\"Artist\\u002fTAEYANG, Lisa\",\"Artist\\u002fTHE ANXIETY, Willow, Tyler Cole\",\"Artist\\u002fTOMORROW X TOGETHER\",\"Artist\\u002fTV Girl\",\"Artist\\u002fTWICE\",\"Artist\\u002fTainy, Bad Bunny\",\"Artist\\u002fTaiu, Milo j\",\"Artist\\u002fTate McRae\",\"Artist\\u002fTaylor Swift\",\"Artist\\u002fTaylor Swift, Ice Spice\",\"Artist\\u002fTaylor Swift, Lana Del Rey\",\"Artist\\u002fTears For Fears\",\"Artist\\u002fThe Chainsmokers, Coldplay\",\"Artist\\u002fThe Chainsmokers, Halsey\",\"Artist\\u002fThe Goo Goo Dolls\",\"Artist\\u002fThe Kid Laroi\",\"Artist\\u002fThe Killers\",\"Artist\\u002fThe Neighbourhood\",\"Artist\\u002fThe Police\",\"Artist\\u002fThe Rare Occasions\",\"Artist\\u002fThe Ronettes\",\"Artist\\u002fThe Walters\",\"Artist\\u002fThe Weeknd\",\"Artist\\u002fThe Weeknd, 21 Savage, Metro Boomin\",\"Artist\\u002fThe Weeknd, Daft Punk\",\"Artist\\u002fThe Weeknd, Future\",\"Artist\\u002fThe Weeknd, Gesaffelstein\",\"Artist\\u002fThe Weeknd, Lana Del Rey\",\"Artist\\u002fThe Weeknd, Lil Wayne\",\"Artist\\u002fThe Weeknd, Madonna, Playboi Carti\",\"Artist\\u002fThe Weeknd, Post Malone\",\"Artist\\u002fThe Weeknd, Tyler, The Creator\",\"Artist\\u002fThxSoMch\",\"Artist\\u002fTini\",\"Artist\\u002fTini, L-Gante\",\"Artist\\u002fTini, Maria Becerra\",\"Artist\\u002fTi\\u00ef\\u00bf\\u00bd\\u00ef\\u00bf\",\"Artist\\u002fTi\\u00ef\\u00bf\\u00bd\\u00ef\\u00bf\\u00bdsto, Ava\",\"Artist\\u002fTi\\u00ef\\u00bf\\u00bd\\u00ef\\u00bf\\u00bdsto, Kar\",\"Artist\\u002fTi\\u00ef\\u00bf\\u00bd\\u00ef\\u00bf\\u00bdsto, Tate M\",\"Artist\\u002fTony Dize, Bad Bunny\",\"Artist\\u002fTory Lanez\",\"Artist\\u002fTravis Scott, 21 Savage, Metro Boomin\",\"Artist\\u002fTravis Scott, Metro Boomin\",\"Artist\\u002fTravis Scott, Young Thug, Metro Boomin\",\"Artist\\u002fTreyce\",\"Artist\\u002fTroye Sivan\",\"Artist\\u002fTrueno, Tiago pzk\",\"Artist\\u002fTulus\",\"Artist\\u002fTwisted, Oliver Tree\",\"Artist\\u002fTyga, Doja Cat\",\"Artist\\u002fTyler, The Creator\",\"Artist\\u002fTyler, The Creator, Kali Uchis\",\"Artist\\u002fUgly Dray, Tesla Jnr\",\"Artist\\u002fV\",\"Artist\\u002fVance Joy\",\"Artist\\u002fVeigh, Bvga Beatz, Supernova Ent, Prod Malax\",\"Artist\\u002fVictor Cibrian\",\"Artist\\u002fVishal-Shekhar, Shilpa Rao, Caralisa Monteiro, Kumaar, Vishal Dadlani, Shekhar Ravjiani\",\"Artist\\u002fVundabar\",\"Artist\\u002fWillow\",\"Artist\\u002fWisin & Yandel, ROSAL\\u00ef\\u00bf\\u00bd\",\"Artist\\u002fWizKid, Toian, Metro Boomin, Don Toliver, Beam\",\"Artist\\u002fXXXTENTACION\",\"Artist\\u002fXam\\u00ef\\u00bf\\u00bd\\u00ef\\u00bf\\u00bd, Gustah, Neo B\",\"Artist\\u002fYEAT\",\"Artist\\u002fYOASOBI\",\"Artist\\u002fYahritza Y Su Esencia\",\"Artist\\u002fYahritza Y Su Esencia, Grupo Frontera\",\"Artist\\u002fYandel, Feid\",\"Artist\\u002fYng Lvcas\",\"Artist\\u002fYoung Thug, Future, Gunna\",\"Artist\\u002fYung Gravy\",\"Artist\\u002fYung Lean\",\"Artist\\u002fYuridia, Angela Aguilar\",\"Artist\\u002fZach Bryan\",\"Artist\\u002fZion & Lennox\",\"Artist\\u002fZ\\u00ef\\u00bf\\u00bd\\u00ef\\u00bf\\u00bd Fe\",\"Artist\\u002fZ\\u00ef\\u00bf\\u00bd\\u00ef\\u00bf\\u00bd Neto & Crist\",\"Artist\\u002fa-ha\",\"Artist\\u002fd4vd\",\"Artist\\u002fdennis, MC Kevin o Chris\",\"Artist\\u002fgirl in red\",\"Artist\\u002fj-hope\",\"Artist\\u002fj-hope, J. Cole\",\"Artist\\u002fsped up 8282\",\"Artist\\u002fsped up nightcore, ARIZONATEARS, Lil Uzi Vert\",\"Artist\\u002fteto\",\"Artist\"],\"labels\":[\"'Till I Collapse\",\"(It Goes Like) Nanana - Edit\",\"10 Things I Hate About You\",\"10:35\",\"2 Be Loved (Am I Ready)\",\"2055\",\"212\",\"25k jacket (feat. Lil Baby)\",\"295\",\"69\",\"A Tale By Quincy\",\"A Veces (feat. Feid)\",\"ALIEN SUPERSTAR\",\"AM Remix\",\"AMARGURA\",\"AMERICA HAS A PROBLEM (feat. Kendrick Lamar)\",\"AMG\",\"ANTIFRAGILE\",\"Abcdario\",\"About Damn Time\",\"Acapulco\",\"Acr\\u00ef\\u00bf\\u00bd\\u00ef\\u00bf\\u00bds\",\"Adore You\",\"Afraid To Feel\",\"After Dark\",\"After Hours\",\"Agosto\",\"Aguacero\",\"Agudo M\\u00ef\\u00bf\\u00bd\\u00ef\\u00bf\\u00bdgi\",\"Ai Preto\",\"Ain't Shit\",\"Ain\\u00ef\\u00bf\\u00bd\\u00ef\\u00bf\\u00bd\\u00ef\\u00bf\\u00bdt Tha\",\"Alien Blues\",\"All For Us - from the HBO Original Series Euphoria\",\"All My Life (feat. J. Cole)\",\"All Of The Girls You Loved Before\",\"All The Way Live (Spider-Man: Across the Spider-Verse) (Metro Boomin & Future, Lil Uzi Vert)\",\"All of Me\",\"Alone\",\"Am I Dreaming (Metro Boomin & A$AP Rocky, Roisee)\",\"Andrea\",\"Angel Baby\",\"Angel Pt 1 (feat. Jimin of BTS, JVKE & Muni Long)\",\"Angels Like You\",\"Annihilate (Spider-Man: Across the Spider-Verse) (Metro Boomin & Swae Lee, Lil Wayne, Offset)\",\"Antes de Perderte\",\"Anti-Hero\",\"Antidepresan\",\"Apna Bana Le (From \\\"Bhediya\\\")\",\"Apocalypse\",\"Arc\\u00ef\\u00bf\\u00bd\\u00ef\\u00bf\\u00bdngel: Bzrp Music Sessions, Vol\",\"Area Codes\",\"Astronaut In The Ocean\",\"Atlantis\",\"Attention\",\"Auntie Diaries\",\"BABY HELLO\",\"BABY OTAKU\",\"BESO\",\"BILLIE EILISH.\",\"BREAK MY SOUL\",\"Baby Don't Hurt Me\",\"Back To December (Taylor's Version)\",\"BackOutsideBoyz\",\"Bad Habit\",\"Baile no Morro\",\"Bam Bam (feat. Ed Sheeran)\",\"Bamba (feat. Aitch & BIA)\",\"Bar\",\"Beautiful Girl\",\"Bebe Dame\",\"Before You Go\",\"Beggin\",\"Bejeweled\",\"Believer\",\"Belly Dancer\",\"Besharam Rang (From \\\"Pathaan\\\")\",\"Besos Moja2\",\"Best Friends\",\"Better Than Revenge (Taylor's Version)\",\"Betty (Get Money)\",\"Bigger Than The Whole Sky\",\"Bite Me\",\"Blank Space\",\"Blessed-Cursed\",\"Blind\",\"Bloody Mary\",\"Bombonzinho - Ao Vivo\",\"Bones\",\"Bored\",\"Born Singer\",\"Bound 2\",\"Boy With Luv (feat. Halsey)\",\"Boy's a liar\",\"Boy's a liar Pt. 2\",\"Boyfriend\",\"Brividi\",\"Broke Boys\",\"Bussin\",\"Butter\",\"Bye Bye\",\"CAIRO\",\"CHORRITO PA LAS ANIMAS\",\"CORAZ\\u00ef\\u00bf\\u00bd\\u00ef\\u00bf\\u00bdN VA\",\"CUFF IT\",\"California Breeze\",\"California Love - Original Version (Explicit)\",\"Call Out My Name\",\"Callaita\",\"Calm Down (with Selena Gomez)\",\"Can't Hold Us (feat. Ray Dalton)\",\"Car's Outside\",\"Cart\\u00ef\\u00bf\\u00bd\\u00ef\\u00bf\\u00bdo B\",\"Casei Com a Putaria\",\"Cash In Cash Out\",\"Cay\\u00ef\\u00bf\\u00bd\\u00ef\\u00bf\\u00bd La Noche (feat. Cruz Cafun\\u00ef\\u00bf\\u00bd\\u00ef\\u00bf\\u00bd, Abhir Hathi, Bejo, EL IMA)\",\"Celestial\",\"Ch y la Pizza\",\"Chale\",\"Chance\",\"Chanel\",\"Chemical\",\"Cheques\",\"Christmas (Baby Please Come Home)\",\"Christmas Tree\",\"Cigarettes\",\"Cinema\",\"Circo Loco\",\"City of Gods\",\"Classy 101\",\"Closer\",\"Coco Chanel\",\"Cold Heart - PNAU Remix\",\"Columbia\",\"Come Back Home - From \\\"Purple Hearts\\\"\",\"Con La Brisa\",\"Conceited\",\"Conex\\u00ef\\u00bf\\u00bd\\u00ef\\u00bf\\u00bdes de M\\u00ef\\u00bf\\u00bd\\u00ef\\u00bf\\u00bdfia (feat. Rich \",\"Contection\",\"Cool for the Summer\",\"Count Me Out\",\"Counting Stars\",\"Crazy What Love Can Do\",\"Creep\",\"Creepin'\",\"Crown\",\"Cruel Summer\",\"Cupid\",\"Cupid - Twin Ver.\",\"Cupid \\u00ef\\u00bf\\u00bd\\u00ef\\u00bf\\u00bd\\u00ef\\u00bf\\u00bd Twin Ver. (FIFTY FIFTY) \\u00ef\\u00bf\\u00bd\\u00ef\\u00bf\\u00bd\\u00ef\\u00bf\\u00bd Spe\",\"Cupido\",\"Curtains\",\"C\\u00ef\\u00bf\\u00bd\\u00ef\\u00bf\\u00bd\",\"DAN\\u00ef\\u00bf\\u00bd\\u00ef\\u00bf\\u00bdA\",\"DESPECH\\u00ef\\u00bf\",\"DOGTOOTH\",\"Daddy Issues\",\"Dakiti\",\"Dance The Night (From Barbie The Album)\",\"Dandelions\",\"Danger (Spider) (Offset & JID)\",\"Dark Red\",\"Dawn FM\",\"Daydreaming\",\"Daylight\",\"Deck The Hall - Remastered 1999\",\"Demasiadas Mujeres\",\"Demons\",\"Desesperados\",\"Despu\\u00ef\\u00bf\\u00bd\\u00ef\\u00bf\\u00bds de la P\",\"Di Que Si\",\"Die For You\",\"Die For You\",\"Die For You - Remix\",\"Die Hard\",\"Die Young (feat. 347aidan)\",\"Dijeron Que No La Iba Lograr\",\"Ditto\",\"Do I Wanna Know?\",\"Do It To It\",\"Do We Have A Problem?\",\"Doja\",\"Don't Be Shy\",\"Don't Start Now\",\"Don't You Worry\",\"Don't ever say love me (feat. RM of BTS)\",\"Don\\u00ef\\u00bf\\u00bd\\u00ef\\u00bf\\u00bd\\u00ef\\u00bf\\u00bdt Bl\",\"Don\\u00ef\\u00bf\\u00bd\\u00ef\\u00bf\\u00bd\\u00ef\\u00bf\\u00bdt Break My\",\"Dos Mil 16\",\"Double Fantasy (with Future)\",\"Down Under (feat. Colin Hay)\",\"Dream On\",\"Driving Home for Christmas - 2019 Remaster\",\"Dua Lipa\",\"ELEVEN\",\"Easy On Me\",\"Efecto\",\"El Apag\\u00ef\\u00bf\\u00bd\",\"El Azul\",\"El Cielo\",\"El Gordo Trae El Mando\",\"El Merengue\",\"El Rescate\",\"Ella Baila Sola\",\"En El Radio Un Cochinero\",\"En La De Ella\",\"En Paris\",\"Enchanted\",\"Enchanted (Taylor's Version)\",\"Enemy (with JID) - from the series Arcane League of Legends\",\"Enemy - from the series Arcane League of Legends\",\"Ens\\u00ef\\u00bf\\u00bd\\u00ef\\u00bf\\u00bd\\u00ef\\u00bf\\u00bd\\u00ef\\u00bf\\u00bdame \",\"Entre Nosotros (Remix) [con Nicki Nicole]\",\"Envolver\",\"Erro Gostoso - Ao Vivo\",\"Es un Secreto\",\"Escapism.\",\"Escapism. - Sped Up\",\"Esque\\u00ef\\u00bf\\u00bd\\u00ef\\u00bf\\u00bda-Me Se For C\",\"Evergreen (You Didn\\u00ef\\u00bf\\u00bd\\u00ef\\u00bf\\u00bd\\u00ef\\u00bf\\u00bdt Deserve Me A\",\"Every Breath You Take - Remastered 2003\",\"Every Summertime\",\"Everybody Wants To Rule The World\",\"Everything I Love\",\"Evoque Prata\",\"Excuses\",\"Eyes Closed\",\"F2F\",\"FEARLESS\",\"FLOWER\",\"Fair Trade (with Travis Scott)\",\"Falling\",\"Far\",\"Fast Car\",\"Father Time (feat. Sampha)\",\"Feliz Cumplea\\u00ef\\u00bf\\u00bd\\u00ef\\u00bf\\u00bdos Fe\",\"Feliz Navidad\",\"Ferrari\",\"Ferxxo 100\",\"Fim de Semana no Rio\",\"Fingers Crossed\",\"First Class\",\"Flowers\",\"For Youth\",\"Forever\",\"Forget Me\",\"Forgot About Dre\",\"Formula\",\"Freaks\",\"Freaky Deaky\",\"Friday (feat. Mufasa & Hypeman) - Dopamine Re-Edit\",\"Fr\\u00ef\\u00bf\\u00bd\\u00ef\\u00bf\\u00bdgil (feat. Grupo Front\",\"Fuera del mercado\",\"GAT\\u00ef\\u00bf\\u00bd\\u00ef\\u00bf\\u00bd\",\"GIVENCHY\",\"Gasoline\",\"Gatita\",\"Gato de Noche\",\"Get Into It (Yuh)\",\"Get Lucky - Radio Edit\",\"Ghost in the Machine (feat. Phoebe Bridgers)\",\"Ginseng Strip 2002\",\"Glimpse of Us\",\"Gol Bolinha, Gol Quadrado 2\",\"Golden\",\"Gone Girl\",\"Good Days\",\"Good Looking\",\"Gospel (with Eminem)\",\"Grapejuice\",\"HAPPY\",\"HUMBLE.\",\"Haegeum\",\"Happy Xmas (War Is Over)\",\"Hati-Hati di Jalan\",\"Heart To Heart\",\"Heartless\",\"Heather\",\"Heaven\",\"Here We Go\\u00ef\\u00bf\\u00bd\\u00ef\\u00bf\\u00bd\\u00ef\\u00bf\\u00bd Again (feat. Tyler, the Cr\",\"Here With Me\",\"Hey Mor\",\"Hey, Mickey!\",\"Hits Different\",\"Hold My Hand\",\"Holly Jolly Christmas\",\"Honest (feat. Don Toliver)\",\"Hope\",\"Hot Shit (feat. Ye & Lil Durk)\",\"House Of Memories\",\"How Do I Make You Love Me?\",\"How Do I Say Goodbye\",\"Hrs and Hrs\",\"Hummingbird (Metro Boomin & James Blake)\",\"Hype Boy\",\"I AM\",\"I AM WOMAN\",\"I Can See You (Taylor\\u00ef\\u00bf\\u00bd\\u00ef\\u00bf\\u00bd\\u00ef\\u00bf\\u00bds Version) (From The \",\"I Hate U\",\"I Heard You're Married (feat. Lil Wayne)\",\"I Know - PR1SVX Edit\",\"I Like You (A Happier Song) (with Doja Cat)\",\"I Love You So\",\"I Tried to Tell Y'all\",\"I WANNA BE YOUR SLAVE\",\"I Was Never There\",\"I Wrote The Book\",\"I'm Good (Blue)\",\"I'm Not The Only One\",\"IDGAF (with blackbear)\",\"If We Ever Broke Up\",\"Igualito a Mi Ap\\u00ef\\u00bf\",\"In Da Club\",\"In My Head\",\"In The End\",\"In The Stars\",\"Infinity\",\"Iris\",\"Is There Someone Else?\",\"It'll Be Okay\",\"It's Beginning To Look A Lot Like Christmas\",\"It's Beginning to Look a Lot Like Christmas (with Mitchell Ayres & His Orchestra)\",\"It's the Most Wonderful Time of the Year\",\"JGL\",\"Jhoome Jo Pathaan\",\"Jingle Bells - Remastered 1999\",\"Jordan\",\"Just The Way You Are\",\"Just Wanna Rock\",\"KICK BACK\",\"KU LO SA - A COLORS SHOW\",\"Kahani Suno 2.0\",\"Karma\",\"Karma (feat. Ice Spice)\",\"Keep Driving\",\"Kill Bill\",\"Kiss Me More (feat. SZA)\",\"Knife Talk (with 21 Savage ft. Project Pat)\",\"Komang\",\"LA CANCI\\u00ef\\u00bf\\u00bd\",\"LA INOCENTE\",\"LADY GAGA\",\"LAGUNAS\",\"LALA\",\"LET GO\",\"LLYLM\",\"LOKERA\",\"LOVE DIVE\",\"LUNA\",\"La Bachata\",\"La Bebe\",\"La Bebe - Remix\",\"La Corriente\",\"La Jumpa\",\"La Llevo Al Cielo (Ft. \\u00ef\\u00bf\\u00bd\\u00ef\\u00bf\\u00bdengo F\",\"La Loto\",\"La Santa\",\"La Zona\",\"Lady Mi Amor\",\"Las Morras\",\"Last Last\",\"Last Night\",\"Late Night Talking\",\"Lavender Haze\",\"Layla\",\"Leave Before You Love Me (with Jonas Brothers)\",\"Leave The Door Open\",\"Left and Right (Feat. Jung Kook of BTS)\",\"Let It Snow! Let It Snow! Let It Snow!\",\"Let It Snow! Let It Snow! Let It Snow!\",\"Let Me Down Slowly\",\"Levitating\",\"Levitating (feat. DaBaby)\",\"Ley Seca\",\"Le\\u00ef\\u00bf\\u00bd\",\"Lift Me Up - From Black Panther: Wakanda Forever - Music From and Inspired By\",\"Light Switch\",\"Like Crazy\",\"Like Crazy (English Version)\",\"Lilith (feat. SUGA of BTS) (Diablo IV Anthem)\",\"Limbo\",\"Link Up (Metro Boomin & Don Toliver, Wizkid feat. BEAM & Toian) - Spider-Verse Remix (Spider-Man: Across the Spider-Verse )\",\"Little Freak\",\"Lo Siento BB:\\u002f (with Bad Bunny & Julieta Venegas)\",\"Locked Out Of Heaven\",\"Lose Yourself - Soundtrack Version\",\"Lost\",\"Lost in the Fire\",\"Love Again\",\"Love Grows (Where My Rosemary Goes)\",\"Love Language\",\"Love Of My Life\",\"Love Yourself\",\"Lover\",\"Lovers Rock\",\"Lovezinho\",\"Lucid Dreams\",\"L\\u00ef\\u00bf\\u00bd\\u00ef\\u00bf\\u00bd\\u00ef\\u00bf\",\"MAMIII\",\"MANIAC\",\"MERCHO\",\"METAMORPHOSIS\",\"MIDDLE OF THE NIGHT\",\"MOJABI GHOST\",\"MONTAGEM - FR PUNK\",\"MORE\",\"Maan Meri Jaan\",\"Made You Look\",\"Major Distribution\",\"Makeba\",\"Malas Decisiones\",\"Malvada\",\"Malvad\\u00ef\\u00bf\\u00bd\\u00ef\\u00bf\",\"Mami Chula\",\"Man Made A Bar (feat. Eric Church)\",\"Marisola - Remix\",\"Maroon\",\"Mary On A Cross\",\"Mas Rica Que Ayer\",\"Massive\",\"Master of Puppets (Remastered)\",\"Mastermind\",\"Matilda\",\"Me Fui de Vacaciones\",\"Me Porto Bonito\",\"Me and Your Mama\",\"Medallo\",\"Meet Me At Our Spot\",\"Mejor Que Yo\",\"Memories\",\"Merry Christmas Everyone\",\"Mi Bello Angel\",\"Mine (Taylor's Version)\",\"Miracle (with Ellie Goulding)\",\"Mirror\",\"Miserable Man\",\"Miss You\",\"Miss You\",\"Mistletoe\",\"Mi\\u00ef\\u00bf\\u00bd\\u00ef\\u00bf\\u00bdn\",\"Mockingbird\",\"Mon Amour - Remix\",\"Money Trees\",\"Mon\\u00ef\\u00bf\\u00bd\\u00ef\\u00bf\\u00bdy so\",\"Moonlight\",\"Moscow Mule\",\"Mother I Sober (feat. Beth Gibbons of Portishead)\",\"Mr. Brightside\",\"Mr. Morale\",\"Mujeriego\",\"Murder In My Mind\",\"Music For a Sushi Restaurant\",\"Mu\\u00ef\\u00bf\\u00bd\\u00ef\\u00bf\\u00bd\",\"My Mind & Me\",\"My Universe\",\"N95\",\"NEW MAGIC WAND\",\"Nail Tech\",\"Never Felt So Alone\",\"Neverita\",\"New Jeans\",\"Niagara Falls (Foot or 2) [with Travis Scott & 21 Savage]\",\"Ni\\u00ef\\u00bf\\u00bd\\u00ef\\u00bf\\u00bda Bo\",\"No Lie\",\"No Role Modelz\",\"Nobody Gets Me\",\"Nobody Like U - From \\\"Turning Red\\\"\",\"Nonsense\",\"Normal\",\"Nos Comemos (feat. Ozuna)\",\"Nosso Quadro\",\"Nost\\u00ef\\u00bf\\u00bd\\u00ef\\u00bf\\u00bdl\",\"Notice Me\",\"Notion\",\"Novidade na \\u00ef\\u00bf\\u00bd\\u00ef\\u00bf\",\"Novo Balan\\u00ef\\u00bf\\u00bd\",\"Numb\",\"Numb Little Bug\",\"Nxde\",\"O.O\",\"OMG\",\"OUT OUT (feat. Charli XCX & Saweetie)\",\"Obsessed\",\"Oh My God\",\"Oi Balde - Ao Vivo\",\"Ojitos Lindos\",\"Ojos Marrones\",\"On BS\",\"On Time (with John Legend)\",\"One Dance\",\"One Right Now (with The Weeknd)\",\"One Thing At A Time\",\"Only Love Can Hurt Like This\",\"Open Arms (feat. Travis Scott)\",\"Otro Atardecer\",\"Overdrive\",\"PERO T\\u00ef\\u00bf\",\"PLAYA DEL INGL\\u00ef\\u00bf\\u00bd\",\"POLARIS - Remix\",\"POP!\",\"PRC\",\"PROVENZA\",\"PUFFIN ON ZOOTIEZ\",\"Pantysito\",\"Party\",\"Pasoori\",\"Pass The Dutchie\",\"Peaches (from The Super Mario Bros. Movie)\",\"People\",\"People Pt.2 (feat. IU)\",\"Perfect\",\"Permission to Dance\",\"Peru\",\"Peso Pluma: Bzrp Music Sessions, Vol. 55\",\"Phantom Regret by Jim\",\"Phir Aur Kya Chahiye (From \\\"Zara Hatke Zara Bachke\\\")\",\"Photograph\",\"Pink + White\",\"Pipoco\",\"Pi\\u00ef\\u00bf\\u00bd\\u00ef\\u00bf\\u00bdman De\\u00ef\\u00bf\",\"Players\",\"Poland\",\"Polaroid Love\",\"Pope Is a Rockstar\",\"Popular (with Playboi Carti & Madonna) - The Idol Vol. 1 (Music from the HBO Original Series)\",\"Potion (with Dua Lipa & Young Thug)\",\"Praise God\",\"Primera Cita\",\"Princess Diana (with Nicki Minaj)\",\"Private Landing (feat. Justin Bieber & Future)\",\"Privileged Rappers\",\"Problem\\u00ef\\u00bf\\u00bd\",\"Prohibidox\",\"Punto G\",\"Purple Hearts\",\"Pussy & Millions (feat. Travis Scott)\",\"Que Vuelvas\",\"Queencard\",\"Question...?\",\"Quevedo: Bzrp Music Sessions, Vol. 52\",\"Qu\\u00ef\\u00bf\\u00bd\\u00ef\\u00bf\\u00bd Ago\",\"Qu\\u00ef\\u00bf\\u00bd\\u00ef\\u00bf\\u00bd M\\u00ef\\u00bf\\u00bd\\u00ef\\u00bf\",\"RAPSTAR\",\"REMIX EXCLUSIVO\",\"RUMBAT\\u00ef\\u00bf\\u00bd\",\"Radio\",\"Raindrops (Insane) [with Travis Scott]\",\"Rara Vez\",\"Rauw Alejandro: Bzrp Music Sessions, Vol. 56\",\"Red Ruby Da Sleeze\",\"Reminder\",\"Residente: Bzrp Music Sessions, Vol. 49\",\"Revenge\",\"Rich - Interlude\",\"Rich Flex\",\"Rich Spirit\",\"Right On\",\"Riptide\",\"Rolling in the Deep\",\"Romantic Homicide\",\"Rosa Pastel\",\"Rumble\",\"Run BTS\",\"Run Rudolph Run - Single Version\",\"Running Up That Hill (A Deal With God)\",\"Rush\",\"S-Class\",\"SABOR FRESA\",\"SLOW DANCING IN THE DARK\",\"SORRY NOT SORRY\",\"SOS\",\"SPACE MAN\",\"SPIT IN MY FACE!\",\"STAR WALKIN' (League of Legends Worlds Anthem)\",\"STAY (with Justin Bieber)\",\"STAYING ALIVE (feat. Drake & Lil Baby)\",\"SUPERMODEL\",\"Sad Girlz Luv Money Remix (feat. Kali Uchis)\",\"Salimo de Noche\",\"San Lucas\",\"Savior\",\"Savior - Interlude\",\"Say Yes To Heaven\",\"Say You Won't Let Go\",\"Se Le Ve\",\"Search & Rescue\",\"See You Again\",\"Seek & Destroy\",\"Self Love (Spider-Man: Across the Spider-Verse) (Metro Boomin & Coi Leray)\",\"Selfish\",\"Sem Alian\\u00ef\\u00bf\\u00bd\\u00ef\\u00bf\\u00bda no \",\"Set Fire to the Rain\",\"Seu Brilho Sumiu - Ao Vivo\",\"Seven (feat. Latto) (Explicit Ver.)\",\"Sex, Drugs, Etc.\",\"Se\\u00ef\\u00bf\\u00bd\\u00ef\\u00bf\\u00bdo\",\"Shake It Off\",\"Shakira: Bzrp Music Sessions, Vol. 53\",\"Shallow\",\"Shape of You\",\"Shirt\",\"Shoong! (feat. LISA of BLACKPINK)\",\"Shorty Party\",\"Shut up My Moms Calling\",\"Shut up My Moms Calling - (Sped Up)\",\"Si Quieren Frontear\",\"Si Te La Encuentras Por Ah\\u00ef\\u00bf\",\"Sial\",\"Sigue\",\"Silent Hill\",\"Sin Se\\u00ef\\u00bf\\u00bd\\u00ef\",\"Sky\",\"Sleigh Ride\",\"SloMo\",\"Slut Me Out\",\"Smells Like Teen Spirit - Remastered 2021\",\"Smokin Out The Window\",\"Smoking on my Ex Pack\",\"Snooze\",\"Snow On The Beach (feat. Lana Del Rey)\",\"Snow On The Beach (feat. More Lana Del Rey)\",\"So Good\",\"Sobrio\",\"Softcore\",\"Something In The Way - Remastered 2021\",\"Something Just Like This\",\"Something in the Orange\",\"Somewhere Only We Know\",\"Soy El Unico\",\"Sparks\",\"Spin Bout U\",\"Sprinter\",\"Stan\",\"Stand By Me (feat. Morgan Wallen)\",\"Starboy\",\"Stargirl Interlude\",\"Starlight\",\"Starry Eyes\",\"Static\",\"Stay Alive (Prod. SUGA of BTS)\",\"Stay With Me (with Justin Timberlake, Halsey, & Pharrell)\",\"Stefania (Kalush Orchestra)\",\"Sticky\",\"Still D.R.E.\",\"Still Don't Know My Name\",\"Still Life\",\"Still With You\",\"Streets\",\"Style\",\"Sugar Rush Ride\",\"Summertime Sadness\",\"Sunflower - Spider-Man: Into the Spider-Verse\",\"Sunroof\",\"Super\",\"Super Freaky Girl\",\"Super Gremlin\",\"Super Shy\",\"Superhero (Heroes & Villains) [with Future & Chris Brown]\",\"Superman\",\"Sure Thing\",\"Surface Pressure\",\"Sweet Child O' Mine\",\"Sweetest Pie\",\"Swim\",\"S\\u00ef\\u00bf\\u00bd\\u00ef\\u00bf\\u00bd\",\"THATS WHAT I WANT\",\"THE LONELIEST\",\"THE SHADE\",\"TO THE MOON\",\"TQG\",\"TQM\",\"TRUSTFALL\",\"TULUM\",\"TUS L\\u00ef\\u00bf\\u00bd\\u00ef\\u00bf\\u00bdGR\",\"TV\",\"Tacones Rojos\",\"Tak Segampang Itu\",\"Take Me To Church\",\"Take My Breath\",\"Take On Me\",\"Take Two\",\"Talk\",\"Talk that Talk\",\"Talking To The Moon\",\"Tarot\",\"Tattoo\",\"Te Felicito\",\"Tere Vaaste (From \\\"Zara Hatke Zara Bachke\\\")\",\"That That (prod. & feat. SUGA of BTS)\",\"That's Hilarious\",\"The Astronaut\",\"The Business\",\"The Christmas Song (Merry Christmas To You) - Remastered 1999\",\"The Color Violet\",\"The Family Madrigal\",\"The Feels\",\"The Great War\",\"The Heart Part 5\",\"The Motto\",\"The Next Episode\",\"The Night We Met\",\"The Nights\",\"The Real Slim Shady\",\"The Rumbling (TV Size)\",\"The Scientist\",\"There's Nothing Holdin' Me Back\",\"Thinking Out Loud\",\"Thinkin\\u00ef\\u00bf\\u00bd\\u00ef\\u00bf\\u00bd\\u00ef\\u00bf\\u00bd B\",\"This Love (Taylor\\u00ef\\u00bf\\u00bd\\u00ef\\u00bf\\u00bd\\u00ef\\u00bf\\u00bds Ve\",\"Those Eyes\",\"Thought You Should Know\",\"Thousand Miles\",\"Thunder\",\"Tiago PZK: Bzrp Music Sessions, Vol. 48\",\"Titi Me Pregunt\\u00ef\\u00bf\",\"Todo De Ti\",\"Tom's Diner\",\"Too Late\",\"Too Many Nights (feat. Don Toliver & with Future)\",\"Trance (with Travis Scott & Young Thug)\",\"True Love\",\"Tubar\\u00ef\\u00bf\\u00bd\\u00ef\\u00bf\\u00bdo Te\",\"Typa Girl\",\"T\\u00ef\\u00bf\\u00bd\\u00ef\\u00bf\",\"ULTRA SOLO\",\"ULTRA SOLO REMIX\",\"UNFORGIVEN (feat. Nile Rodgers)\",\"Un Coco\",\"Un Finde | CROSSOVER #2\",\"Un Verano Sin Ti\",\"Una Noche en Medell\\u00ef\\u00bf\\u00bd\",\"Underneath the Tree\",\"Unholy (feat. Kim Petras)\",\"United In Grief\",\"Until I Found You\",\"Until I Found You (with Em Beihold) - Em Beihold Version\",\"Used (feat. Don Toliver)\",\"VAGABUNDO\",\"VOID\",\"Vai L\\u00ef\\u00bf\\u00bd\\u00ef\\u00bf\\u00bd Em Casa \",\"Vampiro\",\"Vegas (From the Original Motion Picture Soundtrack ELVIS)\",\"Vigilante Shit\",\"Villano Antillano: Bzrp Music Sessions, Vol. 51\",\"Viva La Vida\",\"Volando - Remix\",\"Volv\\u00ef\\u00bf\",\"WAIT FOR U (feat. Drake & Tems)\",\"WANDA\",\"WHERE SHE GOES\",\"WORTH NOTHING\",\"Wait a Minute!\",\"Wake Me Up - Radio Edit\",\"Watch This - ARIZONATEARS Pluggnb Remix\",\"Way 2 Sexy (with Future & Young Thug)\",\"We Cry Together\",\"We Found Love\",\"What Else Can I Do?\",\"What It Is (Solo Version)\",\"When I R.I.P.\",\"When You're Gone\",\"Where Are You Now\",\"Where Did You Go?\",\"White Christmas\",\"Why'd You Only Call Me When You're High?\",\"Wild Flower (with youjeen)\",\"With you\",\"Without Me\",\"Wonderful Christmastime - Edited Version \\u002f Remastered 2011\",\"Worldwide Steppers\",\"Worst Day\",\"Would've, Could've, Should've\",\"X SI VOLVEMOS\",\"X \\u00ef\\u00bf\\u00bd\\u00ef\\u00bf\\u00bdLTIMA\",\"XQ Te Pones As\\u00ef\\u00bf\",\"Ya No Somos Ni Seremos\",\"Yandel 150\",\"Yellow\",\"Yet To Come\",\"Yo Voy (feat. Daddy Yankee)\",\"Yonaguni\",\"You Belong With Me (Taylor\\u00ef\\u00bf\\u00bd\\u00ef\\u00bf\\u00bd\\u00ef\\u00bf\\u00bds Ve\",\"You Make It Feel Like Christmas (feat. Blake Shelton)\",\"You Proof\",\"You Right\",\"You're On Your Own, Kid\",\"ZOOM\",\"Zona De Perigo\",\"august\",\"ceilings\",\"c\\u00ef\\u00bf\\u00bd\\u00ef\\u00bf\\u00bdmo dormi\",\"deja vu\",\"die first\",\"family ties (with Kendrick Lamar)\",\"favorite crime\",\"fukumean\",\"golden hour\",\"happier\",\"jealousy, jealousy\",\"lovely - Bonus Track\",\"on the street (with J. Cole)\",\"psychofreak (feat. WILLOW)\",\"pushin P (feat. Young Thug)\",\"sentaDONA (Remix) s2\",\"she's all i wanna be\",\"this is what falling in love feels like\",\"thought i was playing\",\"un x100to\",\"vampire\",\"we fell in love in october\",\"you broke me first\",\"\\u00fd\\u00fd\\u00fd98 Braves\",\"\\u00fd\\u00fd\\u00fd\\u00fd\\u00fd\\u00fd\\u00fd\\u00fd\\u00fd\\u00fd\\u00fd\\u00fd\",\"\\u00fd\\u00fd\\u00fd\\u00fd\\u00fd\\u00fd\\u00fd\\u00fd\\u00fd\\u00fd\\u00fd\\u00fd\\u00fd\\u00fd\\u00fd\\u00fd\\u00fd\\u00fd\\u00fd\\u00fd\\u00fd\",\"(G)I-DLE\",\"21 Savage, Gunna\",\"50 Cent\",\"A$AP Rocky, Metro Boomin, Roisee\",\"Abhijay Sharma, Riar Saab\",\"Adele\",\"Aerosmith\",\"Agust D\",\"Aitana, zzoilo\",\"Alec Benjamin\",\"Alvaro Diaz, Rauw Alejandro\",\"Ana Castela, AgroPlay\",\"Andy Williams\",\"Anggi Marito\",\"Anitta\",\"Anitta, Tini, Becky G\",\"AnnenMayKantereit, Giant Rooks\",\"Anuel Aa, Jhay Cortez\",\"Anuel Aa, Myke Towers, Jhay Cortez\",\"Arcangel, Bad Bunny\",\"Arcangel, Bizarrap\",\"Arcangel, De La Ghetto, Justin Quiles, Lenny Tav\\u00ef\\u00bf\\u00bd\\u00ef\\u00bf\\u00bdrez, Sech, Dalex, Dimelo Flow, Rich Music\",\"Arctic Monkeys\",\"Ariana Grande, The Weeknd\",\"Arijit Singh, Sachin-Jigar\",\"Arijit Singh, Sachin-Jigar, Amitabha Bhattacharya\",\"Arijit Singh, Vishal Dadlani, Sukriti Kakar, Vishal-Shekhar, Shekhar Ravjiani, Kumaar\",\"Armani White\",\"Aventura, Bad Bunny\",\"Avicii\",\"Ayparia, unxbected\",\"BIGBANG\",\"BLACKPINK\",\"BLESSD, Peso Pluma\",\"BTS\",\"BYOR, Imanbek\",\"Baby Tate\",\"Bad Bunny\",\"Bad Bunny, Eladio Carrion\",\"Bad Bunny, Grupo Frontera\",\"Bad Bunny, Jhay Cortez\",\"Bad Bunny, Rauw Alejandro\",\"Bad Bunny, Tainy\",\"Bad Bunny, The Mar\\u00ef\\u00bf\\u00bd\\u00ef\",\"Beach Weather\",\"Bebe Rexha, David Guetta\",\"Becky G, Peso Pluma\",\"Bellakath\",\"Benson Boone\",\"Beyonc\\u00ef\\u00bf\",\"Big One, FMK, Ke personajes\",\"Billie Eilish\",\"Billie Eilish, Khalid\",\"Bing Crosby, John Scott Trotter & His Orchestra, Ken Darby Singers\",\"Bizarrap, Peso Pluma\",\"Bizarrap, Quevedo\",\"Bizarrap, Tiago pzk\",\"Bizarrap, Villano Antillano\",\"Blackbear, BoyWithUke\",\"Bomba Est\\u00ef\\u00bf\\u00bd\\u00ef\\u00bf\\u00bdreo, Bad B\",\"Brray, Rauw Alejandro, Lyanno\",\"Bruno Mars\",\"Bruno Mars, Anderson .Paak, Silk Sonic\",\"Burna Boy\",\"Buscabulla, Bad Bunny\",\"C. Tangana\",\"Calvin Harris, Dua Lipa, Young Thug\",\"Calvin Harris, Ellie Goulding\",\"Calvin Harris, Halsey, Pharrell Williams, Justin Timberlake\",\"Camila Cabello, Ed Sheeran\",\"Camila Cabello, Willow\",\"Carin Leon\",\"Carin Leon, Grupo Frontera\",\"Cartel De Santa, La Kelly\",\"Central Cee\",\"Chanel\",\"Charli XCX, Jax Jones, Joel Corry, Saweetie\",\"Charlie Puth\",\"Charlie Puth, BTS, Jung Kook\",\"Chase Atlantic\",\"Chencho Corleone, Bad Bunny\",\"Chencho Corleone, Rauw Alejandro\",\"Cherish, ACRAZE\",\"Childish Gambino\",\"Chino Pacas\",\"Chris Brown, Rvssian, Rauw Alejandro\",\"Chris Molitor\",\"Chris Rea\",\"Christian Nodal\",\"Chuck Berry\",\"Cigarettes After Sex\",\"Coi Leray\",\"Coldplay\",\"Coldplay, BTS\",\"Conan Gray\",\"Cris Mj\",\"DJ Escobar, MC MENOR SG, MC MENOR HR\",\"Daddy Yankee\",\"Daddy Yankee, Bad Bunny\",\"Danny Ocean\",\"Darlene Love\",\"Dave\",\"Dave, Central Cee\",\"David Guetta, Anne-Marie, Coi Leray\",\"David Guetta, Ella Henderson, Becky Hill\",\"David Guetta, Shakira, Black Eyed Peas\",\"David Kushner\",\"De La Ghetto, Duki, Quevedo\",\"De La Ghetto, Feid, Polima WestCoast, Paloma Mami, Pailita\",\"Dean Lewis\",\"Dean Martin\",\"Demi Lovato\",\"Dj LK da Esc\\u00ef\\u00bf\\u00bd\\u00ef\\u00bf\\u00bdcia, Tchakabum, mc jhenny, M\",\"Doechii\",\"Doja Cat\",\"Doja Cat, The Weeknd\",\"Don Toliver, Future, Justin Bieber\",\"Dove Cameron\",\"Dr. Dre, 2Pac, Roger\",\"Dr. Dre, Snoop Dogg\",\"Drake\",\"Drake, 21 Savage\",\"Drake, DJ Khaled, Lil Baby\",\"Drake, Future, Tems\",\"Drake, Future, Young Thug\",\"Drake, Project Pat, 21 Savage\",\"Drake, Travis Scott\",\"Drake, Travis Scott, 21 Savage\",\"Drake, WizKid, Kyla\",\"Dua Lipa\",\"Dua Lipa, DaBaby\",\"Dua Lipa, Elton John, Pnau\",\"Dua Lipa, Megan Thee Stallion\",\"Duki\",\"Duki, NICKI NICOLE, Cris Mj, Standly, Stars Music Chile\",\"ENHYPEN\",\"Ed Sheeran\",\"Ed Sheeran, Fireboy DML\",\"Ed Sheeran, J Balvin\",\"Eden Mu\\u00ef\\u00bf\\u00bd\\u00ef\",\"Edison Lighthouse\",\"El Chachito, Junior H\",\"Elley Duh\\u00ef\\u00bf\",\"Em Beihold\",\"Em Beihold, Stephen Sanchez\",\"Eminem\",\"Eminem, Dido\",\"Eminem, Dina Rae\",\"Eminem, Dr. Dre\",\"Eminem, Nate Dogg\",\"Emmy Meli\",\"Eslabon Armado, Peso Pluma\",\"Feid\",\"Feid, Alejo, Robi\",\"Feid, Mora\",\"Feid, Mora, Saiko, Quevedo\",\"Feid, Myke Towers, Sky Rompiendo\",\"Feid, Paulo Londra\",\"Feid, Sech, Jhayco\",\"Feid, Young Miko\",\"Fifty Fifty\",\"Fran C, Polima WestCoast, Nickoog Clk, Pablito Pesadilla\",\"Frank Ocean\",\"Frank Sinatra\",\"Frank Sinatra, B. Swanson Quartet\",\"Freddie Dredd\",\"Fuerza Regida\",\"Fuerza Regida, Chino Pacas\",\"Fuerza Regida, Grupo Frontera\",\"Fuerza Regida, Natanael Cano\",\"Fuerza Regida, Peso Pluma\",\"Fujii Kaze\",\"Future\",\"Future, Chris Brown, Metro Boomin\",\"Future, Lil Uzi Vert, Metro Boomin\",\"Future, Metro Boomin, Don Toliver\",\"GODZZ__-, Zakaria\",\"Gabito Ballesteros, Junior H, Peso Pluma\",\"Ghost\",\"Grupo Marca Registrada, Grupo Frontera\",\"Grupo Marca Registrada, Junior H\",\"Gunna\",\"Gunna, Lil Baby\",\"Guns N' Roses\",\"Gwen Stefani, Blake Shelton\",\"HA SUNG WOON, Jimin\",\"Halsey\",\"Halsey, BTS\",\"Halsey, Suga\",\"Harry Styles\",\"Hotel Ugly\",\"Hozier\",\"INTERWORLD\",\"IU, Agust D\",\"IVE\",\"Imagine Dragons\",\"Imagine Dragons, League of Legends, Arcane\",\"Imagine Dragons, League of Legends, JID, Arcane\",\"Intense, AP Dhillon, Gurinder Gill\",\"Israel & Rodolffo, Ana Castela\",\"Israel & Rodolffo, Mari Fernandez\",\"J Balvin, Bad Bunny\",\"J Balvin, Maria Becerra\",\"J Balvin, Nio Garcia, Bad Bunny\",\"J. Cole\",\"J. Cole, Lil Durk\",\"JISOO\",\"JVKE\",\"Jack Black\",\"Jack Harlow\",\"Jain\",\"James Arthur\",\"James Blake, Metro Boomin\",\"James Hype, Miggy Dela Rosa\",\"Jasiel Nu\\u00ef\\u00bf\\u00bd\\u00ef\\u00bf\\u00bdez, Peso P\",\"Jason Derulo\",\"Jaymes Young\",\"Jessi\",\"Jessica Darrow\",\"Jimin\",\"Jin\",\"Jnr Choi\",\"John Legend\",\"John Legend, Metro Boomin\",\"John Lennon, The Harlem Community Choir, The Plastic Ono Band, Yoko Ono\",\"Joji\",\"Jordan Fisher, Josh Levi, Finneas O'Connell, 4*TOWN (From Disney and Pixar\\u00ef\\u00bf\\u00bd\\u00ef\\u00bf\\u00bd\\u00ef\\u00bf\\u00bds Turning Red), Topher Ngo, Grayson Vill\",\"Jos\\u00ef\\u00bf\\u00bd\\u00ef\\u00bf\\u00bd Felic\",\"Juice WRLD\",\"Julieta Venegas, Bad Bunny, Tainy\",\"Jung Kook\",\"Junior H, Eden Mu\\u00ef\\u00bf\\u00bd\\u00ef\",\"Junior H, Peso Pluma\",\"Justin Bieber\",\"Justin Bieber, Don Toliver\",\"Justin Bieber, The Kid Laroi\",\"Justin Quiles, Lenny Tav\\u00ef\\u00bf\\u00bd\\u00ef\\u00bf\\u00bdrez, BL\",\"KALUSH\",\"Kaifi Khalil\",\"Kali Uchis\",\"Kali Uchis, Amaarae, Moliy\",\"Kaliii, Kaliii\",\"Kanii, PR1ISVX\",\"Kanye West\",\"Kanye West, Alicia Keys, Fivio Foreign\",\"Kanye West, Lil Durk, Cardi B\",\"Kanye West, XXXTENTACION\",\"Karol G\",\"Karol G, Becky G\",\"Karol G, Ovy On The Drums\",\"Karol G, Quevedo\",\"Karol G, Romeo Santos\",\"Karol G, Shakira\",\"Kate Bush\",\"Keane\",\"Kelly Clarkson\",\"Kendrick Lamar\",\"Kendrick Lamar, Baby Keem\",\"Kendrick Lamar, Beth Gibbons\",\"Kendrick Lamar, Beyonc\\u00ef\\u00bf\",\"Kendrick Lamar, Blxst, Amanda Reifer\",\"Kendrick Lamar, Ghostface Killah, Summer Walker\",\"Kendrick Lamar, Jay Rock\",\"Kendrick Lamar, Kodak Black\",\"Kendrick Lamar, Sam Dew, Baby Keem\",\"Kendrick Lamar, Sampha\",\"Kendrick Lamar, Tanna Leone\",\"Kendrick Lamar, Taylour Paige\",\"Kenia OS\",\"Kenshi Yonezu\",\"Kevin Kaarl\",\"King\",\"Kodak Black\",\"Kodak Black, NLE Choppa, Muni Long, JVKE, Jimin\",\"Kordhell\",\"L7nnon, DJ Biel do Furduncinho, Bianca\",\"LE SSERAFIM\",\"LF System\",\"Labrinth\",\"Labrinth, Zendaya\",\"Lady Gaga\",\"Lady Gaga, Bradley Cooper\",\"Lana Del Rey\",\"Lana Del Rey, Taylor Swift\",\"Lasso\",\"Latto, Jung Kook\",\"Lauren Spencer Smith\",\"Lauren Spencer Smith, Lauren Spencer Smith, Lauren Spencer Smith\",\"Leah Kate\",\"Leo Santana\",\"Lewis Capaldi\",\"Libianca\",\"Lil Baby\",\"Lil Durk, Morgan Wallen\",\"Lil Nas X\",\"Lil Tjay\",\"Lil Uzi Vert\",\"Lil Yachty\",\"Linkin Park\",\"Lit Killah, Maria Becerra, Tiago pzk, NICKI NICOLE\",\"Lizzo\",\"Lizzy McAlpine\",\"Lord Huron\",\"Loreen\",\"Lost Frequencies, Calum Scott\",\"Luciano\",\"Luciano, Aitch, B\\u00ef\\u00bf\\u00bd\",\"Ludwig Goransson, Foudeqush\",\"Luis R Conriquez, La Adictiva\",\"Luke Combs\",\"Luude, Colin Hay\",\"Lu\\u00ef\\u00bf\\u00bd\\u00ef\\u00bf\\u00bdsa Sonza, MC Frog, Dj Gabriel do Borel, Davi K\",\"MC Caverinha, KayBlack\",\"MC Ryan SP, Love Funk, Mc Paiva ZS\",\"MC Xenon, Os Gemeos da Putaria\",\"MNEK, Jax Jones\",\"Mabel Matiz, Mert Demir\",\"Mac DeMarco\",\"Mae Stephens\",\"Mahalini\",\"Mahmood, Blanco\",\"Mainstreet, Chefin\",\"Maldy, Karol G\",\"Maluma\",\"Mambo Kingz, DJ Luian, Anuel Aa\",\"Manuel Turizo\",\"Maria Becerra\",\"Maroon 5\",\"Marshmello, Jonas Brothers\",\"Marshmello, Juice WRLD\",\"Marshmello, Manuel Turizo\",\"Mar\\u00ef\\u00bf\\u00bd\\u00ef\\u00bf\\u00bdlia Mendo\",\"Mar\\u00ef\\u00bf\\u00bd\\u00ef\\u00bf\\u00bdlia Mendon\\u00ef\\u00bf\\u00bd\\u00ef\\u00bf\\u00bda, George Henrique &\",\"Mar\\u00ef\\u00bf\\u00bd\\u00ef\\u00bf\\u00bdlia Mendon\\u00ef\\u00bf\\u00bd\\u00ef\\u00bf\\u00bda, Maiara &\",\"Masked Wolf\",\"Matu\\u00ef\\u00bf\\u00bd\\u00ef\\u00bf\\u00bd, Wiu, \",\"Mc Livinho, DJ Matt D\",\"Mc Pedrinho, DJ 900\",\"Mc Pedrinho, Pedro Sampaio\",\"Mc Vitin Da Igrejinha, MC Tairon, DJ Win\",\"Meghan Trainor\",\"Melanie Martinez\",\"Melody, Ana Castela, Dj Chris No Beat\",\"Metallica\",\"Metro Boomin, Coi Leray\",\"Michael Bubl\\u00ef\\u00bf\",\"Migrantes, LiL CaKe, Nico Valdi\",\"Miguel\",\"Miley Cyrus\",\"Morgan Wallen\",\"Morgan Wallen, Eric Church\",\"Mr.Kitty\",\"Muni Long\",\"Musical Youth\",\"Myke Towers\",\"Myke Towers, Quevedo\",\"M\\u00ef\\u00bf\\u00bd\\u00ef\\u00bf\\u00bdne\",\"NF\",\"NIKI\",\"NLE Choppa\",\"NMIXX\",\"Nat King Cole\",\"Natanael Cano\",\"Natanael Cano, Gabito Ballesteros, Peso Pluma\",\"Natanael Cano, Peso Pluma\",\"Nayeon\",\"Nengo Flow, Anuel Aa, Chris Jedi, Chencho Corleone\",\"Nengo Flow, Bad Bunny\",\"Nessa Barrett\",\"New West\",\"NewJeans\",\"Niall Horan\",\"Nicki Minaj\",\"Nicki Minaj, Ice Spice\",\"Nicki Minaj, Lil Baby\",\"Nicky Jam, Feid\",\"Nicky Youre, Dazy\",\"Nile Rodgers, LE SSERAFIM\",\"Nirvana\",\"Offset, JID\",\"Olga Merediz, Stephanie Beatriz, Encanto - Cast\",\"Olivia Rodrigo\",\"Omar Apollo\",\"OneRepublic\",\"Ovy On The Drums, Quevedo\",\"Oxlade\",\"Ozuna, Feid\",\"Ozuna, Tiago pzk\",\"P!nk\",\"PSY, Suga\",\"Paloma Faith\",\"Panic! At The Disco\",\"Paul McCartney\",\"Paulo Londra\",\"Peggy Gou\",\"Perry Como, The Fontane Sisters, Mitchell Ayres & His Orchestra\",\"Peso Pluma, Grupo Frontera\",\"Peso Pluma, Yng Lvcas\",\"Pharrell Williams, Nile Rodgers, Daft Punk\",\"Pharrell Williams, Tyler, The Creator, 21 Savage\",\"PinkPantheress\",\"PinkPantheress, Ice Spice\",\"Plan B\",\"Playboi Carti\",\"PnB Rock\",\"Polima WestCoast, Pailita\",\"Polo G\",\"Post Malone\",\"Post Malone, Doja Cat\",\"Post Malone, Swae Lee\",\"Prezioso, Gabry Ponte, LUM!X\",\"Quevedo\",\"Quevedo, Jhayco\",\"Quevedo, La Pantera, Juseph, Cruz Cafun\\u00ef\\u00bf\\u00bd\\u00ef\\u00bf\\u00bd, B\\u00ef\\u00bf\\u00bd\\u00ef\\u00bf\\u00bdjo, Abhir Hathi\",\"RAYE, 070 Shake\",\"RM\",\"RM, Colde\",\"ROSAL\\u00ef\\u00bf\\u00bd\",\"Radiohead\",\"Raim Laode\",\"Rauw Alejandro\",\"Rauw Alejandro, Bizarrap\",\"Rauw Alejandro, ROSAL\\u00ef\\u00bf\\u00bd\",\"Ray Dalton, Ryan Lewis, Macklemore\",\"Rels B\",\"Residente, Bizarrap\",\"Rex Orange County\",\"Rich The Kid, Matu\\u00ef\\u00bf\",\"Rihanna\",\"Rihanna, Calvin Harris\",\"Riton, Nightcrawlers, Mufasa & Hypeman, Dopamine\",\"Robin Schulz, Oliver Tree\",\"Ruth B.\",\"Ryan Castro\",\"R\\u00ef\\u00bf\\u00bd\\u00ef\\u00bf\\u00bdma, Selena G\",\"SALES\",\"SEVENTEEN\",\"SZA\",\"SZA, Doja Cat\",\"SZA, Don Toliver\",\"SZA, Phoebe Bridgers\",\"SZA, Travis Scott\",\"Sabrina Carpenter\",\"Sachin-Jigar, Shadab Faridi, Altamash Faridi, Amitabh Bhattacharya, Varun Jain\",\"Sam Ryder\",\"Sam Smith\",\"Sam Smith, Kim Petras\",\"Sch\\u00ef\\u00bf\\u00bd\\u00ef\\u00bf\\u00bdrze, DJ R\",\"Seafret\",\"Sean Paul, Dua Lipa\",\"Sean Paul, Feid\",\"Sebastian Yatra\",\"Sebastian Yatra, Manuel Turizo, Be\\u00ef\\u00bf\\u00bd\\u00ef\",\"Sech, Bad Bunny, Mora\",\"Sech, Mora\",\"Selena Gomez\",\"Semicenk, Do\\u00ef\\u00bf\\u00bd\\u00ef\\u00bf\\u00bdu \",\"Shae Gill, Ali Sethi\",\"Shakin' Stevens\",\"Shakira\",\"Shakira, Bizarrap\",\"Shakira, Rauw Alejandro\",\"Shawn Mendes\",\"Shawn Mendes, Camila Cabello\",\"Shubh\",\"SiM\",\"Sidhu Moose Wala\",\"Simone Mendes\",\"Skrillex, Flowdan, Fred again..\",\"Sleepy hallow\",\"Sleepy hallow, 347aidan\",\"Sofia Carson\",\"Southstar\",\"Stephanie Beatriz, Diane Guerrero\",\"Stephen Sanchez\",\"Steve Aoki, Tini, La Joaqui\",\"Steve Lacy\",\"Stray Kids\",\"Stromae\",\"Styrx, utku INC, Thezth\",\"Suki Waterhouse\",\"Surf Curse\",\"Swae Lee, Lil Wayne, Offset, Metro Boomin\",\"TAEYANG, Lisa\",\"THE ANXIETY, Willow, Tyler Cole\",\"TOMORROW X TOGETHER\",\"TV Girl\",\"TWICE\",\"Tainy, Bad Bunny\",\"Taiu, Milo j\",\"Tate McRae\",\"Taylor Swift\",\"Taylor Swift, Ice Spice\",\"Taylor Swift, Lana Del Rey\",\"Tears For Fears\",\"The Chainsmokers, Coldplay\",\"The Chainsmokers, Halsey\",\"The Goo Goo Dolls\",\"The Kid Laroi\",\"The Killers\",\"The Neighbourhood\",\"The Police\",\"The Rare Occasions\",\"The Ronettes\",\"The Walters\",\"The Weeknd\",\"The Weeknd, 21 Savage, Metro Boomin\",\"The Weeknd, Daft Punk\",\"The Weeknd, Future\",\"The Weeknd, Gesaffelstein\",\"The Weeknd, Lana Del Rey\",\"The Weeknd, Lil Wayne\",\"The Weeknd, Madonna, Playboi Carti\",\"The Weeknd, Post Malone\",\"The Weeknd, Tyler, The Creator\",\"ThxSoMch\",\"Tini\",\"Tini, L-Gante\",\"Tini, Maria Becerra\",\"Ti\\u00ef\\u00bf\\u00bd\\u00ef\\u00bf\",\"Ti\\u00ef\\u00bf\\u00bd\\u00ef\\u00bf\\u00bdsto, Ava\",\"Ti\\u00ef\\u00bf\\u00bd\\u00ef\\u00bf\\u00bdsto, Kar\",\"Ti\\u00ef\\u00bf\\u00bd\\u00ef\\u00bf\\u00bdsto, Tate M\",\"Tony Dize, Bad Bunny\",\"Tory Lanez\",\"Travis Scott, 21 Savage, Metro Boomin\",\"Travis Scott, Metro Boomin\",\"Travis Scott, Young Thug, Metro Boomin\",\"Treyce\",\"Troye Sivan\",\"Trueno, Tiago pzk\",\"Tulus\",\"Twisted, Oliver Tree\",\"Tyga, Doja Cat\",\"Tyler, The Creator\",\"Tyler, The Creator, Kali Uchis\",\"Ugly Dray, Tesla Jnr\",\"V\",\"Vance Joy\",\"Veigh, Bvga Beatz, Supernova Ent, Prod Malax\",\"Victor Cibrian\",\"Vishal-Shekhar, Shilpa Rao, Caralisa Monteiro, Kumaar, Vishal Dadlani, Shekhar Ravjiani\",\"Vundabar\",\"Willow\",\"Wisin & Yandel, ROSAL\\u00ef\\u00bf\\u00bd\",\"WizKid, Toian, Metro Boomin, Don Toliver, Beam\",\"XXXTENTACION\",\"Xam\\u00ef\\u00bf\\u00bd\\u00ef\\u00bf\\u00bd, Gustah, Neo B\",\"YEAT\",\"YOASOBI\",\"Yahritza Y Su Esencia\",\"Yahritza Y Su Esencia, Grupo Frontera\",\"Yandel, Feid\",\"Yng Lvcas\",\"Young Thug, Future, Gunna\",\"Yung Gravy\",\"Yung Lean\",\"Yuridia, Angela Aguilar\",\"Zach Bryan\",\"Zion & Lennox\",\"Z\\u00ef\\u00bf\\u00bd\\u00ef\\u00bf\\u00bd Fe\",\"Z\\u00ef\\u00bf\\u00bd\\u00ef\\u00bf\\u00bd Neto & Crist\",\"a-ha\",\"d4vd\",\"dennis, MC Kevin o Chris\",\"girl in red\",\"j-hope\",\"j-hope, J. Cole\",\"sped up 8282\",\"sped up nightcore, ARIZONATEARS, Lil Uzi Vert\",\"teto\",\"Artist\"],\"name\":\"\",\"parents\":[\"Artist\\u002fEminem, Nate Dogg\",\"Artist\\u002fPeggy Gou\",\"Artist\\u002fLeah Kate\",\"Artist\\u002fTi\\u00ef\\u00bf\\u00bd\\u00ef\\u00bf\\u00bdsto, Tate M\",\"Artist\\u002fLizzo\",\"Artist\\u002fSleepy hallow\",\"Artist\\u002fMainstreet, Chefin\",\"Artist\\u002fGunna, Lil Baby\",\"Artist\\u002fSidhu Moose Wala\",\"Artist\\u002fNicky Jam, Feid\",\"Artist\\u002fThe Weeknd\",\"Artist\\u002fFeid, Paulo Londra\",\"Artist\\u002fBeyonc\\u00ef\\u00bf\",\"Artist\\u002fJ Balvin, Nio Garcia, Bad Bunny\",\"Artist\\u002fKarol G\",\"Artist\\u002fKendrick Lamar, Beyonc\\u00ef\\u00bf\",\"Artist\\u002fNatanael Cano, Gabito Ballesteros, Peso Pluma\",\"Artist\\u002fLE SSERAFIM\",\"Artist\\u002fJunior H, Eden Mu\\u00ef\\u00bf\\u00bd\\u00ef\",\"Artist\\u002fLizzo\",\"Artist\\u002fJason Derulo\",\"Artist\\u002fShakira\",\"Artist\\u002fHarry Styles\",\"Artist\\u002fLF System\",\"Artist\\u002fMr.Kitty\",\"Artist\\u002fThe Weeknd\",\"Artist\\u002fBad Bunny\",\"Artist\\u002fBad Bunny\",\"Artist\\u002fStyrx, utku INC, Thezth\",\"Artist\\u002fL7nnon, DJ Biel do Furduncinho, Bianca\",\"Artist\\u002fDoja Cat\",\"Artist\\u002fMorgan Wallen\",\"Artist\\u002fVundabar\",\"Artist\\u002fLabrinth, Zendaya\",\"Artist\\u002fJ. Cole, Lil Durk\",\"Artist\\u002fTaylor Swift\",\"Artist\\u002fFuture, Lil Uzi Vert, Metro Boomin\",\"Artist\\u002fJohn Legend\",\"Artist\\u002fBurna Boy\",\"Artist\\u002fA$AP Rocky, Metro Boomin, Roisee\",\"Artist\\u002fBuscabulla, Bad Bunny\",\"Artist\\u002fTroye Sivan\",\"Artist\\u002fKodak Black, NLE Choppa, Muni Long, JVKE, Jimin\",\"Artist\\u002fMiley Cyrus\",\"Artist\\u002fSwae Lee, Lil Wayne, Offset, Metro Boomin\",\"Artist\\u002fDuki\",\"Artist\\u002fTaylor Swift\",\"Artist\\u002fMabel Matiz, Mert Demir\",\"Artist\\u002fArijit Singh, Sachin-Jigar\",\"Artist\\u002fCigarettes After Sex\",\"Artist\\u002fArcangel, Bizarrap\",\"Artist\\u002fKaliii, Kaliii\",\"Artist\\u002fMasked Wolf\",\"Artist\\u002fSeafret\",\"Artist\\u002fNewJeans\",\"Artist\\u002fKendrick Lamar\",\"Artist\\u002fRauw Alejandro, Bizarrap\",\"Artist\\u002fFran C, Polima WestCoast, Nickoog Clk, Pablito Pesadilla\",\"Artist\\u002fRauw Alejandro, ROSAL\\u00ef\\u00bf\\u00bd\",\"Artist\\u002fArmani White\",\"Artist\\u002fBeyonc\\u00ef\\u00bf\",\"Artist\\u002fDavid Guetta, Anne-Marie, Coi Leray\",\"Artist\\u002fTaylor Swift\",\"Artist\\u002fDrake\",\"Artist\\u002fSteve Lacy\",\"Artist\\u002fMc Vitin Da Igrejinha, MC Tairon, DJ Win\",\"Artist\\u002fCamila Cabello, Ed Sheeran\",\"Artist\\u002fLuciano, Aitch, B\\u00ef\\u00bf\\u00bd\",\"Artist\\u002fTini, L-Gante\",\"Artist\\u002fLuciano\",\"Artist\\u002fFuerza Regida, Grupo Frontera\",\"Artist\\u002fLewis Capaldi\",\"Artist\\u002fM\\u00ef\\u00bf\\u00bd\\u00ef\\u00bf\\u00bdne\",\"Artist\\u002fTaylor Swift\",\"Artist\\u002fImagine Dragons\",\"Artist\\u002fBYOR, Imanbek\",\"Artist\\u002fVishal-Shekhar, Shilpa Rao, Caralisa Monteiro, Kumaar, Vishal Dadlani, Shekhar Ravjiani\",\"Artist\\u002fWisin & Yandel, ROSAL\\u00ef\\u00bf\\u00bd\",\"Artist\\u002fThe Weeknd\",\"Artist\\u002fTaylor Swift\",\"Artist\\u002fYung Gravy\",\"Artist\\u002fTaylor Swift\",\"Artist\\u002fENHYPEN\",\"Artist\\u002fTaylor Swift\",\"Artist\\u002fENHYPEN\",\"Artist\\u002fSZA\",\"Artist\\u002fLady Gaga\",\"Artist\\u002fIsrael & Rodolffo, Ana Castela\",\"Artist\\u002fImagine Dragons\",\"Artist\\u002fBillie Eilish\",\"Artist\\u002fBTS\",\"Artist\\u002fKanye West\",\"Artist\\u002fHalsey, BTS\",\"Artist\\u002fPinkPantheress\",\"Artist\\u002fPinkPantheress, Ice Spice\",\"Artist\\u002fDove Cameron\",\"Artist\\u002fMahmood, Blanco\",\"Artist\\u002fDrake, 21 Savage\",\"Artist\\u002fNicki Minaj, Lil Baby\",\"Artist\\u002fBTS\",\"Artist\\u002fMarshmello, Juice WRLD\",\"Artist\\u002fKarol G, Ovy On The Drums\",\"Artist\\u002fFeid\",\"Artist\\u002fMaria Becerra\",\"Artist\\u002fBeyonc\\u00ef\\u00bf\",\"Artist\\u002fLil Baby\",\"Artist\\u002fDr. Dre, 2Pac, Roger\",\"Artist\\u002fThe Weeknd\",\"Artist\\u002fBad Bunny, Tainy\",\"Artist\\u002fR\\u00ef\\u00bf\\u00bd\\u00ef\\u00bf\\u00bdma, Selena G\",\"Artist\\u002fRay Dalton, Ryan Lewis, Macklemore\",\"Artist\\u002fJames Arthur\",\"Artist\\u002fMC Caverinha, KayBlack\",\"Artist\\u002fMC Ryan SP, Love Funk, Mc Paiva ZS\",\"Artist\\u002fPharrell Williams, Tyler, The Creator, 21 Savage\",\"Artist\\u002fQuevedo, La Pantera, Juseph, Cruz Cafun\\u00ef\\u00bf\\u00bd\\u00ef\\u00bf\\u00bd, B\\u00ef\\u00bf\\u00bd\\u00ef\\u00bf\\u00bdjo, Abhir Hathi\",\"Artist\\u002fEd Sheeran\",\"Artist\\u002fFuerza Regida, Natanael Cano\",\"Artist\\u002fEden Mu\\u00ef\\u00bf\\u00bd\\u00ef\",\"Artist\\u002fPaulo Londra\",\"Artist\\u002fBecky G, Peso Pluma\",\"Artist\\u002fPost Malone\",\"Artist\\u002fShubh\",\"Artist\\u002fDarlene Love\",\"Artist\\u002fV\",\"Artist\\u002fJuice WRLD\",\"Artist\\u002fHarry Styles\",\"Artist\\u002fDrake, 21 Savage\",\"Artist\\u002fKanye West, Alicia Keys, Fivio Foreign\",\"Artist\\u002fFeid, Young Miko\",\"Artist\\u002fThe Chainsmokers, Halsey\",\"Artist\\u002fBad Bunny, Eladio Carrion\",\"Artist\\u002fDua Lipa, Elton John, Pnau\",\"Artist\\u002fQuevedo\",\"Artist\\u002fSofia Carson\",\"Artist\\u002fLudwig Goransson, Foudeqush\",\"Artist\\u002fSZA\",\"Artist\\u002fRich The Kid, Matu\\u00ef\\u00bf\",\"Artist\\u002fGODZZ__-, Zakaria\",\"Artist\\u002fDemi Lovato\",\"Artist\\u002fKendrick Lamar\",\"Artist\\u002fOneRepublic\",\"Artist\\u002fDavid Guetta, Ella Henderson, Becky Hill\",\"Artist\\u002fRadiohead\",\"Artist\\u002fThe Weeknd, 21 Savage, Metro Boomin\",\"Artist\\u002fKendrick Lamar\",\"Artist\\u002fTaylor Swift\",\"Artist\\u002fFifty Fifty\",\"Artist\\u002fFifty Fifty\",\"Artist\\u002fsped up 8282\",\"Artist\\u002fTini\",\"Artist\\u002fEd Sheeran\",\"Artist\\u002fRauw Alejandro\",\"Artist\\u002fMc Pedrinho, Pedro Sampaio\",\"Artist\\u002fROSAL\\u00ef\\u00bf\\u00bd\",\"Artist\\u002fTyler, The Creator\",\"Artist\\u002fThe Neighbourhood\",\"Artist\\u002fBad Bunny, Jhay Cortez\",\"Artist\\u002fDua Lipa\",\"Artist\\u002fRuth B.\",\"Artist\\u002fOffset, JID\",\"Artist\\u002fSteve Lacy\",\"Artist\\u002fThe Weeknd\",\"Artist\\u002fHarry Styles\",\"Artist\\u002fDavid Kushner\",\"Artist\\u002fNat King Cole\",\"Artist\\u002fC. Tangana\",\"Artist\\u002fImagine Dragons\",\"Artist\\u002fChencho Corleone, Rauw Alejandro\",\"Artist\\u002fBad Bunny\",\"Artist\\u002fGrupo Marca Registrada, Grupo Frontera\",\"Artist\\u002fJoji\",\"Artist\\u002fThe Weeknd\",\"Artist\\u002fAriana Grande, The Weeknd\",\"Artist\\u002fKendrick Lamar, Blxst, Amanda Reifer\",\"Artist\\u002fSleepy hallow, 347aidan\",\"Artist\\u002fFuerza Regida, Chino Pacas\",\"Artist\\u002fNewJeans\",\"Artist\\u002fArctic Monkeys\",\"Artist\\u002fCherish, ACRAZE\",\"Artist\\u002fNicki Minaj, Lil Baby\",\"Artist\\u002fCentral Cee\",\"Artist\\u002fTi\\u00ef\\u00bf\\u00bd\\u00ef\\u00bf\\u00bdsto, Kar\",\"Artist\\u002fDua Lipa\",\"Artist\\u002fDavid Guetta, Shakira, Black Eyed Peas\",\"Artist\\u002fRM, Colde\",\"Artist\\u002fTaylor Swift\",\"Artist\\u002fThe Weeknd\",\"Artist\\u002fBad Bunny\",\"Artist\\u002fThe Weeknd, Future\",\"Artist\\u002fLuude, Colin Hay\",\"Artist\\u002fAerosmith\",\"Artist\\u002fChris Rea\",\"Artist\\u002fJack Harlow\",\"Artist\\u002fIVE\",\"Artist\\u002fAdele\",\"Artist\\u002fBad Bunny\",\"Artist\\u002fBad Bunny\",\"Artist\\u002fJunior H, Peso Pluma\",\"Artist\\u002fFeid, Myke Towers, Sky Rompiendo\",\"Artist\\u002fChino Pacas\",\"Artist\\u002fMarshmello, Manuel Turizo\",\"Artist\\u002fGrupo Marca Registrada, Junior H\",\"Artist\\u002fEslabon Armado, Peso Pluma\",\"Artist\\u002fVictor Cibrian\",\"Artist\\u002fFeid, Sech, Jhayco\",\"Artist\\u002fEl Chachito, Junior H\",\"Artist\\u002fTaylor Swift\",\"Artist\\u002fTaylor Swift\",\"Artist\\u002fImagine Dragons, League of Legends, JID, Arcane\",\"Artist\\u002fImagine Dragons, League of Legends, Arcane\",\"Artist\\u002fBad Bunny\",\"Artist\\u002fLit Killah, Maria Becerra, Tiago pzk, NICKI NICOLE\",\"Artist\\u002fAnitta\",\"Artist\\u002fSimone Mendes\",\"Artist\\u002fPlan B\",\"Artist\\u002fRAYE, 070 Shake\",\"Artist\\u002fRAYE, 070 Shake\",\"Artist\\u002fMar\\u00ef\\u00bf\\u00bd\\u00ef\\u00bf\\u00bdlia Mendon\\u00ef\\u00bf\\u00bd\\u00ef\\u00bf\\u00bda, Maiara &\",\"Artist\\u002fOmar Apollo\",\"Artist\\u002fThe Police\",\"Artist\\u002fNIKI\",\"Artist\\u002fTears For Fears\",\"Artist\\u002fMorgan Wallen\",\"Artist\\u002fDJ Escobar, MC MENOR SG, MC MENOR HR\",\"Artist\\u002fIntense, AP Dhillon, Gurinder Gill\",\"Artist\\u002fEd Sheeran\",\"Artist\\u002fSZA\",\"Artist\\u002fLE SSERAFIM\",\"Artist\\u002fJISOO\",\"Artist\\u002fDrake, Travis Scott\",\"Artist\\u002fHarry Styles\",\"Artist\\u002fSZA\",\"Artist\\u002fLuke Combs\",\"Artist\\u002fKendrick Lamar, Sampha\",\"Artist\\u002fFeid\",\"Artist\\u002fJos\\u00ef\\u00bf\\u00bd\\u00ef\\u00bf\\u00bd Felic\",\"Artist\\u002fJames Hype, Miggy Dela Rosa\",\"Artist\\u002fFeid\",\"Artist\\u002fteto\",\"Artist\\u002fLauren Spencer Smith, Lauren Spencer Smith, Lauren Spencer Smith\",\"Artist\\u002fJack Harlow\",\"Artist\\u002fLauren Spencer Smith\",\"Artist\\u002fBTS\",\"Artist\\u002fLabrinth\",\"Artist\\u002fLewis Capaldi\",\"Artist\\u002fEminem, Dr. Dre\",\"Artist\\u002fLabrinth\",\"Artist\\u002fSurf Curse\",\"Artist\\u002fTyga, Doja Cat\",\"Artist\\u002fRiton, Nightcrawlers, Mufasa & Hypeman, Dopamine\",\"Artist\\u002fYahritza Y Su Esencia, Grupo Frontera\",\"Artist\\u002fDanny Ocean\",\"Artist\\u002fMaldy, Karol G\",\"Artist\\u002fDuki\",\"Artist\\u002fThe Weeknd\",\"Artist\\u002fBellakath\",\"Artist\\u002fNengo Flow, Bad Bunny\",\"Artist\\u002fDoja Cat\",\"Artist\\u002fPharrell Williams, Nile Rodgers, Daft Punk\",\"Artist\\u002fSZA, Phoebe Bridgers\",\"Artist\\u002fYung Lean\",\"Artist\\u002fJoji\",\"Artist\\u002fMc Pedrinho, DJ 900\",\"Artist\\u002fHarry Styles\",\"Artist\\u002fSZA\",\"Artist\\u002fSZA\",\"Artist\\u002fSuki Waterhouse\",\"Artist\\u002fEminem, Dr. Dre\",\"Artist\\u002fHarry Styles\",\"Artist\\u002fNF\",\"Artist\\u002fKendrick Lamar\",\"Artist\\u002fAgust D\",\"Artist\\u002fJohn Lennon, The Harlem Community Choir, The Plastic Ono Band, Yoko Ono\",\"Artist\\u002fTulus\",\"Artist\\u002fMac DeMarco\",\"Artist\\u002fKanye West\",\"Artist\\u002fConan Gray\",\"Artist\\u002fNiall Horan\",\"Artist\\u002fThe Weeknd, Tyler, The Creator\",\"Artist\\u002fd4vd\",\"Artist\\u002fOzuna, Feid\",\"Artist\\u002fBaby Tate\",\"Artist\\u002fTaylor Swift\",\"Artist\\u002fLady Gaga\",\"Artist\\u002fMichael Bubl\\u00ef\\u00bf\",\"Artist\\u002fJustin Bieber, Don Toliver\",\"Artist\\u002fXXXTENTACION\",\"Artist\\u002fKanye West, Lil Durk, Cardi B\",\"Artist\\u002fPanic! At The Disco\",\"Artist\\u002fThe Weeknd\",\"Artist\\u002fDean Lewis\",\"Artist\\u002fMuni Long\",\"Artist\\u002fJames Blake, Metro Boomin\",\"Artist\\u002fNewJeans\",\"Artist\\u002fIVE\",\"Artist\\u002fEmmy Meli\",\"Artist\\u002fTaylor Swift\",\"Artist\\u002fSZA\",\"Artist\\u002fThe Weeknd, Lil Wayne\",\"Artist\\u002fKanii, PR1ISVX\",\"Artist\\u002fPost Malone, Doja Cat\",\"Artist\\u002fThe Walters\",\"Artist\\u002fUgly Dray, Tesla Jnr\",\"Artist\\u002fM\\u00ef\\u00bf\\u00bd\\u00ef\\u00bf\\u00bdne\",\"Artist\\u002fThe Weeknd, Gesaffelstein\",\"Artist\\u002fMorgan Wallen\",\"Artist\\u002fBebe Rexha, David Guetta\",\"Artist\\u002fSam Smith\",\"Artist\\u002fBlackbear, BoyWithUke\",\"Artist\\u002fMae Stephens\",\"Artist\\u002fFuerza Regida, Peso Pluma\",\"Artist\\u002f50 Cent\",\"Artist\\u002fLil Tjay\",\"Artist\\u002fLinkin Park\",\"Artist\\u002fBenson Boone\",\"Artist\\u002fJaymes Young\",\"Artist\\u002fThe Goo Goo Dolls\",\"Artist\\u002fThe Weeknd\",\"Artist\\u002fShawn Mendes\",\"Artist\\u002fMichael Bubl\\u00ef\\u00bf\",\"Artist\\u002fPerry Como, The Fontane Sisters, Mitchell Ayres & His Orchestra\",\"Artist\\u002fAndy Williams\",\"Artist\\u002fLuis R Conriquez, La Adictiva\",\"Artist\\u002fArijit Singh, Vishal Dadlani, Sukriti Kakar, Vishal-Shekhar, Shekhar Ravjiani, Kumaar\",\"Artist\\u002fFrank Sinatra\",\"Artist\\u002fRyan Castro\",\"Artist\\u002fBruno Mars\",\"Artist\\u002fLil Uzi Vert\",\"Artist\\u002fKenshi Yonezu\",\"Artist\\u002fOxlade\",\"Artist\\u002fKaifi Khalil\",\"Artist\\u002fTaylor Swift\",\"Artist\\u002fTaylor Swift, Ice Spice\",\"Artist\\u002fHarry Styles\",\"Artist\\u002fSZA\",\"Artist\\u002fSZA, Doja Cat\",\"Artist\\u002fDrake, Project Pat, 21 Savage\",\"Artist\\u002fRaim Laode\",\"Artist\\u002fJ Balvin, Bad Bunny\",\"Artist\\u002fFeid, Mora\",\"Artist\\u002fGabito Ballesteros, Junior H, Peso Pluma\",\"Artist\\u002fJasiel Nu\\u00ef\\u00bf\\u00bd\\u00ef\\u00bf\\u00bdez, Peso P\",\"Artist\\u002fMyke Towers\",\"Artist\\u002fCentral Cee\",\"Artist\\u002fROSAL\\u00ef\\u00bf\\u00bd\",\"Artist\\u002fBrray, Rauw Alejandro, Lyanno\",\"Artist\\u002fIVE\",\"Artist\\u002fJunior H, Peso Pluma\",\"Artist\\u002fManuel Turizo\",\"Artist\\u002fYng Lvcas\",\"Artist\\u002fPeso Pluma, Yng Lvcas\",\"Artist\\u002fTony Dize, Bad Bunny\",\"Artist\\u002fArcangel, Bad Bunny\",\"Artist\\u002fNengo Flow, Anuel Aa, Chris Jedi, Chencho Corleone\",\"Artist\\u002fAnitta, Tini, Becky G\",\"Artist\\u002fDaddy Yankee, Bad Bunny\",\"Artist\\u002fBad Bunny\",\"Artist\\u002fFeid\",\"Artist\\u002fBLESSD, Peso Pluma\",\"Artist\\u002fBurna Boy\",\"Artist\\u002fMorgan Wallen\",\"Artist\\u002fHarry Styles\",\"Artist\\u002fTaylor Swift\",\"Artist\\u002fSch\\u00ef\\u00bf\\u00bd\\u00ef\\u00bf\\u00bdrze, DJ R\",\"Artist\\u002fMarshmello, Jonas Brothers\",\"Artist\\u002fBruno Mars, Anderson .Paak, Silk Sonic\",\"Artist\\u002fCharlie Puth, BTS, Jung Kook\",\"Artist\\u002fDean Martin\",\"Artist\\u002fFrank Sinatra, B. Swanson Quartet\",\"Artist\\u002fAlec Benjamin\",\"Artist\\u002fDua Lipa\",\"Artist\\u002fDua Lipa, DaBaby\",\"Artist\\u002fAnuel Aa, Jhay Cortez\",\"Artist\\u002fMar\\u00ef\\u00bf\\u00bd\\u00ef\\u00bf\\u00bdlia Mendo\",\"Artist\\u002fRihanna\",\"Artist\\u002fCharlie Puth\",\"Artist\\u002fJimin\",\"Artist\\u002fJimin\",\"Artist\\u002fHalsey, Suga\",\"Artist\\u002fFreddie Dredd\",\"Artist\\u002fWizKid, Toian, Metro Boomin, Don Toliver, Beam\",\"Artist\\u002fHarry Styles\",\"Artist\\u002fJulieta Venegas, Bad Bunny, Tainy\",\"Artist\\u002fBruno Mars\",\"Artist\\u002fEminem\",\"Artist\\u002fFrank Ocean\",\"Artist\\u002fThe Weeknd, Gesaffelstein\",\"Artist\\u002fThe Kid Laroi\",\"Artist\\u002fEdison Lighthouse\",\"Artist\\u002fSZA\",\"Artist\\u002fHarry Styles\",\"Artist\\u002fJustin Bieber\",\"Artist\\u002fTaylor Swift\",\"Artist\\u002fTV Girl\",\"Artist\\u002fTreyce\",\"Artist\\u002fJuice WRLD\",\"Artist\\u002fStromae\",\"Artist\\u002fKarol G, Becky G\",\"Artist\\u002fStray Kids\",\"Artist\\u002fMigrantes, LiL CaKe, Nico Valdi\",\"Artist\\u002fINTERWORLD\",\"Artist\\u002fElley Duh\\u00ef\\u00bf\",\"Artist\\u002fTainy, Bad Bunny\",\"Artist\\u002fAyparia, unxbected\",\"Artist\\u002fj-hope\",\"Artist\\u002fKing\",\"Artist\\u002fMeghan Trainor\",\"Artist\\u002fDrake, 21 Savage\",\"Artist\\u002fJain\",\"Artist\\u002fKenia OS\",\"Artist\\u002fZ\\u00ef\\u00bf\\u00bd\\u00ef\\u00bf\\u00bd Fe\",\"Artist\\u002fXam\\u00ef\\u00bf\\u00bd\\u00ef\\u00bf\\u00bd, Gustah, Neo B\",\"Artist\\u002fQuevedo, Jhayco\",\"Artist\\u002fMorgan Wallen, Eric Church\",\"Artist\\u002fDuki, NICKI NICOLE, Cris Mj, Standly, Stars Music Chile\",\"Artist\\u002fTaylor Swift\",\"Artist\\u002fGhost\",\"Artist\\u002fMambo Kingz, DJ Luian, Anuel Aa\",\"Artist\\u002fDrake\",\"Artist\\u002fMetallica\",\"Artist\\u002fTaylor Swift\",\"Artist\\u002fHarry Styles\",\"Artist\\u002fBad Bunny\",\"Artist\\u002fChencho Corleone, Bad Bunny\",\"Artist\\u002fChildish Gambino\",\"Artist\\u002fJustin Quiles, Lenny Tav\\u00ef\\u00bf\\u00bd\\u00ef\\u00bf\\u00bdrez, BL\",\"Artist\\u002fTHE ANXIETY, Willow, Tyler Cole\",\"Artist\\u002fMambo Kingz, DJ Luian, Anuel Aa\",\"Artist\\u002fMaroon 5\",\"Artist\\u002fShakin' Stevens\",\"Artist\\u002fNatanael Cano\",\"Artist\\u002fTaylor Swift\",\"Artist\\u002fCalvin Harris, Ellie Goulding\",\"Artist\\u002fKendrick Lamar\",\"Artist\\u002fDavid Kushner\",\"Artist\\u002fRobin Schulz, Oliver Tree\",\"Artist\\u002fSouthstar\",\"Artist\\u002fJustin Bieber\",\"Artist\\u002fTini, Maria Becerra\",\"Artist\\u002fEminem\",\"Artist\\u002fAitana, zzoilo\",\"Artist\\u002fKendrick Lamar, Jay Rock\",\"Artist\\u002fYEAT\",\"Artist\\u002fKali Uchis\",\"Artist\\u002fBad Bunny\",\"Artist\\u002fKendrick Lamar, Beth Gibbons\",\"Artist\\u002fThe Killers\",\"Artist\\u002fKendrick Lamar, Tanna Leone\",\"Artist\\u002fRyan Castro\",\"Artist\\u002fKordhell\",\"Artist\\u002fHarry Styles\",\"Artist\\u002fSteve Aoki, Tini, La Joaqui\",\"Artist\\u002fSelena Gomez\",\"Artist\\u002fColdplay, BTS\",\"Artist\\u002fKendrick Lamar\",\"Artist\\u002fTyler, The Creator\",\"Artist\\u002fJack Harlow\",\"Artist\\u002fLabrinth\",\"Artist\\u002fBad Bunny\",\"Artist\\u002fNewJeans\",\"Artist\\u002fTravis Scott, 21 Savage, Metro Boomin\",\"Artist\\u002fSean Paul, Feid\",\"Artist\\u002fSean Paul, Dua Lipa\",\"Artist\\u002fJ. Cole\",\"Artist\\u002fSZA\",\"Artist\\u002fJordan Fisher, Josh Levi, Finneas O'Connell, 4*TOWN (From Disney and Pixar\\u00ef\\u00bf\\u00bd\\u00ef\\u00bf\\u00bd\\u00ef\\u00bf\\u00bds Turning Red), Topher Ngo, Grayson Vill\",\"Artist\\u002fSabrina Carpenter\",\"Artist\\u002fFeid\",\"Artist\\u002fOzuna, Tiago pzk\",\"Artist\\u002fAna Castela, AgroPlay\",\"Artist\\u002fChris Brown, Rvssian, Rauw Alejandro\",\"Artist\\u002fSZA\",\"Artist\\u002fThe Rare Occasions\",\"Artist\\u002fMc Livinho, DJ Matt D\",\"Artist\\u002fVeigh, Bvga Beatz, Supernova Ent, Prod Malax\",\"Artist\\u002fLinkin Park\",\"Artist\\u002fEm Beihold\",\"Artist\\u002f(G)I-DLE\",\"Artist\\u002fNMIXX\",\"Artist\\u002fNewJeans\",\"Artist\\u002fCharli XCX, Jax Jones, Joel Corry, Saweetie\",\"Artist\\u002fAbhijay Sharma, Riar Saab\",\"Artist\\u002fAdele\",\"Artist\\u002fZ\\u00ef\\u00bf\\u00bd\\u00ef\\u00bf\\u00bd Neto & Crist\",\"Artist\\u002fBomba Est\\u00ef\\u00bf\\u00bd\\u00ef\\u00bf\\u00bdreo, Bad B\",\"Artist\\u002fLasso\",\"Artist\\u002fDrake, 21 Savage\",\"Artist\\u002fJohn Legend, Metro Boomin\",\"Artist\\u002fDrake, WizKid, Kyla\",\"Artist\\u002fThe Weeknd, Post Malone\",\"Artist\\u002fMorgan Wallen\",\"Artist\\u002fPaloma Faith\",\"Artist\\u002fSZA, Travis Scott\",\"Artist\\u002fBad Bunny, The Mar\\u00ef\\u00bf\\u00bd\\u00ef\",\"Artist\\u002fPost Malone\",\"Artist\\u002fKarol G, Quevedo\",\"Artist\\u002fMyke Towers, Quevedo\",\"Artist\\u002fFeid, Mora, Saiko, Quevedo\",\"Artist\\u002fNayeon\",\"Artist\\u002fNatanael Cano, Peso Pluma\",\"Artist\\u002fKarol G\",\"Artist\\u002fFuture\",\"Artist\\u002fFeid, Alejo, Robi\",\"Artist\\u002fBad Bunny, Rauw Alejandro\",\"Artist\\u002fShae Gill, Ali Sethi\",\"Artist\\u002fMusical Youth\",\"Artist\\u002fJack Black\",\"Artist\\u002fLibianca\",\"Artist\\u002fIU, Agust D\",\"Artist\\u002fEd Sheeran\",\"Artist\\u002fBTS\",\"Artist\\u002fEd Sheeran, Fireboy DML\",\"Artist\\u002fBizarrap, Peso Pluma\",\"Artist\\u002fThe Weeknd\",\"Artist\\u002fArijit Singh, Sachin-Jigar, Amitabha Bhattacharya\",\"Artist\\u002fEd Sheeran\",\"Artist\\u002fFrank Ocean\",\"Artist\\u002fMelody, Ana Castela, Dj Chris No Beat\",\"Artist\\u002fSemicenk, Do\\u00ef\\u00bf\\u00bd\\u00ef\\u00bf\\u00bdu \",\"Artist\\u002fCoi Leray\",\"Artist\\u002fLil Yachty\",\"Artist\\u002fENHYPEN\",\"Artist\\u002fSALES\",\"Artist\\u002fThe Weeknd, Madonna, Playboi Carti\",\"Artist\\u002fCalvin Harris, Dua Lipa, Young Thug\",\"Artist\\u002fKanye West\",\"Artist\\u002fCarin Leon\",\"Artist\\u002fNicki Minaj, Ice Spice\",\"Artist\\u002fDon Toliver, Future, Justin Bieber\",\"Artist\\u002fDrake, 21 Savage\",\"Artist\\u002fAlvaro Diaz, Rauw Alejandro\",\"Artist\\u002fFeid\",\"Artist\\u002fQuevedo\",\"Artist\\u002fKendrick Lamar, Ghostface Killah, Summer Walker\",\"Artist\\u002fDrake, Travis Scott, 21 Savage\",\"Artist\\u002fCarin Leon, Grupo Frontera\",\"Artist\\u002f(G)I-DLE\",\"Artist\\u002fTaylor Swift\",\"Artist\\u002fBizarrap, Quevedo\",\"Artist\\u002fYuridia, Angela Aguilar\",\"Artist\\u002fJ Balvin, Maria Becerra\",\"Artist\\u002fPolo G\",\"Artist\\u002fFeid\",\"Artist\\u002fDaddy Yankee\",\"Artist\\u002fLana Del Rey\",\"Artist\\u002fTravis Scott, Metro Boomin\",\"Artist\\u002fTaiu, Milo j\",\"Artist\\u002fRauw Alejandro, Bizarrap\",\"Artist\\u002fNicki Minaj\",\"Artist\\u002fThe Weeknd\",\"Artist\\u002fResidente, Bizarrap\",\"Artist\\u002fXXXTENTACION\",\"Artist\\u002fKendrick Lamar\",\"Artist\\u002fDrake, 21 Savage\",\"Artist\\u002fKendrick Lamar\",\"Artist\\u002fLil Baby\",\"Artist\\u002fVance Joy\",\"Artist\\u002fAdele\",\"Artist\\u002fd4vd\",\"Artist\\u002fJasiel Nu\\u00ef\\u00bf\\u00bd\\u00ef\\u00bf\\u00bdez, Peso P\",\"Artist\\u002fSkrillex, Flowdan, Fred again..\",\"Artist\\u002fBTS\",\"Artist\\u002fChuck Berry\",\"Artist\\u002fKate Bush\",\"Artist\\u002fTroye Sivan\",\"Artist\\u002fStray Kids\",\"Artist\\u002fFuerza Regida\",\"Artist\\u002fJoji\",\"Artist\\u002fTyler, The Creator\",\"Artist\\u002fSZA\",\"Artist\\u002fSam Ryder\",\"Artist\\u002fThxSoMch\",\"Artist\\u002fLil Nas X\",\"Artist\\u002fJustin Bieber, The Kid Laroi\",\"Artist\\u002fDrake, DJ Khaled, Lil Baby\",\"Artist\\u002fM\\u00ef\\u00bf\\u00bd\\u00ef\\u00bf\\u00bdne\",\"Artist\\u002fKali Uchis, Amaarae, Moliy\",\"Artist\\u002fTrueno, Tiago pzk\",\"Artist\\u002fKevin Kaarl\",\"Artist\\u002fKendrick Lamar, Sam Dew, Baby Keem\",\"Artist\\u002fKendrick Lamar\",\"Artist\\u002fLana Del Rey\",\"Artist\\u002fJames Arthur\",\"Artist\\u002fArcangel, De La Ghetto, Justin Quiles, Lenny Tav\\u00ef\\u00bf\\u00bd\\u00ef\\u00bf\\u00bdrez, Sech, Dalex, Dimelo Flow, Rich Music\",\"Artist\\u002fDrake\",\"Artist\\u002fTyler, The Creator, Kali Uchis\",\"Artist\\u002fSZA\",\"Artist\\u002fMetro Boomin, Coi Leray\",\"Artist\\u002fPnB Rock\",\"Artist\\u002fMC Xenon, Os Gemeos da Putaria\",\"Artist\\u002fAdele\",\"Artist\\u002fIsrael & Rodolffo, Mari Fernandez\",\"Artist\\u002fLatto, Jung Kook\",\"Artist\\u002fBeach Weather\",\"Artist\\u002fShawn Mendes, Camila Cabello\",\"Artist\\u002fTaylor Swift\",\"Artist\\u002fShakira, Bizarrap\",\"Artist\\u002fLady Gaga, Bradley Cooper\",\"Artist\\u002fEd Sheeran\",\"Artist\\u002fSZA\",\"Artist\\u002fTAEYANG, Lisa\",\"Artist\\u002fCartel De Santa, La Kelly\",\"Artist\\u002fHotel Ugly\",\"Artist\\u002fHotel Ugly\",\"Artist\\u002fDe La Ghetto, Duki, Quevedo\",\"Artist\\u002fFeid\",\"Artist\\u002fMahalini\",\"Artist\\u002fEd Sheeran, J Balvin\",\"Artist\\u002fKendrick Lamar, Kodak Black\",\"Artist\\u002fOvy On The Drums, Quevedo\",\"Artist\\u002fPlayboi Carti\",\"Artist\\u002fThe Ronettes\",\"Artist\\u002fChanel\",\"Artist\\u002fNLE Choppa\",\"Artist\\u002fNirvana\",\"Artist\\u002fBruno Mars, Anderson .Paak, Silk Sonic\",\"Artist\\u002fSZA\",\"Artist\\u002fSZA\",\"Artist\\u002fTaylor Swift, Lana Del Rey\",\"Artist\\u002fLana Del Rey, Taylor Swift\",\"Artist\\u002fHalsey\",\"Artist\\u002fMaluma\",\"Artist\\u002fThe Neighbourhood\",\"Artist\\u002fNirvana\",\"Artist\\u002fThe Chainsmokers, Coldplay\",\"Artist\\u002fZach Bryan\",\"Artist\\u002fKeane\",\"Artist\\u002fYahritza Y Su Esencia\",\"Artist\\u002fColdplay\",\"Artist\\u002fDrake, 21 Savage\",\"Artist\\u002fDave, Central Cee\",\"Artist\\u002fEminem, Dido\",\"Artist\\u002fLil Durk, Morgan Wallen\",\"Artist\\u002fThe Weeknd, Daft Punk\",\"Artist\\u002fThe Weeknd, Lana Del Rey\",\"Artist\\u002fDave\",\"Artist\\u002fThe Weeknd\",\"Artist\\u002fSteve Lacy\",\"Artist\\u002fJung Kook\",\"Artist\\u002fCalvin Harris, Halsey, Pharrell Williams, Justin Timberlake\",\"Artist\\u002fKALUSH\",\"Artist\\u002fDrake\",\"Artist\\u002fDr. Dre, Snoop Dogg\",\"Artist\\u002fLabrinth\",\"Artist\\u002fBIGBANG\",\"Artist\\u002fJung Kook\",\"Artist\\u002fDoja Cat\",\"Artist\\u002fTaylor Swift\",\"Artist\\u002fTOMORROW X TOGETHER\",\"Artist\\u002fLana Del Rey\",\"Artist\\u002fPost Malone, Swae Lee\",\"Artist\\u002fNicky Youre, Dazy\",\"Artist\\u002fSEVENTEEN\",\"Artist\\u002fNicki Minaj\",\"Artist\\u002fKodak Black\",\"Artist\\u002fNewJeans\",\"Artist\\u002fFuture, Chris Brown, Metro Boomin\",\"Artist\\u002fEminem, Dina Rae\",\"Artist\\u002fMiguel\",\"Artist\\u002fJessica Darrow\",\"Artist\\u002fGuns N' Roses\",\"Artist\\u002fDua Lipa, Megan Thee Stallion\",\"Artist\\u002fChase Atlantic\",\"Artist\\u002fAnuel Aa, Myke Towers, Jhay Cortez\",\"Artist\\u002fLil Nas X\",\"Artist\\u002fM\\u00ef\\u00bf\\u00bd\\u00ef\\u00bf\\u00bdne\",\"Artist\\u002fRex Orange County\",\"Artist\\u002fJnr Choi\",\"Artist\\u002fKarol G, Shakira\",\"Artist\\u002fFuerza Regida\",\"Artist\\u002fP!nk\",\"Artist\\u002fPeso Pluma, Grupo Frontera\",\"Artist\\u002fSech, Mora\",\"Artist\\u002fBillie Eilish\",\"Artist\\u002fSebastian Yatra\",\"Artist\\u002fAnggi Marito\",\"Artist\\u002fHozier\",\"Artist\\u002fThe Weeknd\",\"Artist\\u002fa-ha\",\"Artist\\u002fBTS\",\"Artist\\u002fYEAT\",\"Artist\\u002fTWICE\",\"Artist\\u002fBruno Mars\",\"Artist\\u002fBad Bunny, Jhay Cortez\",\"Artist\\u002fLoreen\",\"Artist\\u002fShakira, Rauw Alejandro\",\"Artist\\u002fSachin-Jigar, Shadab Faridi, Altamash Faridi, Amitabh Bhattacharya, Varun Jain\",\"Artist\\u002fPSY, Suga\",\"Artist\\u002fCharlie Puth\",\"Artist\\u002fJin\",\"Artist\\u002fTi\\u00ef\\u00bf\\u00bd\\u00ef\\u00bf\",\"Artist\\u002fNat King Cole\",\"Artist\\u002fTory Lanez\",\"Artist\\u002fOlga Merediz, Stephanie Beatriz, Encanto - Cast\",\"Artist\\u002fTWICE\",\"Artist\\u002fTaylor Swift\",\"Artist\\u002fKendrick Lamar\",\"Artist\\u002fTi\\u00ef\\u00bf\\u00bd\\u00ef\\u00bf\\u00bdsto, Ava\",\"Artist\\u002fDr. Dre, Snoop Dogg\",\"Artist\\u002fLord Huron\",\"Artist\\u002fAvicii\",\"Artist\\u002fEminem\",\"Artist\\u002fSiM\",\"Artist\\u002fColdplay\",\"Artist\\u002fShawn Mendes\",\"Artist\\u002fEd Sheeran\",\"Artist\\u002fMorgan Wallen\",\"Artist\\u002fTaylor Swift\",\"Artist\\u002fNew West\",\"Artist\\u002fMorgan Wallen\",\"Artist\\u002fThe Kid Laroi\",\"Artist\\u002fPrezioso, Gabry Ponte, LUM!X\",\"Artist\\u002fBizarrap, Tiago pzk\",\"Artist\\u002fBad Bunny\",\"Artist\\u002fRauw Alejandro\",\"Artist\\u002fAnnenMayKantereit, Giant Rooks\",\"Artist\\u002fSZA\",\"Artist\\u002fFuture, Metro Boomin, Don Toliver\",\"Artist\\u002fTravis Scott, Young Thug, Metro Boomin\",\"Artist\\u002fKanye West, XXXTENTACION\",\"Artist\\u002fDj LK da Esc\\u00ef\\u00bf\\u00bd\\u00ef\\u00bf\\u00bdcia, Tchakabum, mc jhenny, M\",\"Artist\\u002fBLACKPINK\",\"Artist\\u002fdennis, MC Kevin o Chris\",\"Artist\\u002fPolima WestCoast, Pailita\",\"Artist\\u002fDe La Ghetto, Feid, Polima WestCoast, Paloma Mami, Pailita\",\"Artist\\u002fNile Rodgers, LE SSERAFIM\",\"Artist\\u002fBad Bunny\",\"Artist\\u002fBig One, FMK, Ke personajes\",\"Artist\\u002fBad Bunny\",\"Artist\\u002fCris Mj\",\"Artist\\u002fKelly Clarkson\",\"Artist\\u002fSam Smith, Kim Petras\",\"Artist\\u002fKendrick Lamar\",\"Artist\\u002fStephen Sanchez\",\"Artist\\u002fEm Beihold, Stephen Sanchez\",\"Artist\\u002fSZA, Don Toliver\",\"Artist\\u002fSebastian Yatra, Manuel Turizo, Be\\u00ef\\u00bf\\u00bd\\u00ef\",\"Artist\\u002fMelanie Martinez\",\"Artist\\u002fMar\\u00ef\\u00bf\\u00bd\\u00ef\\u00bf\\u00bdlia Mendon\\u00ef\\u00bf\\u00bd\\u00ef\\u00bf\\u00bda, George Henrique &\",\"Artist\\u002fMatu\\u00ef\\u00bf\\u00bd\\u00ef\\u00bf\\u00bd, Wiu, \",\"Artist\\u002fDoja Cat\",\"Artist\\u002fTaylor Swift\",\"Artist\\u002fBizarrap, Villano Antillano\",\"Artist\\u002fColdplay\",\"Artist\\u002fSech, Bad Bunny, Mora\",\"Artist\\u002fAventura, Bad Bunny\",\"Artist\\u002fDrake, Future, Tems\",\"Artist\\u002fQuevedo\",\"Artist\\u002fBad Bunny\",\"Artist\\u002fTwisted, Oliver Tree\",\"Artist\\u002fWillow\",\"Artist\\u002fAvicii\",\"Artist\\u002fsped up nightcore, ARIZONATEARS, Lil Uzi Vert\",\"Artist\\u002fDrake, Future, Young Thug\",\"Artist\\u002fKendrick Lamar, Taylour Paige\",\"Artist\\u002fRihanna, Calvin Harris\",\"Artist\\u002fStephanie Beatriz, Diane Guerrero\",\"Artist\\u002fDoechii\",\"Artist\\u002fLabrinth\",\"Artist\\u002fShawn Mendes\",\"Artist\\u002fLost Frequencies, Calum Scott\",\"Artist\\u002fMNEK, Jax Jones\",\"Artist\\u002fBing Crosby, John Scott Trotter & His Orchestra, Ken Darby Singers\",\"Artist\\u002fArctic Monkeys\",\"Artist\\u002fRM\",\"Artist\\u002fHA SUNG WOON, Jimin\",\"Artist\\u002fEminem\",\"Artist\\u002fPaul McCartney\",\"Artist\\u002fKendrick Lamar\",\"Artist\\u002fFuture\",\"Artist\\u002fTaylor Swift\",\"Artist\\u002fKarol G, Romeo Santos\",\"Artist\\u002fDaddy Yankee, Bad Bunny\",\"Artist\\u002fYandel, Feid\",\"Artist\\u002fChristian Nodal\",\"Artist\\u002fYandel, Feid\",\"Artist\\u002fChris Molitor\",\"Artist\\u002fBTS\",\"Artist\\u002fZion & Lennox\",\"Artist\\u002fBad Bunny\",\"Artist\\u002fTaylor Swift\",\"Artist\\u002fGwen Stefani, Blake Shelton\",\"Artist\\u002fMorgan Wallen\",\"Artist\\u002fDoja Cat, The Weeknd\",\"Artist\\u002fTaylor Swift\",\"Artist\\u002fJessi\",\"Artist\\u002fLeo Santana\",\"Artist\\u002fTaylor Swift\",\"Artist\\u002fLizzy McAlpine\",\"Artist\\u002fRels B\",\"Artist\\u002fOlivia Rodrigo\",\"Artist\\u002fNessa Barrett\",\"Artist\\u002fKendrick Lamar, Baby Keem\",\"Artist\\u002fOlivia Rodrigo\",\"Artist\\u002fGunna\",\"Artist\\u002fJVKE\",\"Artist\\u002fOlivia Rodrigo\",\"Artist\\u002fOlivia Rodrigo\",\"Artist\\u002fBillie Eilish, Khalid\",\"Artist\\u002fj-hope, J. Cole\",\"Artist\\u002fCamila Cabello, Willow\",\"Artist\\u002fYoung Thug, Future, Gunna\",\"Artist\\u002fLu\\u00ef\\u00bf\\u00bd\\u00ef\\u00bf\\u00bdsa Sonza, MC Frog, Dj Gabriel do Borel, Davi K\",\"Artist\\u002fTate McRae\",\"Artist\\u002fJVKE\",\"Artist\\u002f21 Savage, Gunna\",\"Artist\\u002fBad Bunny, Grupo Frontera\",\"Artist\\u002fOlivia Rodrigo\",\"Artist\\u002fgirl in red\",\"Artist\\u002fTate McRae\",\"Artist\\u002fMorgan Wallen\",\"Artist\\u002fYOASOBI\",\"Artist\\u002fFujii Kaze\",\"Artist\",\"Artist\",\"Artist\",\"Artist\",\"Artist\",\"Artist\",\"Artist\",\"Artist\",\"Artist\",\"Artist\",\"Artist\",\"Artist\",\"Artist\",\"Artist\",\"Artist\",\"Artist\",\"Artist\",\"Artist\",\"Artist\",\"Artist\",\"Artist\",\"Artist\",\"Artist\",\"Artist\",\"Artist\",\"Artist\",\"Artist\",\"Artist\",\"Artist\",\"Artist\",\"Artist\",\"Artist\",\"Artist\",\"Artist\",\"Artist\",\"Artist\",\"Artist\",\"Artist\",\"Artist\",\"Artist\",\"Artist\",\"Artist\",\"Artist\",\"Artist\",\"Artist\",\"Artist\",\"Artist\",\"Artist\",\"Artist\",\"Artist\",\"Artist\",\"Artist\",\"Artist\",\"Artist\",\"Artist\",\"Artist\",\"Artist\",\"Artist\",\"Artist\",\"Artist\",\"Artist\",\"Artist\",\"Artist\",\"Artist\",\"Artist\",\"Artist\",\"Artist\",\"Artist\",\"Artist\",\"Artist\",\"Artist\",\"Artist\",\"Artist\",\"Artist\",\"Artist\",\"Artist\",\"Artist\",\"Artist\",\"Artist\",\"Artist\",\"Artist\",\"Artist\",\"Artist\",\"Artist\",\"Artist\",\"Artist\",\"Artist\",\"Artist\",\"Artist\",\"Artist\",\"Artist\",\"Artist\",\"Artist\",\"Artist\",\"Artist\",\"Artist\",\"Artist\",\"Artist\",\"Artist\",\"Artist\",\"Artist\",\"Artist\",\"Artist\",\"Artist\",\"Artist\",\"Artist\",\"Artist\",\"Artist\",\"Artist\",\"Artist\",\"Artist\",\"Artist\",\"Artist\",\"Artist\",\"Artist\",\"Artist\",\"Artist\",\"Artist\",\"Artist\",\"Artist\",\"Artist\",\"Artist\",\"Artist\",\"Artist\",\"Artist\",\"Artist\",\"Artist\",\"Artist\",\"Artist\",\"Artist\",\"Artist\",\"Artist\",\"Artist\",\"Artist\",\"Artist\",\"Artist\",\"Artist\",\"Artist\",\"Artist\",\"Artist\",\"Artist\",\"Artist\",\"Artist\",\"Artist\",\"Artist\",\"Artist\",\"Artist\",\"Artist\",\"Artist\",\"Artist\",\"Artist\",\"Artist\",\"Artist\",\"Artist\",\"Artist\",\"Artist\",\"Artist\",\"Artist\",\"Artist\",\"Artist\",\"Artist\",\"Artist\",\"Artist\",\"Artist\",\"Artist\",\"Artist\",\"Artist\",\"Artist\",\"Artist\",\"Artist\",\"Artist\",\"Artist\",\"Artist\",\"Artist\",\"Artist\",\"Artist\",\"Artist\",\"Artist\",\"Artist\",\"Artist\",\"Artist\",\"Artist\",\"Artist\",\"Artist\",\"Artist\",\"Artist\",\"Artist\",\"Artist\",\"Artist\",\"Artist\",\"Artist\",\"Artist\",\"Artist\",\"Artist\",\"Artist\",\"Artist\",\"Artist\",\"Artist\",\"Artist\",\"Artist\",\"Artist\",\"Artist\",\"Artist\",\"Artist\",\"Artist\",\"Artist\",\"Artist\",\"Artist\",\"Artist\",\"Artist\",\"Artist\",\"Artist\",\"Artist\",\"Artist\",\"Artist\",\"Artist\",\"Artist\",\"Artist\",\"Artist\",\"Artist\",\"Artist\",\"Artist\",\"Artist\",\"Artist\",\"Artist\",\"Artist\",\"Artist\",\"Artist\",\"Artist\",\"Artist\",\"Artist\",\"Artist\",\"Artist\",\"Artist\",\"Artist\",\"Artist\",\"Artist\",\"Artist\",\"Artist\",\"Artist\",\"Artist\",\"Artist\",\"Artist\",\"Artist\",\"Artist\",\"Artist\",\"Artist\",\"Artist\",\"Artist\",\"Artist\",\"Artist\",\"Artist\",\"Artist\",\"Artist\",\"Artist\",\"Artist\",\"Artist\",\"Artist\",\"Artist\",\"Artist\",\"Artist\",\"Artist\",\"Artist\",\"Artist\",\"Artist\",\"Artist\",\"Artist\",\"Artist\",\"Artist\",\"Artist\",\"Artist\",\"Artist\",\"Artist\",\"Artist\",\"Artist\",\"Artist\",\"Artist\",\"Artist\",\"Artist\",\"Artist\",\"Artist\",\"Artist\",\"Artist\",\"Artist\",\"Artist\",\"Artist\",\"Artist\",\"Artist\",\"Artist\",\"Artist\",\"Artist\",\"Artist\",\"Artist\",\"Artist\",\"Artist\",\"Artist\",\"Artist\",\"Artist\",\"Artist\",\"Artist\",\"Artist\",\"Artist\",\"Artist\",\"Artist\",\"Artist\",\"Artist\",\"Artist\",\"Artist\",\"Artist\",\"Artist\",\"Artist\",\"Artist\",\"Artist\",\"Artist\",\"Artist\",\"Artist\",\"Artist\",\"Artist\",\"Artist\",\"Artist\",\"Artist\",\"Artist\",\"Artist\",\"Artist\",\"Artist\",\"Artist\",\"Artist\",\"Artist\",\"Artist\",\"Artist\",\"Artist\",\"Artist\",\"Artist\",\"Artist\",\"Artist\",\"Artist\",\"Artist\",\"Artist\",\"Artist\",\"Artist\",\"Artist\",\"Artist\",\"Artist\",\"Artist\",\"Artist\",\"Artist\",\"Artist\",\"Artist\",\"Artist\",\"Artist\",\"Artist\",\"Artist\",\"Artist\",\"Artist\",\"Artist\",\"Artist\",\"Artist\",\"Artist\",\"Artist\",\"Artist\",\"Artist\",\"Artist\",\"Artist\",\"Artist\",\"Artist\",\"Artist\",\"Artist\",\"Artist\",\"Artist\",\"Artist\",\"Artist\",\"Artist\",\"Artist\",\"Artist\",\"Artist\",\"Artist\",\"Artist\",\"Artist\",\"Artist\",\"Artist\",\"Artist\",\"Artist\",\"Artist\",\"Artist\",\"Artist\",\"Artist\",\"Artist\",\"Artist\",\"Artist\",\"Artist\",\"Artist\",\"Artist\",\"Artist\",\"Artist\",\"Artist\",\"Artist\",\"Artist\",\"Artist\",\"Artist\",\"Artist\",\"Artist\",\"Artist\",\"Artist\",\"Artist\",\"Artist\",\"Artist\",\"Artist\",\"Artist\",\"Artist\",\"Artist\",\"Artist\",\"Artist\",\"Artist\",\"Artist\",\"Artist\",\"Artist\",\"Artist\",\"Artist\",\"Artist\",\"Artist\",\"Artist\",\"Artist\",\"Artist\",\"Artist\",\"Artist\",\"Artist\",\"Artist\",\"Artist\",\"Artist\",\"Artist\",\"Artist\",\"Artist\",\"Artist\",\"Artist\",\"Artist\",\"Artist\",\"Artist\",\"Artist\",\"Artist\",\"Artist\",\"Artist\",\"Artist\",\"Artist\",\"Artist\",\"Artist\",\"Artist\",\"Artist\",\"Artist\",\"Artist\",\"Artist\",\"Artist\",\"Artist\",\"Artist\",\"Artist\",\"Artist\",\"Artist\",\"Artist\",\"Artist\",\"Artist\",\"Artist\",\"Artist\",\"Artist\",\"Artist\",\"Artist\",\"Artist\",\"Artist\",\"Artist\",\"Artist\",\"Artist\",\"Artist\",\"Artist\",\"Artist\",\"Artist\",\"Artist\",\"Artist\",\"Artist\",\"Artist\",\"Artist\",\"Artist\",\"Artist\",\"Artist\",\"Artist\",\"Artist\",\"Artist\",\"Artist\",\"Artist\",\"Artist\",\"Artist\",\"Artist\",\"Artist\",\"Artist\",\"Artist\",\"Artist\",\"Artist\",\"Artist\",\"Artist\",\"Artist\",\"Artist\",\"Artist\",\"Artist\",\"Artist\",\"Artist\",\"Artist\",\"Artist\",\"Artist\",\"Artist\",\"Artist\",\"Artist\",\"Artist\",\"Artist\",\"Artist\",\"Artist\",\"Artist\",\"Artist\",\"Artist\",\"Artist\",\"Artist\",\"Artist\",\"Artist\",\"Artist\",\"Artist\",\"Artist\",\"Artist\",\"Artist\",\"Artist\",\"Artist\",\"Artist\",\"Artist\",\"Artist\",\"Artist\",\"Artist\",\"Artist\",\"Artist\",\"Artist\",\"Artist\",\"Artist\",\"Artist\",\"Artist\",\"Artist\",\"Artist\",\"Artist\",\"Artist\",\"Artist\",\"Artist\",\"Artist\",\"Artist\",\"Artist\",\"Artist\",\"Artist\",\"Artist\",\"Artist\",\"Artist\",\"Artist\",\"Artist\",\"Artist\",\"Artist\",\"Artist\",\"Artist\",\"Artist\",\"Artist\",\"Artist\",\"Artist\",\"Artist\",\"Artist\",\"Artist\",\"Artist\",\"Artist\",\"Artist\",\"Artist\",\"Artist\",\"Artist\",\"\"],\"values\":[1695712020.0,57876440.0,185550869.0,325592432.0,247689123.0,624515457.0,143139338.0,54937991.0,183273246.0,57945987.0,41924466.0,73513683.0,171788484.0,528544703.0,153372011.0,57089066.0,463564958.0,301051721.0,89933133.0,1447788946.0,363467642.0,123124076.0,1439191367.0,244790012.0,646886885.0,698086140.0,246127838.0,283359161.0,90598517.0,176103902.0,499710590.0,88791109.0,370068639.0,426204830.0,144565150.0,185240616.0,37126685.0,2086124197.0,96007391.0,94186466.0,344055883.0,408843328.0,133753727.0,570515054.0,86773632.0,157136970.0,999748277.0,136689549.0,139836056.0,841749534.0,100409613.0,113509496.0,1138474110.0,571386359.0,264717480.0,37778188.0,54266102.0,159240673.0,357925728.0,277132266.0,354614964.0,177740666.0,39228929.0,93367537.0,822633917.0,129314708.0,756907987.0,146223492.0,200972675.0,160035717.0,367316268.0,1608045237.0,1367810478.0,328207708.0,2594040133.0,383835984.0,140187018.0,309483971.0,101114984.0,30343206.0,221752937.0,121871870.0,76767396.0,1355959075.0,77337771.0,163284000.0,372476382.0,263453310.0,838079900.0,777765388.0,79095270.0,703301727.0,1065580332.0,156338624.0,156338624.0,496311364.0,135079152.0,106249219.0,64714573.0,1143647827.0,84697729.0,294352144.0,345031710.0,43857627.0,595900742.0,85559365.0,579395142.0,1449799467.0,1304313953.0,899183384.0,1953533826.0,265882712.0,71573339.0,187701588.0,136676504.0,245400167.0,176474912.0,288101651.0,299648208.0,89566512.0,161460990.0,172825906.0,47956378.0,242767149.0,317622165.0,185408548.0,189236868.0,141720999.0,107255472.0,335222234.0,2591224264.0,250305248.0,1605224506.0,58149378.0,97610446.0,71095708.0,56870689.0,77233241.0,1180896317.0,677389855.0,126191104.0,2011464183.0,286739476.0,1271293243.0,843957510.0,42485571.0,800840817.0,139681964.0,496795686.0,103762518.0,217672943.0,39893489.0,465959382.0,208166039.0,782369383.0,80758350.0,1127468248.0,1763363713.0,127408954.0,1116995633.0,24975653.0,920045682.0,53933526.0,187703102.0,387570742.0,127027715.0,339473453.0,1840364617.0,809306935.0,461558540.0,147290338.0,246390068.0,1647990401.0,518745108.0,237351106.0,160845341.0,116334601.0,397582059.0,1788326445.0,674772936.0,81350745.0,482257456.0,566954746.0,2303033973.0,240918092.0,34502215.0,685032533.0,63803529.0,338422004.0,96180277.0,252871192.0,838586769.0,429504768.0,150500965.0,247737946.0,1406111294.0,1047480053.0,212351890.0,354495408.0,107753850.0,255932395.0,223633238.0,287278853.0,725980112.0,164856284.0,133895612.0,198275403.0,621660989.0,39578178.0,1223481149.0,1223481149.0,279737940.0,236940480.0,546191065.0,153454328.0,540654286.0,532336353.0,184308753.0,258316038.0,227918678.0,1593270737.0,290228626.0,1205951614.0,95623148.0,174006928.0,327498031.0,195576623.0,67540165.0,229497852.0,232896922.0,593917618.0,1023187129.0,51641685.0,157058870.0,127309180.0,601863821.0,520034544.0,462791599.0,278920007.0,139193812.0,349585590.0,694525298.0,184826429.0,114546317.0,282883169.0,239411309.0,675039469.0,554875730.0,824420218.0,153240879.0,863756573.0,188933502.0,421365166.0,322336177.0,185236961.0,116903579.0,168684524.0,304118600.0,516784627.0,933815613.0,110073250.0,240769997.0,988515741.0,11956641.0,807015863.0,65362788.0,826623384.0,184706613.0,64787943.0,199587884.0,52722996.0,1929770265.0,118810253.0,460492795.0,202677468.0,244658767.0,887906111.0,1301799902.0,144584800.0,88103848.0,635412045.0,674072710.0,122763672.0,68616963.0,238350348.0,476244795.0,106919680.0,1200808494.0,85924992.0,582863434.0,119238316.0,284785823.0,181328253.0,39666245.0,363472647.0,123132751.0,225259194.0,52135248.0,356709897.0,91656026.0,77377503.0,609293408.0,972164968.0,121077868.0,851070493.0,705469769.0,83021468.0,1109433169.0,1606986953.0,197643795.0,165584767.0,158950978.0,1202722675.0,190981339.0,1624165576.0,382199619.0,888046992.0,1284942608.0,391251368.0,287201015.0,807561936.0,295998468.0,663832097.0,323455692.0,1365184.0,178660459.0,394030335.0,1641426668.0,457184829.0,210038833.0,222410722.0,156777415.0,404562836.0,46142772.0,236060709.0,1163093654.0,1575467011.0,594482982.0,137123880.0,1435127549.0,477033549.0,86444842.0,39058561.0,133716286.0,298063749.0,124988687.0,471819764.0,305771063.0,55842345.0,1214083358.0,191945597.0,553634067.0,479655659.0,538115192.0,333146475.0,121189256.0,759208783.0,312622938.0,53987404.0,127026613.0,293466523.0,429829812.0,743693613.0,488386797.0,130419412.0,651732901.0,1115880852.0,720434240.0,446390129.0,473248298.0,1374581173.0,797196073.0,1802514301.0,355219175.0,267789608.0,297328960.0,500340342.0,363369738.0,173627354.0,51985779.0,199386237.0,32761689.0,273194684.0,775542072.0,1481349984.0,1829992958.0,822239726.0,686734357.0,147538971.0,0.0,110849052.0,233671263.0,2123309722.0,882831184.0,466231982.0,70069745.0,2288695111.0,108809090.0,716591492.0,212234990.0,231332117.0,357580552.0,872137015.0,61245289.0,58054811.0,155795783.0,319566866.0,502574952.0,154863153.0,165484133.0,156214700.0,154119539.0,240684449.0,61105704.0,58890931.0,223582566.0,317726339.0,387080183.0,146409671.0,195628667.0,704171068.0,218320587.0,366214458.0,305650299.0,1440757818.0,445590495.0,393230256.0,530511203.0,50847624.0,1759567999.0,351636786.0,31873544.0,36912123.0,211050784.0,53603447.0,124407432.0,497225336.0,154356956.0,629173063.0,596152090.0,1241559043.0,578207856.0,1093605526.0,263779030.0,256483385.0,909001996.0,33381454.0,1806617704.0,58687425.0,231996128.0,448843705.0,334733572.0,120972253.0,91473363.0,1061966512.0,301242089.0,461437791.0,193443895.0,117747907.0,671365962.0,29562220.0,195516622.0,115010040.0,956865266.0,1791000570.0,284908316.0,120847157.0,342897938.0,459276435.0,138334433.0,233801632.0,436695353.0,62019074.0,421135627.0,39709092.0,81102253.0,1361425037.0,258714692.0,170709584.0,135444283.0,430977451.0,427486004.0,71007139.0,466214729.0,145458418.0,1133865788.0,263280370.0,170413877.0,78139948.0,2713922350.0,539595276.0,148469433.0,588955257.0,155653938.0,319546754.0,14780425.0,93438910.0,221409663.0,57312735.0,213505179.0,436027885.0,885093467.0,254218729.0,273005485.0,614555082.0,284249832.0,195918494.0,68216992.0,373199958.0,95816024.0,2559529074.0,608334048.0,261286503.0,200647221.0,31959571.0,64533040.0,2236667932.0,806397070.0,191873381.0,43522589.0,335074782.0,115331792.0,211372494.0,156658366.0,115364561.0,190625045.0,376333030.0,77309611.0,104992946.0,105062254.0,112436403.0,209768491.0,185392587.0,381161027.0,76831876.0,191333656.0,2762.0,96273746.0,223064273.0,1356565093.0,236857112.0,720825549.0,797402345.0,117206995.0,157990698.0,284819874.0,110649992.0,248088961.0,66902503.0,81419389.0,684675814.0,94616487.0,1022258230.0,41210087.0,573633020.0,173702135.0,101780047.0,2009094673.0,1472799873.0,681583126.0,90025258.0,78489819.0,330881149.0,245350949.0,1024858327.0,22581161.0,65496046.0,78300654.0,1122364376.0,58473276.0,73981293.0,54682594.0,605086148.0,332506354.0,2665343922.0,170732845.0,231657891.0,354065229.0,261414174.0,244891912.0,86176890.0,37091576.0,127567540.0,2420461338.0,223319934.0,175097833.0,1047101291.0,98709329.0,70106975.0,380319238.0,93587665.0,1163620694.0,138517666.0,141381703.0,480507035.0,2484812918.0,1113838873.0,721975598.0,2159346687.0,3562543890.0,309653982.0,76910644.0,162887075.0,405136812.0,181831132.0,178512385.0,179061440.0,166570053.0,106933107.0,123216717.0,209106362.0,506778838.0,404664135.0,65719930.0,190490915.0,1690192927.0,383550148.0,57144458.0,399686758.0,323437194.0,60350538.0,91781263.0,513643924.0,599770206.0,368646862.0,2204080728.0,449701773.0,1089402494.0,126443991.0,624101957.0,198365537.0,183706234.0,918915401.0,46065667.0,2565529693.0,611700552.0,229473310.0,74601456.0,202452860.0,246376690.0,123473120.0,53729194.0,191448892.0,1210599487.0,563902868.0,53909146.0,38411956.0,865640097.0,786181836.0,107642809.0,983637508.0,2808096550.0,652704649.0,91221625.0,428685680.0,342779426.0,58255150.0,401036314.0,655466831.0,950906471.0,267758538.0,1553497987.0,299634472.0,498960285.0,177129919.0,920797189.0,225093344.0,244928911.0,245095641.0,618990393.0,176553476.0,134255790.0,52294266.0,184622518.0,338564981.0,510876816.0,179659294.0,2135158446.0,563358137.0,1479115056.0,118482347.0,148461629.0,189476119.0,1062956628.0,608228647.0,201660859.0,606361689.0,54225632.0,212109195.0,146363130.0,203436468.0,1062345656.0,389771964.0,415932686.0,184937148.0,345903614.0,181382590.0,71423324.0,656013912.0,843309044.0,1410088830.0,1456081449.0,1424589568.0,71014967.0,1608164312.0,1714490998.0,2280566092.0,125917280.0,132171975.0,411747614.0,203221468.0,244741137.0,422691058.0,374191487.0,1264310836.0,1168642797.0,236872197.0,49262961.0,286400165.0,276259178.0,194902696.0,116144341.0,235549288.0,111947664.0,307752576.0,279717388.0,92035115.0,403231558.0,142095275.0,283332261.0,682475162.0,485285717.0,1230675890.0,156898322.0,726434358.0,600976848.0,94005786.0,90839753.0,67070410.0,263894529.0,187772591.0,448500832.0,253650850.0,248511839.0,1592909789.0,610045621.0,673801126.0,556585270.0,175399345.0,303236322.0,213438580.0,924193303.0,1970673297.0,207033255.0,489945871.0,68895644.0,1235005533.0,154797871.0,95131998.0,203680270.0,255120451.0,972509632.0,300983101.0,395591396.0,1267333350.0,135611421.0,240580042.0,1687664027.0,403939487.0,61739839.0,50746620.0,177503916.0,266624541.0,349746291.0,47093942.0,319757142.0,585695368.0,1755214421.0,302006641.0,527033089.0,1260594497.0,350381515.0,180577478.0,367814306.0,672656250.0,348647203.0,136996305.0,134294498.0,607123776.0,293186992.0,331511413.0,1256880657.0,131746175.0,560222750.0,783706581.0,95217315.0,751134527.0,850608354.0,665765558.0,2355719893.0,116599790.0,75476209.0,311395144.0,176290831.0,343197054.0,346127840.0,60680939.0,505671438.0,140003974.0,723043854.0,1180094974.0,56533272.0,143573775.0,403097450.0,266983330.0,60680939.0,1202722675.0,94186466.0,71007139.0,4508746590.0,838586769.0,118810253.0,578207856.0,1374581173.0,209768491.0,233801632.0,663832097.0,179659294.0,546191065.0,121189256.0,236872197.0,355219175.0,177129919.0,538115192.0,100409613.0,223319934.0,3055659795.0,518745108.0,139836056.0,64533040.0,1365184.0,277132266.0,673801126.0,3426754746.0,58054811.0,53909146.0,235549288.0,127026613.0,2696993599.0,383835984.0,122763672.0,8582384095.0,250305248.0,505671438.0,2371592360.0,614555082.0,1304313953.0,319546754.0,480507035.0,1109433169.0,161460990.0,168684524.0,382199619.0,1122304190.0,142095275.0,1116330369.0,2355719893.0,395591396.0,200647221.0,1356565093.0,374191487.0,248511839.0,197643795.0,1133865788.0,471819764.0,4185733280.0,1499431000.0,389473914.0,344055883.0,339473453.0,190625045.0,211050784.0,123473120.0,756907987.0,75476209.0,77309611.0,2762.0,162887075.0,780321205.0,65719930.0,427486004.0,646703472.0,720434240.0,498960285.0,1440757818.0,809306935.0,674772936.0,445590495.0,255932395.0,436695353.0,1755214421.0,429504768.0,319757142.0,245350949.0,841749534.0,335074782.0,3825176058.0,1061966512.0,1301799902.0,682475162.0,174006928.0,157990698.0,1108955074.0,421365166.0,242767149.0,229473310.0,183706234.0,177740666.0,286739476.0,240918092.0,511978174.0,178512385.0,279717388.0,284785823.0,446390129.0,677389855.0,116144341.0,95131998.0,2330636146.0,672656250.0,105062254.0,496311364.0,579395142.0,2053908531.0,655542929.0,1457682208.0,170732845.0,556585270.0,489945871.0,594482982.0,593917618.0,191333656.0,2713922350.0,3227639000.0,1802514301.0,1605224506.0,299634472.0,342373931.0,223582566.0,365477661.0,11051252012.0,261286503.0,106933107.0,299648208.0,0.0,198275403.0,872137015.0,258714692.0,600976848.0,6183805596.0,918915401.0,655466831.0,739827412.0,1695712020.0,225259194.0,725980112.0,2220740399.0,273005485.0,477033549.0,57312735.0,107753850.0,73513683.0,133895612.0,335222234.0,636477650.0,159240673.0,1628636796.0,178660459.0,473248298.0,199386237.0,254854130.0,116334601.0,367316268.0,288101651.0,158950978.0,403097450.0,304965349.0,401036314.0,37126685.0,286400165.0,1180896317.0,86444842.0,387080183.0,147290338.0,287278853.0,95217315.0,54937991.0,1553497987.0,180577478.0,240580042.0,91781263.0,1065580332.0,51985779.0,6033490512.0,586967944.0,2135158446.0,357580552.0,95816024.0,676641760.0,5272484650.0,1223481149.0,1223481149.0,327498031.0,263453310.0,138517666.0,1435127549.0,720825549.0,528544703.0,1791000570.0,144565150.0,232896922.0,1097262367.0,68216992.0,1038470158.0,165484133.0,2686344050.0,39666245.0,462791599.0,129083819.0,363467642.0,888046992.0,136996305.0,267758538.0,536997092.0,203436468.0,245095641.0,2086124197.0,78139948.0,460492795.0,2357270185.0,120847157.0,520034544.0,2474103659.0,775542072.0,284788646.0,89933133.0,410337753.0,2752482785.0,106919680.0,2665343922.0,393230256.0,53729194.0,156777415.0,256483385.0,354065229.0,113509496.0,77377503.0,1967540868.0,107255472.0,85924992.0,194902696.0,1038465478.0,716591492.0,294352144.0,93438910.0,266624541.0,618990393.0,1024858327.0,1089402494.0,485285717.0,3033135947.0,560222750.0,33381454.0,57089066.0,237351106.0,76831876.0,1093605526.0,123216717.0,86176890.0,127309180.0,58687425.0,68895644.0,156214700.0,210038833.0,244891912.0,319566866.0,342779426.0,133753727.0,448843705.0,176103902.0,530549573.0,244790012.0,1723089944.0,426204830.0,610826730.0,2159346687.0,1396024922.0,60350538.0,263280370.0,141381703.0,184826429.0,349585590.0,185550869.0,134294498.0,1847456546.0,373199958.0,187339412.0,46065667.0,1253303543.0,190981339.0,457184829.0,115331792.0,2985590613.0,236940480.0,1695478069.0,293186992.0,1410088830.0,201660859.0,972509632.0,160035717.0,146223492.0,71095708.0,323455692.0,157058870.0,252871192.0,176290831.0,71573339.0,187701588.0,93587665.0,300983101.0,136689549.0,244658767.0,165584767.0,166570053.0,135079152.0,143139338.0,322336177.0,513643924.0,197257295.0,1214083358.0,43857627.0,1759567999.0,651732901.0,84697729.0,223633238.0,267789608.0,263894529.0,258316038.0,1138474110.0,187772591.0,39709092.0,11956641.0,208166039.0,129314708.0,502574952.0,67070410.0,191873381.0,704171068.0,70106975.0,1283806731.0,231332117.0,950906471.0,570515054.0,1599221296.0,58890931.0,646886885.0,181328253.0,195918494.0,133716286.0,221409663.0,2675632206.0,52722996.0,290228626.0,190490915.0,135444283.0,516799679.0,31873544.0,463564958.0,436027885.0,213505179.0,333146475.0,304118600.0,131746175.0,411747614.0,1544567007.0,144584800.0,510105069.0,104992946.0,146065318.0,57945987.0,652704649.0,92035115.0,2058839789.0,24975653.0,184937148.0,3696965124.0,227918678.0,2011464183.0,209106362.0,222410722.0,674072710.0,138334433.0,134255790.0,212109195.0,588955257.0,582863434.0,403939487.0,89566512.0,57876440.0,295998468.0,52294266.0,553634067.0,933815613.0,136676504.0,156338624.0,156338624.0,540654286.0,506778838.0,380319238.0,307752576.0,797402345.0,187606331.0,609293408.0,2808096550.0,422691058.0,614709750.0,61105704.0,245400167.0,716645106.0,135611421.0,34502215.0,907358070.0,1271293243.0,137123880.0,1634602179.0,121168605.0,357925728.0,1953533826.0,331511413.0,94616487.0,244928911.0,77233241.0,297328960.0,1235005533.0,863756573.0,497225336.0,1116995633.0,626026463.0,899183384.0,156658366.0,91221625.0,4197341485.0,1575467011.0,94005786.0,110073250.0,155653938.0,342897938.0,54225632.0,54682594.0,1606986953.0,1230675890.0,130419412.0,571386359.0,956865266.0,115010040.0,510876816.0,90839753.0,610045621.0,184622518.0,91473363.0,43522589.0,284249832.0,351636786.0,123124076.0,721975598.0,606361689.0,2256812464.0,2484812918.0,47956378.0,71014967.0,183273246.0,153454328.0,78489819.0,624515457.0,160845341.0,97610446.0,154356956.0,154797871.0,726434358.0,120972253.0,1945132459.0,277731036.0,108809090.0,90598517.0,184706613.0,824420218.0,86773632.0,76910644.0,530511203.0,107642809.0,466231982.0,535379733.0,61245289.0,248088961.0,1523292028.0,11851151082.0,46142772.0,323437194.0,1205951614.0,2204080728.0,2591224264.0,1284942608.0,392280108.0,1806617704.0,1727238454.0,1593270737.0,421135627.0,404664135.0,972164968.0,6038640754.0,843957510.0,2565529693.0,96180277.0,1392204126.0,611700552.0,91656026.0,115364561.0,539595276.0,88103848.0,605086148.0,217672943.0,200972675.0,596152090.0,1062345656.0,656013912.0,566954746.0,325592432.0,479655659.0,415932686.0,195516622.0,110649992.0,276259178.0,70069745.0,431424489.0,261414174.0,202677468.0,213438580.0,153240879.0,600669417.0,1047101291.0,121077868.0,317622165.0,2009094673.0,81102253.0,164856284.0,140187018.0,370068639.0,924193303.0,309483971.0,32761689.0,2223066724.0,240684449.0,412240659.0,143573775.0,126443991.0,188933502.0,632789310.0,191945597.0,311395144.0,221752937.0,240769997.0,236857112.0,449701773.0,527033089.0,154119539.0,145458418.0,1479115056.0,1316995171.0,111947664.0,723043854.0,155795783.0,116599790.0,103762518.0,207033255.0,139193812.0,382692383757.0],\"type\":\"treemap\",\"root\":{\"color\":\"powderblue\"}}],                        {\"template\":{\"data\":{\"histogram2dcontour\":[{\"type\":\"histogram2dcontour\",\"colorbar\":{\"outlinewidth\":0,\"ticks\":\"\"},\"colorscale\":[[0.0,\"#0d0887\"],[0.1111111111111111,\"#46039f\"],[0.2222222222222222,\"#7201a8\"],[0.3333333333333333,\"#9c179e\"],[0.4444444444444444,\"#bd3786\"],[0.5555555555555556,\"#d8576b\"],[0.6666666666666666,\"#ed7953\"],[0.7777777777777778,\"#fb9f3a\"],[0.8888888888888888,\"#fdca26\"],[1.0,\"#f0f921\"]]}],\"choropleth\":[{\"type\":\"choropleth\",\"colorbar\":{\"outlinewidth\":0,\"ticks\":\"\"}}],\"histogram2d\":[{\"type\":\"histogram2d\",\"colorbar\":{\"outlinewidth\":0,\"ticks\":\"\"},\"colorscale\":[[0.0,\"#0d0887\"],[0.1111111111111111,\"#46039f\"],[0.2222222222222222,\"#7201a8\"],[0.3333333333333333,\"#9c179e\"],[0.4444444444444444,\"#bd3786\"],[0.5555555555555556,\"#d8576b\"],[0.6666666666666666,\"#ed7953\"],[0.7777777777777778,\"#fb9f3a\"],[0.8888888888888888,\"#fdca26\"],[1.0,\"#f0f921\"]]}],\"heatmap\":[{\"type\":\"heatmap\",\"colorbar\":{\"outlinewidth\":0,\"ticks\":\"\"},\"colorscale\":[[0.0,\"#0d0887\"],[0.1111111111111111,\"#46039f\"],[0.2222222222222222,\"#7201a8\"],[0.3333333333333333,\"#9c179e\"],[0.4444444444444444,\"#bd3786\"],[0.5555555555555556,\"#d8576b\"],[0.6666666666666666,\"#ed7953\"],[0.7777777777777778,\"#fb9f3a\"],[0.8888888888888888,\"#fdca26\"],[1.0,\"#f0f921\"]]}],\"heatmapgl\":[{\"type\":\"heatmapgl\",\"colorbar\":{\"outlinewidth\":0,\"ticks\":\"\"},\"colorscale\":[[0.0,\"#0d0887\"],[0.1111111111111111,\"#46039f\"],[0.2222222222222222,\"#7201a8\"],[0.3333333333333333,\"#9c179e\"],[0.4444444444444444,\"#bd3786\"],[0.5555555555555556,\"#d8576b\"],[0.6666666666666666,\"#ed7953\"],[0.7777777777777778,\"#fb9f3a\"],[0.8888888888888888,\"#fdca26\"],[1.0,\"#f0f921\"]]}],\"contourcarpet\":[{\"type\":\"contourcarpet\",\"colorbar\":{\"outlinewidth\":0,\"ticks\":\"\"}}],\"contour\":[{\"type\":\"contour\",\"colorbar\":{\"outlinewidth\":0,\"ticks\":\"\"},\"colorscale\":[[0.0,\"#0d0887\"],[0.1111111111111111,\"#46039f\"],[0.2222222222222222,\"#7201a8\"],[0.3333333333333333,\"#9c179e\"],[0.4444444444444444,\"#bd3786\"],[0.5555555555555556,\"#d8576b\"],[0.6666666666666666,\"#ed7953\"],[0.7777777777777778,\"#fb9f3a\"],[0.8888888888888888,\"#fdca26\"],[1.0,\"#f0f921\"]]}],\"surface\":[{\"type\":\"surface\",\"colorbar\":{\"outlinewidth\":0,\"ticks\":\"\"},\"colorscale\":[[0.0,\"#0d0887\"],[0.1111111111111111,\"#46039f\"],[0.2222222222222222,\"#7201a8\"],[0.3333333333333333,\"#9c179e\"],[0.4444444444444444,\"#bd3786\"],[0.5555555555555556,\"#d8576b\"],[0.6666666666666666,\"#ed7953\"],[0.7777777777777778,\"#fb9f3a\"],[0.8888888888888888,\"#fdca26\"],[1.0,\"#f0f921\"]]}],\"mesh3d\":[{\"type\":\"mesh3d\",\"colorbar\":{\"outlinewidth\":0,\"ticks\":\"\"}}],\"scatter\":[{\"fillpattern\":{\"fillmode\":\"overlay\",\"size\":10,\"solidity\":0.2},\"type\":\"scatter\"}],\"parcoords\":[{\"type\":\"parcoords\",\"line\":{\"colorbar\":{\"outlinewidth\":0,\"ticks\":\"\"}}}],\"scatterpolargl\":[{\"type\":\"scatterpolargl\",\"marker\":{\"colorbar\":{\"outlinewidth\":0,\"ticks\":\"\"}}}],\"bar\":[{\"error_x\":{\"color\":\"#2a3f5f\"},\"error_y\":{\"color\":\"#2a3f5f\"},\"marker\":{\"line\":{\"color\":\"#E5ECF6\",\"width\":0.5},\"pattern\":{\"fillmode\":\"overlay\",\"size\":10,\"solidity\":0.2}},\"type\":\"bar\"}],\"scattergeo\":[{\"type\":\"scattergeo\",\"marker\":{\"colorbar\":{\"outlinewidth\":0,\"ticks\":\"\"}}}],\"scatterpolar\":[{\"type\":\"scatterpolar\",\"marker\":{\"colorbar\":{\"outlinewidth\":0,\"ticks\":\"\"}}}],\"histogram\":[{\"marker\":{\"pattern\":{\"fillmode\":\"overlay\",\"size\":10,\"solidity\":0.2}},\"type\":\"histogram\"}],\"scattergl\":[{\"type\":\"scattergl\",\"marker\":{\"colorbar\":{\"outlinewidth\":0,\"ticks\":\"\"}}}],\"scatter3d\":[{\"type\":\"scatter3d\",\"line\":{\"colorbar\":{\"outlinewidth\":0,\"ticks\":\"\"}},\"marker\":{\"colorbar\":{\"outlinewidth\":0,\"ticks\":\"\"}}}],\"scattermapbox\":[{\"type\":\"scattermapbox\",\"marker\":{\"colorbar\":{\"outlinewidth\":0,\"ticks\":\"\"}}}],\"scatterternary\":[{\"type\":\"scatterternary\",\"marker\":{\"colorbar\":{\"outlinewidth\":0,\"ticks\":\"\"}}}],\"scattercarpet\":[{\"type\":\"scattercarpet\",\"marker\":{\"colorbar\":{\"outlinewidth\":0,\"ticks\":\"\"}}}],\"carpet\":[{\"aaxis\":{\"endlinecolor\":\"#2a3f5f\",\"gridcolor\":\"white\",\"linecolor\":\"white\",\"minorgridcolor\":\"white\",\"startlinecolor\":\"#2a3f5f\"},\"baxis\":{\"endlinecolor\":\"#2a3f5f\",\"gridcolor\":\"white\",\"linecolor\":\"white\",\"minorgridcolor\":\"white\",\"startlinecolor\":\"#2a3f5f\"},\"type\":\"carpet\"}],\"table\":[{\"cells\":{\"fill\":{\"color\":\"#EBF0F8\"},\"line\":{\"color\":\"white\"}},\"header\":{\"fill\":{\"color\":\"#C8D4E3\"},\"line\":{\"color\":\"white\"}},\"type\":\"table\"}],\"barpolar\":[{\"marker\":{\"line\":{\"color\":\"#E5ECF6\",\"width\":0.5},\"pattern\":{\"fillmode\":\"overlay\",\"size\":10,\"solidity\":0.2}},\"type\":\"barpolar\"}],\"pie\":[{\"automargin\":true,\"type\":\"pie\"}]},\"layout\":{\"autotypenumbers\":\"strict\",\"colorway\":[\"#636efa\",\"#EF553B\",\"#00cc96\",\"#ab63fa\",\"#FFA15A\",\"#19d3f3\",\"#FF6692\",\"#B6E880\",\"#FF97FF\",\"#FECB52\"],\"font\":{\"color\":\"#2a3f5f\"},\"hovermode\":\"closest\",\"hoverlabel\":{\"align\":\"left\"},\"paper_bgcolor\":\"white\",\"plot_bgcolor\":\"#E5ECF6\",\"polar\":{\"bgcolor\":\"#E5ECF6\",\"angularaxis\":{\"gridcolor\":\"white\",\"linecolor\":\"white\",\"ticks\":\"\"},\"radialaxis\":{\"gridcolor\":\"white\",\"linecolor\":\"white\",\"ticks\":\"\"}},\"ternary\":{\"bgcolor\":\"#E5ECF6\",\"aaxis\":{\"gridcolor\":\"white\",\"linecolor\":\"white\",\"ticks\":\"\"},\"baxis\":{\"gridcolor\":\"white\",\"linecolor\":\"white\",\"ticks\":\"\"},\"caxis\":{\"gridcolor\":\"white\",\"linecolor\":\"white\",\"ticks\":\"\"}},\"coloraxis\":{\"colorbar\":{\"outlinewidth\":0,\"ticks\":\"\"}},\"colorscale\":{\"sequential\":[[0.0,\"#0d0887\"],[0.1111111111111111,\"#46039f\"],[0.2222222222222222,\"#7201a8\"],[0.3333333333333333,\"#9c179e\"],[0.4444444444444444,\"#bd3786\"],[0.5555555555555556,\"#d8576b\"],[0.6666666666666666,\"#ed7953\"],[0.7777777777777778,\"#fb9f3a\"],[0.8888888888888888,\"#fdca26\"],[1.0,\"#f0f921\"]],\"sequentialminus\":[[0.0,\"#0d0887\"],[0.1111111111111111,\"#46039f\"],[0.2222222222222222,\"#7201a8\"],[0.3333333333333333,\"#9c179e\"],[0.4444444444444444,\"#bd3786\"],[0.5555555555555556,\"#d8576b\"],[0.6666666666666666,\"#ed7953\"],[0.7777777777777778,\"#fb9f3a\"],[0.8888888888888888,\"#fdca26\"],[1.0,\"#f0f921\"]],\"diverging\":[[0,\"#8e0152\"],[0.1,\"#c51b7d\"],[0.2,\"#de77ae\"],[0.3,\"#f1b6da\"],[0.4,\"#fde0ef\"],[0.5,\"#f7f7f7\"],[0.6,\"#e6f5d0\"],[0.7,\"#b8e186\"],[0.8,\"#7fbc41\"],[0.9,\"#4d9221\"],[1,\"#276419\"]]},\"xaxis\":{\"gridcolor\":\"white\",\"linecolor\":\"white\",\"ticks\":\"\",\"title\":{\"standoff\":15},\"zerolinecolor\":\"white\",\"automargin\":true,\"zerolinewidth\":2},\"yaxis\":{\"gridcolor\":\"white\",\"linecolor\":\"white\",\"ticks\":\"\",\"title\":{\"standoff\":15},\"zerolinecolor\":\"white\",\"automargin\":true,\"zerolinewidth\":2},\"scene\":{\"xaxis\":{\"backgroundcolor\":\"#E5ECF6\",\"gridcolor\":\"white\",\"linecolor\":\"white\",\"showbackground\":true,\"ticks\":\"\",\"zerolinecolor\":\"white\",\"gridwidth\":2},\"yaxis\":{\"backgroundcolor\":\"#E5ECF6\",\"gridcolor\":\"white\",\"linecolor\":\"white\",\"showbackground\":true,\"ticks\":\"\",\"zerolinecolor\":\"white\",\"gridwidth\":2},\"zaxis\":{\"backgroundcolor\":\"#E5ECF6\",\"gridcolor\":\"white\",\"linecolor\":\"white\",\"showbackground\":true,\"ticks\":\"\",\"zerolinecolor\":\"white\",\"gridwidth\":2}},\"shapedefaults\":{\"line\":{\"color\":\"#2a3f5f\"}},\"annotationdefaults\":{\"arrowcolor\":\"#2a3f5f\",\"arrowhead\":0,\"arrowwidth\":1},\"geo\":{\"bgcolor\":\"white\",\"landcolor\":\"#E5ECF6\",\"subunitcolor\":\"white\",\"showland\":true,\"showlakes\":true,\"lakecolor\":\"white\"},\"title\":{\"x\":0.05},\"mapbox\":{\"style\":\"light\"}}},\"legend\":{\"tracegroupgap\":0},\"title\":{\"text\":\"TreeMap of Artists Playlist\",\"x\":0.5},\"font\":{\"family\":\"Arial\",\"size\":14,\"color\":\"black\"}},                        {\"responsive\": true}                    ).then(function(){\n",
       "                            \n",
       "var gd = document.getElementById('13687f8c-8995-4938-b860-aaff1358155e');\n",
       "var x = new MutationObserver(function (mutations, observer) {{\n",
       "        var display = window.getComputedStyle(gd).display;\n",
       "        if (!display || display === 'none') {{\n",
       "            console.log([gd, 'removed!']);\n",
       "            Plotly.purge(gd);\n",
       "            observer.disconnect();\n",
       "        }}\n",
       "}});\n",
       "\n",
       "// Listen for the removal of the full notebook cells\n",
       "var notebookContainer = gd.closest('#notebook-container');\n",
       "if (notebookContainer) {{\n",
       "    x.observe(notebookContainer, {childList: true});\n",
       "}}\n",
       "\n",
       "// Listen for the clearing of the current output cell\n",
       "var outputEl = gd.closest('.output');\n",
       "if (outputEl) {{\n",
       "    x.observe(outputEl, {childList: true});\n",
       "}}\n",
       "\n",
       "                        })                };                });            </script>        </div>"
      ]
     },
     "metadata": {},
     "output_type": "display_data"
    }
   ],
   "source": [
    "df['streams'] = pd.to_numeric(df['streams'], errors='coerce')\n",
    "\n",
    "fig = px.treemap(df, path=[px.Constant('Artist'), 'artist(s)_name', 'track_name'],\n",
    "                 values='streams', title='TreeMap of Artists Playlist',\n",
    "                color_continuous_scale='blues')\n",
    "fig.update_traces(root_color='powderblue')\n",
    "fig.update_layout(\n",
    "    title_x=0.5, \n",
    "    font=dict(\n",
    "        family=\"Arial\",  \n",
    "        size=14,        \n",
    "        color=\"black\"   \n",
    "    )\n",
    ")\n",
    "\n",
    "fig.show()\n",
    "\n",
    "\n",
    "\n",
    "\n"
   ]
  }
 ],
 "metadata": {
  "kernelspec": {
   "display_name": "Python 3 (ipykernel)",
   "language": "python",
   "name": "python3"
  },
  "language_info": {
   "codemirror_mode": {
    "name": "ipython",
    "version": 3
   },
   "file_extension": ".py",
   "mimetype": "text/x-python",
   "name": "python",
   "nbconvert_exporter": "python",
   "pygments_lexer": "ipython3",
   "version": "3.12.1"
  }
 },
 "nbformat": 4,
 "nbformat_minor": 5
}
